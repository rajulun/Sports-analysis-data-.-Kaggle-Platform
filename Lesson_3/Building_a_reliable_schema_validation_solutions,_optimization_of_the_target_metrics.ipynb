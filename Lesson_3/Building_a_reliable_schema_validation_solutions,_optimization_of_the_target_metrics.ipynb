{
  "nbformat": 4,
  "nbformat_minor": 0,
  "metadata": {
    "colab": {
      "name": "Building a reliable schema validation solutions, optimization of the target metrics.ipynb",
      "provenance": [],
      "collapsed_sections": []
    },
    "kernelspec": {
      "name": "python3",
      "display_name": "Python 3"
    }
  },
  "cells": [
    {
      "cell_type": "markdown",
      "metadata": {
        "id": "_Cfi-2f9jWIU"
      },
      "source": [
        "## Урок 3. Построение надежных схем валидации решения, оптимизация целевых метрик"
      ]
    },
    {
      "cell_type": "markdown",
      "metadata": {
        "id": "Of295dpnjeYV"
      },
      "source": [
        "Даны выборки для обучения и для тестирования. Задание заключается в том, чтобы попробовать разные способы валидации, проанализировать плюсы / минусы каждой и сделать выводы о том, какой способ валидации наиболее устойчивый в данной задаче. Метрика качества для оценки прогнозов - ROC-AUC, название целевой переменной - IsFraud. Рекомендуется использовать модели градиетного бустинга, реализация любая / гипепараметры любые. Внимание! выборка assignment_2_test.csv - наш аналог лидерборда. Будем моделировать ситуацию отправки решения на лидерборд и сравнить значение метрики на лидерборде и на локальной валидации. Для других целей использовать выборку запрещено!.\n",
        "\n",
        "Терминалогия, используемая в задании:\n",
        "* обучающая выборка - выборка, которая передается в метод fit / train;\n",
        "* валидационная выборка - выборка, которая получается при Hold-Out на 2 выборки (train, valid);\n",
        "* тестовая выборка - выборка, которая получается при Hold-Out на 3 выборки (train, valid, test);\n",
        "* ЛБ - лидерборд, выборка assignment_2_test.csv.\n",
        "\n",
        "Задание 1: сделать Hold-Out валидацию с разбиением, размер которого будет адеквтаным, по вашему мнению; разбиение проводить по id-транзакции (TransactionID), обучать модель градиетного бустинга любой реализации с подбором числа деревьев по early_stopping критерию до достижения сходимости. Оценить качество модели на валидационной выборке, оценить расхождение по сравнению с качеством на обучающей выборке и валидационной выборке. Оценить качество на ЛБ, сравнить с качеством на обучении и валидации. Сделать выводы.\n",
        "\n"
      ]
    },
    {
      "cell_type": "code",
      "metadata": {
        "id": "XpQ7PIfLjPkt"
      },
      "source": [
        "import warnings\n",
        "from tqdm import tqdm\n",
        "from typing import List, Tuple\n",
        "\n",
        "import numpy as np\n",
        "import pandas as pd\n",
        "import seaborn as sns\n",
        "import xgboost as xgb\n",
        "import matplotlib.pyplot as plt\n",
        "from scipy.stats import ttest_rel\n",
        "\n",
        "from sklearn.metrics import r2_score, roc_auc_score\n",
        "from sklearn.ensemble import RandomForestRegressor\n",
        "from sklearn.model_selection import KFold, StratifiedKFold, train_test_split, cross_val_score\n",
        "warnings.simplefilter(\"ignore\")\n",
        "%matplotlib inline"
      ],
      "execution_count": null,
      "outputs": []
    },
    {
      "cell_type": "code",
      "metadata": {
        "id": "9Cpp_nf7oLOy"
      },
      "source": [
        "from google.colab import drive"
      ],
      "execution_count": null,
      "outputs": []
    },
    {
      "cell_type": "code",
      "metadata": {
        "id": "AuZTFmz2oOQf",
        "colab": {
          "base_uri": "https://localhost:8080/"
        },
        "outputId": "620cb0ee-cbcf-4813-ad3b-c27c2e21b0fa"
      },
      "source": [
        "drive.mount(\"/content/for_colab\")"
      ],
      "execution_count": null,
      "outputs": [
        {
          "output_type": "stream",
          "text": [
            "Mounted at /content/for_colab\n"
          ],
          "name": "stdout"
        }
      ]
    },
    {
      "cell_type": "code",
      "metadata": {
        "id": "UbUWTTlUoSZD",
        "colab": {
          "base_uri": "https://localhost:8080/"
        },
        "outputId": "23ce9248-2fa9-4b5c-ac98-6b05a5112e8d"
      },
      "source": [
        "!unzip \"/content/for_colab/My Drive/for_colab/assignment2_data.zip\" -d /content/data"
      ],
      "execution_count": null,
      "outputs": [
        {
          "output_type": "stream",
          "text": [
            "Archive:  /content/for_colab/My Drive/for_colab/assignment2_data.zip\n",
            "  inflating: /content/data/assignment_2_test.csv  \n",
            "  inflating: /content/data/assignment_2_train.csv  \n"
          ],
          "name": "stdout"
        }
      ]
    },
    {
      "cell_type": "code",
      "metadata": {
        "id": "6beB_r2ojqhj",
        "colab": {
          "base_uri": "https://localhost:8080/",
          "height": 161
        },
        "outputId": "ed02f0e4-08e6-49d4-aaa6-35f76ba25493"
      },
      "source": [
        "data = pd.read_csv(\"data/assignment_2_train.csv\")\n",
        "lb_data = pd.read_csv(\"data/assignment_2_test.csv\")\n",
        "data.head(n=2)"
      ],
      "execution_count": null,
      "outputs": [
        {
          "output_type": "execute_result",
          "data": {
            "text/html": [
              "<div>\n",
              "<style scoped>\n",
              "    .dataframe tbody tr th:only-of-type {\n",
              "        vertical-align: middle;\n",
              "    }\n",
              "\n",
              "    .dataframe tbody tr th {\n",
              "        vertical-align: top;\n",
              "    }\n",
              "\n",
              "    .dataframe thead th {\n",
              "        text-align: right;\n",
              "    }\n",
              "</style>\n",
              "<table border=\"1\" class=\"dataframe\">\n",
              "  <thead>\n",
              "    <tr style=\"text-align: right;\">\n",
              "      <th></th>\n",
              "      <th>TransactionID</th>\n",
              "      <th>isFraud</th>\n",
              "      <th>TransactionDT</th>\n",
              "      <th>TransactionAmt</th>\n",
              "      <th>ProductCD</th>\n",
              "      <th>card1</th>\n",
              "      <th>card2</th>\n",
              "      <th>card3</th>\n",
              "      <th>card4</th>\n",
              "      <th>card5</th>\n",
              "      <th>card6</th>\n",
              "      <th>addr1</th>\n",
              "      <th>addr2</th>\n",
              "      <th>dist1</th>\n",
              "      <th>dist2</th>\n",
              "      <th>P_emaildomain</th>\n",
              "      <th>R_emaildomain</th>\n",
              "      <th>C1</th>\n",
              "      <th>C2</th>\n",
              "      <th>C3</th>\n",
              "      <th>C4</th>\n",
              "      <th>C5</th>\n",
              "      <th>C6</th>\n",
              "      <th>C7</th>\n",
              "      <th>C8</th>\n",
              "      <th>C9</th>\n",
              "      <th>C10</th>\n",
              "      <th>C11</th>\n",
              "      <th>C12</th>\n",
              "      <th>C13</th>\n",
              "      <th>C14</th>\n",
              "      <th>D1</th>\n",
              "      <th>D2</th>\n",
              "      <th>D3</th>\n",
              "      <th>D4</th>\n",
              "      <th>D5</th>\n",
              "      <th>D6</th>\n",
              "      <th>D7</th>\n",
              "      <th>D8</th>\n",
              "      <th>D9</th>\n",
              "      <th>...</th>\n",
              "      <th>V300</th>\n",
              "      <th>V301</th>\n",
              "      <th>V302</th>\n",
              "      <th>V303</th>\n",
              "      <th>V304</th>\n",
              "      <th>V305</th>\n",
              "      <th>V306</th>\n",
              "      <th>V307</th>\n",
              "      <th>V308</th>\n",
              "      <th>V309</th>\n",
              "      <th>V310</th>\n",
              "      <th>V311</th>\n",
              "      <th>V312</th>\n",
              "      <th>V313</th>\n",
              "      <th>V314</th>\n",
              "      <th>V315</th>\n",
              "      <th>V316</th>\n",
              "      <th>V317</th>\n",
              "      <th>V318</th>\n",
              "      <th>V319</th>\n",
              "      <th>V320</th>\n",
              "      <th>V321</th>\n",
              "      <th>V322</th>\n",
              "      <th>V323</th>\n",
              "      <th>V324</th>\n",
              "      <th>V325</th>\n",
              "      <th>V326</th>\n",
              "      <th>V327</th>\n",
              "      <th>V328</th>\n",
              "      <th>V329</th>\n",
              "      <th>V330</th>\n",
              "      <th>V331</th>\n",
              "      <th>V332</th>\n",
              "      <th>V333</th>\n",
              "      <th>V334</th>\n",
              "      <th>V335</th>\n",
              "      <th>V336</th>\n",
              "      <th>V337</th>\n",
              "      <th>V338</th>\n",
              "      <th>V339</th>\n",
              "    </tr>\n",
              "  </thead>\n",
              "  <tbody>\n",
              "    <tr>\n",
              "      <th>0</th>\n",
              "      <td>2987000</td>\n",
              "      <td>0</td>\n",
              "      <td>86400</td>\n",
              "      <td>68.5</td>\n",
              "      <td>W</td>\n",
              "      <td>13926</td>\n",
              "      <td>NaN</td>\n",
              "      <td>150.0</td>\n",
              "      <td>discover</td>\n",
              "      <td>142.0</td>\n",
              "      <td>credit</td>\n",
              "      <td>315.0</td>\n",
              "      <td>87.0</td>\n",
              "      <td>19.0</td>\n",
              "      <td>NaN</td>\n",
              "      <td>NaN</td>\n",
              "      <td>NaN</td>\n",
              "      <td>1.0</td>\n",
              "      <td>1.0</td>\n",
              "      <td>0.0</td>\n",
              "      <td>0.0</td>\n",
              "      <td>0.0</td>\n",
              "      <td>1.0</td>\n",
              "      <td>0.0</td>\n",
              "      <td>0.0</td>\n",
              "      <td>1.0</td>\n",
              "      <td>0.0</td>\n",
              "      <td>2.0</td>\n",
              "      <td>0.0</td>\n",
              "      <td>1.0</td>\n",
              "      <td>1.0</td>\n",
              "      <td>14.0</td>\n",
              "      <td>NaN</td>\n",
              "      <td>13.0</td>\n",
              "      <td>NaN</td>\n",
              "      <td>NaN</td>\n",
              "      <td>NaN</td>\n",
              "      <td>NaN</td>\n",
              "      <td>NaN</td>\n",
              "      <td>NaN</td>\n",
              "      <td>...</td>\n",
              "      <td>0.0</td>\n",
              "      <td>0.0</td>\n",
              "      <td>0.0</td>\n",
              "      <td>0.0</td>\n",
              "      <td>0.0</td>\n",
              "      <td>1.0</td>\n",
              "      <td>0.0</td>\n",
              "      <td>117.0</td>\n",
              "      <td>0.0</td>\n",
              "      <td>0.0</td>\n",
              "      <td>0.0</td>\n",
              "      <td>0.0</td>\n",
              "      <td>0.0</td>\n",
              "      <td>0.0</td>\n",
              "      <td>0.0</td>\n",
              "      <td>0.0</td>\n",
              "      <td>0.0</td>\n",
              "      <td>117.0</td>\n",
              "      <td>0.0</td>\n",
              "      <td>0.0</td>\n",
              "      <td>0.0</td>\n",
              "      <td>0.0</td>\n",
              "      <td>NaN</td>\n",
              "      <td>NaN</td>\n",
              "      <td>NaN</td>\n",
              "      <td>NaN</td>\n",
              "      <td>NaN</td>\n",
              "      <td>NaN</td>\n",
              "      <td>NaN</td>\n",
              "      <td>NaN</td>\n",
              "      <td>NaN</td>\n",
              "      <td>NaN</td>\n",
              "      <td>NaN</td>\n",
              "      <td>NaN</td>\n",
              "      <td>NaN</td>\n",
              "      <td>NaN</td>\n",
              "      <td>NaN</td>\n",
              "      <td>NaN</td>\n",
              "      <td>NaN</td>\n",
              "      <td>NaN</td>\n",
              "    </tr>\n",
              "    <tr>\n",
              "      <th>1</th>\n",
              "      <td>2987001</td>\n",
              "      <td>0</td>\n",
              "      <td>86401</td>\n",
              "      <td>29.0</td>\n",
              "      <td>W</td>\n",
              "      <td>2755</td>\n",
              "      <td>404.0</td>\n",
              "      <td>150.0</td>\n",
              "      <td>mastercard</td>\n",
              "      <td>102.0</td>\n",
              "      <td>credit</td>\n",
              "      <td>325.0</td>\n",
              "      <td>87.0</td>\n",
              "      <td>NaN</td>\n",
              "      <td>NaN</td>\n",
              "      <td>gmail.com</td>\n",
              "      <td>NaN</td>\n",
              "      <td>1.0</td>\n",
              "      <td>1.0</td>\n",
              "      <td>0.0</td>\n",
              "      <td>0.0</td>\n",
              "      <td>0.0</td>\n",
              "      <td>1.0</td>\n",
              "      <td>0.0</td>\n",
              "      <td>0.0</td>\n",
              "      <td>0.0</td>\n",
              "      <td>0.0</td>\n",
              "      <td>1.0</td>\n",
              "      <td>0.0</td>\n",
              "      <td>1.0</td>\n",
              "      <td>1.0</td>\n",
              "      <td>0.0</td>\n",
              "      <td>NaN</td>\n",
              "      <td>NaN</td>\n",
              "      <td>0.0</td>\n",
              "      <td>NaN</td>\n",
              "      <td>NaN</td>\n",
              "      <td>NaN</td>\n",
              "      <td>NaN</td>\n",
              "      <td>NaN</td>\n",
              "      <td>...</td>\n",
              "      <td>0.0</td>\n",
              "      <td>0.0</td>\n",
              "      <td>0.0</td>\n",
              "      <td>0.0</td>\n",
              "      <td>0.0</td>\n",
              "      <td>1.0</td>\n",
              "      <td>0.0</td>\n",
              "      <td>0.0</td>\n",
              "      <td>0.0</td>\n",
              "      <td>0.0</td>\n",
              "      <td>0.0</td>\n",
              "      <td>0.0</td>\n",
              "      <td>0.0</td>\n",
              "      <td>0.0</td>\n",
              "      <td>0.0</td>\n",
              "      <td>0.0</td>\n",
              "      <td>0.0</td>\n",
              "      <td>0.0</td>\n",
              "      <td>0.0</td>\n",
              "      <td>0.0</td>\n",
              "      <td>0.0</td>\n",
              "      <td>0.0</td>\n",
              "      <td>NaN</td>\n",
              "      <td>NaN</td>\n",
              "      <td>NaN</td>\n",
              "      <td>NaN</td>\n",
              "      <td>NaN</td>\n",
              "      <td>NaN</td>\n",
              "      <td>NaN</td>\n",
              "      <td>NaN</td>\n",
              "      <td>NaN</td>\n",
              "      <td>NaN</td>\n",
              "      <td>NaN</td>\n",
              "      <td>NaN</td>\n",
              "      <td>NaN</td>\n",
              "      <td>NaN</td>\n",
              "      <td>NaN</td>\n",
              "      <td>NaN</td>\n",
              "      <td>NaN</td>\n",
              "      <td>NaN</td>\n",
              "    </tr>\n",
              "  </tbody>\n",
              "</table>\n",
              "<p>2 rows × 394 columns</p>\n",
              "</div>"
            ],
            "text/plain": [
              "   TransactionID  isFraud  TransactionDT  ...  V337 V338  V339\n",
              "0        2987000        0          86400  ...   NaN  NaN   NaN\n",
              "1        2987001        0          86401  ...   NaN  NaN   NaN\n",
              "\n",
              "[2 rows x 394 columns]"
            ]
          },
          "metadata": {
            "tags": []
          },
          "execution_count": 2
        }
      ]
    },
    {
      "cell_type": "code",
      "metadata": {
        "id": "dRjFwocoCycT",
        "colab": {
          "base_uri": "https://localhost:8080/"
        },
        "outputId": "81e6befe-46ae-4a3f-a80d-cfe007491e69"
      },
      "source": [
        "data.nunique().sort_values()"
      ],
      "execution_count": null,
      "outputs": [
        {
          "output_type": "execute_result",
          "data": {
            "text/plain": [
              "V107                  1\n",
              "V14                   2\n",
              "V1                    2\n",
              "M9                    2\n",
              "M8                    2\n",
              "                  ...  \n",
              "card1              9496\n",
              "V127              10259\n",
              "V307              14863\n",
              "TransactionDT    173460\n",
              "TransactionID    180000\n",
              "Length: 394, dtype: int64"
            ]
          },
          "metadata": {
            "tags": []
          },
          "execution_count": 3
        }
      ]
    },
    {
      "cell_type": "markdown",
      "metadata": {
        "id": "DfMckbepDC3F"
      },
      "source": [
        "Очень мало не уникальных значений . Думаю фичу \"TransactionDT\" удалить сразу. Тем более она мешает в задании 4"
      ]
    },
    {
      "cell_type": "code",
      "metadata": {
        "id": "pMyeB-wkkuOL"
      },
      "source": [
        "x_train, x_test = train_test_split(\n",
        "    data.drop([\"TransactionID\", \"TransactionDT\", \"isFraud\"], axis=1), train_size=0.70, shuffle=True, random_state=1,\n",
        ")\n",
        "y_train, y_test = train_test_split(\n",
        "    data[\"isFraud\"], train_size=0.70, shuffle=True, random_state=1,\n",
        ")\n",
        "\n",
        "x_lb_data = (lb_data.drop([\"TransactionID\", \"TransactionDT\", \"isFraud\"], axis=1))\n",
        "y_lb_data = lb_data[\"isFraud\"]"
      ],
      "execution_count": null,
      "outputs": []
    },
    {
      "cell_type": "code",
      "metadata": {
        "id": "GXCqpQrPjqlT",
        "colab": {
          "base_uri": "https://localhost:8080/"
        },
        "outputId": "5ed00260-a6ad-418f-ec84-89f8b1637c1a"
      },
      "source": [
        "numerical_features = x_train.select_dtypes(exclude=[\"object\"])\n",
        "numerical_features = numerical_features.columns.tolist()\n",
        "\n",
        "x_train = x_train[numerical_features]\n",
        "x_test = x_test[numerical_features]\n",
        "x_lb_data = x_lb_data[numerical_features]\n",
        "\n",
        "print(\"x_train.shape = {} rows, {} cols\".format(*x_train.shape))\n",
        "print(\"x_test.shape = {} rows, {} cols\".format(*x_test.shape))\n",
        "print(\"x_lb_data.shape = {} rows, {} cols\".format(*x_lb_data.shape))"
      ],
      "execution_count": null,
      "outputs": [
        {
          "output_type": "stream",
          "text": [
            "x_train.shape = 125999 rows, 377 cols\n",
            "x_test.shape = 54001 rows, 377 cols\n",
            "x_lb_data.shape = 100001 rows, 377 cols\n"
          ],
          "name": "stdout"
        }
      ]
    },
    {
      "cell_type": "code",
      "metadata": {
        "id": "OdULgXPUhdcQ"
      },
      "source": [
        "params = {\n",
        "    \"booster\": \"gbtree\",\n",
        "    \"objective\": \"binary:logistic\",\n",
        "    \"eval_metric\": \"auc\",\n",
        "    \"learning_rate\": 0.1,\n",
        "    \"n_estimators\": 1000,\n",
        "    \"reg_lambda\": 100,\n",
        "    \"max_depth\": 4,\n",
        "    \"gamma\": 10,\n",
        "    \"nthread\": 6,\n",
        "    \"seed\": 27\n",
        "}"
      ],
      "execution_count": null,
      "outputs": []
    },
    {
      "cell_type": "code",
      "metadata": {
        "id": "zun4DZdghRIU"
      },
      "source": [
        "dtrain = xgb.DMatrix(data=x_train, label=y_train)\n",
        "dtest = xgb.DMatrix(data=x_test, label=y_test)\n",
        "dlbdata = xgb.DMatrix(data=x_lb_data, label=y_lb_data)"
      ],
      "execution_count": null,
      "outputs": []
    },
    {
      "cell_type": "code",
      "metadata": {
        "id": "O7KJWsOTkuJY",
        "colab": {
          "base_uri": "https://localhost:8080/"
        },
        "outputId": "f5aa288f-4e69-445a-a8be-9a2ed478f67f"
      },
      "source": [
        "model = xgb.train(\n",
        "    params=params,\n",
        "    dtrain=dtrain,\n",
        "    num_boost_round=1000,\n",
        "    early_stopping_rounds=25,\n",
        "    evals=[(dtrain, \"train\"), (dtest, \"test\")],\n",
        "    verbose_eval=10,\n",
        "    maximize=True,\n",
        ")"
      ],
      "execution_count": null,
      "outputs": [
        {
          "output_type": "stream",
          "text": [
            "[0]\ttrain-auc:0.648969\ttest-auc:0.652319\n",
            "Multiple eval metrics have been passed: 'test-auc' will be used for early stopping.\n",
            "\n",
            "Will train until test-auc hasn't improved in 25 rounds.\n",
            "[10]\ttrain-auc:0.794601\ttest-auc:0.79403\n",
            "[20]\ttrain-auc:0.8344\ttest-auc:0.829323\n",
            "[30]\ttrain-auc:0.859773\ttest-auc:0.855685\n",
            "[40]\ttrain-auc:0.869723\ttest-auc:0.863129\n",
            "[50]\ttrain-auc:0.878079\ttest-auc:0.868908\n",
            "[60]\ttrain-auc:0.883288\ttest-auc:0.87224\n",
            "[70]\ttrain-auc:0.88567\ttest-auc:0.874715\n",
            "[80]\ttrain-auc:0.889096\ttest-auc:0.877015\n",
            "[90]\ttrain-auc:0.89214\ttest-auc:0.878986\n",
            "[100]\ttrain-auc:0.893794\ttest-auc:0.880217\n",
            "[110]\ttrain-auc:0.895468\ttest-auc:0.882023\n",
            "[120]\ttrain-auc:0.896807\ttest-auc:0.883053\n",
            "[130]\ttrain-auc:0.898087\ttest-auc:0.884045\n",
            "[140]\ttrain-auc:0.898303\ttest-auc:0.884251\n",
            "[150]\ttrain-auc:0.898303\ttest-auc:0.884251\n",
            "Stopping. Best iteration:\n",
            "[132]\ttrain-auc:0.898303\ttest-auc:0.884251\n",
            "\n"
          ],
          "name": "stdout"
        }
      ]
    },
    {
      "cell_type": "code",
      "metadata": {
        "id": "FfGRFy4UkuEA"
      },
      "source": [
        "train_roc_auc_score = roc_auc_score(y_train, model.predict(dtrain))\n",
        "test_roc_auc_score = roc_auc_score(y_test, model.predict(dtest))\n",
        "lb_data_roc_auc_score = roc_auc_score(y_lb_data, model.predict(dlbdata))"
      ],
      "execution_count": null,
      "outputs": []
    },
    {
      "cell_type": "code",
      "metadata": {
        "id": "DRV2MKIJkt-Q",
        "colab": {
          "base_uri": "https://localhost:8080/"
        },
        "outputId": "55e7d408-0588-433b-a1b1-b09e4bcb7290"
      },
      "source": [
        "print('train: %.4f' % train_roc_auc_score, 'test: %.4f' % test_roc_auc_score)\n",
        "print('lb_data: %.4f' % lb_data_roc_auc_score)"
      ],
      "execution_count": null,
      "outputs": [
        {
          "output_type": "stream",
          "text": [
            "train: 0.8983 test: 0.8843\n",
            "lb_data: 0.8606\n"
          ],
          "name": "stdout"
        }
      ]
    },
    {
      "cell_type": "markdown",
      "metadata": {
        "id": "qOzHE6ZH9Une"
      },
      "source": [
        "На условном лидерборде немного хуже качество"
      ]
    },
    {
      "cell_type": "code",
      "metadata": {
        "id": "oZbquLLltnwv"
      },
      "source": [
        "train_r2_score = r2_score(y_train, model.predict(dtrain))\n",
        "test_r2_score = r2_score(y_test, model.predict(dtest))\n",
        "lb_data_r2_score = r2_score(y_lb_data, model.predict(dlbdata))"
      ],
      "execution_count": null,
      "outputs": []
    },
    {
      "cell_type": "code",
      "metadata": {
        "id": "odwlnsUhtocC",
        "colab": {
          "base_uri": "https://localhost:8080/"
        },
        "outputId": "95cb2a41-b006-4c29-fdd0-0282e3044495"
      },
      "source": [
        "print('train: %.4f' % train_r2_score, 'test: %.4f' % test_r2_score)\n",
        "print('lb_data: %.4f' % lb_data_r2_score)"
      ],
      "execution_count": null,
      "outputs": [
        {
          "output_type": "stream",
          "text": [
            "train: 0.3685 test: 0.3450\n",
            "lb_data: 0.2766\n"
          ],
          "name": "stdout"
        }
      ]
    },
    {
      "cell_type": "markdown",
      "metadata": {
        "id": "nlXME4L09f52"
      },
      "source": [
        "Думал переплюнул учителя, облом :)"
      ]
    },
    {
      "cell_type": "code",
      "metadata": {
        "id": "igeOX5dT9qaL"
      },
      "source": [
        ""
      ],
      "execution_count": null,
      "outputs": []
    },
    {
      "cell_type": "markdown",
      "metadata": {
        "id": "iNJbskV1jrFD"
      },
      "source": [
        "Задание 2: сделать Hold-Out валидацию с разбиением на 3 выборки, разбиение проводить по id-транзакции (TransactionID), размер каждой выборки подобрать самостоятельно. Повторить процедуру из п.1. для каждой выборки.\n",
        "\n"
      ]
    },
    {
      "cell_type": "code",
      "metadata": {
        "id": "TNPjdn7tjs66",
        "colab": {
          "base_uri": "https://localhost:8080/"
        },
        "outputId": "3a4f1d23-a29e-4153-b2fa-05bfc6effe72"
      },
      "source": [
        "x_train, x_valid = train_test_split(\n",
        "    data.drop([\"TransactionID\", \"isFraud\"], axis=1), train_size=0.6, shuffle=True, random_state=1,\n",
        ")\n",
        "y_train, y_valid = train_test_split(\n",
        "    data[\"isFraud\"], train_size=0.6, shuffle=True, random_state=1,\n",
        ")\n",
        "\n",
        "x_train = x_train[numerical_features]\n",
        "x_valid = x_valid[numerical_features]\n",
        "\n",
        "x_valid, x_test = train_test_split(\n",
        "    x_valid, train_size=0.6, shuffle=True, random_state=27\n",
        ")\n",
        "y_valid, y_test = train_test_split(\n",
        "    y_valid, train_size=0.6, shuffle=True, random_state=27\n",
        ")\n",
        "\n",
        "print(\"x_train.shape = {} rows, {} cols\".format(*x_train.shape))\n",
        "print(\"x_valid.shape = {} rows, {} cols\".format(*x_valid.shape))\n",
        "print(\"x_test.shape = {} rows, {} cols\".format(*x_test.shape))"
      ],
      "execution_count": null,
      "outputs": [
        {
          "output_type": "stream",
          "text": [
            "x_train.shape = 108000 rows, 377 cols\n",
            "x_valid.shape = 43200 rows, 377 cols\n",
            "x_test.shape = 28800 rows, 377 cols\n"
          ],
          "name": "stdout"
        }
      ]
    },
    {
      "cell_type": "code",
      "metadata": {
        "id": "H05qrlPmjtnu",
        "colab": {
          "base_uri": "https://localhost:8080/"
        },
        "outputId": "39891633-ee55-473d-d923-11bd6952b55d"
      },
      "source": [
        "numerical_features = x_train.select_dtypes(exclude=[\"object\"])\n",
        "numerical_features = numerical_features.columns.tolist()\n",
        "\n",
        "x_train = x_train[numerical_features]\n",
        "x_valid = x_valid[numerical_features]\n",
        "x_test = x_test[numerical_features]\n",
        "\n",
        "\n",
        "print(\"x_train.shape = {} rows, {} cols\".format(*x_train.shape))\n",
        "print(\"x_valid.shape = {} rows, {} cols\".format(*x_valid.shape))\n",
        "print(\"x_test.shape = {} rows, {} cols\".format(*x_test.shape))"
      ],
      "execution_count": null,
      "outputs": [
        {
          "output_type": "stream",
          "text": [
            "x_train.shape = 108000 rows, 377 cols\n",
            "x_valid.shape = 43200 rows, 377 cols\n",
            "x_test.shape = 28800 rows, 377 cols\n"
          ],
          "name": "stdout"
        }
      ]
    },
    {
      "cell_type": "code",
      "metadata": {
        "id": "5yebNDVm8kt0"
      },
      "source": [
        "dtrain = xgb.DMatrix(data=x_train, label=y_train)\n",
        "dvalid = xgb.DMatrix(data=x_valid, label=y_valid)\n",
        "dtest = xgb.DMatrix(data=x_test, label=y_test)"
      ],
      "execution_count": null,
      "outputs": []
    },
    {
      "cell_type": "code",
      "metadata": {
        "id": "0kFCZM-J8kok",
        "colab": {
          "base_uri": "https://localhost:8080/"
        },
        "outputId": "aee0f10a-c2c2-44af-ea6f-57e113900943"
      },
      "source": [
        "model = xgb.train(\n",
        "    params=params,\n",
        "    dtrain=dtrain,\n",
        "    num_boost_round=1000,\n",
        "    early_stopping_rounds=25,\n",
        "    evals=[(dtrain, \"train\"), (dtest, \"test\")],\n",
        "    verbose_eval=10,\n",
        "    maximize=True,\n",
        ")"
      ],
      "execution_count": null,
      "outputs": [
        {
          "output_type": "stream",
          "text": [
            "[0]\ttrain-auc:0.652053\ttest-auc:0.653292\n",
            "Multiple eval metrics have been passed: 'test-auc' will be used for early stopping.\n",
            "\n",
            "Will train until test-auc hasn't improved in 25 rounds.\n",
            "[10]\ttrain-auc:0.753536\ttest-auc:0.73885\n",
            "[20]\ttrain-auc:0.824042\ttest-auc:0.814604\n",
            "[30]\ttrain-auc:0.857382\ttest-auc:0.845321\n",
            "[40]\ttrain-auc:0.871791\ttest-auc:0.859833\n",
            "[50]\ttrain-auc:0.879822\ttest-auc:0.866307\n",
            "[60]\ttrain-auc:0.885592\ttest-auc:0.871634\n",
            "[70]\ttrain-auc:0.889162\ttest-auc:0.873939\n",
            "[80]\ttrain-auc:0.891468\ttest-auc:0.876364\n",
            "[90]\ttrain-auc:0.893669\ttest-auc:0.87769\n",
            "[100]\ttrain-auc:0.895251\ttest-auc:0.878906\n",
            "[110]\ttrain-auc:0.897052\ttest-auc:0.880055\n",
            "[120]\ttrain-auc:0.898373\ttest-auc:0.880545\n",
            "[130]\ttrain-auc:0.898977\ttest-auc:0.880556\n",
            "[140]\ttrain-auc:0.898977\ttest-auc:0.880556\n",
            "Stopping. Best iteration:\n",
            "[121]\ttrain-auc:0.898511\ttest-auc:0.880638\n",
            "\n"
          ],
          "name": "stdout"
        }
      ]
    },
    {
      "cell_type": "code",
      "metadata": {
        "id": "jPXYht8e8kjG"
      },
      "source": [
        "train_roc_auc_score = roc_auc_score(y_train, model.predict(dtrain))\n",
        "valid_roc_auc_score = roc_auc_score(y_valid, model.predict(dvalid))\n",
        "test_roc_auc_score = roc_auc_score(y_test, model.predict(dtest))"
      ],
      "execution_count": null,
      "outputs": []
    },
    {
      "cell_type": "code",
      "metadata": {
        "id": "6axmD0Gd8kck",
        "colab": {
          "base_uri": "https://localhost:8080/"
        },
        "outputId": "ae15637d-772b-4c34-80b1-0afda875606f"
      },
      "source": [
        "print('train: %.4f' % train_roc_auc_score, 'test: %.4f' % test_roc_auc_score, 'valid: %.4f' % valid_roc_auc_score)\n",
        "print('lb_data: %.4f' % lb_data_roc_auc_score)"
      ],
      "execution_count": null,
      "outputs": [
        {
          "output_type": "stream",
          "text": [
            "train: 0.8990 test: 0.8806 valid: 0.8804\n",
            "lb_data: 0.8606\n"
          ],
          "name": "stdout"
        }
      ]
    },
    {
      "cell_type": "markdown",
      "metadata": {
        "id": "ujrFtjcm-8nX"
      },
      "source": [
        "Примерно схожая картина с первым заданием"
      ]
    },
    {
      "cell_type": "code",
      "metadata": {
        "id": "HmREqWIFjtWe"
      },
      "source": [
        ""
      ],
      "execution_count": null,
      "outputs": []
    },
    {
      "cell_type": "markdown",
      "metadata": {
        "id": "8kHBbj0djuEW"
      },
      "source": [
        "Задание 3: построить доверительный интервал на данных из п.2 на основе бутстреп выборок, оценить качество модели на ЛБ относительно полученного доверительного интервала. Сделать выводы.\n",
        "\n"
      ]
    },
    {
      "cell_type": "code",
      "metadata": {
        "id": "XQ2ilyJYj0jf"
      },
      "source": [
        "def create_bootstrap_samples(data: np.array, n_samples: int = 1000) -> np.array:\n",
        "    \"\"\"\n",
        "    Создание бутстреп-выборок.\n",
        "\n",
        "    Parameters\n",
        "    ----------\n",
        "    data: np.array\n",
        "        Исходная выборка, которая будет использоваться для\n",
        "        создания бутстреп выборок.\n",
        "\n",
        "    n_samples: int, optional, default = 1000\n",
        "        Количество создаваемых бутстреп выборок.\n",
        "        Опциональный параметр, по умолчанию, равен 1000.\n",
        "\n",
        "    Returns\n",
        "    -------\n",
        "    bootstrap_idx: np.array\n",
        "        Матрица индексов, для создания бутстреп выборок.\n",
        "\n",
        "    \"\"\"\n",
        "    bootstrap_idx = np.random.randint(\n",
        "        low=0, high=len(data), size=(n_samples, len(data))\n",
        "    )\n",
        "    return bootstrap_idx\n",
        "\n",
        "\n",
        "def create_bootstrap_metrics(y_true: np.array,\n",
        "                             y_pred: np.array,\n",
        "                             metric: callable,\n",
        "                             n_samlpes: int = 1000) -> List[float]:\n",
        "    \"\"\"\n",
        "    Вычисление бутстреп оценок.\n",
        "\n",
        "    Parameters\n",
        "    ----------\n",
        "    y_true: np.array\n",
        "        Вектор целевой переменной.\n",
        "\n",
        "    y_pred: np.array\n",
        "        Вектор прогнозов.\n",
        "\n",
        "    metric: callable\n",
        "        Функция для вычисления метрики.\n",
        "        Функция должна принимать 2 аргумента: y_true, y_pred.\n",
        "\n",
        "    n_samples: int, optional, default = 1000\n",
        "        Количество создаваемых бутстреп выборок.\n",
        "        Опциональный параметр, по умолчанию, равен 1000.\n",
        "\n",
        "    Returns\n",
        "    -------\n",
        "    bootstrap_metrics: List[float]\n",
        "        Список со значениями метрики качества на каждой бустреп выборке.\n",
        "\n",
        "    \"\"\"\n",
        "    scores = []\n",
        "\n",
        "    if isinstance(y_true, pd.Series):\n",
        "        y_true = y_true.values\n",
        "\n",
        "    bootstrap_idx = create_bootstrap_samples(y_true)\n",
        "    for idx in bootstrap_idx:\n",
        "        y_true_bootstrap = y_true[idx]\n",
        "        y_pred_bootstrap = y_pred[idx]\n",
        "\n",
        "        score = metric(y_true_bootstrap, y_pred_bootstrap)\n",
        "        scores.append(score)\n",
        "\n",
        "    return scores\n",
        "\n",
        "\n",
        "def calculate_confidence_interval(scores: list, conf_interval: float = 0.95) -> Tuple[float]:\n",
        "    \"\"\"\n",
        "    Вычисление доверительного интервала.\n",
        "\n",
        "    Parameters\n",
        "    ----------\n",
        "    scores: List[float / int]\n",
        "        Список с оценками изучаемой величины.\n",
        "\n",
        "    conf_interval: float, optional, default = 0.95\n",
        "        Уровень доверия для построения интервала.\n",
        "        Опциональный параметр, по умолчанию, равен 0.95.\n",
        "\n",
        "    Returns\n",
        "    -------\n",
        "    conf_interval: Tuple[float]\n",
        "        Кортеж с границами доверительного интервала.\n",
        "\n",
        "    \"\"\"\n",
        "    left_bound = np.percentile(\n",
        "        scores, ((1 - conf_interval) / 2) * 100\n",
        "    )\n",
        "    right_bound = np.percentile(\n",
        "        scores, (conf_interval + ((1 - conf_interval) / 2)) * 100\n",
        "    )\n",
        "\n",
        "    return left_bound, right_bound"
      ],
      "execution_count": null,
      "outputs": []
    },
    {
      "cell_type": "code",
      "metadata": {
        "id": "5a4ylaRZ_0vM",
        "colab": {
          "base_uri": "https://localhost:8080/"
        },
        "outputId": "563134fb-1bb3-4130-eb24-8c4d9b89289c"
      },
      "source": [
        "np.random.seed(27)\n",
        "scores_test = create_bootstrap_metrics(y_test.values, model.predict(dtest), roc_auc_score)\n",
        "calculate_confidence_interval(scores_test)"
      ],
      "execution_count": null,
      "outputs": [
        {
          "output_type": "execute_result",
          "data": {
            "text/plain": [
              "(0.8658664908704963, 0.8951009865703493)"
            ]
          },
          "metadata": {
            "tags": []
          },
          "execution_count": 20
        }
      ]
    },
    {
      "cell_type": "code",
      "metadata": {
        "id": "4m8G8Cp4_0qb",
        "colab": {
          "base_uri": "https://localhost:8080/"
        },
        "outputId": "f8b0857f-34e3-4b45-d888-1fd35429385c"
      },
      "source": [
        "np.random.seed(27)\n",
        "scores_valid = create_bootstrap_metrics(y_valid.values, model.predict(dvalid), roc_auc_score)\n",
        "calculate_confidence_interval(scores_valid)"
      ],
      "execution_count": null,
      "outputs": [
        {
          "output_type": "execute_result",
          "data": {
            "text/plain": [
              "(0.868879635160006, 0.8913565811868477)"
            ]
          },
          "metadata": {
            "tags": []
          },
          "execution_count": 21
        }
      ]
    },
    {
      "cell_type": "code",
      "metadata": {
        "id": "pV5I3a_S_0lL",
        "colab": {
          "base_uri": "https://localhost:8080/",
          "height": 393
        },
        "outputId": "1eeca7ef-e38d-4485-8c14-289ee0c27291"
      },
      "source": [
        "fig, axes = plt.subplots(1, 2, figsize=(15, 5))\n",
        "plt.suptitle(\"Bootstrap for evaluating validation stability\", size=15)\n",
        "axes[1].scatter(range(len(scores_test)), scores_test, alpha=0.25, color=\"blue\")\n",
        "axes[1].set_xlabel(\"sampel number\", size=15)\n",
        "axes[1].set_ylabel(\"$R^2$ score\", size=15)\n",
        "\n",
        "sns.distplot(scores_test, ax=axes[0], color=\"green\", bins=20)\n",
        "axes[0].set_xlabel(\"sampel number\", size=15)"
      ],
      "execution_count": null,
      "outputs": [
        {
          "output_type": "execute_result",
          "data": {
            "text/plain": [
              "Text(0.5, 0, 'sampel number')"
            ]
          },
          "metadata": {
            "tags": []
          },
          "execution_count": 22
        },
        {
          "output_type": "display_data",
          "data": {
            "image/png": "[encoded data removed]",
            "text/plain": [
              "<Figure size 1080x360 with 2 Axes>"
            ]
          },
          "metadata": {
            "tags": [],
            "needs_background": "light"
          }
        }
      ]
    },
    {
      "cell_type": "code",
      "metadata": {
        "id": "5I8mx0X3_0e9",
        "colab": {
          "base_uri": "https://localhost:8080/",
          "height": 393
        },
        "outputId": "fffdf496-d7bc-44a5-9040-c7801fea2174"
      },
      "source": [
        "fig, axes = plt.subplots(1, 2, figsize=(15, 5))\n",
        "plt.suptitle(\"Bootstrap for evaluating validation stability\", size=15)\n",
        "axes[1].scatter(range(len(scores_valid)), scores_valid, alpha=0.25, color=\"blue\")\n",
        "axes[1].set_xlabel(\"sampel number\", size=15)\n",
        "axes[1].set_ylabel(\"$R^2$ score\", size=15)\n",
        "\n",
        "sns.distplot(scores_valid, ax=axes[0], color=\"green\", bins=20)\n",
        "axes[0].set_xlabel(\"sampel number\", size=15)"
      ],
      "execution_count": null,
      "outputs": [
        {
          "output_type": "execute_result",
          "data": {
            "text/plain": [
              "Text(0.5, 0, 'sampel number')"
            ]
          },
          "metadata": {
            "tags": []
          },
          "execution_count": 23
        },
        {
          "output_type": "display_data",
          "data": {
            "image/png": "[encoded data removed]",
            "text/plain": [
              "<Figure size 1080x360 with 2 Axes>"
            ]
          },
          "metadata": {
            "tags": [],
            "needs_background": "light"
          }
        }
      ]
    },
    {
      "cell_type": "code",
      "metadata": {
        "id": "JStFVknhPjCR",
        "colab": {
          "base_uri": "https://localhost:8080/"
        },
        "outputId": "79e34f64-bdb0-470a-e71a-34af40acab24"
      },
      "source": [
        "lb_data_roc_auc_score"
      ],
      "execution_count": null,
      "outputs": [
        {
          "output_type": "execute_result",
          "data": {
            "text/plain": [
              "0.8606473727945263"
            ]
          },
          "metadata": {
            "tags": []
          },
          "execution_count": 24
        }
      ]
    },
    {
      "cell_type": "code",
      "metadata": {
        "id": "2i8Dthy8I14s",
        "colab": {
          "base_uri": "https://localhost:8080/"
        },
        "outputId": "ba321e65-172f-423d-d7b2-e846ed826d42"
      },
      "source": [
        "calculate_confidence_interval(scores_test)[0] < lb_data_roc_auc_score and \\\n",
        "                              calculate_confidence_interval(scores_test)[1] > lb_data_roc_auc_score"
      ],
      "execution_count": null,
      "outputs": [
        {
          "output_type": "execute_result",
          "data": {
            "text/plain": [
              "False"
            ]
          },
          "metadata": {
            "tags": []
          },
          "execution_count": 25
        }
      ]
    },
    {
      "cell_type": "code",
      "metadata": {
        "id": "9GelKKawKAwo",
        "colab": {
          "base_uri": "https://localhost:8080/"
        },
        "outputId": "64bc2c2f-4b4b-463d-d247-4399d946111b"
      },
      "source": [
        "calculate_confidence_interval(scores_valid)[0] < lb_data_roc_auc_score and \\\n",
        "                              calculate_confidence_interval(scores_valid)[1] > lb_data_roc_auc_score"
      ],
      "execution_count": null,
      "outputs": [
        {
          "output_type": "execute_result",
          "data": {
            "text/plain": [
              "False"
            ]
          },
          "metadata": {
            "tags": []
          },
          "execution_count": 26
        }
      ]
    },
    {
      "cell_type": "markdown",
      "metadata": {
        "id": "gpZessyWKI45"
      },
      "source": [
        "Качество на лидерборде оказалось за рамками доверительного интервала, значит валидация плохая"
      ]
    },
    {
      "cell_type": "code",
      "metadata": {
        "id": "bEyDJEZiF_sE"
      },
      "source": [
        ""
      ],
      "execution_count": null,
      "outputs": []
    },
    {
      "cell_type": "markdown",
      "metadata": {
        "id": "wpjtWupPj2-Y"
      },
      "source": [
        "Задание 4: выполнить Adversarial Validation, подобрать объекты из обучающей выборки, которые сильно похожи на объекты из assignment_2_test.csv, и использовать их в качестве валидационного набора. Оценить качество модели на ЛБ, сделать выводы о полученных результатах.\n",
        "\n"
      ]
    },
    {
      "cell_type": "code",
      "metadata": {
        "id": "oHQFucrW_lfP"
      },
      "source": [
        "x_train_adversarial_validation_f, x_test_adversarial_validation = train_test_split(\n",
        "    data.drop([\"TransactionID\", \"TransactionDT\"], axis=1), train_size=0.70, shuffle=True, random_state=1,\n",
        ")\n",
        "\n",
        "x_lb_data_adversarial_validation = x_lb_data"
      ],
      "execution_count": null,
      "outputs": []
    },
    {
      "cell_type": "code",
      "metadata": {
        "id": "0WUnQ8gFAKqj",
        "colab": {
          "base_uri": "https://localhost:8080/"
        },
        "outputId": "0c7418f9-6d9b-41b1-b5bc-139ecee8e08f"
      },
      "source": [
        "x_train_adversarial_validation = x_train_adversarial_validation_f[numerical_features]\n",
        "x_lb_data_adversarial_validation = x_lb_data_adversarial_validation[numerical_features]\n",
        "\n",
        "print(\"x_train_adversarial_validation.shape = {} rows, {} cols\".format(*x_train_adversarial_validation.shape))\n",
        "print(\"x_lb_data_adversarial_validation.shape = {} rows, {} cols\".format(*x_lb_data_adversarial_validation.shape))"
      ],
      "execution_count": null,
      "outputs": [
        {
          "output_type": "stream",
          "text": [
            "x_train_adversarial_validation.shape = 125999 rows, 377 cols\n",
            "x_lb_data_adversarial_validation.shape = 100001 rows, 377 cols\n"
          ],
          "name": "stdout"
        }
      ]
    },
    {
      "cell_type": "code",
      "metadata": {
        "id": "QtjccveiRK2K"
      },
      "source": [
        "X_adv = pd.concat([\n",
        "    x_train_adversarial_validation, x_lb_data\n",
        "])\n",
        "y_adv = np.hstack(\n",
        "    (np.ones(x_train_adversarial_validation.shape[0]), np.zeros(x_lb_data.shape[0])))\n",
        "\n",
        "X_adv = X_adv.reset_index(drop=True)"
      ],
      "execution_count": null,
      "outputs": []
    },
    {
      "cell_type": "code",
      "metadata": {
        "id": "c6RNX-b2DWUg",
        "colab": {
          "base_uri": "https://localhost:8080/"
        },
        "outputId": "3ab53978-55e9-4902-80a8-a533faf0c75a"
      },
      "source": [
        "%%time\n",
        "parameters = {\"max_depth\": 4, \"n_estimators\": 50, \"random_state\": 27, \"n_jobs\": 2}\n",
        "model = xgb.XGBClassifier(**parameters)\n",
        "\n",
        "cv = cross_val_score(\n",
        "    estimator=model,\n",
        "    X=X_adv, y=y_adv,\n",
        "    scoring=\"roc_auc\",\n",
        "    cv=KFold(n_splits=3, shuffle=True, random_state=27)\n",
        ")\n",
        "\n",
        "print('CV-score: %.4f' % np.mean(cv))"
      ],
      "execution_count": null,
      "outputs": [
        {
          "output_type": "stream",
          "text": [
            "CV-score: 0.8678\n",
            "CPU times: user 6min 7s, sys: 998 ms, total: 6min 8s\n",
            "Wall time: 3min 9s\n"
          ],
          "name": "stdout"
        }
      ]
    },
    {
      "cell_type": "code",
      "metadata": {
        "id": "r0ODSNk8DWOw",
        "colab": {
          "base_uri": "https://localhost:8080/",
          "height": 369
        },
        "outputId": "3c65baf1-7ece-4a9a-e439-904ef45333e1"
      },
      "source": [
        "model.fit(X_adv, y_adv)\n",
        "\n",
        "importance = pd.DataFrame({\n",
        "    \"feature\": X_adv.columns,\n",
        "    \"adversarial_importance\": model.feature_importances_\n",
        "})\n",
        "importance = importance.sort_values(by=\"adversarial_importance\", ascending=False)\n",
        "importance = importance.head(n=10)\n",
        "\n",
        "plt.figure(figsize=(20, 5))\n",
        "sns.barplot(x=importance[\"feature\"], y=importance[\"adversarial_importance\"], palette=\"viridis\")\n",
        "plt.title(\"Top Importance Features for Adversarial Validation (train vs test)\", size=14)"
      ],
      "execution_count": null,
      "outputs": [
        {
          "output_type": "execute_result",
          "data": {
            "text/plain": [
              "Text(0.5, 1.0, 'Top Importance Features for Adversarial Validation (train vs test)')"
            ]
          },
          "metadata": {
            "tags": []
          },
          "execution_count": 31
        },
        {
          "output_type": "display_data",
          "data": {
            "image/png": "[encoded data removed]",
            "text/plain": [
              "<Figure size 1440x360 with 1 Axes>"
            ]
          },
          "metadata": {
            "tags": [],
            "needs_background": "light"
          }
        }
      ]
    },
    {
      "cell_type": "code",
      "metadata": {
        "id": "CSH5GAtdj11e",
        "colab": {
          "base_uri": "https://localhost:8080/"
        },
        "outputId": "dd774422-9176-4bc4-c0e3-ed005f63daf7"
      },
      "source": [
        "y_pred_adv = model.predict_proba(X_adv[numerical_features])\n",
        "score = roc_auc_score(y_adv, y_pred_adv[:, 1])\n",
        "print(\"%.4f\"% score)"
      ],
      "execution_count": null,
      "outputs": [
        {
          "output_type": "stream",
          "text": [
            "0.8692\n"
          ],
          "name": "stdout"
        }
      ]
    },
    {
      "cell_type": "markdown",
      "metadata": {
        "id": "D6r7oNuaVhBp"
      },
      "source": [
        "Очень близко к единице, мало похожи"
      ]
    },
    {
      "cell_type": "code",
      "metadata": {
        "id": "2OYmWDLTRLPk",
        "colab": {
          "base_uri": "https://localhost:8080/"
        },
        "outputId": "4984bed2-9627-4d62-cc2d-75551442db2e"
      },
      "source": [
        "y_pred = model.predict_proba(x_train_adversarial_validation[numerical_features])\n",
        "y_pred"
      ],
      "execution_count": null,
      "outputs": [
        {
          "output_type": "execute_result",
          "data": {
            "text/plain": [
              "array([[0.2649269 , 0.7350731 ],\n",
              "       [0.1746521 , 0.8253479 ],\n",
              "       [0.23076284, 0.76923716],\n",
              "       ...,\n",
              "       [0.1746521 , 0.8253479 ],\n",
              "       [0.26829803, 0.73170197],\n",
              "       [0.4382609 , 0.5617391 ]], dtype=float32)"
            ]
          },
          "metadata": {
            "tags": []
          },
          "execution_count": 43
        }
      ]
    },
    {
      "cell_type": "code",
      "metadata": {
        "id": "ldDEWsVyRLJp",
        "colab": {
          "base_uri": "https://localhost:8080/"
        },
        "outputId": "abe1f9ab-ad12-4744-bc40-055786b1e4d2"
      },
      "source": [
        "pd.cut(\n",
        "    y_pred[:, 1], bins=np.arange(0, 1.01, 0.1)\n",
        ").value_counts().sort_index()"
      ],
      "execution_count": null,
      "outputs": [
        {
          "output_type": "execute_result",
          "data": {
            "text/plain": [
              "(0.0, 0.1]      137\n",
              "(0.1, 0.2]       76\n",
              "(0.2, 0.3]       93\n",
              "(0.3, 0.4]       89\n",
              "(0.4, 0.5]    11210\n",
              "(0.5, 0.6]    15218\n",
              "(0.6, 0.7]    21001\n",
              "(0.7, 0.8]    31928\n",
              "(0.8, 0.9]    39714\n",
              "(0.9, 1.0]     6533\n",
              "dtype: int64"
            ]
          },
          "metadata": {
            "tags": []
          },
          "execution_count": 44
        }
      ]
    },
    {
      "cell_type": "markdown",
      "metadata": {
        "id": "lVmOe6wQiKfd"
      },
      "source": [
        "Лучшее совпадение в девятом квантиле - 39714"
      ]
    },
    {
      "cell_type": "code",
      "metadata": {
        "id": "shAEJSBe0gag",
        "colab": {
          "base_uri": "https://localhost:8080/"
        },
        "outputId": "3a099ba8-7d15-48b1-8c2c-07ee2304cb38"
      },
      "source": [
        "len(y_pred[:, 1][(y_pred[:, 1]>0.8) & (y_pred[:, 1]<0.9)])"
      ],
      "execution_count": null,
      "outputs": [
        {
          "output_type": "execute_result",
          "data": {
            "text/plain": [
              "39714"
            ]
          },
          "metadata": {
            "tags": []
          },
          "execution_count": 45
        }
      ]
    },
    {
      "cell_type": "code",
      "metadata": {
        "id": "jtyyeUjG-PCr",
        "colab": {
          "base_uri": "https://localhost:8080/"
        },
        "outputId": "78b94d60-dfda-465f-b751-0bc7019b90af"
      },
      "source": [
        "x_train_adversarial_validation_f.shape"
      ],
      "execution_count": null,
      "outputs": [
        {
          "output_type": "execute_result",
          "data": {
            "text/plain": [
              "(125999, 393)"
            ]
          },
          "metadata": {
            "tags": []
          },
          "execution_count": 46
        }
      ]
    },
    {
      "cell_type": "code",
      "metadata": {
        "id": "qv0CTEUNPHth"
      },
      "source": [
        "# nf = numerical_features.copy()\n",
        "# nf.insert(0, 'isFraud')"
      ],
      "execution_count": null,
      "outputs": []
    },
    {
      "cell_type": "code",
      "metadata": {
        "id": "skxYnFR52T4K",
        "colab": {
          "base_uri": "https://localhost:8080/"
        },
        "outputId": "99bc6209-e3f0-43cd-e25b-231ccda1b62b"
      },
      "source": [
        "x_train_adversarial_validation_f['av'] = np.nan\n",
        "x_train_adversarial_validation_f['av'] = y_pred[:, 1]\n",
        "\n",
        "x_train_adversarial_validation_f = x_train_adversarial_validation_f.loc[x_train_adversarial_validation_f.loc[:, 'av'] >= 0.7, :]\n",
        "x_train_adversarial_validation_f = x_train_adversarial_validation_f.loc[x_train_adversarial_validation_f.loc[:, 'av'] <= 0.8, :]\n",
        "y_train_adversarial_validation = x_train_adversarial_validation_f['isFraud']\n",
        "x_train_adversarial_validation_f.drop(['isFraud'], axis='columns', inplace=True)\n",
        "x_train_adversarial_validation_f.drop(['av'], axis='columns', inplace=True)\n",
        "x_train_adversarial_validation_f = x_train_adversarial_validation_f[numerical_features]\n",
        "x_train_adversarial_validation_f.shape"
      ],
      "execution_count": null,
      "outputs": [
        {
          "output_type": "execute_result",
          "data": {
            "text/plain": [
              "(31928, 377)"
            ]
          },
          "metadata": {
            "tags": []
          },
          "execution_count": 48
        }
      ]
    },
    {
      "cell_type": "code",
      "metadata": {
        "id": "b3H9VLyj79rC"
      },
      "source": [
        "dtrain = xgb.DMatrix(data=x_train_adversarial_validation_f, label=y_train_adversarial_validation)\n",
        "dlbdata = xgb.DMatrix(data=x_lb_data_adversarial_validation, label=y_lb_data)"
      ],
      "execution_count": null,
      "outputs": []
    },
    {
      "cell_type": "code",
      "metadata": {
        "id": "MtMypURT79eM",
        "colab": {
          "base_uri": "https://localhost:8080/"
        },
        "outputId": "e4d1ddac-c580-4174-ed31-137962b050ce"
      },
      "source": [
        "model = xgb.train(\n",
        "    params=params,\n",
        "    dtrain=dtrain,\n",
        "    num_boost_round=1000,\n",
        "    early_stopping_rounds=25,\n",
        "    evals=[(dtrain, \"train\"), (dlbdata, \"test\")],\n",
        "    verbose_eval=10,\n",
        "    maximize=True,\n",
        ")"
      ],
      "execution_count": null,
      "outputs": [
        {
          "output_type": "stream",
          "text": [
            "[0]\ttrain-auc:0.661567\ttest-auc:0.60427\n",
            "Multiple eval metrics have been passed: 'test-auc' will be used for early stopping.\n",
            "\n",
            "Will train until test-auc hasn't improved in 25 rounds.\n",
            "[10]\ttrain-auc:0.735946\ttest-auc:0.673874\n",
            "[20]\ttrain-auc:0.831619\ttest-auc:0.791381\n",
            "[30]\ttrain-auc:0.840442\ttest-auc:0.811115\n",
            "[40]\ttrain-auc:0.862789\ttest-auc:0.84402\n",
            "[50]\ttrain-auc:0.874765\ttest-auc:0.849425\n",
            "[60]\ttrain-auc:0.881985\ttest-auc:0.850743\n",
            "[70]\ttrain-auc:0.885971\ttest-auc:0.851847\n",
            "[80]\ttrain-auc:0.887562\ttest-auc:0.852342\n",
            "[90]\ttrain-auc:0.887562\ttest-auc:0.852342\n",
            "[100]\ttrain-auc:0.887701\ttest-auc:0.852185\n",
            "Stopping. Best iteration:\n",
            "[75]\ttrain-auc:0.887104\ttest-auc:0.852754\n",
            "\n"
          ],
          "name": "stdout"
        }
      ]
    },
    {
      "cell_type": "code",
      "metadata": {
        "id": "tYrdwDcF79Xu",
        "colab": {
          "base_uri": "https://localhost:8080/"
        },
        "outputId": "1f132a61-4b6f-4476-8b89-1c53b5f44855"
      },
      "source": [
        "predict = model.predict(dlbdata)\n",
        "print(f'leader_board: {round(roc_auc_score(y_lb_data, predict), 4)}')"
      ],
      "execution_count": null,
      "outputs": [
        {
          "output_type": "stream",
          "text": [
            "leader_board: 0.8522\n"
          ],
          "name": "stdout"
        }
      ]
    },
    {
      "cell_type": "markdown",
      "metadata": {
        "id": "o6ss_wfeb3Fb"
      },
      "source": [
        "Может я что-то не так сделал, но качество лучше не стало"
      ]
    },
    {
      "cell_type": "code",
      "metadata": {
        "id": "Yh5ZAsnW79RY"
      },
      "source": [
        ""
      ],
      "execution_count": null,
      "outputs": []
    },
    {
      "cell_type": "markdown",
      "metadata": {
        "id": "x30uUYa9j5N2"
      },
      "source": [
        "Задание 5: сделать KFold / StratifiedKFold валидацию (на ваше усмотрение), оценить получаемые качество и разброс по метрике качества. Сделать выводы об устойчивости кросс-валидации, сходимости оценки на кросс-валидации и отложенном наборе данных; Оценить качество на ЛБ, сделать выводы.\n",
        "\n"
      ]
    },
    {
      "cell_type": "code",
      "metadata": {
        "id": "XiB6XApdihCM",
        "colab": {
          "base_uri": "https://localhost:8080/"
        },
        "outputId": "9ce02a47-01e1-477e-dc21-80a58c3bca8b"
      },
      "source": [
        "%%time\n",
        "parameters = {\"max_depth\": 4, \"n_estimators\": 50, \"random_state\": 27, \"n_jobs\": 2}\n",
        "model = xgb.XGBRegressor(random_state=27)\n",
        "\n",
        "\n",
        "cv = cross_val_score(\n",
        "    estimator=model,\n",
        "    X=data[numerical_features],\n",
        "    y=data[\"isFraud\"],\n",
        "    scoring=\"roc_auc\",\n",
        "    cv=5\n",
        ")\n",
        "\n",
        "print(f\"CV-results: {round(np.mean(cv), 4)} +/- {round(np.std(cv), 3)}\")"
      ],
      "execution_count": null,
      "outputs": [
        {
          "output_type": "stream",
          "text": [
            "[21:26:02] WARNING: /workspace/src/objective/regression_obj.cu:152: reg:linear is now deprecated in favor of reg:squarederror.\n",
            "[21:27:49] WARNING: /workspace/src/objective/regression_obj.cu:152: reg:linear is now deprecated in favor of reg:squarederror.\n",
            "[21:29:41] WARNING: /workspace/src/objective/regression_obj.cu:152: reg:linear is now deprecated in favor of reg:squarederror.\n",
            "[21:31:30] WARNING: /workspace/src/objective/regression_obj.cu:152: reg:linear is now deprecated in favor of reg:squarederror.\n",
            "[21:33:21] WARNING: /workspace/src/objective/regression_obj.cu:152: reg:linear is now deprecated in favor of reg:squarederror.\n",
            "CV-results: 0.8655 +/- 0.011\n",
            "CPU times: user 9min 13s, sys: 954 ms, total: 9min 13s\n",
            "Wall time: 9min 14s\n"
          ],
          "name": "stdout"
        }
      ]
    },
    {
      "cell_type": "code",
      "metadata": {
        "id": "XUZaBGQXj1wB"
      },
      "source": [
        "def make_cross_validation(X: pd.DataFrame,\n",
        "                          y: pd.Series,\n",
        "                          estimator: object,\n",
        "                          metric: callable,\n",
        "                          cv_strategy):\n",
        "\n",
        "    estimators, fold_train_scores, fold_valid_scores = [], [], []\n",
        "    oof_predictions = np.zeros(X.shape[0])\n",
        "\n",
        "    for fold_number, (train_idx, valid_idx) in enumerate(cv_strategy.split(X, y)):\n",
        "        x_train, x_valid = X.loc[train_idx], X.loc[valid_idx]\n",
        "        y_train, y_valid = y.loc[train_idx], y.loc[valid_idx]\n",
        "\n",
        "        estimator.fit(x_train, y_train)\n",
        "        y_train_pred = estimator.predict(x_train)\n",
        "        y_valid_pred = estimator.predict(x_valid)\n",
        "\n",
        "        fold_train_scores.append(metric(y_train, y_train_pred))\n",
        "        fold_valid_scores.append(metric(y_valid, y_valid_pred))\n",
        "        oof_predictions[valid_idx] = y_valid_pred\n",
        "\n",
        "        msg = (\n",
        "            f\"Fold: {fold_number+1}, train-observations = {len(train_idx)}, \"\n",
        "            f\"valid-observations = {len(valid_idx)}\\n\"\n",
        "            f\"train-score = {round(fold_train_scores[fold_number], 4)}, \"\n",
        "            f\"valid-score = {round(fold_valid_scores[fold_number], 4)}\" \n",
        "        )\n",
        "        print(msg)\n",
        "        print(\"=\"*69)\n",
        "        estimators.append(estimator)\n",
        "\n",
        "    oof_score = metric(y, oof_predictions)\n",
        "    print(f\"CV-results train: {round(np.mean(fold_train_scores), 4)} +/- {round(np.std(fold_train_scores), 3)}\")\n",
        "    print(f\"CV-results valid: {round(np.mean(fold_valid_scores), 4)} +/- {round(np.std(fold_valid_scores), 3)}\")\n",
        "    print(f\"OOF-score = {round(oof_score, 4)}\")\n",
        "\n",
        "    return estimators, oof_score, fold_train_scores, fold_valid_scores, oof_predictions"
      ],
      "execution_count": null,
      "outputs": []
    },
    {
      "cell_type": "code",
      "metadata": {
        "id": "LZr-NlH8j1tJ",
        "colab": {
          "base_uri": "https://localhost:8080/"
        },
        "outputId": "e9d1d6e1-c547-46c0-a8ca-0ab651d507ef"
      },
      "source": [
        "cv_strategy = KFold(n_splits=5, random_state=1)\n",
        "\n",
        "estimators, oof_score, fold_train_scores, fold_valid_scores, oof_predictions = make_cross_validation(\n",
        "    data[numerical_features], data[\"isFraud\"], model, metric=roc_auc_score, cv_strategy=cv_strategy\n",
        ")"
      ],
      "execution_count": null,
      "outputs": [
        {
          "output_type": "stream",
          "text": [
            "[21:13:31] WARNING: /workspace/src/objective/regression_obj.cu:152: reg:linear is now deprecated in favor of reg:squarederror.\n",
            "Fold: 1, train-observations = 144000, valid-observations = 36000\n",
            "train-score = 0.8825, valid-score = 0.8499\n",
            "=====================================================================\n",
            "[21:15:19] WARNING: /workspace/src/objective/regression_obj.cu:152: reg:linear is now deprecated in favor of reg:squarederror.\n",
            "Fold: 2, train-observations = 144000, valid-observations = 36000\n",
            "train-score = 0.8775, valid-score = 0.875\n",
            "=====================================================================\n",
            "[21:17:13] WARNING: /workspace/src/objective/regression_obj.cu:152: reg:linear is now deprecated in favor of reg:squarederror.\n",
            "Fold: 3, train-observations = 144000, valid-observations = 36000\n",
            "train-score = 0.8776, valid-score = 0.8802\n",
            "=====================================================================\n",
            "[21:19:05] WARNING: /workspace/src/objective/regression_obj.cu:152: reg:linear is now deprecated in favor of reg:squarederror.\n",
            "Fold: 4, train-observations = 144000, valid-observations = 36000\n",
            "train-score = 0.8775, valid-score = 0.866\n",
            "=====================================================================\n",
            "[21:20:59] WARNING: /workspace/src/objective/regression_obj.cu:152: reg:linear is now deprecated in favor of reg:squarederror.\n",
            "Fold: 5, train-observations = 144000, valid-observations = 36000\n",
            "train-score = 0.8806, valid-score = 0.8567\n",
            "=====================================================================\n",
            "CV-results train: 0.8792 +/- 0.002\n",
            "CV-results valid: 0.8655 +/- 0.011\n",
            "OOF-score = 0.8624\n"
          ],
          "name": "stdout"
        }
      ]
    },
    {
      "cell_type": "code",
      "metadata": {
        "id": "OJ6Dfoywj1qJ"
      },
      "source": [
        ""
      ],
      "execution_count": null,
      "outputs": []
    },
    {
      "cell_type": "markdown",
      "metadata": {
        "id": "5k04uAkxj7wa"
      },
      "source": [
        "Задание 6 (опциональное): сделать Hold-Out валидацию по времени (TransactionDT), повторить процедуры из п.1 / п.2 (на ваш выбор). Построить доверительный интервал, сравнить качество на ЛБ выборке с полученным доверительным интервалом. Сделать выводы.\n",
        "\n"
      ]
    },
    {
      "cell_type": "code",
      "metadata": {
        "id": "qMTCM6-lj1nY"
      },
      "source": [
        ""
      ],
      "execution_count": null,
      "outputs": []
    },
    {
      "cell_type": "code",
      "metadata": {
        "id": "L64-u__rj1kI"
      },
      "source": [
        ""
      ],
      "execution_count": null,
      "outputs": []
    },
    {
      "cell_type": "code",
      "metadata": {
        "id": "GwWSorWij1hY"
      },
      "source": [
        ""
      ],
      "execution_count": null,
      "outputs": []
    },
    {
      "cell_type": "markdown",
      "metadata": {
        "id": "utJxSPuSj9oq"
      },
      "source": [
        "Задание 7 (совсем опциональное): в данном наборе данных у нас есть ID-транзакции (TransactionID) и время транзакции (TransactionDT), но отсутствует ID-клиента, который совершал транзакции. Кажется, что в этой задаче валидация по клиенту работала бы хорошо. Предложить критерий, по которому можно выделить клиентов и сделать п.5, используя созданное определение клиента, используя валидацию по клиенту (GroupKFold)."
      ]
    },
    {
      "cell_type": "code",
      "metadata": {
        "id": "8k2BTnfLj1ev"
      },
      "source": [
        ""
      ],
      "execution_count": null,
      "outputs": []
    },
    {
      "cell_type": "code",
      "metadata": {
        "id": "XK6V2LN-j1cC"
      },
      "source": [
        ""
      ],
      "execution_count": null,
      "outputs": []
    },
    {
      "cell_type": "code",
      "metadata": {
        "id": "7SFl8T6Mj1ZS"
      },
      "source": [
        ""
      ],
      "execution_count": null,
      "outputs": []
    },
    {
      "cell_type": "code",
      "metadata": {
        "id": "Wmih1TsBj1WE"
      },
      "source": [
        ""
      ],
      "execution_count": null,
      "outputs": []
    },
    {
      "cell_type": "code",
      "metadata": {
        "id": "tdisD-W0j1S7"
      },
      "source": [
        ""
      ],
      "execution_count": null,
      "outputs": []
    },
    {
      "cell_type": "code",
      "metadata": {
        "id": "KYpg1lNDj1G6"
      },
      "source": [
        ""
      ],
      "execution_count": null,
      "outputs": []
    }
  ]
}