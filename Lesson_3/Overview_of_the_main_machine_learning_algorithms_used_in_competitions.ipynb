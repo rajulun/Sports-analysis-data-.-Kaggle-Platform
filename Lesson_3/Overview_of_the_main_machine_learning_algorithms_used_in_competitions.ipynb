{
  "nbformat": 4,
  "nbformat_minor": 0,
  "metadata": {
    "colab": {
      "name": "Overview of the main machine learning algorithms used in competitions.ipynb",
      "provenance": [],
      "collapsed_sections": [],
      "toc_visible": true
    },
    "kernelspec": {
      "name": "python3",
      "display_name": "Python 3"
    }
  },
  "cells": [
    {
      "cell_type": "markdown",
      "metadata": {
        "id": "6PJd__ducmec"
      },
      "source": [
        "## Урок 2. Обзор основных алгоритмов машинного обучения, используемых в соревнованиях"
      ]
    },
    {
      "cell_type": "code",
      "metadata": {
        "id": "eMErbMDkgbNh"
      },
      "source": [
        "import numpy as np\n",
        "import pandas as pd\n",
        "import xgboost as xgb\n",
        "import lightgbm as lgb\n",
        "import matplotlib.pyplot as plt\n",
        "\n",
        "from sklearn.model_selection import train_test_split\n",
        "from sklearn.metrics import roc_auc_score, plot_roc_curve, roc_curve, auc\n",
        "from sklearn.preprocessing import LabelEncoder\n",
        "import missingno as msno"
      ],
      "execution_count": null,
      "outputs": []
    },
    {
      "cell_type": "code",
      "metadata": {
        "id": "j_ALu3WZp4E4",
        "outputId": "c621cf2f-9bec-4f0a-8a47-fe6036c4f31e",
        "colab": {
          "base_uri": "https://localhost:8080/"
        }
      },
      "source": [
        "!pip install catboost\n",
        "import catboost as cb"
      ],
      "execution_count": null,
      "outputs": [
        {
          "output_type": "stream",
          "text": [
            "Requirement already satisfied: catboost in /usr/local/lib/python3.6/dist-packages (0.24.2)\n",
            "Requirement already satisfied: matplotlib in /usr/local/lib/python3.6/dist-packages (from catboost) (3.2.2)\n",
            "Requirement already satisfied: plotly in /usr/local/lib/python3.6/dist-packages (from catboost) (4.4.1)\n",
            "Requirement already satisfied: six in /usr/local/lib/python3.6/dist-packages (from catboost) (1.15.0)\n",
            "Requirement already satisfied: pandas>=0.24.0 in /usr/local/lib/python3.6/dist-packages (from catboost) (1.1.4)\n",
            "Requirement already satisfied: scipy in /usr/local/lib/python3.6/dist-packages (from catboost) (1.4.1)\n",
            "Requirement already satisfied: graphviz in /usr/local/lib/python3.6/dist-packages (from catboost) (0.10.1)\n",
            "Requirement already satisfied: numpy>=1.16.0 in /usr/local/lib/python3.6/dist-packages (from catboost) (1.18.5)\n",
            "Requirement already satisfied: cycler>=0.10 in /usr/local/lib/python3.6/dist-packages (from matplotlib->catboost) (0.10.0)\n",
            "Requirement already satisfied: python-dateutil>=2.1 in /usr/local/lib/python3.6/dist-packages (from matplotlib->catboost) (2.8.1)\n",
            "Requirement already satisfied: pyparsing!=2.0.4,!=2.1.2,!=2.1.6,>=2.0.1 in /usr/local/lib/python3.6/dist-packages (from matplotlib->catboost) (2.4.7)\n",
            "Requirement already satisfied: kiwisolver>=1.0.1 in /usr/local/lib/python3.6/dist-packages (from matplotlib->catboost) (1.3.1)\n",
            "Requirement already satisfied: retrying>=1.3.3 in /usr/local/lib/python3.6/dist-packages (from plotly->catboost) (1.3.3)\n",
            "Requirement already satisfied: pytz>=2017.2 in /usr/local/lib/python3.6/dist-packages (from pandas>=0.24.0->catboost) (2018.9)\n"
          ],
          "name": "stdout"
        }
      ]
    },
    {
      "cell_type": "code",
      "metadata": {
        "id": "7xygebmYc0IB"
      },
      "source": [
        "from google.colab import drive"
      ],
      "execution_count": null,
      "outputs": []
    },
    {
      "cell_type": "code",
      "metadata": {
        "id": "J4mwqy9gc0ES",
        "outputId": "1db422d4-f9cf-46f1-ca45-3d1e997f5c7e",
        "colab": {
          "base_uri": "https://localhost:8080/"
        }
      },
      "source": [
        "drive.mount(\"/content/for_colab\")"
      ],
      "execution_count": null,
      "outputs": [
        {
          "output_type": "stream",
          "text": [
            "Mounted at /content/for_colab\n"
          ],
          "name": "stdout"
        }
      ]
    },
    {
      "cell_type": "code",
      "metadata": {
        "id": "JaLTOAkCc0A9",
        "outputId": "1623a045-a402-446d-cdae-e072acf73dbe",
        "colab": {
          "base_uri": "https://localhost:8080/"
        }
      },
      "source": [
        "!unzip \"/content/for_colab/My Drive/for_colab/assignment2_data.zip\" -d /content/data"
      ],
      "execution_count": null,
      "outputs": [
        {
          "output_type": "stream",
          "text": [
            "Archive:  /content/for_colab/My Drive/for_colab/assignment2_data.zip\n",
            "  inflating: /content/data/assignment_2_test.csv  \n",
            "  inflating: /content/data/assignment_2_train.csv  \n"
          ],
          "name": "stdout"
        }
      ]
    },
    {
      "cell_type": "markdown",
      "metadata": {
        "id": "hspjBtCzc0Qn"
      },
      "source": [
        "В домашнем задании, будем обучать разные алгоритмы машинного обучения. Для этого, нужно предварительно зафиксировать схему валидации решения (можете выбрать любую, которую знаете). Выбранную схему валидации нужно использовать во всех задачах этого домашнего задания. Метрика качества - ROC AUC, целевая переменная - isFraud.\n",
        "Ссылка на данные - https://drive.google.com/file/d/1gMEVl47pIoV1-AseB9doQ6DZNJrY3NkW/view?usp=sharing\n",
        "\n",
        "Задание 1: отобрать только числовые признаки и обучить модель XGBoost с параметром booster = gbtree. Обучать алгоритм до тех пор, пока метрика качества не перестанет улучшаться на валидационной выборке в течение определенного числа итераций (выбрать значение самостоятельно).\n",
        "\n"
      ]
    },
    {
      "cell_type": "code",
      "metadata": {
        "id": "AwGJYUxtfdU_"
      },
      "source": [
        "train = pd.read_csv(\"data/assignment_2_train.csv\")\n",
        "test = pd.read_csv(\"data/assignment_2_test.csv\")"
      ],
      "execution_count": null,
      "outputs": []
    },
    {
      "cell_type": "code",
      "metadata": {
        "id": "X8AaVjNQfdHy",
        "outputId": "f50ac8c3-76c8-418e-9b0b-facca9d2fd3a",
        "colab": {
          "base_uri": "https://localhost:8080/",
          "height": 255
        }
      },
      "source": [
        "train.head()"
      ],
      "execution_count": null,
      "outputs": [
        {
          "output_type": "execute_result",
          "data": {
            "text/html": [
              "<div>\n",
              "<style scoped>\n",
              "    .dataframe tbody tr th:only-of-type {\n",
              "        vertical-align: middle;\n",
              "    }\n",
              "\n",
              "    .dataframe tbody tr th {\n",
              "        vertical-align: top;\n",
              "    }\n",
              "\n",
              "    .dataframe thead th {\n",
              "        text-align: right;\n",
              "    }\n",
              "</style>\n",
              "<table border=\"1\" class=\"dataframe\">\n",
              "  <thead>\n",
              "    <tr style=\"text-align: right;\">\n",
              "      <th></th>\n",
              "      <th>TransactionID</th>\n",
              "      <th>isFraud</th>\n",
              "      <th>TransactionDT</th>\n",
              "      <th>TransactionAmt</th>\n",
              "      <th>ProductCD</th>\n",
              "      <th>card1</th>\n",
              "      <th>card2</th>\n",
              "      <th>card3</th>\n",
              "      <th>card4</th>\n",
              "      <th>card5</th>\n",
              "      <th>card6</th>\n",
              "      <th>addr1</th>\n",
              "      <th>addr2</th>\n",
              "      <th>dist1</th>\n",
              "      <th>dist2</th>\n",
              "      <th>P_emaildomain</th>\n",
              "      <th>R_emaildomain</th>\n",
              "      <th>C1</th>\n",
              "      <th>C2</th>\n",
              "      <th>C3</th>\n",
              "      <th>C4</th>\n",
              "      <th>C5</th>\n",
              "      <th>C6</th>\n",
              "      <th>C7</th>\n",
              "      <th>C8</th>\n",
              "      <th>C9</th>\n",
              "      <th>C10</th>\n",
              "      <th>C11</th>\n",
              "      <th>C12</th>\n",
              "      <th>C13</th>\n",
              "      <th>C14</th>\n",
              "      <th>D1</th>\n",
              "      <th>D2</th>\n",
              "      <th>D3</th>\n",
              "      <th>D4</th>\n",
              "      <th>D5</th>\n",
              "      <th>D6</th>\n",
              "      <th>D7</th>\n",
              "      <th>D8</th>\n",
              "      <th>D9</th>\n",
              "      <th>...</th>\n",
              "      <th>V300</th>\n",
              "      <th>V301</th>\n",
              "      <th>V302</th>\n",
              "      <th>V303</th>\n",
              "      <th>V304</th>\n",
              "      <th>V305</th>\n",
              "      <th>V306</th>\n",
              "      <th>V307</th>\n",
              "      <th>V308</th>\n",
              "      <th>V309</th>\n",
              "      <th>V310</th>\n",
              "      <th>V311</th>\n",
              "      <th>V312</th>\n",
              "      <th>V313</th>\n",
              "      <th>V314</th>\n",
              "      <th>V315</th>\n",
              "      <th>V316</th>\n",
              "      <th>V317</th>\n",
              "      <th>V318</th>\n",
              "      <th>V319</th>\n",
              "      <th>V320</th>\n",
              "      <th>V321</th>\n",
              "      <th>V322</th>\n",
              "      <th>V323</th>\n",
              "      <th>V324</th>\n",
              "      <th>V325</th>\n",
              "      <th>V326</th>\n",
              "      <th>V327</th>\n",
              "      <th>V328</th>\n",
              "      <th>V329</th>\n",
              "      <th>V330</th>\n",
              "      <th>V331</th>\n",
              "      <th>V332</th>\n",
              "      <th>V333</th>\n",
              "      <th>V334</th>\n",
              "      <th>V335</th>\n",
              "      <th>V336</th>\n",
              "      <th>V337</th>\n",
              "      <th>V338</th>\n",
              "      <th>V339</th>\n",
              "    </tr>\n",
              "  </thead>\n",
              "  <tbody>\n",
              "    <tr>\n",
              "      <th>0</th>\n",
              "      <td>2987000</td>\n",
              "      <td>0</td>\n",
              "      <td>86400</td>\n",
              "      <td>68.5</td>\n",
              "      <td>W</td>\n",
              "      <td>13926</td>\n",
              "      <td>NaN</td>\n",
              "      <td>150.0</td>\n",
              "      <td>discover</td>\n",
              "      <td>142.0</td>\n",
              "      <td>credit</td>\n",
              "      <td>315.0</td>\n",
              "      <td>87.0</td>\n",
              "      <td>19.0</td>\n",
              "      <td>NaN</td>\n",
              "      <td>NaN</td>\n",
              "      <td>NaN</td>\n",
              "      <td>1.0</td>\n",
              "      <td>1.0</td>\n",
              "      <td>0.0</td>\n",
              "      <td>0.0</td>\n",
              "      <td>0.0</td>\n",
              "      <td>1.0</td>\n",
              "      <td>0.0</td>\n",
              "      <td>0.0</td>\n",
              "      <td>1.0</td>\n",
              "      <td>0.0</td>\n",
              "      <td>2.0</td>\n",
              "      <td>0.0</td>\n",
              "      <td>1.0</td>\n",
              "      <td>1.0</td>\n",
              "      <td>14.0</td>\n",
              "      <td>NaN</td>\n",
              "      <td>13.0</td>\n",
              "      <td>NaN</td>\n",
              "      <td>NaN</td>\n",
              "      <td>NaN</td>\n",
              "      <td>NaN</td>\n",
              "      <td>NaN</td>\n",
              "      <td>NaN</td>\n",
              "      <td>...</td>\n",
              "      <td>0.0</td>\n",
              "      <td>0.0</td>\n",
              "      <td>0.0</td>\n",
              "      <td>0.0</td>\n",
              "      <td>0.0</td>\n",
              "      <td>1.0</td>\n",
              "      <td>0.0</td>\n",
              "      <td>117.0</td>\n",
              "      <td>0.0</td>\n",
              "      <td>0.0</td>\n",
              "      <td>0.0</td>\n",
              "      <td>0.0</td>\n",
              "      <td>0.0</td>\n",
              "      <td>0.0</td>\n",
              "      <td>0.0</td>\n",
              "      <td>0.0</td>\n",
              "      <td>0.0</td>\n",
              "      <td>117.0</td>\n",
              "      <td>0.0</td>\n",
              "      <td>0.0</td>\n",
              "      <td>0.0</td>\n",
              "      <td>0.0</td>\n",
              "      <td>NaN</td>\n",
              "      <td>NaN</td>\n",
              "      <td>NaN</td>\n",
              "      <td>NaN</td>\n",
              "      <td>NaN</td>\n",
              "      <td>NaN</td>\n",
              "      <td>NaN</td>\n",
              "      <td>NaN</td>\n",
              "      <td>NaN</td>\n",
              "      <td>NaN</td>\n",
              "      <td>NaN</td>\n",
              "      <td>NaN</td>\n",
              "      <td>NaN</td>\n",
              "      <td>NaN</td>\n",
              "      <td>NaN</td>\n",
              "      <td>NaN</td>\n",
              "      <td>NaN</td>\n",
              "      <td>NaN</td>\n",
              "    </tr>\n",
              "    <tr>\n",
              "      <th>1</th>\n",
              "      <td>2987001</td>\n",
              "      <td>0</td>\n",
              "      <td>86401</td>\n",
              "      <td>29.0</td>\n",
              "      <td>W</td>\n",
              "      <td>2755</td>\n",
              "      <td>404.0</td>\n",
              "      <td>150.0</td>\n",
              "      <td>mastercard</td>\n",
              "      <td>102.0</td>\n",
              "      <td>credit</td>\n",
              "      <td>325.0</td>\n",
              "      <td>87.0</td>\n",
              "      <td>NaN</td>\n",
              "      <td>NaN</td>\n",
              "      <td>gmail.com</td>\n",
              "      <td>NaN</td>\n",
              "      <td>1.0</td>\n",
              "      <td>1.0</td>\n",
              "      <td>0.0</td>\n",
              "      <td>0.0</td>\n",
              "      <td>0.0</td>\n",
              "      <td>1.0</td>\n",
              "      <td>0.0</td>\n",
              "      <td>0.0</td>\n",
              "      <td>0.0</td>\n",
              "      <td>0.0</td>\n",
              "      <td>1.0</td>\n",
              "      <td>0.0</td>\n",
              "      <td>1.0</td>\n",
              "      <td>1.0</td>\n",
              "      <td>0.0</td>\n",
              "      <td>NaN</td>\n",
              "      <td>NaN</td>\n",
              "      <td>0.0</td>\n",
              "      <td>NaN</td>\n",
              "      <td>NaN</td>\n",
              "      <td>NaN</td>\n",
              "      <td>NaN</td>\n",
              "      <td>NaN</td>\n",
              "      <td>...</td>\n",
              "      <td>0.0</td>\n",
              "      <td>0.0</td>\n",
              "      <td>0.0</td>\n",
              "      <td>0.0</td>\n",
              "      <td>0.0</td>\n",
              "      <td>1.0</td>\n",
              "      <td>0.0</td>\n",
              "      <td>0.0</td>\n",
              "      <td>0.0</td>\n",
              "      <td>0.0</td>\n",
              "      <td>0.0</td>\n",
              "      <td>0.0</td>\n",
              "      <td>0.0</td>\n",
              "      <td>0.0</td>\n",
              "      <td>0.0</td>\n",
              "      <td>0.0</td>\n",
              "      <td>0.0</td>\n",
              "      <td>0.0</td>\n",
              "      <td>0.0</td>\n",
              "      <td>0.0</td>\n",
              "      <td>0.0</td>\n",
              "      <td>0.0</td>\n",
              "      <td>NaN</td>\n",
              "      <td>NaN</td>\n",
              "      <td>NaN</td>\n",
              "      <td>NaN</td>\n",
              "      <td>NaN</td>\n",
              "      <td>NaN</td>\n",
              "      <td>NaN</td>\n",
              "      <td>NaN</td>\n",
              "      <td>NaN</td>\n",
              "      <td>NaN</td>\n",
              "      <td>NaN</td>\n",
              "      <td>NaN</td>\n",
              "      <td>NaN</td>\n",
              "      <td>NaN</td>\n",
              "      <td>NaN</td>\n",
              "      <td>NaN</td>\n",
              "      <td>NaN</td>\n",
              "      <td>NaN</td>\n",
              "    </tr>\n",
              "    <tr>\n",
              "      <th>2</th>\n",
              "      <td>2987002</td>\n",
              "      <td>0</td>\n",
              "      <td>86469</td>\n",
              "      <td>59.0</td>\n",
              "      <td>W</td>\n",
              "      <td>4663</td>\n",
              "      <td>490.0</td>\n",
              "      <td>150.0</td>\n",
              "      <td>visa</td>\n",
              "      <td>166.0</td>\n",
              "      <td>debit</td>\n",
              "      <td>330.0</td>\n",
              "      <td>87.0</td>\n",
              "      <td>287.0</td>\n",
              "      <td>NaN</td>\n",
              "      <td>outlook.com</td>\n",
              "      <td>NaN</td>\n",
              "      <td>1.0</td>\n",
              "      <td>1.0</td>\n",
              "      <td>0.0</td>\n",
              "      <td>0.0</td>\n",
              "      <td>0.0</td>\n",
              "      <td>1.0</td>\n",
              "      <td>0.0</td>\n",
              "      <td>0.0</td>\n",
              "      <td>1.0</td>\n",
              "      <td>0.0</td>\n",
              "      <td>1.0</td>\n",
              "      <td>0.0</td>\n",
              "      <td>1.0</td>\n",
              "      <td>1.0</td>\n",
              "      <td>0.0</td>\n",
              "      <td>NaN</td>\n",
              "      <td>NaN</td>\n",
              "      <td>0.0</td>\n",
              "      <td>NaN</td>\n",
              "      <td>NaN</td>\n",
              "      <td>NaN</td>\n",
              "      <td>NaN</td>\n",
              "      <td>NaN</td>\n",
              "      <td>...</td>\n",
              "      <td>0.0</td>\n",
              "      <td>0.0</td>\n",
              "      <td>0.0</td>\n",
              "      <td>0.0</td>\n",
              "      <td>0.0</td>\n",
              "      <td>1.0</td>\n",
              "      <td>0.0</td>\n",
              "      <td>0.0</td>\n",
              "      <td>0.0</td>\n",
              "      <td>0.0</td>\n",
              "      <td>0.0</td>\n",
              "      <td>0.0</td>\n",
              "      <td>0.0</td>\n",
              "      <td>0.0</td>\n",
              "      <td>0.0</td>\n",
              "      <td>0.0</td>\n",
              "      <td>0.0</td>\n",
              "      <td>0.0</td>\n",
              "      <td>0.0</td>\n",
              "      <td>0.0</td>\n",
              "      <td>0.0</td>\n",
              "      <td>0.0</td>\n",
              "      <td>NaN</td>\n",
              "      <td>NaN</td>\n",
              "      <td>NaN</td>\n",
              "      <td>NaN</td>\n",
              "      <td>NaN</td>\n",
              "      <td>NaN</td>\n",
              "      <td>NaN</td>\n",
              "      <td>NaN</td>\n",
              "      <td>NaN</td>\n",
              "      <td>NaN</td>\n",
              "      <td>NaN</td>\n",
              "      <td>NaN</td>\n",
              "      <td>NaN</td>\n",
              "      <td>NaN</td>\n",
              "      <td>NaN</td>\n",
              "      <td>NaN</td>\n",
              "      <td>NaN</td>\n",
              "      <td>NaN</td>\n",
              "    </tr>\n",
              "    <tr>\n",
              "      <th>3</th>\n",
              "      <td>2987003</td>\n",
              "      <td>0</td>\n",
              "      <td>86499</td>\n",
              "      <td>50.0</td>\n",
              "      <td>W</td>\n",
              "      <td>18132</td>\n",
              "      <td>567.0</td>\n",
              "      <td>150.0</td>\n",
              "      <td>mastercard</td>\n",
              "      <td>117.0</td>\n",
              "      <td>debit</td>\n",
              "      <td>476.0</td>\n",
              "      <td>87.0</td>\n",
              "      <td>NaN</td>\n",
              "      <td>NaN</td>\n",
              "      <td>yahoo.com</td>\n",
              "      <td>NaN</td>\n",
              "      <td>2.0</td>\n",
              "      <td>5.0</td>\n",
              "      <td>0.0</td>\n",
              "      <td>0.0</td>\n",
              "      <td>0.0</td>\n",
              "      <td>4.0</td>\n",
              "      <td>0.0</td>\n",
              "      <td>0.0</td>\n",
              "      <td>1.0</td>\n",
              "      <td>0.0</td>\n",
              "      <td>1.0</td>\n",
              "      <td>0.0</td>\n",
              "      <td>25.0</td>\n",
              "      <td>1.0</td>\n",
              "      <td>112.0</td>\n",
              "      <td>112.0</td>\n",
              "      <td>0.0</td>\n",
              "      <td>94.0</td>\n",
              "      <td>0.0</td>\n",
              "      <td>NaN</td>\n",
              "      <td>NaN</td>\n",
              "      <td>NaN</td>\n",
              "      <td>NaN</td>\n",
              "      <td>...</td>\n",
              "      <td>0.0</td>\n",
              "      <td>0.0</td>\n",
              "      <td>0.0</td>\n",
              "      <td>0.0</td>\n",
              "      <td>0.0</td>\n",
              "      <td>1.0</td>\n",
              "      <td>50.0</td>\n",
              "      <td>1758.0</td>\n",
              "      <td>925.0</td>\n",
              "      <td>0.0</td>\n",
              "      <td>354.0</td>\n",
              "      <td>0.0</td>\n",
              "      <td>135.0</td>\n",
              "      <td>0.0</td>\n",
              "      <td>0.0</td>\n",
              "      <td>0.0</td>\n",
              "      <td>50.0</td>\n",
              "      <td>1404.0</td>\n",
              "      <td>790.0</td>\n",
              "      <td>0.0</td>\n",
              "      <td>0.0</td>\n",
              "      <td>0.0</td>\n",
              "      <td>NaN</td>\n",
              "      <td>NaN</td>\n",
              "      <td>NaN</td>\n",
              "      <td>NaN</td>\n",
              "      <td>NaN</td>\n",
              "      <td>NaN</td>\n",
              "      <td>NaN</td>\n",
              "      <td>NaN</td>\n",
              "      <td>NaN</td>\n",
              "      <td>NaN</td>\n",
              "      <td>NaN</td>\n",
              "      <td>NaN</td>\n",
              "      <td>NaN</td>\n",
              "      <td>NaN</td>\n",
              "      <td>NaN</td>\n",
              "      <td>NaN</td>\n",
              "      <td>NaN</td>\n",
              "      <td>NaN</td>\n",
              "    </tr>\n",
              "    <tr>\n",
              "      <th>4</th>\n",
              "      <td>2987004</td>\n",
              "      <td>0</td>\n",
              "      <td>86506</td>\n",
              "      <td>50.0</td>\n",
              "      <td>H</td>\n",
              "      <td>4497</td>\n",
              "      <td>514.0</td>\n",
              "      <td>150.0</td>\n",
              "      <td>mastercard</td>\n",
              "      <td>102.0</td>\n",
              "      <td>credit</td>\n",
              "      <td>420.0</td>\n",
              "      <td>87.0</td>\n",
              "      <td>NaN</td>\n",
              "      <td>NaN</td>\n",
              "      <td>gmail.com</td>\n",
              "      <td>NaN</td>\n",
              "      <td>1.0</td>\n",
              "      <td>1.0</td>\n",
              "      <td>0.0</td>\n",
              "      <td>0.0</td>\n",
              "      <td>0.0</td>\n",
              "      <td>1.0</td>\n",
              "      <td>0.0</td>\n",
              "      <td>1.0</td>\n",
              "      <td>0.0</td>\n",
              "      <td>1.0</td>\n",
              "      <td>1.0</td>\n",
              "      <td>0.0</td>\n",
              "      <td>1.0</td>\n",
              "      <td>1.0</td>\n",
              "      <td>0.0</td>\n",
              "      <td>NaN</td>\n",
              "      <td>NaN</td>\n",
              "      <td>NaN</td>\n",
              "      <td>NaN</td>\n",
              "      <td>NaN</td>\n",
              "      <td>NaN</td>\n",
              "      <td>NaN</td>\n",
              "      <td>NaN</td>\n",
              "      <td>...</td>\n",
              "      <td>0.0</td>\n",
              "      <td>0.0</td>\n",
              "      <td>1.0</td>\n",
              "      <td>1.0</td>\n",
              "      <td>1.0</td>\n",
              "      <td>1.0</td>\n",
              "      <td>0.0</td>\n",
              "      <td>0.0</td>\n",
              "      <td>0.0</td>\n",
              "      <td>0.0</td>\n",
              "      <td>0.0</td>\n",
              "      <td>0.0</td>\n",
              "      <td>0.0</td>\n",
              "      <td>0.0</td>\n",
              "      <td>0.0</td>\n",
              "      <td>0.0</td>\n",
              "      <td>0.0</td>\n",
              "      <td>0.0</td>\n",
              "      <td>0.0</td>\n",
              "      <td>0.0</td>\n",
              "      <td>0.0</td>\n",
              "      <td>0.0</td>\n",
              "      <td>0.0</td>\n",
              "      <td>0.0</td>\n",
              "      <td>0.0</td>\n",
              "      <td>0.0</td>\n",
              "      <td>0.0</td>\n",
              "      <td>0.0</td>\n",
              "      <td>0.0</td>\n",
              "      <td>0.0</td>\n",
              "      <td>0.0</td>\n",
              "      <td>0.0</td>\n",
              "      <td>0.0</td>\n",
              "      <td>0.0</td>\n",
              "      <td>0.0</td>\n",
              "      <td>0.0</td>\n",
              "      <td>0.0</td>\n",
              "      <td>0.0</td>\n",
              "      <td>0.0</td>\n",
              "      <td>0.0</td>\n",
              "    </tr>\n",
              "  </tbody>\n",
              "</table>\n",
              "<p>5 rows × 394 columns</p>\n",
              "</div>"
            ],
            "text/plain": [
              "   TransactionID  isFraud  TransactionDT  ...  V337 V338  V339\n",
              "0        2987000        0          86400  ...   NaN  NaN   NaN\n",
              "1        2987001        0          86401  ...   NaN  NaN   NaN\n",
              "2        2987002        0          86469  ...   NaN  NaN   NaN\n",
              "3        2987003        0          86499  ...   NaN  NaN   NaN\n",
              "4        2987004        0          86506  ...   0.0  0.0   0.0\n",
              "\n",
              "[5 rows x 394 columns]"
            ]
          },
          "metadata": {
            "tags": []
          },
          "execution_count": 4
        }
      ]
    },
    {
      "cell_type": "code",
      "metadata": {
        "id": "m0eLkXOyhrxA",
        "outputId": "b2d77a84-1ed4-48dd-bcd2-df1ae99ae8f8",
        "colab": {
          "base_uri": "https://localhost:8080/",
          "height": 255
        }
      },
      "source": [
        "test.head()"
      ],
      "execution_count": null,
      "outputs": [
        {
          "output_type": "execute_result",
          "data": {
            "text/html": [
              "<div>\n",
              "<style scoped>\n",
              "    .dataframe tbody tr th:only-of-type {\n",
              "        vertical-align: middle;\n",
              "    }\n",
              "\n",
              "    .dataframe tbody tr th {\n",
              "        vertical-align: top;\n",
              "    }\n",
              "\n",
              "    .dataframe thead th {\n",
              "        text-align: right;\n",
              "    }\n",
              "</style>\n",
              "<table border=\"1\" class=\"dataframe\">\n",
              "  <thead>\n",
              "    <tr style=\"text-align: right;\">\n",
              "      <th></th>\n",
              "      <th>TransactionID</th>\n",
              "      <th>isFraud</th>\n",
              "      <th>TransactionDT</th>\n",
              "      <th>TransactionAmt</th>\n",
              "      <th>ProductCD</th>\n",
              "      <th>card1</th>\n",
              "      <th>card2</th>\n",
              "      <th>card3</th>\n",
              "      <th>card4</th>\n",
              "      <th>card5</th>\n",
              "      <th>card6</th>\n",
              "      <th>addr1</th>\n",
              "      <th>addr2</th>\n",
              "      <th>dist1</th>\n",
              "      <th>dist2</th>\n",
              "      <th>P_emaildomain</th>\n",
              "      <th>R_emaildomain</th>\n",
              "      <th>C1</th>\n",
              "      <th>C2</th>\n",
              "      <th>C3</th>\n",
              "      <th>C4</th>\n",
              "      <th>C5</th>\n",
              "      <th>C6</th>\n",
              "      <th>C7</th>\n",
              "      <th>C8</th>\n",
              "      <th>C9</th>\n",
              "      <th>C10</th>\n",
              "      <th>C11</th>\n",
              "      <th>C12</th>\n",
              "      <th>C13</th>\n",
              "      <th>C14</th>\n",
              "      <th>D1</th>\n",
              "      <th>D2</th>\n",
              "      <th>D3</th>\n",
              "      <th>D4</th>\n",
              "      <th>D5</th>\n",
              "      <th>D6</th>\n",
              "      <th>D7</th>\n",
              "      <th>D8</th>\n",
              "      <th>D9</th>\n",
              "      <th>...</th>\n",
              "      <th>V300</th>\n",
              "      <th>V301</th>\n",
              "      <th>V302</th>\n",
              "      <th>V303</th>\n",
              "      <th>V304</th>\n",
              "      <th>V305</th>\n",
              "      <th>V306</th>\n",
              "      <th>V307</th>\n",
              "      <th>V308</th>\n",
              "      <th>V309</th>\n",
              "      <th>V310</th>\n",
              "      <th>V311</th>\n",
              "      <th>V312</th>\n",
              "      <th>V313</th>\n",
              "      <th>V314</th>\n",
              "      <th>V315</th>\n",
              "      <th>V316</th>\n",
              "      <th>V317</th>\n",
              "      <th>V318</th>\n",
              "      <th>V319</th>\n",
              "      <th>V320</th>\n",
              "      <th>V321</th>\n",
              "      <th>V322</th>\n",
              "      <th>V323</th>\n",
              "      <th>V324</th>\n",
              "      <th>V325</th>\n",
              "      <th>V326</th>\n",
              "      <th>V327</th>\n",
              "      <th>V328</th>\n",
              "      <th>V329</th>\n",
              "      <th>V330</th>\n",
              "      <th>V331</th>\n",
              "      <th>V332</th>\n",
              "      <th>V333</th>\n",
              "      <th>V334</th>\n",
              "      <th>V335</th>\n",
              "      <th>V336</th>\n",
              "      <th>V337</th>\n",
              "      <th>V338</th>\n",
              "      <th>V339</th>\n",
              "    </tr>\n",
              "  </thead>\n",
              "  <tbody>\n",
              "    <tr>\n",
              "      <th>0</th>\n",
              "      <td>3287000</td>\n",
              "      <td>1</td>\n",
              "      <td>7415038</td>\n",
              "      <td>226.00</td>\n",
              "      <td>W</td>\n",
              "      <td>12473</td>\n",
              "      <td>555.0</td>\n",
              "      <td>150.0</td>\n",
              "      <td>visa</td>\n",
              "      <td>226.0</td>\n",
              "      <td>credit</td>\n",
              "      <td>299.0</td>\n",
              "      <td>87.0</td>\n",
              "      <td>116.0</td>\n",
              "      <td>NaN</td>\n",
              "      <td>aol.com</td>\n",
              "      <td>NaN</td>\n",
              "      <td>2.0</td>\n",
              "      <td>3.0</td>\n",
              "      <td>0.0</td>\n",
              "      <td>0.0</td>\n",
              "      <td>0.0</td>\n",
              "      <td>5.0</td>\n",
              "      <td>0.0</td>\n",
              "      <td>0.0</td>\n",
              "      <td>3.0</td>\n",
              "      <td>0.0</td>\n",
              "      <td>3.0</td>\n",
              "      <td>2.0</td>\n",
              "      <td>6.0</td>\n",
              "      <td>2.0</td>\n",
              "      <td>4.0</td>\n",
              "      <td>4.0</td>\n",
              "      <td>0.0</td>\n",
              "      <td>4.0</td>\n",
              "      <td>3.0</td>\n",
              "      <td>NaN</td>\n",
              "      <td>NaN</td>\n",
              "      <td>NaN</td>\n",
              "      <td>NaN</td>\n",
              "      <td>...</td>\n",
              "      <td>0.0</td>\n",
              "      <td>0.0</td>\n",
              "      <td>0.0</td>\n",
              "      <td>0.0</td>\n",
              "      <td>0.0</td>\n",
              "      <td>1.0</td>\n",
              "      <td>452.000000</td>\n",
              "      <td>2924.000000</td>\n",
              "      <td>2924.000000</td>\n",
              "      <td>0.0</td>\n",
              "      <td>412.0</td>\n",
              "      <td>0.0</td>\n",
              "      <td>412.0</td>\n",
              "      <td>206.0</td>\n",
              "      <td>412.0</td>\n",
              "      <td>412.0</td>\n",
              "      <td>452.0</td>\n",
              "      <td>2512.0</td>\n",
              "      <td>2512.0</td>\n",
              "      <td>0.000000</td>\n",
              "      <td>0.000000</td>\n",
              "      <td>0.000000</td>\n",
              "      <td>NaN</td>\n",
              "      <td>NaN</td>\n",
              "      <td>NaN</td>\n",
              "      <td>NaN</td>\n",
              "      <td>NaN</td>\n",
              "      <td>NaN</td>\n",
              "      <td>NaN</td>\n",
              "      <td>NaN</td>\n",
              "      <td>NaN</td>\n",
              "      <td>NaN</td>\n",
              "      <td>NaN</td>\n",
              "      <td>NaN</td>\n",
              "      <td>NaN</td>\n",
              "      <td>NaN</td>\n",
              "      <td>NaN</td>\n",
              "      <td>NaN</td>\n",
              "      <td>NaN</td>\n",
              "      <td>NaN</td>\n",
              "    </tr>\n",
              "    <tr>\n",
              "      <th>1</th>\n",
              "      <td>3287001</td>\n",
              "      <td>0</td>\n",
              "      <td>7415054</td>\n",
              "      <td>3072.00</td>\n",
              "      <td>W</td>\n",
              "      <td>15651</td>\n",
              "      <td>417.0</td>\n",
              "      <td>150.0</td>\n",
              "      <td>visa</td>\n",
              "      <td>226.0</td>\n",
              "      <td>debit</td>\n",
              "      <td>330.0</td>\n",
              "      <td>87.0</td>\n",
              "      <td>NaN</td>\n",
              "      <td>NaN</td>\n",
              "      <td>yahoo.com</td>\n",
              "      <td>NaN</td>\n",
              "      <td>1.0</td>\n",
              "      <td>1.0</td>\n",
              "      <td>0.0</td>\n",
              "      <td>0.0</td>\n",
              "      <td>1.0</td>\n",
              "      <td>1.0</td>\n",
              "      <td>0.0</td>\n",
              "      <td>0.0</td>\n",
              "      <td>1.0</td>\n",
              "      <td>0.0</td>\n",
              "      <td>1.0</td>\n",
              "      <td>0.0</td>\n",
              "      <td>1.0</td>\n",
              "      <td>1.0</td>\n",
              "      <td>0.0</td>\n",
              "      <td>NaN</td>\n",
              "      <td>0.0</td>\n",
              "      <td>0.0</td>\n",
              "      <td>0.0</td>\n",
              "      <td>NaN</td>\n",
              "      <td>NaN</td>\n",
              "      <td>NaN</td>\n",
              "      <td>NaN</td>\n",
              "      <td>...</td>\n",
              "      <td>1.0</td>\n",
              "      <td>1.0</td>\n",
              "      <td>0.0</td>\n",
              "      <td>0.0</td>\n",
              "      <td>0.0</td>\n",
              "      <td>1.0</td>\n",
              "      <td>3059.949951</td>\n",
              "      <td>3059.949951</td>\n",
              "      <td>3059.949951</td>\n",
              "      <td>0.0</td>\n",
              "      <td>0.0</td>\n",
              "      <td>0.0</td>\n",
              "      <td>0.0</td>\n",
              "      <td>0.0</td>\n",
              "      <td>0.0</td>\n",
              "      <td>0.0</td>\n",
              "      <td>0.0</td>\n",
              "      <td>0.0</td>\n",
              "      <td>0.0</td>\n",
              "      <td>3059.949951</td>\n",
              "      <td>3059.949951</td>\n",
              "      <td>3059.949951</td>\n",
              "      <td>NaN</td>\n",
              "      <td>NaN</td>\n",
              "      <td>NaN</td>\n",
              "      <td>NaN</td>\n",
              "      <td>NaN</td>\n",
              "      <td>NaN</td>\n",
              "      <td>NaN</td>\n",
              "      <td>NaN</td>\n",
              "      <td>NaN</td>\n",
              "      <td>NaN</td>\n",
              "      <td>NaN</td>\n",
              "      <td>NaN</td>\n",
              "      <td>NaN</td>\n",
              "      <td>NaN</td>\n",
              "      <td>NaN</td>\n",
              "      <td>NaN</td>\n",
              "      <td>NaN</td>\n",
              "      <td>NaN</td>\n",
              "    </tr>\n",
              "    <tr>\n",
              "      <th>2</th>\n",
              "      <td>3287002</td>\n",
              "      <td>0</td>\n",
              "      <td>7415081</td>\n",
              "      <td>319.95</td>\n",
              "      <td>W</td>\n",
              "      <td>13844</td>\n",
              "      <td>583.0</td>\n",
              "      <td>150.0</td>\n",
              "      <td>visa</td>\n",
              "      <td>226.0</td>\n",
              "      <td>credit</td>\n",
              "      <td>126.0</td>\n",
              "      <td>87.0</td>\n",
              "      <td>9.0</td>\n",
              "      <td>NaN</td>\n",
              "      <td>gmail.com</td>\n",
              "      <td>NaN</td>\n",
              "      <td>1.0</td>\n",
              "      <td>1.0</td>\n",
              "      <td>0.0</td>\n",
              "      <td>0.0</td>\n",
              "      <td>1.0</td>\n",
              "      <td>1.0</td>\n",
              "      <td>0.0</td>\n",
              "      <td>0.0</td>\n",
              "      <td>1.0</td>\n",
              "      <td>0.0</td>\n",
              "      <td>1.0</td>\n",
              "      <td>0.0</td>\n",
              "      <td>1.0</td>\n",
              "      <td>1.0</td>\n",
              "      <td>0.0</td>\n",
              "      <td>NaN</td>\n",
              "      <td>0.0</td>\n",
              "      <td>0.0</td>\n",
              "      <td>0.0</td>\n",
              "      <td>NaN</td>\n",
              "      <td>NaN</td>\n",
              "      <td>NaN</td>\n",
              "      <td>NaN</td>\n",
              "      <td>...</td>\n",
              "      <td>1.0</td>\n",
              "      <td>1.0</td>\n",
              "      <td>0.0</td>\n",
              "      <td>0.0</td>\n",
              "      <td>0.0</td>\n",
              "      <td>1.0</td>\n",
              "      <td>319.950012</td>\n",
              "      <td>319.950012</td>\n",
              "      <td>319.950012</td>\n",
              "      <td>0.0</td>\n",
              "      <td>0.0</td>\n",
              "      <td>0.0</td>\n",
              "      <td>0.0</td>\n",
              "      <td>0.0</td>\n",
              "      <td>0.0</td>\n",
              "      <td>0.0</td>\n",
              "      <td>0.0</td>\n",
              "      <td>0.0</td>\n",
              "      <td>0.0</td>\n",
              "      <td>319.950012</td>\n",
              "      <td>319.950012</td>\n",
              "      <td>319.950012</td>\n",
              "      <td>NaN</td>\n",
              "      <td>NaN</td>\n",
              "      <td>NaN</td>\n",
              "      <td>NaN</td>\n",
              "      <td>NaN</td>\n",
              "      <td>NaN</td>\n",
              "      <td>NaN</td>\n",
              "      <td>NaN</td>\n",
              "      <td>NaN</td>\n",
              "      <td>NaN</td>\n",
              "      <td>NaN</td>\n",
              "      <td>NaN</td>\n",
              "      <td>NaN</td>\n",
              "      <td>NaN</td>\n",
              "      <td>NaN</td>\n",
              "      <td>NaN</td>\n",
              "      <td>NaN</td>\n",
              "      <td>NaN</td>\n",
              "    </tr>\n",
              "    <tr>\n",
              "      <th>3</th>\n",
              "      <td>3287003</td>\n",
              "      <td>0</td>\n",
              "      <td>7415111</td>\n",
              "      <td>171.00</td>\n",
              "      <td>W</td>\n",
              "      <td>11556</td>\n",
              "      <td>309.0</td>\n",
              "      <td>150.0</td>\n",
              "      <td>visa</td>\n",
              "      <td>226.0</td>\n",
              "      <td>debit</td>\n",
              "      <td>181.0</td>\n",
              "      <td>87.0</td>\n",
              "      <td>3.0</td>\n",
              "      <td>NaN</td>\n",
              "      <td>anonymous.com</td>\n",
              "      <td>NaN</td>\n",
              "      <td>1.0</td>\n",
              "      <td>1.0</td>\n",
              "      <td>0.0</td>\n",
              "      <td>0.0</td>\n",
              "      <td>0.0</td>\n",
              "      <td>1.0</td>\n",
              "      <td>0.0</td>\n",
              "      <td>0.0</td>\n",
              "      <td>1.0</td>\n",
              "      <td>0.0</td>\n",
              "      <td>1.0</td>\n",
              "      <td>0.0</td>\n",
              "      <td>2.0</td>\n",
              "      <td>1.0</td>\n",
              "      <td>6.0</td>\n",
              "      <td>6.0</td>\n",
              "      <td>6.0</td>\n",
              "      <td>6.0</td>\n",
              "      <td>6.0</td>\n",
              "      <td>NaN</td>\n",
              "      <td>NaN</td>\n",
              "      <td>NaN</td>\n",
              "      <td>NaN</td>\n",
              "      <td>...</td>\n",
              "      <td>0.0</td>\n",
              "      <td>0.0</td>\n",
              "      <td>0.0</td>\n",
              "      <td>0.0</td>\n",
              "      <td>0.0</td>\n",
              "      <td>1.0</td>\n",
              "      <td>0.000000</td>\n",
              "      <td>59.000000</td>\n",
              "      <td>59.000000</td>\n",
              "      <td>0.0</td>\n",
              "      <td>59.0</td>\n",
              "      <td>0.0</td>\n",
              "      <td>59.0</td>\n",
              "      <td>59.0</td>\n",
              "      <td>59.0</td>\n",
              "      <td>59.0</td>\n",
              "      <td>0.0</td>\n",
              "      <td>0.0</td>\n",
              "      <td>0.0</td>\n",
              "      <td>0.000000</td>\n",
              "      <td>0.000000</td>\n",
              "      <td>0.000000</td>\n",
              "      <td>NaN</td>\n",
              "      <td>NaN</td>\n",
              "      <td>NaN</td>\n",
              "      <td>NaN</td>\n",
              "      <td>NaN</td>\n",
              "      <td>NaN</td>\n",
              "      <td>NaN</td>\n",
              "      <td>NaN</td>\n",
              "      <td>NaN</td>\n",
              "      <td>NaN</td>\n",
              "      <td>NaN</td>\n",
              "      <td>NaN</td>\n",
              "      <td>NaN</td>\n",
              "      <td>NaN</td>\n",
              "      <td>NaN</td>\n",
              "      <td>NaN</td>\n",
              "      <td>NaN</td>\n",
              "      <td>NaN</td>\n",
              "    </tr>\n",
              "    <tr>\n",
              "      <th>4</th>\n",
              "      <td>3287004</td>\n",
              "      <td>0</td>\n",
              "      <td>7415112</td>\n",
              "      <td>107.95</td>\n",
              "      <td>W</td>\n",
              "      <td>10985</td>\n",
              "      <td>555.0</td>\n",
              "      <td>150.0</td>\n",
              "      <td>visa</td>\n",
              "      <td>226.0</td>\n",
              "      <td>debit</td>\n",
              "      <td>231.0</td>\n",
              "      <td>87.0</td>\n",
              "      <td>0.0</td>\n",
              "      <td>NaN</td>\n",
              "      <td>anonymous.com</td>\n",
              "      <td>NaN</td>\n",
              "      <td>2.0</td>\n",
              "      <td>1.0</td>\n",
              "      <td>0.0</td>\n",
              "      <td>0.0</td>\n",
              "      <td>1.0</td>\n",
              "      <td>1.0</td>\n",
              "      <td>0.0</td>\n",
              "      <td>0.0</td>\n",
              "      <td>2.0</td>\n",
              "      <td>0.0</td>\n",
              "      <td>1.0</td>\n",
              "      <td>0.0</td>\n",
              "      <td>10.0</td>\n",
              "      <td>2.0</td>\n",
              "      <td>0.0</td>\n",
              "      <td>NaN</td>\n",
              "      <td>NaN</td>\n",
              "      <td>0.0</td>\n",
              "      <td>NaN</td>\n",
              "      <td>NaN</td>\n",
              "      <td>NaN</td>\n",
              "      <td>NaN</td>\n",
              "      <td>NaN</td>\n",
              "      <td>...</td>\n",
              "      <td>0.0</td>\n",
              "      <td>0.0</td>\n",
              "      <td>0.0</td>\n",
              "      <td>0.0</td>\n",
              "      <td>0.0</td>\n",
              "      <td>1.0</td>\n",
              "      <td>0.000000</td>\n",
              "      <td>0.000000</td>\n",
              "      <td>0.000000</td>\n",
              "      <td>0.0</td>\n",
              "      <td>0.0</td>\n",
              "      <td>0.0</td>\n",
              "      <td>0.0</td>\n",
              "      <td>0.0</td>\n",
              "      <td>0.0</td>\n",
              "      <td>0.0</td>\n",
              "      <td>0.0</td>\n",
              "      <td>0.0</td>\n",
              "      <td>0.0</td>\n",
              "      <td>0.000000</td>\n",
              "      <td>0.000000</td>\n",
              "      <td>0.000000</td>\n",
              "      <td>NaN</td>\n",
              "      <td>NaN</td>\n",
              "      <td>NaN</td>\n",
              "      <td>NaN</td>\n",
              "      <td>NaN</td>\n",
              "      <td>NaN</td>\n",
              "      <td>NaN</td>\n",
              "      <td>NaN</td>\n",
              "      <td>NaN</td>\n",
              "      <td>NaN</td>\n",
              "      <td>NaN</td>\n",
              "      <td>NaN</td>\n",
              "      <td>NaN</td>\n",
              "      <td>NaN</td>\n",
              "      <td>NaN</td>\n",
              "      <td>NaN</td>\n",
              "      <td>NaN</td>\n",
              "      <td>NaN</td>\n",
              "    </tr>\n",
              "  </tbody>\n",
              "</table>\n",
              "<p>5 rows × 394 columns</p>\n",
              "</div>"
            ],
            "text/plain": [
              "   TransactionID  isFraud  TransactionDT  ...  V337 V338  V339\n",
              "0        3287000        1        7415038  ...   NaN  NaN   NaN\n",
              "1        3287001        0        7415054  ...   NaN  NaN   NaN\n",
              "2        3287002        0        7415081  ...   NaN  NaN   NaN\n",
              "3        3287003        0        7415111  ...   NaN  NaN   NaN\n",
              "4        3287004        0        7415112  ...   NaN  NaN   NaN\n",
              "\n",
              "[5 rows x 394 columns]"
            ]
          },
          "metadata": {
            "tags": []
          },
          "execution_count": 5
        }
      ]
    },
    {
      "cell_type": "code",
      "metadata": {
        "id": "4Fk2lgYapF9o"
      },
      "source": [
        "def get_numerical_features(df):\n",
        "    numerical_features = df.select_dtypes(include=[np.number])\n",
        "    return numerical_features\n"
      ],
      "execution_count": null,
      "outputs": []
    },
    {
      "cell_type": "code",
      "metadata": {
        "id": "g0sgcQRRhrrd",
        "outputId": "75b586f7-f243-4069-ea10-4dc6b55fadc0",
        "colab": {
          "base_uri": "https://localhost:8080/"
        }
      },
      "source": [
        "x_train = (train.drop([\"isFraud\"], axis=1))\n",
        "y_train = train[\"isFraud\"]\n",
        "\n",
        "x_test = (test.drop([\"isFraud\"], axis=1))\n",
        "y_test = test[\"isFraud\"]\n",
        "\n",
        "print(\"x_train.shape = {} rows, {} cols\".format(*x_train.shape))\n",
        "print(\"x_test.shape = {} rows, {} cols\".format(*x_test.shape))\n",
        "print(\"y_train.shape = {} rows\".format(*y_train.shape))\n",
        "print(\"y_test.shape = {} rows\".format(*y_test.shape))"
      ],
      "execution_count": null,
      "outputs": [
        {
          "output_type": "stream",
          "text": [
            "x_train.shape = 180000 rows, 393 cols\n",
            "x_test.shape = 100001 rows, 393 cols\n",
            "y_train.shape = 180000 rows\n",
            "y_test.shape = 100001 rows\n"
          ],
          "name": "stdout"
        }
      ]
    },
    {
      "cell_type": "code",
      "metadata": {
        "id": "c0EMT5u8ku5v",
        "outputId": "89355294-f616-495c-856a-b05a3979d1de",
        "colab": {
          "base_uri": "https://localhost:8080/"
        }
      },
      "source": [
        "x_train_numF = get_numerical_features(x_train)\n",
        "x_test_numF = get_numerical_features(x_test)\n",
        "\n",
        "print(\"x_train_numF.shape = {} rows, {} cols\".format(*x_train_numF.shape))\n",
        "print(\"x_test_numF.shape = {} rows, {} cols\".format(*x_test_numF.shape))"
      ],
      "execution_count": null,
      "outputs": [
        {
          "output_type": "stream",
          "text": [
            "x_train_numF.shape = 180000 rows, 379 cols\n",
            "x_test_numF.shape = 100001 rows, 379 cols\n"
          ],
          "name": "stdout"
        }
      ]
    },
    {
      "cell_type": "code",
      "metadata": {
        "id": "L5em-TvZkuoE"
      },
      "source": [
        ""
      ],
      "execution_count": null,
      "outputs": []
    },
    {
      "cell_type": "code",
      "metadata": {
        "id": "gpXyrsuPhrjI"
      },
      "source": [
        "params = {\n",
        "    \"booster\": \"gbtree\", # параметр надо было указать по условию\n",
        "    \"objective\": \"binary:logistic\",\n",
        "    \"eval_metric\": \"auc\",\n",
        "    \"learning_rate\": 0.1,\n",
        "    \"n_estimators\": 1000,\n",
        "    \"reg_lambda\": 100,\n",
        "    \"max_depth\": 4,\n",
        "    \"gamma\": 10,\n",
        "    \"nthread\": 6,\n",
        "    \"seed\": 27\n",
        "}"
      ],
      "execution_count": null,
      "outputs": []
    },
    {
      "cell_type": "code",
      "metadata": {
        "id": "ZhxdTrYshrVI"
      },
      "source": [
        "dtrain = xgb.DMatrix(\n",
        "    data=x_train_numF, label=y_train\n",
        ")\n",
        "dtest = xgb.DMatrix(\n",
        "    data=x_test_numF, label=y_test\n",
        ")"
      ],
      "execution_count": null,
      "outputs": []
    },
    {
      "cell_type": "code",
      "metadata": {
        "id": "AY373c5EhrEh",
        "outputId": "675cae05-596e-4a22-9c6e-3d733f30e0a2",
        "colab": {
          "base_uri": "https://localhost:8080/"
        }
      },
      "source": [
        "model = xgb.train(\n",
        "    params=params,\n",
        "    dtrain=dtrain,\n",
        "    num_boost_round=1000,\n",
        "    early_stopping_rounds=25, # параметр надо было указать по условию\n",
        "    evals=[(dtrain, \"train\"), (dtest, \"test\")],\n",
        "    verbose_eval=10,\n",
        "    maximize=True,\n",
        ")"
      ],
      "execution_count": null,
      "outputs": [
        {
          "output_type": "stream",
          "text": [
            "[0]\ttrain-auc:0.649994\ttest-auc:0.622395\n",
            "Multiple eval metrics have been passed: 'test-auc' will be used for early stopping.\n",
            "\n",
            "Will train until test-auc hasn't improved in 25 rounds.\n",
            "[10]\ttrain-auc:0.796563\ttest-auc:0.757654\n",
            "[20]\ttrain-auc:0.821853\ttest-auc:0.779933\n",
            "[30]\ttrain-auc:0.859826\ttest-auc:0.838631\n",
            "[40]\ttrain-auc:0.873315\ttest-auc:0.845025\n",
            "[50]\ttrain-auc:0.88296\ttest-auc:0.851648\n",
            "[60]\ttrain-auc:0.889123\ttest-auc:0.85419\n",
            "[70]\ttrain-auc:0.892057\ttest-auc:0.85561\n",
            "[80]\ttrain-auc:0.895291\ttest-auc:0.855624\n",
            "[90]\ttrain-auc:0.898215\ttest-auc:0.855689\n",
            "[100]\ttrain-auc:0.900233\ttest-auc:0.856056\n",
            "[110]\ttrain-auc:0.902067\ttest-auc:0.857245\n",
            "[120]\ttrain-auc:0.903725\ttest-auc:0.857625\n",
            "[130]\ttrain-auc:0.905522\ttest-auc:0.85812\n",
            "[140]\ttrain-auc:0.906922\ttest-auc:0.858554\n",
            "[150]\ttrain-auc:0.908217\ttest-auc:0.858206\n",
            "[160]\ttrain-auc:0.909769\ttest-auc:0.858654\n",
            "[170]\ttrain-auc:0.9107\ttest-auc:0.859111\n",
            "[180]\ttrain-auc:0.911692\ttest-auc:0.859646\n",
            "[190]\ttrain-auc:0.912081\ttest-auc:0.859833\n",
            "[200]\ttrain-auc:0.91227\ttest-auc:0.859834\n",
            "Stopping. Best iteration:\n",
            "[182]\ttrain-auc:0.911963\ttest-auc:0.859842\n",
            "\n"
          ],
          "name": "stdout"
        }
      ]
    },
    {
      "cell_type": "code",
      "metadata": {
        "id": "Ua4qZJRbGFbJ"
      },
      "source": [
        "train_xgb_num = model.predict(dtrain)\n",
        "test_xgb_num = model.predict(dtest)"
      ],
      "execution_count": null,
      "outputs": []
    },
    {
      "cell_type": "code",
      "metadata": {
        "id": "KPeuGniG2gSg"
      },
      "source": [
        ""
      ],
      "execution_count": null,
      "outputs": []
    },
    {
      "cell_type": "markdown",
      "metadata": {
        "id": "Pxy17zOAczH1"
      },
      "source": [
        "Задание 2: обработать категориальные признаки любым способом (который вы знаете) и добавить их к данным. Выполнить задание 1.\n",
        "\n",
        "\n"
      ]
    },
    {
      "cell_type": "code",
      "metadata": {
        "id": "9u-BUzXgczrD"
      },
      "source": [
        "def get_categorical_features(df):\n",
        "    categorical_features = df.select_dtypes(include=[np.object])\n",
        "    return categorical_features\n"
      ],
      "execution_count": null,
      "outputs": []
    },
    {
      "cell_type": "code",
      "metadata": {
        "id": "xiIofVqRczn9",
        "outputId": "e36623f7-6d94-45b8-ba61-379afdc9edaf",
        "colab": {
          "base_uri": "https://localhost:8080/"
        }
      },
      "source": [
        "x_train_catF = get_categorical_features(train)\n",
        "x_test_catF = get_categorical_features(test)\n",
        "\n",
        "print(\"x_train_catF.shape = {} rows, {} cols\".format(*x_train_catF.shape))\n",
        "print(\"x_test_catF.shape = {} rows, {} cols\".format(*x_test_catF.shape))"
      ],
      "execution_count": null,
      "outputs": [
        {
          "output_type": "stream",
          "text": [
            "x_train_catF.shape = 180000 rows, 14 cols\n",
            "x_test_catF.shape = 100001 rows, 14 cols\n"
          ],
          "name": "stdout"
        }
      ]
    },
    {
      "cell_type": "code",
      "metadata": {
        "id": "fb6qZ9D-HDX5",
        "outputId": "60eb5a1a-35e4-49fb-c7f8-c42e9187d601",
        "colab": {
          "base_uri": "https://localhost:8080/",
          "height": 677
        }
      },
      "source": [
        "x_train_catF.head(20)"
      ],
      "execution_count": null,
      "outputs": [
        {
          "output_type": "execute_result",
          "data": {
            "text/html": [
              "<div>\n",
              "<style scoped>\n",
              "    .dataframe tbody tr th:only-of-type {\n",
              "        vertical-align: middle;\n",
              "    }\n",
              "\n",
              "    .dataframe tbody tr th {\n",
              "        vertical-align: top;\n",
              "    }\n",
              "\n",
              "    .dataframe thead th {\n",
              "        text-align: right;\n",
              "    }\n",
              "</style>\n",
              "<table border=\"1\" class=\"dataframe\">\n",
              "  <thead>\n",
              "    <tr style=\"text-align: right;\">\n",
              "      <th></th>\n",
              "      <th>ProductCD</th>\n",
              "      <th>card4</th>\n",
              "      <th>card6</th>\n",
              "      <th>P_emaildomain</th>\n",
              "      <th>R_emaildomain</th>\n",
              "      <th>M1</th>\n",
              "      <th>M2</th>\n",
              "      <th>M3</th>\n",
              "      <th>M4</th>\n",
              "      <th>M5</th>\n",
              "      <th>M6</th>\n",
              "      <th>M7</th>\n",
              "      <th>M8</th>\n",
              "      <th>M9</th>\n",
              "    </tr>\n",
              "  </thead>\n",
              "  <tbody>\n",
              "    <tr>\n",
              "      <th>0</th>\n",
              "      <td>W</td>\n",
              "      <td>discover</td>\n",
              "      <td>credit</td>\n",
              "      <td>NaN</td>\n",
              "      <td>NaN</td>\n",
              "      <td>T</td>\n",
              "      <td>T</td>\n",
              "      <td>T</td>\n",
              "      <td>M2</td>\n",
              "      <td>F</td>\n",
              "      <td>T</td>\n",
              "      <td>NaN</td>\n",
              "      <td>NaN</td>\n",
              "      <td>NaN</td>\n",
              "    </tr>\n",
              "    <tr>\n",
              "      <th>1</th>\n",
              "      <td>W</td>\n",
              "      <td>mastercard</td>\n",
              "      <td>credit</td>\n",
              "      <td>gmail.com</td>\n",
              "      <td>NaN</td>\n",
              "      <td>NaN</td>\n",
              "      <td>NaN</td>\n",
              "      <td>NaN</td>\n",
              "      <td>M0</td>\n",
              "      <td>T</td>\n",
              "      <td>T</td>\n",
              "      <td>NaN</td>\n",
              "      <td>NaN</td>\n",
              "      <td>NaN</td>\n",
              "    </tr>\n",
              "    <tr>\n",
              "      <th>2</th>\n",
              "      <td>W</td>\n",
              "      <td>visa</td>\n",
              "      <td>debit</td>\n",
              "      <td>outlook.com</td>\n",
              "      <td>NaN</td>\n",
              "      <td>T</td>\n",
              "      <td>T</td>\n",
              "      <td>T</td>\n",
              "      <td>M0</td>\n",
              "      <td>F</td>\n",
              "      <td>F</td>\n",
              "      <td>F</td>\n",
              "      <td>F</td>\n",
              "      <td>F</td>\n",
              "    </tr>\n",
              "    <tr>\n",
              "      <th>3</th>\n",
              "      <td>W</td>\n",
              "      <td>mastercard</td>\n",
              "      <td>debit</td>\n",
              "      <td>yahoo.com</td>\n",
              "      <td>NaN</td>\n",
              "      <td>NaN</td>\n",
              "      <td>NaN</td>\n",
              "      <td>NaN</td>\n",
              "      <td>M0</td>\n",
              "      <td>T</td>\n",
              "      <td>F</td>\n",
              "      <td>NaN</td>\n",
              "      <td>NaN</td>\n",
              "      <td>NaN</td>\n",
              "    </tr>\n",
              "    <tr>\n",
              "      <th>4</th>\n",
              "      <td>H</td>\n",
              "      <td>mastercard</td>\n",
              "      <td>credit</td>\n",
              "      <td>gmail.com</td>\n",
              "      <td>NaN</td>\n",
              "      <td>NaN</td>\n",
              "      <td>NaN</td>\n",
              "      <td>NaN</td>\n",
              "      <td>NaN</td>\n",
              "      <td>NaN</td>\n",
              "      <td>NaN</td>\n",
              "      <td>NaN</td>\n",
              "      <td>NaN</td>\n",
              "      <td>NaN</td>\n",
              "    </tr>\n",
              "    <tr>\n",
              "      <th>5</th>\n",
              "      <td>W</td>\n",
              "      <td>visa</td>\n",
              "      <td>debit</td>\n",
              "      <td>gmail.com</td>\n",
              "      <td>NaN</td>\n",
              "      <td>T</td>\n",
              "      <td>T</td>\n",
              "      <td>T</td>\n",
              "      <td>M1</td>\n",
              "      <td>F</td>\n",
              "      <td>T</td>\n",
              "      <td>NaN</td>\n",
              "      <td>NaN</td>\n",
              "      <td>NaN</td>\n",
              "    </tr>\n",
              "    <tr>\n",
              "      <th>6</th>\n",
              "      <td>W</td>\n",
              "      <td>visa</td>\n",
              "      <td>debit</td>\n",
              "      <td>yahoo.com</td>\n",
              "      <td>NaN</td>\n",
              "      <td>T</td>\n",
              "      <td>T</td>\n",
              "      <td>T</td>\n",
              "      <td>M0</td>\n",
              "      <td>F</td>\n",
              "      <td>F</td>\n",
              "      <td>T</td>\n",
              "      <td>T</td>\n",
              "      <td>T</td>\n",
              "    </tr>\n",
              "    <tr>\n",
              "      <th>7</th>\n",
              "      <td>W</td>\n",
              "      <td>visa</td>\n",
              "      <td>debit</td>\n",
              "      <td>mail.com</td>\n",
              "      <td>NaN</td>\n",
              "      <td>NaN</td>\n",
              "      <td>NaN</td>\n",
              "      <td>NaN</td>\n",
              "      <td>M0</td>\n",
              "      <td>F</td>\n",
              "      <td>F</td>\n",
              "      <td>NaN</td>\n",
              "      <td>NaN</td>\n",
              "      <td>NaN</td>\n",
              "    </tr>\n",
              "    <tr>\n",
              "      <th>8</th>\n",
              "      <td>H</td>\n",
              "      <td>visa</td>\n",
              "      <td>debit</td>\n",
              "      <td>anonymous.com</td>\n",
              "      <td>NaN</td>\n",
              "      <td>NaN</td>\n",
              "      <td>NaN</td>\n",
              "      <td>NaN</td>\n",
              "      <td>NaN</td>\n",
              "      <td>NaN</td>\n",
              "      <td>NaN</td>\n",
              "      <td>NaN</td>\n",
              "      <td>NaN</td>\n",
              "      <td>NaN</td>\n",
              "    </tr>\n",
              "    <tr>\n",
              "      <th>9</th>\n",
              "      <td>W</td>\n",
              "      <td>mastercard</td>\n",
              "      <td>debit</td>\n",
              "      <td>yahoo.com</td>\n",
              "      <td>NaN</td>\n",
              "      <td>T</td>\n",
              "      <td>T</td>\n",
              "      <td>T</td>\n",
              "      <td>M0</td>\n",
              "      <td>T</td>\n",
              "      <td>T</td>\n",
              "      <td>NaN</td>\n",
              "      <td>NaN</td>\n",
              "      <td>NaN</td>\n",
              "    </tr>\n",
              "    <tr>\n",
              "      <th>10</th>\n",
              "      <td>C</td>\n",
              "      <td>mastercard</td>\n",
              "      <td>credit</td>\n",
              "      <td>gmail.com</td>\n",
              "      <td>gmail.com</td>\n",
              "      <td>NaN</td>\n",
              "      <td>NaN</td>\n",
              "      <td>NaN</td>\n",
              "      <td>M0</td>\n",
              "      <td>NaN</td>\n",
              "      <td>NaN</td>\n",
              "      <td>NaN</td>\n",
              "      <td>NaN</td>\n",
              "      <td>NaN</td>\n",
              "    </tr>\n",
              "    <tr>\n",
              "      <th>11</th>\n",
              "      <td>C</td>\n",
              "      <td>mastercard</td>\n",
              "      <td>debit</td>\n",
              "      <td>hotmail.com</td>\n",
              "      <td>hotmail.com</td>\n",
              "      <td>NaN</td>\n",
              "      <td>NaN</td>\n",
              "      <td>NaN</td>\n",
              "      <td>M0</td>\n",
              "      <td>NaN</td>\n",
              "      <td>NaN</td>\n",
              "      <td>NaN</td>\n",
              "      <td>NaN</td>\n",
              "      <td>NaN</td>\n",
              "    </tr>\n",
              "    <tr>\n",
              "      <th>12</th>\n",
              "      <td>W</td>\n",
              "      <td>visa</td>\n",
              "      <td>debit</td>\n",
              "      <td>verizon.net</td>\n",
              "      <td>NaN</td>\n",
              "      <td>NaN</td>\n",
              "      <td>NaN</td>\n",
              "      <td>NaN</td>\n",
              "      <td>M1</td>\n",
              "      <td>F</td>\n",
              "      <td>F</td>\n",
              "      <td>NaN</td>\n",
              "      <td>NaN</td>\n",
              "      <td>NaN</td>\n",
              "    </tr>\n",
              "    <tr>\n",
              "      <th>13</th>\n",
              "      <td>W</td>\n",
              "      <td>visa</td>\n",
              "      <td>debit</td>\n",
              "      <td>aol.com</td>\n",
              "      <td>NaN</td>\n",
              "      <td>NaN</td>\n",
              "      <td>NaN</td>\n",
              "      <td>NaN</td>\n",
              "      <td>NaN</td>\n",
              "      <td>NaN</td>\n",
              "      <td>F</td>\n",
              "      <td>NaN</td>\n",
              "      <td>NaN</td>\n",
              "      <td>NaN</td>\n",
              "    </tr>\n",
              "    <tr>\n",
              "      <th>14</th>\n",
              "      <td>W</td>\n",
              "      <td>visa</td>\n",
              "      <td>debit</td>\n",
              "      <td>yahoo.com</td>\n",
              "      <td>NaN</td>\n",
              "      <td>NaN</td>\n",
              "      <td>NaN</td>\n",
              "      <td>NaN</td>\n",
              "      <td>M0</td>\n",
              "      <td>F</td>\n",
              "      <td>F</td>\n",
              "      <td>NaN</td>\n",
              "      <td>NaN</td>\n",
              "      <td>NaN</td>\n",
              "    </tr>\n",
              "    <tr>\n",
              "      <th>15</th>\n",
              "      <td>W</td>\n",
              "      <td>visa</td>\n",
              "      <td>debit</td>\n",
              "      <td>NaN</td>\n",
              "      <td>NaN</td>\n",
              "      <td>T</td>\n",
              "      <td>T</td>\n",
              "      <td>F</td>\n",
              "      <td>NaN</td>\n",
              "      <td>NaN</td>\n",
              "      <td>F</td>\n",
              "      <td>F</td>\n",
              "      <td>F</td>\n",
              "      <td>T</td>\n",
              "    </tr>\n",
              "    <tr>\n",
              "      <th>16</th>\n",
              "      <td>H</td>\n",
              "      <td>visa</td>\n",
              "      <td>debit</td>\n",
              "      <td>aol.com</td>\n",
              "      <td>NaN</td>\n",
              "      <td>NaN</td>\n",
              "      <td>NaN</td>\n",
              "      <td>NaN</td>\n",
              "      <td>NaN</td>\n",
              "      <td>NaN</td>\n",
              "      <td>NaN</td>\n",
              "      <td>NaN</td>\n",
              "      <td>NaN</td>\n",
              "      <td>NaN</td>\n",
              "    </tr>\n",
              "    <tr>\n",
              "      <th>17</th>\n",
              "      <td>H</td>\n",
              "      <td>mastercard</td>\n",
              "      <td>credit</td>\n",
              "      <td>yahoo.com</td>\n",
              "      <td>NaN</td>\n",
              "      <td>NaN</td>\n",
              "      <td>NaN</td>\n",
              "      <td>NaN</td>\n",
              "      <td>NaN</td>\n",
              "      <td>NaN</td>\n",
              "      <td>NaN</td>\n",
              "      <td>NaN</td>\n",
              "      <td>NaN</td>\n",
              "      <td>NaN</td>\n",
              "    </tr>\n",
              "    <tr>\n",
              "      <th>18</th>\n",
              "      <td>W</td>\n",
              "      <td>visa</td>\n",
              "      <td>debit</td>\n",
              "      <td>gmail.com</td>\n",
              "      <td>NaN</td>\n",
              "      <td>T</td>\n",
              "      <td>T</td>\n",
              "      <td>F</td>\n",
              "      <td>NaN</td>\n",
              "      <td>NaN</td>\n",
              "      <td>F</td>\n",
              "      <td>F</td>\n",
              "      <td>T</td>\n",
              "      <td>T</td>\n",
              "    </tr>\n",
              "    <tr>\n",
              "      <th>19</th>\n",
              "      <td>W</td>\n",
              "      <td>visa</td>\n",
              "      <td>debit</td>\n",
              "      <td>gmail.com</td>\n",
              "      <td>NaN</td>\n",
              "      <td>NaN</td>\n",
              "      <td>NaN</td>\n",
              "      <td>NaN</td>\n",
              "      <td>M1</td>\n",
              "      <td>F</td>\n",
              "      <td>F</td>\n",
              "      <td>NaN</td>\n",
              "      <td>NaN</td>\n",
              "      <td>NaN</td>\n",
              "    </tr>\n",
              "  </tbody>\n",
              "</table>\n",
              "</div>"
            ],
            "text/plain": [
              "   ProductCD       card4   card6  P_emaildomain  ...   M6   M7   M8   M9\n",
              "0          W    discover  credit            NaN  ...    T  NaN  NaN  NaN\n",
              "1          W  mastercard  credit      gmail.com  ...    T  NaN  NaN  NaN\n",
              "2          W        visa   debit    outlook.com  ...    F    F    F    F\n",
              "3          W  mastercard   debit      yahoo.com  ...    F  NaN  NaN  NaN\n",
              "4          H  mastercard  credit      gmail.com  ...  NaN  NaN  NaN  NaN\n",
              "5          W        visa   debit      gmail.com  ...    T  NaN  NaN  NaN\n",
              "6          W        visa   debit      yahoo.com  ...    F    T    T    T\n",
              "7          W        visa   debit       mail.com  ...    F  NaN  NaN  NaN\n",
              "8          H        visa   debit  anonymous.com  ...  NaN  NaN  NaN  NaN\n",
              "9          W  mastercard   debit      yahoo.com  ...    T  NaN  NaN  NaN\n",
              "10         C  mastercard  credit      gmail.com  ...  NaN  NaN  NaN  NaN\n",
              "11         C  mastercard   debit    hotmail.com  ...  NaN  NaN  NaN  NaN\n",
              "12         W        visa   debit    verizon.net  ...    F  NaN  NaN  NaN\n",
              "13         W        visa   debit        aol.com  ...    F  NaN  NaN  NaN\n",
              "14         W        visa   debit      yahoo.com  ...    F  NaN  NaN  NaN\n",
              "15         W        visa   debit            NaN  ...    F    F    F    T\n",
              "16         H        visa   debit        aol.com  ...  NaN  NaN  NaN  NaN\n",
              "17         H  mastercard  credit      yahoo.com  ...  NaN  NaN  NaN  NaN\n",
              "18         W        visa   debit      gmail.com  ...    F    F    T    T\n",
              "19         W        visa   debit      gmail.com  ...    F  NaN  NaN  NaN\n",
              "\n",
              "[20 rows x 14 columns]"
            ]
          },
          "metadata": {
            "tags": []
          },
          "execution_count": 15
        }
      ]
    },
    {
      "cell_type": "code",
      "metadata": {
        "id": "iADdt4VAB8lj",
        "outputId": "398aa295-1a2c-4911-a830-bd236b62526d",
        "colab": {
          "base_uri": "https://localhost:8080/",
          "height": 112
        }
      },
      "source": [
        "x_test_catF.head(2)"
      ],
      "execution_count": null,
      "outputs": [
        {
          "output_type": "execute_result",
          "data": {
            "text/html": [
              "<div>\n",
              "<style scoped>\n",
              "    .dataframe tbody tr th:only-of-type {\n",
              "        vertical-align: middle;\n",
              "    }\n",
              "\n",
              "    .dataframe tbody tr th {\n",
              "        vertical-align: top;\n",
              "    }\n",
              "\n",
              "    .dataframe thead th {\n",
              "        text-align: right;\n",
              "    }\n",
              "</style>\n",
              "<table border=\"1\" class=\"dataframe\">\n",
              "  <thead>\n",
              "    <tr style=\"text-align: right;\">\n",
              "      <th></th>\n",
              "      <th>ProductCD</th>\n",
              "      <th>card4</th>\n",
              "      <th>card6</th>\n",
              "      <th>P_emaildomain</th>\n",
              "      <th>R_emaildomain</th>\n",
              "      <th>M1</th>\n",
              "      <th>M2</th>\n",
              "      <th>M3</th>\n",
              "      <th>M4</th>\n",
              "      <th>M5</th>\n",
              "      <th>M6</th>\n",
              "      <th>M7</th>\n",
              "      <th>M8</th>\n",
              "      <th>M9</th>\n",
              "    </tr>\n",
              "  </thead>\n",
              "  <tbody>\n",
              "    <tr>\n",
              "      <th>0</th>\n",
              "      <td>W</td>\n",
              "      <td>visa</td>\n",
              "      <td>credit</td>\n",
              "      <td>aol.com</td>\n",
              "      <td>NaN</td>\n",
              "      <td>T</td>\n",
              "      <td>T</td>\n",
              "      <td>F</td>\n",
              "      <td>M0</td>\n",
              "      <td>T</td>\n",
              "      <td>F</td>\n",
              "      <td>F</td>\n",
              "      <td>F</td>\n",
              "      <td>T</td>\n",
              "    </tr>\n",
              "    <tr>\n",
              "      <th>1</th>\n",
              "      <td>W</td>\n",
              "      <td>visa</td>\n",
              "      <td>debit</td>\n",
              "      <td>yahoo.com</td>\n",
              "      <td>NaN</td>\n",
              "      <td>NaN</td>\n",
              "      <td>NaN</td>\n",
              "      <td>NaN</td>\n",
              "      <td>NaN</td>\n",
              "      <td>NaN</td>\n",
              "      <td>T</td>\n",
              "      <td>NaN</td>\n",
              "      <td>NaN</td>\n",
              "      <td>NaN</td>\n",
              "    </tr>\n",
              "  </tbody>\n",
              "</table>\n",
              "</div>"
            ],
            "text/plain": [
              "  ProductCD card4   card6 P_emaildomain R_emaildomain  ...   M5 M6   M7   M8   M9\n",
              "0         W  visa  credit       aol.com           NaN  ...    T  F    F    F    T\n",
              "1         W  visa   debit     yahoo.com           NaN  ...  NaN  T  NaN  NaN  NaN\n",
              "\n",
              "[2 rows x 14 columns]"
            ]
          },
          "metadata": {
            "tags": []
          },
          "execution_count": 16
        }
      ]
    },
    {
      "cell_type": "code",
      "metadata": {
        "id": "Cb1-3DecHDKQ",
        "outputId": "75fb7c93-3bae-4c7f-a0fe-80d8800a164c",
        "colab": {
          "base_uri": "https://localhost:8080/",
          "height": 560
        }
      },
      "source": [
        "msno.matrix(x_train_catF)"
      ],
      "execution_count": null,
      "outputs": [
        {
          "output_type": "execute_result",
          "data": {
            "text/plain": [
              "<matplotlib.axes._subplots.AxesSubplot at 0x7f0995cf99e8>"
            ]
          },
          "metadata": {
            "tags": []
          },
          "execution_count": 17
        },
        {
          "output_type": "display_data",
          "data": {
            "image/png": "[encoded data removed]",
            "text/plain": [
              "<Figure size 1800x720 with 2 Axes>"
            ]
          },
          "metadata": {
            "tags": [],
            "needs_background": "light"
          }
        }
      ]
    },
    {
      "cell_type": "code",
      "metadata": {
        "id": "9G6W8BFOCD72",
        "outputId": "6f012c08-cd6a-4e7c-aff5-ca98abd219e1",
        "colab": {
          "base_uri": "https://localhost:8080/",
          "height": 560
        }
      },
      "source": [
        "msno.matrix(x_test_catF)"
      ],
      "execution_count": null,
      "outputs": [
        {
          "output_type": "execute_result",
          "data": {
            "text/plain": [
              "<matplotlib.axes._subplots.AxesSubplot at 0x7f0995d44278>"
            ]
          },
          "metadata": {
            "tags": []
          },
          "execution_count": 18
        },
        {
          "output_type": "display_data",
          "data": {
            "image/png": "[encoded data removed]",
            "text/plain": [
              "<Figure size 1800x720 with 2 Axes>"
            ]
          },
          "metadata": {
            "tags": [],
            "needs_background": "light"
          }
        }
      ]
    },
    {
      "cell_type": "code",
      "metadata": {
        "id": "_7fmHT_bY0SP"
      },
      "source": [
        ""
      ],
      "execution_count": null,
      "outputs": []
    },
    {
      "cell_type": "code",
      "metadata": {
        "id": "U9_WG5E3HC5u",
        "outputId": "0142908c-1824-40d5-a574-db3b9a004fe7",
        "colab": {
          "base_uri": "https://localhost:8080/"
        }
      },
      "source": [
        "x_train_catF.nunique().sort_values() # Количество уникальных значений по фичам"
      ],
      "execution_count": null,
      "outputs": [
        {
          "output_type": "execute_result",
          "data": {
            "text/plain": [
              "M1                2\n",
              "M2                2\n",
              "M3                2\n",
              "M5                2\n",
              "M6                2\n",
              "M7                2\n",
              "M8                2\n",
              "M9                2\n",
              "M4                3\n",
              "card4             4\n",
              "card6             4\n",
              "ProductCD         5\n",
              "P_emaildomain    59\n",
              "R_emaildomain    60\n",
              "dtype: int64"
            ]
          },
          "metadata": {
            "tags": []
          },
          "execution_count": 19
        }
      ]
    },
    {
      "cell_type": "code",
      "metadata": {
        "id": "AKlr0mhPCR1X",
        "outputId": "4f772a9c-f707-43f2-fc31-673e3f1930be",
        "colab": {
          "base_uri": "https://localhost:8080/"
        }
      },
      "source": [
        "x_test_catF.nunique().sort_values() # Количество уникальных значений по фичам"
      ],
      "execution_count": null,
      "outputs": [
        {
          "output_type": "execute_result",
          "data": {
            "text/plain": [
              "M1                2\n",
              "M2                2\n",
              "M3                2\n",
              "M5                2\n",
              "M6                2\n",
              "M7                2\n",
              "M8                2\n",
              "M9                2\n",
              "M4                3\n",
              "card4             4\n",
              "card6             4\n",
              "ProductCD         5\n",
              "R_emaildomain    56\n",
              "P_emaildomain    59\n",
              "dtype: int64"
            ]
          },
          "metadata": {
            "tags": []
          },
          "execution_count": 20
        }
      ]
    },
    {
      "cell_type": "code",
      "metadata": {
        "id": "uv662rGHTgtv",
        "outputId": "1f232181-562e-4503-b436-7f3fb71f382b",
        "colab": {
          "base_uri": "https://localhost:8080/",
          "height": 531
        }
      },
      "source": [
        "missing_values = x_train_catF.isnull().sum(axis=0).reset_index()\n",
        "missing_values.columns = ['column_name', 'missing_count']\n",
        "missing_values = missing_values.loc[missing_values['missing_count']>0]\n",
        "missing_values = missing_values.sort_values(by='missing_count')\n",
        "\n",
        "ind = np.arange(missing_values.shape[0])\n",
        "fig, axes = plt.subplots(figsize=(15, 8))\n",
        "rects = axes.barh(ind, missing_values.missing_count.values, height=0.9)\n",
        "axes.set_yticks(ind)\n",
        "axes.set_yticklabels(missing_values.column_name.values, rotation='horizontal')\n",
        "axes.set_title(\"Missing Observations Count - Categorical Features\")\n",
        "axes.set_xlabel(\"Missing Observations Count\")"
      ],
      "execution_count": null,
      "outputs": [
        {
          "output_type": "execute_result",
          "data": {
            "text/plain": [
              "Text(0.5, 0, 'Missing Observations Count')"
            ]
          },
          "metadata": {
            "tags": []
          },
          "execution_count": 21
        },
        {
          "output_type": "display_data",
          "data": {
            "image/png": "[encoded data removed]",
            "text/plain": [
              "<Figure size 1080x576 with 1 Axes>"
            ]
          },
          "metadata": {
            "tags": [],
            "needs_background": "light"
          }
        }
      ]
    },
    {
      "cell_type": "markdown",
      "metadata": {
        "id": "yCvDIr-bUWrT"
      },
      "source": [
        "Думаю здесь фича R_emaildomain будет лишней и можно удалить, а еще лучше объединить с P_emaildomain. Фичи M9, M8, M7 содержат очень мало данных, думаю можно удалить."
      ]
    },
    {
      "cell_type": "code",
      "metadata": {
        "id": "9Ieq7KO1Cd5i",
        "outputId": "da8a41ee-6cf7-4cf3-bb7c-7f235783f271",
        "colab": {
          "base_uri": "https://localhost:8080/",
          "height": 531
        }
      },
      "source": [
        "missing_values = x_test_catF.isnull().sum(axis=0).reset_index()\n",
        "missing_values.columns = ['column_name', 'missing_count']\n",
        "missing_values = missing_values.loc[missing_values['missing_count']>0]\n",
        "missing_values = missing_values.sort_values(by='missing_count')\n",
        "\n",
        "ind = np.arange(missing_values.shape[0])\n",
        "fig, axes = plt.subplots(figsize=(15, 8))\n",
        "rects = axes.barh(ind, missing_values.missing_count.values, height=0.9)\n",
        "axes.set_yticks(ind)\n",
        "axes.set_yticklabels(missing_values.column_name.values, rotation='horizontal')\n",
        "axes.set_title(\"Missing Observations Count - Categorical Features\")\n",
        "axes.set_xlabel(\"Missing Observations Count\")"
      ],
      "execution_count": null,
      "outputs": [
        {
          "output_type": "execute_result",
          "data": {
            "text/plain": [
              "Text(0.5, 0, 'Missing Observations Count')"
            ]
          },
          "metadata": {
            "tags": []
          },
          "execution_count": 22
        },
        {
          "output_type": "display_data",
          "data": {
            "image/png": "[encoded data removed]",
            "text/plain": [
              "<Figure size 1080x576 with 1 Axes>"
            ]
          },
          "metadata": {
            "tags": [],
            "needs_background": "light"
          }
        }
      ]
    },
    {
      "cell_type": "code",
      "metadata": {
        "id": "c-yTFZYgbp-L",
        "outputId": "517431b0-abe3-4173-94f5-29ba4d3e4576",
        "colab": {
          "base_uri": "https://localhost:8080/"
        }
      },
      "source": [
        "list_M = ['M1', 'M2', 'M3', 'M4', 'M5', 'M6']\n",
        "for M in list_M[1:]:\n",
        "  print(x_train_catF[M].value_counts(), x_train_catF[M].isnull().sum())"
      ],
      "execution_count": null,
      "outputs": [
        {
          "output_type": "stream",
          "text": [
            "T    55657\n",
            "F     6092\n",
            "Name: M2, dtype: int64 118251\n",
            "T    48603\n",
            "F    13146\n",
            "Name: M3, dtype: int64 118251\n",
            "M0    51229\n",
            "M2    18658\n",
            "M1    13389\n",
            "Name: M4, dtype: int64 96724\n",
            "F    34262\n",
            "T    27441\n",
            "Name: M5, dtype: int64 118297\n",
            "F    56627\n",
            "T    49025\n",
            "Name: M6, dtype: int64 74348\n"
          ],
          "name": "stdout"
        }
      ]
    },
    {
      "cell_type": "markdown",
      "metadata": {
        "id": "0N213CnmbVLp"
      },
      "source": [
        "M1 Тоже лишнее, только одно значение False\n",
        "\n",
        "В 'M1', 'M2', 'M3', 'M5', 'M6' заменим True на 1 False на 0"
      ]
    },
    {
      "cell_type": "code",
      "metadata": {
        "id": "BAbwhHb1Cx_R",
        "outputId": "5c5ff4fe-85bf-410a-c702-c7bc6f6554d9",
        "colab": {
          "base_uri": "https://localhost:8080/"
        }
      },
      "source": [
        "for M in list_M[1:]:\n",
        "  print(x_test_catF[M].value_counts(), x_test_catF[M].isnull().sum())"
      ],
      "execution_count": null,
      "outputs": [
        {
          "output_type": "stream",
          "text": [
            "T    60426\n",
            "F     6960\n",
            "Name: M2, dtype: int64 32615\n",
            "T    53424\n",
            "F    13962\n",
            "Name: M3, dtype: int64 32615\n",
            "M0    35881\n",
            "M2     9449\n",
            "M1     9375\n",
            "Name: M4, dtype: int64 45296\n",
            "F    24076\n",
            "T    19506\n",
            "Name: M5, dtype: int64 56419\n",
            "F    41829\n",
            "T    35169\n",
            "Name: M6, dtype: int64 23003\n"
          ],
          "name": "stdout"
        }
      ]
    },
    {
      "cell_type": "code",
      "metadata": {
        "id": "fkXhqssiLj6m"
      },
      "source": [
        ""
      ],
      "execution_count": null,
      "outputs": []
    },
    {
      "cell_type": "code",
      "metadata": {
        "id": "uI6u6Iz6-zZA",
        "outputId": "16b73c6d-32c4-4eab-dfc5-a1406d618045",
        "colab": {
          "base_uri": "https://localhost:8080/"
        }
      },
      "source": [
        "x_train_catF['P_emaildomain'].fillna(x_train_catF['R_emaildomain'], inplace=True)\n",
        "x_test_catF['P_emaildomain'].fillna(x_test_catF['R_emaildomain'], inplace=True)"
      ],
      "execution_count": null,
      "outputs": [
        {
          "output_type": "stream",
          "text": [
            "/usr/local/lib/python3.6/dist-packages/pandas/core/series.py:4535: SettingWithCopyWarning: \n",
            "A value is trying to be set on a copy of a slice from a DataFrame\n",
            "\n",
            "See the caveats in the documentation: https://pandas.pydata.org/pandas-docs/stable/user_guide/indexing.html#returning-a-view-versus-a-copy\n",
            "  downcast=downcast,\n"
          ],
          "name": "stderr"
        }
      ]
    },
    {
      "cell_type": "code",
      "metadata": {
        "id": "U_Ggkfsjj0Gn"
      },
      "source": [
        "# stopit"
      ],
      "execution_count": null,
      "outputs": []
    },
    {
      "cell_type": "code",
      "metadata": {
        "id": "LTZCYIGhWrve"
      },
      "source": [
        "x_train_catF = x_train_catF.drop(columns=['R_emaildomain', 'M1', 'M7', 'M8', 'M9'])\n",
        "x_test_catF = x_test_catF.drop(columns=['R_emaildomain', 'M1', 'M7', 'M8', 'M9'])\n",
        "\n"
      ],
      "execution_count": null,
      "outputs": []
    },
    {
      "cell_type": "code",
      "metadata": {
        "id": "o-E6nm6bkMW2",
        "outputId": "8d58fac2-a668-436f-d172-54d253f313be",
        "colab": {
          "base_uri": "https://localhost:8080/",
          "height": 112
        }
      },
      "source": [
        "x_train_catF.head(2)"
      ],
      "execution_count": null,
      "outputs": [
        {
          "output_type": "execute_result",
          "data": {
            "text/html": [
              "<div>\n",
              "<style scoped>\n",
              "    .dataframe tbody tr th:only-of-type {\n",
              "        vertical-align: middle;\n",
              "    }\n",
              "\n",
              "    .dataframe tbody tr th {\n",
              "        vertical-align: top;\n",
              "    }\n",
              "\n",
              "    .dataframe thead th {\n",
              "        text-align: right;\n",
              "    }\n",
              "</style>\n",
              "<table border=\"1\" class=\"dataframe\">\n",
              "  <thead>\n",
              "    <tr style=\"text-align: right;\">\n",
              "      <th></th>\n",
              "      <th>ProductCD</th>\n",
              "      <th>card4</th>\n",
              "      <th>card6</th>\n",
              "      <th>P_emaildomain</th>\n",
              "      <th>M2</th>\n",
              "      <th>M3</th>\n",
              "      <th>M4</th>\n",
              "      <th>M5</th>\n",
              "      <th>M6</th>\n",
              "    </tr>\n",
              "  </thead>\n",
              "  <tbody>\n",
              "    <tr>\n",
              "      <th>0</th>\n",
              "      <td>W</td>\n",
              "      <td>discover</td>\n",
              "      <td>credit</td>\n",
              "      <td>NaN</td>\n",
              "      <td>T</td>\n",
              "      <td>T</td>\n",
              "      <td>M2</td>\n",
              "      <td>F</td>\n",
              "      <td>T</td>\n",
              "    </tr>\n",
              "    <tr>\n",
              "      <th>1</th>\n",
              "      <td>W</td>\n",
              "      <td>mastercard</td>\n",
              "      <td>credit</td>\n",
              "      <td>gmail.com</td>\n",
              "      <td>NaN</td>\n",
              "      <td>NaN</td>\n",
              "      <td>M0</td>\n",
              "      <td>T</td>\n",
              "      <td>T</td>\n",
              "    </tr>\n",
              "  </tbody>\n",
              "</table>\n",
              "</div>"
            ],
            "text/plain": [
              "  ProductCD       card4   card6 P_emaildomain   M2   M3  M4 M5 M6\n",
              "0         W    discover  credit           NaN    T    T  M2  F  T\n",
              "1         W  mastercard  credit     gmail.com  NaN  NaN  M0  T  T"
            ]
          },
          "metadata": {
            "tags": []
          },
          "execution_count": 28
        }
      ]
    },
    {
      "cell_type": "code",
      "metadata": {
        "id": "mBjav4gkkScC"
      },
      "source": [
        "for column in list_M[1:]:\n",
        "    x_train_catF[column].fillna(3, inplace=True)\n",
        "    x_train_catF.loc[x_train_catF[column] == 'T', column] = 1\n",
        "    x_train_catF.loc[x_train_catF[column] == 'F', column] = 0\n",
        "\n",
        "    x_test_catF[column].fillna(3, inplace=True)\n",
        "    x_test_catF.loc[x_test_catF[column] == 'T', column] = 1\n",
        "    x_test_catF.loc[x_test_catF[column] == 'F', column] = 0\n"
      ],
      "execution_count": null,
      "outputs": []
    },
    {
      "cell_type": "code",
      "metadata": {
        "id": "bkMdCA-Xo8NO"
      },
      "source": [
        "x_train_catF.loc[x_train_catF['M4'] == 'M0', 'M4'] = 0\n",
        "x_train_catF.loc[x_train_catF['M4'] == 'M1', 'M4'] = 1\n",
        "x_train_catF.loc[x_train_catF['M4'] == 'M2', 'M4'] = 2\n",
        "\n",
        "x_test_catF.loc[x_test_catF['M4'] == 'M0', 'M4'] = 0\n",
        "x_test_catF.loc[x_test_catF['M4'] == 'M1', 'M4'] = 1\n",
        "x_test_catF.loc[x_test_catF['M4'] == 'M2', 'M4'] = 2\n",
        "\n",
        "x_train_catF['P_emaildomain'].fillna(\"mail\", inplace=True)\n",
        "x_train_catF['card4'].fillna(\"unknown\", inplace=True)\n",
        "x_train_catF['card6'].fillna(\"unknown\", inplace=True)\n",
        "\n",
        "x_test_catF['P_emaildomain'].fillna(\"mail\", inplace=True)\n",
        "x_test_catF['card4'].fillna(\"unknown\", inplace=True)\n",
        "x_test_catF['card6'].fillna(\"unknown\", inplace=True)"
      ],
      "execution_count": null,
      "outputs": []
    },
    {
      "cell_type": "code",
      "metadata": {
        "id": "mNkojobBtz0w",
        "outputId": "f2f120c3-7c19-4bbf-f01b-3facba0e78bd",
        "colab": {
          "base_uri": "https://localhost:8080/"
        }
      },
      "source": [
        "cat_feat = x_train_catF.columns\n",
        "cat_feat"
      ],
      "execution_count": null,
      "outputs": [
        {
          "output_type": "execute_result",
          "data": {
            "text/plain": [
              "Index(['ProductCD', 'card4', 'card6', 'P_emaildomain', 'M2', 'M3', 'M4', 'M5',\n",
              "       'M6'],\n",
              "      dtype='object')"
            ]
          },
          "metadata": {
            "tags": []
          },
          "execution_count": 31
        }
      ]
    },
    {
      "cell_type": "code",
      "metadata": {
        "id": "oW4X8EGSkMD_"
      },
      "source": [
        "encoder = LabelEncoder()\n",
        "for column in cat_feat:\n",
        "    x_train_catF[column] = encoder.fit_transform(x_train_catF[column])\n",
        "    x_test_catF[column] = encoder.fit_transform(x_test_catF[column])"
      ],
      "execution_count": null,
      "outputs": []
    },
    {
      "cell_type": "code",
      "metadata": {
        "id": "yW1RV6rSZplS",
        "outputId": "f74aba9d-3f80-42be-f080-67d90bd12ef5",
        "colab": {
          "base_uri": "https://localhost:8080/"
        }
      },
      "source": [
        "x_train_catF['ProductCD'].unique()"
      ],
      "execution_count": null,
      "outputs": [
        {
          "output_type": "execute_result",
          "data": {
            "text/plain": [
              "array([4, 1, 0, 3, 2])"
            ]
          },
          "metadata": {
            "tags": []
          },
          "execution_count": 33
        }
      ]
    },
    {
      "cell_type": "code",
      "metadata": {
        "id": "Wn8UGPORdpW8",
        "outputId": "f05da447-b046-4deb-cd5f-239a9fa27082",
        "colab": {
          "base_uri": "https://localhost:8080/",
          "height": 112
        }
      },
      "source": [
        "x_train_catF.head(2)"
      ],
      "execution_count": null,
      "outputs": [
        {
          "output_type": "execute_result",
          "data": {
            "text/html": [
              "<div>\n",
              "<style scoped>\n",
              "    .dataframe tbody tr th:only-of-type {\n",
              "        vertical-align: middle;\n",
              "    }\n",
              "\n",
              "    .dataframe tbody tr th {\n",
              "        vertical-align: top;\n",
              "    }\n",
              "\n",
              "    .dataframe thead th {\n",
              "        text-align: right;\n",
              "    }\n",
              "</style>\n",
              "<table border=\"1\" class=\"dataframe\">\n",
              "  <thead>\n",
              "    <tr style=\"text-align: right;\">\n",
              "      <th></th>\n",
              "      <th>ProductCD</th>\n",
              "      <th>card4</th>\n",
              "      <th>card6</th>\n",
              "      <th>P_emaildomain</th>\n",
              "      <th>M2</th>\n",
              "      <th>M3</th>\n",
              "      <th>M4</th>\n",
              "      <th>M5</th>\n",
              "      <th>M6</th>\n",
              "    </tr>\n",
              "  </thead>\n",
              "  <tbody>\n",
              "    <tr>\n",
              "      <th>0</th>\n",
              "      <td>4</td>\n",
              "      <td>1</td>\n",
              "      <td>1</td>\n",
              "      <td>29</td>\n",
              "      <td>1</td>\n",
              "      <td>1</td>\n",
              "      <td>2</td>\n",
              "      <td>0</td>\n",
              "      <td>1</td>\n",
              "    </tr>\n",
              "    <tr>\n",
              "      <th>1</th>\n",
              "      <td>4</td>\n",
              "      <td>2</td>\n",
              "      <td>1</td>\n",
              "      <td>16</td>\n",
              "      <td>2</td>\n",
              "      <td>2</td>\n",
              "      <td>0</td>\n",
              "      <td>1</td>\n",
              "      <td>1</td>\n",
              "    </tr>\n",
              "  </tbody>\n",
              "</table>\n",
              "</div>"
            ],
            "text/plain": [
              "   ProductCD  card4  card6  P_emaildomain  M2  M3  M4  M5  M6\n",
              "0          4      1      1             29   1   1   2   0   1\n",
              "1          4      2      1             16   2   2   0   1   1"
            ]
          },
          "metadata": {
            "tags": []
          },
          "execution_count": 34
        }
      ]
    },
    {
      "cell_type": "code",
      "metadata": {
        "id": "hBsH5Ba9IWky",
        "outputId": "33064654-3b08-4594-92d6-c97320e16133",
        "colab": {
          "base_uri": "https://localhost:8080/",
          "height": 112
        }
      },
      "source": [
        "x_test_catF.head(2)"
      ],
      "execution_count": null,
      "outputs": [
        {
          "output_type": "execute_result",
          "data": {
            "text/html": [
              "<div>\n",
              "<style scoped>\n",
              "    .dataframe tbody tr th:only-of-type {\n",
              "        vertical-align: middle;\n",
              "    }\n",
              "\n",
              "    .dataframe tbody tr th {\n",
              "        vertical-align: top;\n",
              "    }\n",
              "\n",
              "    .dataframe thead th {\n",
              "        text-align: right;\n",
              "    }\n",
              "</style>\n",
              "<table border=\"1\" class=\"dataframe\">\n",
              "  <thead>\n",
              "    <tr style=\"text-align: right;\">\n",
              "      <th></th>\n",
              "      <th>ProductCD</th>\n",
              "      <th>card4</th>\n",
              "      <th>card6</th>\n",
              "      <th>P_emaildomain</th>\n",
              "      <th>M2</th>\n",
              "      <th>M3</th>\n",
              "      <th>M4</th>\n",
              "      <th>M5</th>\n",
              "      <th>M6</th>\n",
              "    </tr>\n",
              "  </thead>\n",
              "  <tbody>\n",
              "    <tr>\n",
              "      <th>0</th>\n",
              "      <td>4</td>\n",
              "      <td>4</td>\n",
              "      <td>1</td>\n",
              "      <td>2</td>\n",
              "      <td>1</td>\n",
              "      <td>0</td>\n",
              "      <td>0</td>\n",
              "      <td>1</td>\n",
              "      <td>0</td>\n",
              "    </tr>\n",
              "    <tr>\n",
              "      <th>1</th>\n",
              "      <td>4</td>\n",
              "      <td>4</td>\n",
              "      <td>2</td>\n",
              "      <td>55</td>\n",
              "      <td>2</td>\n",
              "      <td>2</td>\n",
              "      <td>3</td>\n",
              "      <td>2</td>\n",
              "      <td>1</td>\n",
              "    </tr>\n",
              "  </tbody>\n",
              "</table>\n",
              "</div>"
            ],
            "text/plain": [
              "   ProductCD  card4  card6  P_emaildomain  M2  M3  M4  M5  M6\n",
              "0          4      4      1              2   1   0   0   1   0\n",
              "1          4      4      2             55   2   2   3   2   1"
            ]
          },
          "metadata": {
            "tags": []
          },
          "execution_count": 35
        }
      ]
    },
    {
      "cell_type": "code",
      "metadata": {
        "id": "QP-GlVCla_iZ",
        "outputId": "3079cdb0-c357-48f6-c103-1bab501dd04c",
        "colab": {
          "base_uri": "https://localhost:8080/",
          "height": 332
        }
      },
      "source": [
        "x_train_catF.isnull().sum(axis=0).reset_index()"
      ],
      "execution_count": null,
      "outputs": [
        {
          "output_type": "execute_result",
          "data": {
            "text/html": [
              "<div>\n",
              "<style scoped>\n",
              "    .dataframe tbody tr th:only-of-type {\n",
              "        vertical-align: middle;\n",
              "    }\n",
              "\n",
              "    .dataframe tbody tr th {\n",
              "        vertical-align: top;\n",
              "    }\n",
              "\n",
              "    .dataframe thead th {\n",
              "        text-align: right;\n",
              "    }\n",
              "</style>\n",
              "<table border=\"1\" class=\"dataframe\">\n",
              "  <thead>\n",
              "    <tr style=\"text-align: right;\">\n",
              "      <th></th>\n",
              "      <th>index</th>\n",
              "      <th>0</th>\n",
              "    </tr>\n",
              "  </thead>\n",
              "  <tbody>\n",
              "    <tr>\n",
              "      <th>0</th>\n",
              "      <td>ProductCD</td>\n",
              "      <td>0</td>\n",
              "    </tr>\n",
              "    <tr>\n",
              "      <th>1</th>\n",
              "      <td>card4</td>\n",
              "      <td>0</td>\n",
              "    </tr>\n",
              "    <tr>\n",
              "      <th>2</th>\n",
              "      <td>card6</td>\n",
              "      <td>0</td>\n",
              "    </tr>\n",
              "    <tr>\n",
              "      <th>3</th>\n",
              "      <td>P_emaildomain</td>\n",
              "      <td>0</td>\n",
              "    </tr>\n",
              "    <tr>\n",
              "      <th>4</th>\n",
              "      <td>M2</td>\n",
              "      <td>0</td>\n",
              "    </tr>\n",
              "    <tr>\n",
              "      <th>5</th>\n",
              "      <td>M3</td>\n",
              "      <td>0</td>\n",
              "    </tr>\n",
              "    <tr>\n",
              "      <th>6</th>\n",
              "      <td>M4</td>\n",
              "      <td>0</td>\n",
              "    </tr>\n",
              "    <tr>\n",
              "      <th>7</th>\n",
              "      <td>M5</td>\n",
              "      <td>0</td>\n",
              "    </tr>\n",
              "    <tr>\n",
              "      <th>8</th>\n",
              "      <td>M6</td>\n",
              "      <td>0</td>\n",
              "    </tr>\n",
              "  </tbody>\n",
              "</table>\n",
              "</div>"
            ],
            "text/plain": [
              "           index  0\n",
              "0      ProductCD  0\n",
              "1          card4  0\n",
              "2          card6  0\n",
              "3  P_emaildomain  0\n",
              "4             M2  0\n",
              "5             M3  0\n",
              "6             M4  0\n",
              "7             M5  0\n",
              "8             M6  0"
            ]
          },
          "metadata": {
            "tags": []
          },
          "execution_count": 36
        }
      ]
    },
    {
      "cell_type": "code",
      "metadata": {
        "id": "BUoRCtqP8TTk"
      },
      "source": [
        "# stopit"
      ],
      "execution_count": null,
      "outputs": []
    },
    {
      "cell_type": "code",
      "metadata": {
        "id": "4JuhSdvUa-5m"
      },
      "source": [
        "x_train_cat_num_F = x_train_catF.join(x_train_numF)\n",
        "\n",
        "x_test_cat_num_F = x_test_catF.join(x_test_numF)"
      ],
      "execution_count": null,
      "outputs": []
    },
    {
      "cell_type": "code",
      "metadata": {
        "id": "15PY64ayIylI",
        "outputId": "5e3260ef-f7dd-4681-c2e1-c36313ed7795",
        "colab": {
          "base_uri": "https://localhost:8080/",
          "height": 424
        }
      },
      "source": [
        "x_train_cat_num_F.isnull().sum(axis=0).reset_index()"
      ],
      "execution_count": null,
      "outputs": [
        {
          "output_type": "execute_result",
          "data": {
            "text/html": [
              "<div>\n",
              "<style scoped>\n",
              "    .dataframe tbody tr th:only-of-type {\n",
              "        vertical-align: middle;\n",
              "    }\n",
              "\n",
              "    .dataframe tbody tr th {\n",
              "        vertical-align: top;\n",
              "    }\n",
              "\n",
              "    .dataframe thead th {\n",
              "        text-align: right;\n",
              "    }\n",
              "</style>\n",
              "<table border=\"1\" class=\"dataframe\">\n",
              "  <thead>\n",
              "    <tr style=\"text-align: right;\">\n",
              "      <th></th>\n",
              "      <th>index</th>\n",
              "      <th>0</th>\n",
              "    </tr>\n",
              "  </thead>\n",
              "  <tbody>\n",
              "    <tr>\n",
              "      <th>0</th>\n",
              "      <td>ProductCD</td>\n",
              "      <td>0</td>\n",
              "    </tr>\n",
              "    <tr>\n",
              "      <th>1</th>\n",
              "      <td>card4</td>\n",
              "      <td>0</td>\n",
              "    </tr>\n",
              "    <tr>\n",
              "      <th>2</th>\n",
              "      <td>card6</td>\n",
              "      <td>0</td>\n",
              "    </tr>\n",
              "    <tr>\n",
              "      <th>3</th>\n",
              "      <td>P_emaildomain</td>\n",
              "      <td>0</td>\n",
              "    </tr>\n",
              "    <tr>\n",
              "      <th>4</th>\n",
              "      <td>M2</td>\n",
              "      <td>0</td>\n",
              "    </tr>\n",
              "    <tr>\n",
              "      <th>...</th>\n",
              "      <td>...</td>\n",
              "      <td>...</td>\n",
              "    </tr>\n",
              "    <tr>\n",
              "      <th>383</th>\n",
              "      <td>V335</td>\n",
              "      <td>132004</td>\n",
              "    </tr>\n",
              "    <tr>\n",
              "      <th>384</th>\n",
              "      <td>V336</td>\n",
              "      <td>132004</td>\n",
              "    </tr>\n",
              "    <tr>\n",
              "      <th>385</th>\n",
              "      <td>V337</td>\n",
              "      <td>132004</td>\n",
              "    </tr>\n",
              "    <tr>\n",
              "      <th>386</th>\n",
              "      <td>V338</td>\n",
              "      <td>132004</td>\n",
              "    </tr>\n",
              "    <tr>\n",
              "      <th>387</th>\n",
              "      <td>V339</td>\n",
              "      <td>132004</td>\n",
              "    </tr>\n",
              "  </tbody>\n",
              "</table>\n",
              "<p>388 rows × 2 columns</p>\n",
              "</div>"
            ],
            "text/plain": [
              "             index       0\n",
              "0        ProductCD       0\n",
              "1            card4       0\n",
              "2            card6       0\n",
              "3    P_emaildomain       0\n",
              "4               M2       0\n",
              "..             ...     ...\n",
              "383           V335  132004\n",
              "384           V336  132004\n",
              "385           V337  132004\n",
              "386           V338  132004\n",
              "387           V339  132004\n",
              "\n",
              "[388 rows x 2 columns]"
            ]
          },
          "metadata": {
            "tags": []
          },
          "execution_count": 39
        }
      ]
    },
    {
      "cell_type": "code",
      "metadata": {
        "id": "Ws2wb3lmt-k7"
      },
      "source": [
        "# stopit"
      ],
      "execution_count": null,
      "outputs": []
    },
    {
      "cell_type": "markdown",
      "metadata": {
        "id": "HSc3d7j-mlYP"
      },
      "source": [
        "Категориальные признаки придется переделать в числовые"
      ]
    },
    {
      "cell_type": "code",
      "metadata": {
        "id": "7QXz-rvtg3A9"
      },
      "source": [
        "# cat_feats = ['ProductCD', 'card4', 'card6', 'P_emaildomain', 'M2', 'M3', 'M4', 'M5',\n",
        "#        'M6']"
      ],
      "execution_count": null,
      "outputs": []
    },
    {
      "cell_type": "code",
      "metadata": {
        "id": "RSJjmWbwbi5s"
      },
      "source": [
        "encoder = LabelEncoder()\n",
        "for column in cat_feat:\n",
        "    x_train_cat_num_F[column] = encoder.fit_transform(x_train_cat_num_F[column])\n",
        "    x_test_cat_num_F[column] = encoder.fit_transform(x_test_cat_num_F[column])"
      ],
      "execution_count": null,
      "outputs": []
    },
    {
      "cell_type": "code",
      "metadata": {
        "id": "Vet9idvjfT2t"
      },
      "source": [
        "\n",
        "# lbl = preprocessing.LabelEncoder()\n",
        "# x_train_catF['ProductCD'] = lbl.fit_transform(x_train_catF['ProductCD'].astype(str))\n",
        "# x_train_catF['card4'] = lbl.fit_transform(x_train_catF['card4'].astype(str))\n",
        "# x_train_catF['card6'] = lbl.fit_transform(x_train_catF['card6'].astype(str))\n",
        "# x_train_catF['P_emaildomain'] = lbl.fit_transform(x_train_catF['P_emaildomain'].astype(str))\n",
        "\n",
        "# x_test_catF['ProductCD'] = lbl.fit_transform(x_test_catF['ProductCD'].astype(str))\n",
        "# x_test_catF['card4'] = lbl.fit_transform(x_test_catF['card4'].astype(str))\n",
        "# x_test_catF['card6'] = lbl.fit_transform(x_test_catF['card6'].astype(str))\n",
        "# x_test_catF['P_emaildomain'] = lbl.fit_transform(x_test_catF['P_emaildomain'].astype(str))"
      ],
      "execution_count": null,
      "outputs": []
    },
    {
      "cell_type": "code",
      "metadata": {
        "id": "YAB34tPwHCs6"
      },
      "source": [
        "dtrain = xgb.DMatrix(\n",
        "    data=x_train_cat_num_F, label=y_train\n",
        ")\n",
        "dtest = xgb.DMatrix(\n",
        "    data=x_test_cat_num_F, label=y_test\n",
        ")"
      ],
      "execution_count": null,
      "outputs": []
    },
    {
      "cell_type": "code",
      "metadata": {
        "id": "0oCSj1PFczj9",
        "outputId": "4dbdab5c-b775-4b80-e533-7518098a39d1",
        "colab": {
          "base_uri": "https://localhost:8080/"
        }
      },
      "source": [
        "model = xgb.train(\n",
        "    params=params,\n",
        "    dtrain=dtrain,\n",
        "    num_boost_round=1000,\n",
        "    early_stopping_rounds=25, # параметр надо было указать по условию\n",
        "    evals=[(dtrain, \"train\"), (dtest, \"test\")],\n",
        "    verbose_eval=10,\n",
        "    maximize=True,\n",
        ")"
      ],
      "execution_count": null,
      "outputs": [
        {
          "output_type": "stream",
          "text": [
            "[0]\ttrain-auc:0.649994\ttest-auc:0.622395\n",
            "Multiple eval metrics have been passed: 'test-auc' will be used for early stopping.\n",
            "\n",
            "Will train until test-auc hasn't improved in 25 rounds.\n",
            "[10]\ttrain-auc:0.796563\ttest-auc:0.757654\n",
            "[20]\ttrain-auc:0.822001\ttest-auc:0.780106\n",
            "[30]\ttrain-auc:0.864028\ttest-auc:0.842598\n",
            "[40]\ttrain-auc:0.873174\ttest-auc:0.850755\n",
            "[50]\ttrain-auc:0.886508\ttest-auc:0.858477\n",
            "[60]\ttrain-auc:0.893267\ttest-auc:0.860265\n",
            "[70]\ttrain-auc:0.897445\ttest-auc:0.860885\n",
            "[80]\ttrain-auc:0.90133\ttest-auc:0.860772\n",
            "[90]\ttrain-auc:0.904408\ttest-auc:0.860788\n",
            "[100]\ttrain-auc:0.906534\ttest-auc:0.861611\n",
            "[110]\ttrain-auc:0.908586\ttest-auc:0.862069\n",
            "[120]\ttrain-auc:0.910252\ttest-auc:0.862928\n",
            "[130]\ttrain-auc:0.911708\ttest-auc:0.864331\n",
            "[140]\ttrain-auc:0.913307\ttest-auc:0.864275\n",
            "[150]\ttrain-auc:0.914501\ttest-auc:0.864774\n",
            "[160]\ttrain-auc:0.915927\ttest-auc:0.86546\n",
            "[170]\ttrain-auc:0.916921\ttest-auc:0.865943\n",
            "[180]\ttrain-auc:0.917857\ttest-auc:0.866263\n",
            "[190]\ttrain-auc:0.918371\ttest-auc:0.8663\n",
            "[200]\ttrain-auc:0.918371\ttest-auc:0.8663\n",
            "[210]\ttrain-auc:0.918371\ttest-auc:0.8663\n",
            "Stopping. Best iteration:\n",
            "[185]\ttrain-auc:0.918371\ttest-auc:0.8663\n",
            "\n"
          ],
          "name": "stdout"
        }
      ]
    },
    {
      "cell_type": "code",
      "metadata": {
        "id": "y3l-t6UXGcDz"
      },
      "source": [
        "train_xgb_num_cat = model.predict(dtrain)\n",
        "test_xgb_num_cat = model.predict(dtest)"
      ],
      "execution_count": null,
      "outputs": []
    },
    {
      "cell_type": "markdown",
      "metadata": {
        "id": "k-cqXl_tDKgw"
      },
      "source": [
        "Немного получше"
      ]
    },
    {
      "cell_type": "code",
      "metadata": {
        "id": "0K1EXSzbXq-D"
      },
      "source": [
        ""
      ],
      "execution_count": null,
      "outputs": []
    },
    {
      "cell_type": "markdown",
      "metadata": {
        "id": "QXg4S75hcyrb"
      },
      "source": [
        "Задание 4: для числовых признаков обучить модель LightGBM. Обучать алгоритм до тех пор, пока метрика качества не перестанет улучшаться на валидационной выборке в течение определенного числа итераций (выбрать значение самостоятельно).\n",
        "\n"
      ]
    },
    {
      "cell_type": "code",
      "metadata": {
        "id": "doWgYHw_iDe5"
      },
      "source": [
        "params = {\n",
        "    \"boosting_type\": \"gbdt\",\n",
        "    \"objective\": \"binary\",\n",
        "    \"metric\": \"auc\",\n",
        "    \"learning_rate\": 0.01,\n",
        "    \"n_estimators\": 200,\n",
        "    \"n_jobs\": 6,\n",
        "    \"seed\": 27\n",
        "}"
      ],
      "execution_count": null,
      "outputs": []
    },
    {
      "cell_type": "code",
      "metadata": {
        "id": "RiFix7UKBQCm"
      },
      "source": [
        "dtrain = lgb.Dataset(\n",
        "    data=x_train_numF, label=y_train\n",
        ")\n",
        "dtest = lgb.Dataset(\n",
        "    data=x_test_numF, label=y_test\n",
        ")"
      ],
      "execution_count": null,
      "outputs": []
    },
    {
      "cell_type": "code",
      "metadata": {
        "id": "KRFxq1UgiOBl",
        "outputId": "2564f349-9458-4173-c4b8-1f06ea9db76c",
        "colab": {
          "base_uri": "https://localhost:8080/"
        }
      },
      "source": [
        "model = lgb.train(\n",
        "    params=params,\n",
        "    train_set=dtrain,\n",
        "    num_boost_round=1000,\n",
        "    valid_sets=[dtrain, dtest],\n",
        "    valid_names=[\"train\", \"test\"],\n",
        "    # categorical_feature=\"auto\",\n",
        "    early_stopping_rounds=25, # параметр надо было указать по условию\n",
        "    verbose_eval=10\n",
        ")"
      ],
      "execution_count": null,
      "outputs": [
        {
          "output_type": "stream",
          "text": [
            "/usr/local/lib/python3.6/dist-packages/lightgbm/engine.py:118: UserWarning: Found `n_estimators` in params. Will use it instead of argument\n",
            "  warnings.warn(\"Found `{}` in params. Will use it instead of argument\".format(alias))\n"
          ],
          "name": "stderr"
        },
        {
          "output_type": "stream",
          "text": [
            "Training until validation scores don't improve for 25 rounds.\n",
            "[10]\ttrain's auc: 0.832909\ttest's auc: 0.79824\n",
            "[20]\ttrain's auc: 0.839236\ttest's auc: 0.800566\n",
            "[30]\ttrain's auc: 0.867022\ttest's auc: 0.839394\n",
            "[40]\ttrain's auc: 0.871751\ttest's auc: 0.842996\n",
            "[50]\ttrain's auc: 0.87526\ttest's auc: 0.844706\n",
            "[60]\ttrain's auc: 0.880624\ttest's auc: 0.849904\n",
            "[70]\ttrain's auc: 0.882515\ttest's auc: 0.851681\n",
            "[80]\ttrain's auc: 0.885194\ttest's auc: 0.853879\n",
            "[90]\ttrain's auc: 0.888574\ttest's auc: 0.854953\n",
            "[100]\ttrain's auc: 0.891459\ttest's auc: 0.855785\n",
            "[110]\ttrain's auc: 0.893373\ttest's auc: 0.856328\n",
            "[120]\ttrain's auc: 0.89539\ttest's auc: 0.857192\n",
            "[130]\ttrain's auc: 0.896915\ttest's auc: 0.857092\n",
            "[140]\ttrain's auc: 0.899847\ttest's auc: 0.856242\n",
            "Early stopping, best iteration is:\n",
            "[122]\ttrain's auc: 0.895696\ttest's auc: 0.857349\n"
          ],
          "name": "stdout"
        }
      ]
    },
    {
      "cell_type": "code",
      "metadata": {
        "id": "M0YUINpuCxaN"
      },
      "source": [
        "train_lgb_num = model.predict(x_train_numF)\n",
        "test_lgb_num = model.predict(x_test_numF)"
      ],
      "execution_count": null,
      "outputs": []
    },
    {
      "cell_type": "code",
      "metadata": {
        "id": "PC2PH-KxE0J5"
      },
      "source": [
        ""
      ],
      "execution_count": null,
      "outputs": []
    },
    {
      "cell_type": "code",
      "metadata": {
        "id": "vgZXRmiKdNho"
      },
      "source": [
        "# x_train_cat_num_F = pd.concat([\n",
        "#     x_train_numF, x_train_catF], axis=0)"
      ],
      "execution_count": null,
      "outputs": []
    },
    {
      "cell_type": "markdown",
      "metadata": {
        "id": "88UaeDOLdNoY"
      },
      "source": [
        "Задание 5: обработать категориальные признаки любым способом (который вы знаете) и добавить их к данным. \n",
        "\n",
        "Выполнить задание 4.\n",
        "\n"
      ]
    },
    {
      "cell_type": "code",
      "metadata": {
        "id": "x9_V6TWLnc2u"
      },
      "source": [
        ""
      ],
      "execution_count": null,
      "outputs": []
    },
    {
      "cell_type": "markdown",
      "metadata": {
        "id": "d92U-eUvmD9z"
      },
      "source": [
        "Возьму обработнные категориальные признаки из 2го задания"
      ]
    },
    {
      "cell_type": "code",
      "metadata": {
        "id": "s2K7F52cUvcd",
        "outputId": "c93574ec-a00c-4891-9f9d-3652835e11e2",
        "colab": {
          "base_uri": "https://localhost:8080/"
        }
      },
      "source": [
        "dtrain = lgb.Dataset(\n",
        "    data=x_train_cat_num_F, label=y_train\n",
        ")\n",
        "dtest = lgb.Dataset(\n",
        "    data=x_test_cat_num_F, label=y_test\n",
        ")\n",
        "\n",
        "model = lgb.train(\n",
        "    params=params,\n",
        "    train_set=dtrain,\n",
        "    num_boost_round=1000,\n",
        "    valid_sets=[dtrain, dtest],\n",
        "    valid_names=[\"train\", \"test\"],\n",
        "    # categorical_feature=\"auto\",\n",
        "    early_stopping_rounds=25, # параметр надо было указать по условию\n",
        "    verbose_eval=10\n",
        ")"
      ],
      "execution_count": null,
      "outputs": [
        {
          "output_type": "stream",
          "text": [
            "/usr/local/lib/python3.6/dist-packages/lightgbm/engine.py:118: UserWarning: Found `n_estimators` in params. Will use it instead of argument\n",
            "  warnings.warn(\"Found `{}` in params. Will use it instead of argument\".format(alias))\n"
          ],
          "name": "stderr"
        },
        {
          "output_type": "stream",
          "text": [
            "Training until validation scores don't improve for 25 rounds.\n",
            "[10]\ttrain's auc: 0.833392\ttest's auc: 0.798592\n",
            "[20]\ttrain's auc: 0.860985\ttest's auc: 0.82741\n",
            "[30]\ttrain's auc: 0.869164\ttest's auc: 0.841209\n",
            "[40]\ttrain's auc: 0.872967\ttest's auc: 0.8467\n",
            "[50]\ttrain's auc: 0.880742\ttest's auc: 0.851698\n",
            "[60]\ttrain's auc: 0.88366\ttest's auc: 0.854354\n",
            "[70]\ttrain's auc: 0.886084\ttest's auc: 0.856035\n",
            "[80]\ttrain's auc: 0.888605\ttest's auc: 0.857678\n",
            "[90]\ttrain's auc: 0.890214\ttest's auc: 0.858739\n",
            "[100]\ttrain's auc: 0.892\ttest's auc: 0.859372\n",
            "[110]\ttrain's auc: 0.893927\ttest's auc: 0.860931\n",
            "[120]\ttrain's auc: 0.895875\ttest's auc: 0.861918\n",
            "[130]\ttrain's auc: 0.898399\ttest's auc: 0.862823\n",
            "[140]\ttrain's auc: 0.901501\ttest's auc: 0.863481\n",
            "[150]\ttrain's auc: 0.904797\ttest's auc: 0.864764\n",
            "[160]\ttrain's auc: 0.906706\ttest's auc: 0.865085\n",
            "[170]\ttrain's auc: 0.908955\ttest's auc: 0.865131\n",
            "[180]\ttrain's auc: 0.911319\ttest's auc: 0.865294\n",
            "[190]\ttrain's auc: 0.913444\ttest's auc: 0.866202\n",
            "[200]\ttrain's auc: 0.91536\ttest's auc: 0.866458\n",
            "Did not meet early stopping. Best iteration is:\n",
            "[200]\ttrain's auc: 0.91536\ttest's auc: 0.866458\n"
          ],
          "name": "stdout"
        }
      ]
    },
    {
      "cell_type": "code",
      "metadata": {
        "id": "00uCvInNUvVY"
      },
      "source": [
        "train_lgb_num_cat = model.predict(x_train_cat_num_F)\n",
        "test_lgb_num_cat = model.predict(x_test_cat_num_F)"
      ],
      "execution_count": null,
      "outputs": []
    },
    {
      "cell_type": "code",
      "metadata": {
        "id": "vmd81MXqdQUs"
      },
      "source": [
        ""
      ],
      "execution_count": null,
      "outputs": []
    },
    {
      "cell_type": "markdown",
      "metadata": {
        "id": "iLodeqBkdX6D"
      },
      "source": [
        "Задание 6: обработать категориальные признаки встроенным методом в LightGBM. Выполнить задание 4. Сделать выводы о качестве работы алгоритма, по сравнению с пунктом 5.\n",
        "\n"
      ]
    },
    {
      "cell_type": "code",
      "metadata": {
        "id": "sS62f78eTTNN"
      },
      "source": [
        "cat_feats = ['ProductCD', 'card4', 'card6', 'P_emaildomain', 'M2', 'M3', 'M4', 'M5',\n",
        "       'M6']\n"
      ],
      "execution_count": null,
      "outputs": []
    },
    {
      "cell_type": "code",
      "metadata": {
        "id": "q_JtsdWrUW2b",
        "outputId": "05da0cd4-27ad-4626-f740-fd7ef0f32032",
        "colab": {
          "base_uri": "https://localhost:8080/"
        }
      },
      "source": [
        "x_test_cat_num_F.dtypes"
      ],
      "execution_count": null,
      "outputs": [
        {
          "output_type": "execute_result",
          "data": {
            "text/plain": [
              "ProductCD          int64\n",
              "card4              int64\n",
              "card6              int64\n",
              "P_emaildomain      int64\n",
              "M2                 int64\n",
              "                  ...   \n",
              "V335             float64\n",
              "V336             float64\n",
              "V337             float64\n",
              "V338             float64\n",
              "V339             float64\n",
              "Length: 388, dtype: object"
            ]
          },
          "metadata": {
            "tags": []
          },
          "execution_count": 55
        }
      ]
    },
    {
      "cell_type": "code",
      "metadata": {
        "id": "kAzsGNO1Vzad"
      },
      "source": [
        "for c in cat_feat:\n",
        "    x_train_cat_num_F[c] = x_train_cat_num_F[c].astype('category')\n",
        "    x_test_cat_num_F[c] = x_test_cat_num_F[c].astype('category')"
      ],
      "execution_count": null,
      "outputs": []
    },
    {
      "cell_type": "code",
      "metadata": {
        "id": "GU62m6KKVVsw"
      },
      "source": [
        "dtrain = lgb.Dataset(\n",
        "    data=x_train_cat_num_F, label=y_train, categorical_feature=cat_feats\n",
        ")\n",
        "dtest = lgb.Dataset(\n",
        "    data=x_test_cat_num_F, label=y_test, categorical_feature=cat_feats\n",
        ")"
      ],
      "execution_count": null,
      "outputs": []
    },
    {
      "cell_type": "code",
      "metadata": {
        "id": "0lkIB4NuddFa",
        "outputId": "b7695f59-dee2-43b0-d543-677d06b2e2e0",
        "colab": {
          "base_uri": "https://localhost:8080/"
        }
      },
      "source": [
        "model = lgb.train(\n",
        "    params=params,\n",
        "    train_set=dtrain,\n",
        "    num_boost_round=1000,\n",
        "    valid_sets=[dtrain, dtest],\n",
        "    valid_names=[\"train\", \"test\"],\n",
        "    categorical_feature=cat_feats,\n",
        "    early_stopping_rounds=25, # параметр надо было указать по условию\n",
        "    verbose_eval=10\n",
        ")"
      ],
      "execution_count": null,
      "outputs": [
        {
          "output_type": "stream",
          "text": [
            "/usr/local/lib/python3.6/dist-packages/lightgbm/engine.py:118: UserWarning: Found `n_estimators` in params. Will use it instead of argument\n",
            "  warnings.warn(\"Found `{}` in params. Will use it instead of argument\".format(alias))\n",
            "/usr/local/lib/python3.6/dist-packages/lightgbm/basic.py:762: UserWarning: categorical_feature in param dict is overridden.\n",
            "  warnings.warn('categorical_feature in param dict is overridden.')\n"
          ],
          "name": "stderr"
        },
        {
          "output_type": "stream",
          "text": [
            "Training until validation scores don't improve for 25 rounds.\n",
            "[10]\ttrain's auc: 0.833262\ttest's auc: 0.798386\n",
            "[20]\ttrain's auc: 0.861077\ttest's auc: 0.827158\n",
            "[30]\ttrain's auc: 0.870616\ttest's auc: 0.843959\n",
            "[40]\ttrain's auc: 0.874801\ttest's auc: 0.848264\n",
            "[50]\ttrain's auc: 0.881819\ttest's auc: 0.853755\n",
            "[60]\ttrain's auc: 0.88516\ttest's auc: 0.856838\n",
            "[70]\ttrain's auc: 0.887056\ttest's auc: 0.858164\n",
            "[80]\ttrain's auc: 0.889187\ttest's auc: 0.858226\n",
            "[90]\ttrain's auc: 0.891256\ttest's auc: 0.859227\n",
            "[100]\ttrain's auc: 0.895161\ttest's auc: 0.859661\n",
            "[110]\ttrain's auc: 0.898632\ttest's auc: 0.861282\n",
            "[120]\ttrain's auc: 0.901103\ttest's auc: 0.862165\n",
            "[130]\ttrain's auc: 0.903256\ttest's auc: 0.862937\n",
            "[140]\ttrain's auc: 0.906005\ttest's auc: 0.863885\n",
            "[150]\ttrain's auc: 0.908552\ttest's auc: 0.864262\n",
            "[160]\ttrain's auc: 0.910176\ttest's auc: 0.864759\n",
            "[170]\ttrain's auc: 0.91179\ttest's auc: 0.865242\n",
            "[180]\ttrain's auc: 0.912948\ttest's auc: 0.8656\n",
            "[190]\ttrain's auc: 0.914431\ttest's auc: 0.865965\n",
            "[200]\ttrain's auc: 0.915944\ttest's auc: 0.866636\n",
            "Did not meet early stopping. Best iteration is:\n",
            "[200]\ttrain's auc: 0.915944\ttest's auc: 0.866636\n"
          ],
          "name": "stdout"
        }
      ]
    },
    {
      "cell_type": "code",
      "metadata": {
        "id": "FmZLY5ceddA7"
      },
      "source": [
        "train_lgb_num_cat_self = model.predict(x_train_cat_num_F)\n",
        "test_lgb_num_cat_self = model.predict(x_test_cat_num_F)"
      ],
      "execution_count": null,
      "outputs": []
    },
    {
      "cell_type": "code",
      "metadata": {
        "id": "WF-59Bt6dc5M"
      },
      "source": [
        ""
      ],
      "execution_count": null,
      "outputs": []
    },
    {
      "cell_type": "markdown",
      "metadata": {
        "id": "Hw9cTy97ddil"
      },
      "source": [
        "Задание 7: для числовых признаков обучить модель CatBoost. Обучать алгоритм до тех пор, пока метрика качества не перестанет улучшаться на валидационной выборке в течение определенного числа итераций (выбрать значение самостоятельно)\n"
      ]
    },
    {
      "cell_type": "code",
      "metadata": {
        "id": "btCkvuwgnq6Y",
        "outputId": "a86cdac9-2718-4c86-cec8-0b57bfdad2dc",
        "colab": {
          "base_uri": "https://localhost:8080/"
        }
      },
      "source": [
        "x_train, x_test = x_train_numF, x_test_numF\n",
        "y_train, y_test = y_train, y_test\n",
        "\n",
        "print(\"x_train.shape = {} rows, {} cols\".format(*x_train.shape))\n",
        "print(\"x_test.shape = {} rows, {} cols\".format(*x_test.shape))\n",
        "\n",
        "print(\"y_train.shape = {} rows\".format(*y_train.shape))\n",
        "print(\"y_test.shape = {} rows\".format(*y_test.shape))"
      ],
      "execution_count": null,
      "outputs": [
        {
          "output_type": "stream",
          "text": [
            "x_train.shape = 180000 rows, 379 cols\n",
            "x_test.shape = 100001 rows, 379 cols\n",
            "y_train.shape = 180000 rows\n",
            "y_test.shape = 100001 rows\n"
          ],
          "name": "stdout"
        }
      ]
    },
    {
      "cell_type": "code",
      "metadata": {
        "id": "nANm1__znrCB"
      },
      "source": [
        "cb_params = {\n",
        "    \"n_estimators\": 1000,\n",
        "    \"loss_function\": \"Logloss\",\n",
        "    \"eval_metric\": \"AUC\",\n",
        "    \"task_type\": \"CPU\",\n",
        "    \"max_bin\": 20,\n",
        "    \"verbose\": 10,\n",
        "    \"max_depth\": 6,\n",
        "    \"l2_leaf_reg\": 100,\n",
        "    \"early_stopping_rounds\": 25,\n",
        "    \"thread_count\": 6,\n",
        "    \"random_seed\": 42\n",
        "}"
      ],
      "execution_count": null,
      "outputs": []
    },
    {
      "cell_type": "code",
      "metadata": {
        "id": "4j1iqCmLnqdo"
      },
      "source": [
        "train_pool = cb.Pool(x_train, y_train)\n",
        "test_pool = cb.Pool(x_test, y_test)"
      ],
      "execution_count": null,
      "outputs": []
    },
    {
      "cell_type": "code",
      "metadata": {
        "id": "i9IzViStdjhC",
        "outputId": "e5f9b47a-f414-415c-a3c8-4f757fce03ef",
        "colab": {
          "base_uri": "https://localhost:8080/"
        }
      },
      "source": [
        "model = cb.CatBoostClassifier(**cb_params)\n",
        "model.fit(train_pool, eval_set=test_pool)"
      ],
      "execution_count": null,
      "outputs": [
        {
          "output_type": "stream",
          "text": [
            "0:\ttest: 0.6290627\tbest: 0.6290627 (0)\ttotal: 277ms\tremaining: 4m 36s\n",
            "10:\ttest: 0.7633746\tbest: 0.7633746 (10)\ttotal: 2.34s\tremaining: 3m 30s\n",
            "20:\ttest: 0.8088820\tbest: 0.8088820 (20)\ttotal: 4.49s\tremaining: 3m 29s\n",
            "30:\ttest: 0.8294974\tbest: 0.8294974 (30)\ttotal: 6.59s\tremaining: 3m 25s\n",
            "40:\ttest: 0.8380974\tbest: 0.8381444 (39)\ttotal: 8.75s\tremaining: 3m 24s\n",
            "50:\ttest: 0.8393262\tbest: 0.8398211 (48)\ttotal: 11s\tremaining: 3m 24s\n",
            "60:\ttest: 0.8392079\tbest: 0.8398211 (48)\ttotal: 13.2s\tremaining: 3m 23s\n",
            "70:\ttest: 0.8400384\tbest: 0.8402964 (68)\ttotal: 15.6s\tremaining: 3m 23s\n",
            "80:\ttest: 0.8391390\tbest: 0.8402964 (68)\ttotal: 17.9s\tremaining: 3m 22s\n",
            "90:\ttest: 0.8404271\tbest: 0.8404271 (90)\ttotal: 20.1s\tremaining: 3m 20s\n",
            "100:\ttest: 0.8380929\tbest: 0.8404271 (90)\ttotal: 22.4s\tremaining: 3m 19s\n",
            "110:\ttest: 0.8381470\tbest: 0.8404271 (90)\ttotal: 24.6s\tremaining: 3m 16s\n",
            "Stopped by overfitting detector  (25 iterations wait)\n",
            "\n",
            "bestTest = 0.8404270943\n",
            "bestIteration = 90\n",
            "\n",
            "Shrink model to first 91 iterations.\n"
          ],
          "name": "stdout"
        },
        {
          "output_type": "execute_result",
          "data": {
            "text/plain": [
              "<catboost.core.CatBoostClassifier at 0x7f094bf3b550>"
            ]
          },
          "metadata": {
            "tags": []
          },
          "execution_count": 63
        }
      ]
    },
    {
      "cell_type": "code",
      "metadata": {
        "id": "aXiXgEiYdjW_"
      },
      "source": [
        "train_cgb_num = model.predict(x_train_numF)\n",
        "test_cgb_num = model.predict(x_test_numF)"
      ],
      "execution_count": null,
      "outputs": []
    },
    {
      "cell_type": "code",
      "metadata": {
        "id": "F5ByAuS1nqy_"
      },
      "source": [
        ""
      ],
      "execution_count": null,
      "outputs": []
    },
    {
      "cell_type": "markdown",
      "metadata": {
        "id": "XNaoVuYzdj32"
      },
      "source": [
        "Задание 8: обработать категориальные признаки любым способом (который вы знаете) и добавить их к данным. Выполнить задание 7.\n",
        "\n"
      ]
    },
    {
      "cell_type": "code",
      "metadata": {
        "id": "P54cSkI_k7qs"
      },
      "source": [
        "for column in cat_feats:\n",
        "    x_train_cat_num_F[column] = encoder.fit_transform(x_train_cat_num_F[column].astype(str))\n",
        "    x_test_cat_num_F[column] = encoder.fit_transform(x_test_cat_num_F[column].astype(str))"
      ],
      "execution_count": null,
      "outputs": []
    },
    {
      "cell_type": "code",
      "metadata": {
        "id": "vYxXOCYTdoKJ",
        "outputId": "c3969810-09e1-4813-9d0d-1d01b6a83d00",
        "colab": {
          "base_uri": "https://localhost:8080/"
        }
      },
      "source": [
        "x_train, x_test = x_train_cat_num_F, x_test_cat_num_F\n",
        "y_train, y_test = y_train, y_test\n",
        "\n",
        "print(\"x_train.shape = {} rows, {} cols\".format(*x_train.shape))\n",
        "print(\"x_test.shape = {} rows, {} cols\".format(*x_test.shape))\n",
        "\n",
        "print(\"y_train.shape = {} rows\".format(*y_train.shape))\n",
        "print(\"y_test.shape = {} rows\".format(*y_test.shape))"
      ],
      "execution_count": null,
      "outputs": [
        {
          "output_type": "stream",
          "text": [
            "x_train.shape = 180000 rows, 388 cols\n",
            "x_test.shape = 100001 rows, 388 cols\n",
            "y_train.shape = 180000 rows\n",
            "y_test.shape = 100001 rows\n"
          ],
          "name": "stdout"
        }
      ]
    },
    {
      "cell_type": "code",
      "metadata": {
        "id": "VZuWS_yrdoD3"
      },
      "source": [
        "cb_params = {\n",
        "    \"n_estimators\": 1000,\n",
        "    \"loss_function\": \"Logloss\",\n",
        "    \"eval_metric\": \"AUC\",\n",
        "    \"task_type\": \"CPU\",\n",
        "    \"max_bin\": 20,\n",
        "    \"verbose\": 10,\n",
        "    \"max_depth\": 6,\n",
        "    \"l2_leaf_reg\": 100,\n",
        "    \"early_stopping_rounds\": 25,\n",
        "    \"thread_count\": 6,\n",
        "    \"random_seed\": 42\n",
        "}"
      ],
      "execution_count": null,
      "outputs": []
    },
    {
      "cell_type": "code",
      "metadata": {
        "id": "0C4Xn2tGyav0"
      },
      "source": [
        "train_pool = cb.Pool(x_train, y_train)\n",
        "test_pool = cb.Pool(x_test, y_test)"
      ],
      "execution_count": null,
      "outputs": []
    },
    {
      "cell_type": "code",
      "metadata": {
        "id": "oIA_J0z9yaiE",
        "outputId": "6f9c8d93-e273-42dc-c360-605fe213907c",
        "colab": {
          "base_uri": "https://localhost:8080/"
        }
      },
      "source": [
        "model = cb.CatBoostClassifier(**cb_params)\n",
        "model.fit(train_pool, eval_set=test_pool)"
      ],
      "execution_count": null,
      "outputs": [
        {
          "output_type": "stream",
          "text": [
            "0:\ttest: 0.6593752\tbest: 0.6593752 (0)\ttotal: 214ms\tremaining: 3m 33s\n",
            "10:\ttest: 0.7885699\tbest: 0.7896189 (9)\ttotal: 2.5s\tremaining: 3m 44s\n",
            "20:\ttest: 0.8282556\tbest: 0.8290013 (18)\ttotal: 4.63s\tremaining: 3m 35s\n",
            "30:\ttest: 0.8396630\tbest: 0.8405423 (26)\ttotal: 6.82s\tremaining: 3m 33s\n",
            "40:\ttest: 0.8416053\tbest: 0.8416053 (40)\ttotal: 9.07s\tremaining: 3m 32s\n",
            "50:\ttest: 0.8419436\tbest: 0.8434874 (48)\ttotal: 11.4s\tremaining: 3m 31s\n",
            "60:\ttest: 0.8431240\tbest: 0.8434874 (48)\ttotal: 13.7s\tremaining: 3m 30s\n",
            "70:\ttest: 0.8427997\tbest: 0.8436905 (61)\ttotal: 15.9s\tremaining: 3m 28s\n",
            "80:\ttest: 0.8445874\tbest: 0.8445874 (80)\ttotal: 18.2s\tremaining: 3m 26s\n",
            "90:\ttest: 0.8452306\tbest: 0.8453750 (88)\ttotal: 20.5s\tremaining: 3m 24s\n",
            "100:\ttest: 0.8461254\tbest: 0.8464206 (97)\ttotal: 22.9s\tremaining: 3m 23s\n",
            "110:\ttest: 0.8461776\tbest: 0.8464206 (97)\ttotal: 25.4s\tremaining: 3m 23s\n",
            "120:\ttest: 0.8462346\tbest: 0.8464206 (97)\ttotal: 27.8s\tremaining: 3m 21s\n",
            "Stopped by overfitting detector  (25 iterations wait)\n",
            "\n",
            "bestTest = 0.8464206251\n",
            "bestIteration = 97\n",
            "\n",
            "Shrink model to first 98 iterations.\n"
          ],
          "name": "stdout"
        },
        {
          "output_type": "execute_result",
          "data": {
            "text/plain": [
              "<catboost.core.CatBoostClassifier at 0x7f094baaee48>"
            ]
          },
          "metadata": {
            "tags": []
          },
          "execution_count": 69
        }
      ]
    },
    {
      "cell_type": "code",
      "metadata": {
        "id": "bB7vhZz_dn12"
      },
      "source": [
        "train_cgb_num_cat = model.predict(x_train_cat_num_F)\n",
        "test_cgb_num_cat = model.predict(x_test_cat_num_F)"
      ],
      "execution_count": null,
      "outputs": []
    },
    {
      "cell_type": "markdown",
      "metadata": {
        "id": "t0wnlpBQdoet"
      },
      "source": [
        "Задание 9: обработать категориальные признаки встроенным методом в CatBoost. Выполнить задание 7. Сделать выводы о качестве работы алгоритма, по сравнению с пунктом 8.\n",
        "\n"
      ]
    },
    {
      "cell_type": "code",
      "metadata": {
        "id": "JWFQmA4SdqQ8"
      },
      "source": [
        "# x_train, x_test = x_train_catF, x_test_catF\n",
        "# y_train, y_test = y_train, y_test\n",
        "\n",
        "# print(\"x_train.shape = {} rows, {} cols\".format(*x_train.shape))\n",
        "# print(\"x_test.shape = {} rows, {} cols\".format(*x_test.shape))\n",
        "\n",
        "# print(\"y_train.shape = {} rows\".format(*y_train.shape))\n",
        "# print(\"y_test.shape = {} rows\".format(*y_test.shape))"
      ],
      "execution_count": null,
      "outputs": []
    },
    {
      "cell_type": "code",
      "metadata": {
        "id": "aDoHXHqT57WN"
      },
      "source": [
        "x_train[cat_feat] = x_train[cat_feat].astype(str)\n",
        "x_test[cat_feat] = x_test[cat_feat].astype(str)\n"
      ],
      "execution_count": null,
      "outputs": []
    },
    {
      "cell_type": "code",
      "metadata": {
        "id": "vQzF3NlmkaF9"
      },
      "source": [
        ""
      ],
      "execution_count": null,
      "outputs": []
    },
    {
      "cell_type": "code",
      "metadata": {
        "id": "dhI_QyzXyxoW"
      },
      "source": [
        "cb_params = {\n",
        "    \"n_estimators\": 1000,\n",
        "    \"loss_function\": \"Logloss\",\n",
        "    \"eval_metric\": \"AUC\",\n",
        "    \"task_type\": \"CPU\",\n",
        "    \"max_bin\": 20,\n",
        "    \"verbose\": 10,\n",
        "    \"max_depth\": 6,\n",
        "    \"l2_leaf_reg\": 100,\n",
        "    \"early_stopping_rounds\": 25,\n",
        "    \"thread_count\": 6,\n",
        "    \"random_seed\": 42\n",
        "}"
      ],
      "execution_count": null,
      "outputs": []
    },
    {
      "cell_type": "code",
      "metadata": {
        "id": "QBn2qY0PdqrR"
      },
      "source": [
        "train_pool = cb.Pool(x_train, y_train, cat_features=cat_feats)\n",
        "test_pool = cb.Pool(x_test, y_test, cat_features=cat_feats)"
      ],
      "execution_count": null,
      "outputs": []
    },
    {
      "cell_type": "code",
      "metadata": {
        "id": "3yWm25PFdqb1",
        "outputId": "beab8174-98b8-4eae-d289-2404f81330c0",
        "colab": {
          "base_uri": "https://localhost:8080/"
        }
      },
      "source": [
        "model = cb.CatBoostClassifier(**cb_params)\n",
        "model.fit(train_pool, eval_set=test_pool)"
      ],
      "execution_count": null,
      "outputs": [
        {
          "output_type": "stream",
          "text": [
            "0:\ttest: 0.5997202\tbest: 0.5997202 (0)\ttotal: 729ms\tremaining: 12m 8s\n",
            "10:\ttest: 0.7872776\tbest: 0.7872776 (10)\ttotal: 7.39s\tremaining: 11m 4s\n",
            "20:\ttest: 0.8140220\tbest: 0.8140220 (20)\ttotal: 14.2s\tremaining: 10m 59s\n",
            "30:\ttest: 0.8321774\tbest: 0.8321774 (30)\ttotal: 20.7s\tremaining: 10m 47s\n",
            "40:\ttest: 0.8338321\tbest: 0.8338321 (40)\ttotal: 27.5s\tremaining: 10m 43s\n",
            "50:\ttest: 0.8352970\tbest: 0.8362333 (49)\ttotal: 34s\tremaining: 10m 32s\n",
            "60:\ttest: 0.8382545\tbest: 0.8382655 (59)\ttotal: 40.9s\tremaining: 10m 29s\n",
            "70:\ttest: 0.8430655\tbest: 0.8430655 (70)\ttotal: 47.7s\tremaining: 10m 24s\n",
            "80:\ttest: 0.8437725\tbest: 0.8446773 (74)\ttotal: 54.6s\tremaining: 10m 19s\n",
            "90:\ttest: 0.8460379\tbest: 0.8460924 (89)\ttotal: 1m 1s\tremaining: 10m 10s\n",
            "100:\ttest: 0.8458786\tbest: 0.8461728 (91)\ttotal: 1m 7s\tremaining: 10m 2s\n",
            "110:\ttest: 0.8455339\tbest: 0.8461728 (91)\ttotal: 1m 14s\tremaining: 9m 54s\n",
            "Stopped by overfitting detector  (25 iterations wait)\n",
            "\n",
            "bestTest = 0.8461727903\n",
            "bestIteration = 91\n",
            "\n",
            "Shrink model to first 92 iterations.\n"
          ],
          "name": "stdout"
        },
        {
          "output_type": "execute_result",
          "data": {
            "text/plain": [
              "<catboost.core.CatBoostClassifier at 0x7f094bac3080>"
            ]
          },
          "metadata": {
            "tags": []
          },
          "execution_count": 75
        }
      ]
    },
    {
      "cell_type": "code",
      "metadata": {
        "id": "Y5ew-wu6ItDr"
      },
      "source": [
        "train_cgb_num_cat_self = model.predict(x_train_cat_num_F)\n",
        "test_cgb_num_cat_self = model.predict(x_test_cat_num_F)"
      ],
      "execution_count": null,
      "outputs": []
    },
    {
      "cell_type": "markdown",
      "metadata": {
        "id": "-nvKouoopCNM"
      },
      "source": [
        "Обработка категориальных признаков встроенным методом оказалась чуточку получше"
      ]
    },
    {
      "cell_type": "code",
      "metadata": {
        "id": "h5VUOT1LIsvK"
      },
      "source": [
        ""
      ],
      "execution_count": null,
      "outputs": []
    },
    {
      "cell_type": "markdown",
      "metadata": {
        "id": "Xxr8wBbDdrE-"
      },
      "source": [
        "Задание 10: построить ROC-кривую для всех построенных алгоритмов на обучающей и тестовой выборке. Сделать выводы о работе алгоритмов с точки зрения качества на тестовой выборке и с точки зрения переобучения.\n",
        "\n"
      ]
    },
    {
      "cell_type": "code",
      "metadata": {
        "id": "bkKk--ccQf8S"
      },
      "source": [
        "def plot_roc (train, test):\n",
        "    plt.figure(figsize=(10, 8))\n",
        "    predictions = train, test\n",
        "    labels = ['train', 'test']\n",
        "    for i, y_pred in enumerate(predictions):\n",
        "        fpr, tpr, _ = roc_curve([y_train, y_test][i], y_pred)\n",
        "        auc = round(roc_auc_score([y_train, y_test][i], y_pred), 3)\n",
        "        plt.plot(fpr, tpr, label=f'{labels[i]}, auc={auc}')\n",
        "    plt.title('ROC-кривые', size=14)\n",
        "    plt.legend()\n",
        "    plt.show()"
      ],
      "execution_count": null,
      "outputs": []
    },
    {
      "cell_type": "markdown",
      "metadata": {
        "id": "ydXBzHtP17OX"
      },
      "source": [
        "XGBoost на числовых признаках"
      ]
    },
    {
      "cell_type": "code",
      "metadata": {
        "id": "Rv8bsPqH0apu",
        "outputId": "40451452-cbb0-4e48-c1e7-372b3ae455a5",
        "colab": {
          "base_uri": "https://localhost:8080/",
          "height": 500
        }
      },
      "source": [
        "plot_roc(train_xgb_num, test_xgb_num)"
      ],
      "execution_count": null,
      "outputs": [
        {
          "output_type": "display_data",
          "data": {
            "image/png": "[encoded data removed]",
            "text/plain": [
              "<Figure size 720x576 with 1 Axes>"
            ]
          },
          "metadata": {
            "tags": [],
            "needs_background": "light"
          }
        }
      ]
    },
    {
      "cell_type": "markdown",
      "metadata": {
        "id": "9Z1BTYEv2cJD"
      },
      "source": [
        "XGBoost на числовых и категориальных признаках"
      ]
    },
    {
      "cell_type": "code",
      "metadata": {
        "id": "qegTFNVAQfqM",
        "outputId": "4374875d-1e38-49c7-eb80-72319e9282a0",
        "colab": {
          "base_uri": "https://localhost:8080/",
          "height": 500
        }
      },
      "source": [
        "plot_roc(train_xgb_num_cat, test_xgb_num_cat)"
      ],
      "execution_count": null,
      "outputs": [
        {
          "output_type": "display_data",
          "data": {
            "image/png": "[encoded data removed]",
            "text/plain": [
              "<Figure size 720x576 with 1 Axes>"
            ]
          },
          "metadata": {
            "tags": [],
            "needs_background": "light"
          }
        }
      ]
    },
    {
      "cell_type": "markdown",
      "metadata": {
        "id": "Zq3Qzp702uuv"
      },
      "source": [
        "LightGBM на числовых признаках"
      ]
    },
    {
      "cell_type": "code",
      "metadata": {
        "id": "XiEn6T7IzzHl",
        "outputId": "fc1a1d73-e9bc-42ed-a6f9-12533122f96e",
        "colab": {
          "base_uri": "https://localhost:8080/",
          "height": 500
        }
      },
      "source": [
        "plot_roc(train_lgb_num, test_lgb_num)"
      ],
      "execution_count": null,
      "outputs": [
        {
          "output_type": "display_data",
          "data": {
            "image/png": "[encoded data removed]",
            "text/plain": [
              "<Figure size 720x576 with 1 Axes>"
            ]
          },
          "metadata": {
            "tags": [],
            "needs_background": "light"
          }
        }
      ]
    },
    {
      "cell_type": "markdown",
      "metadata": {
        "id": "XQrNsMFo2z7k"
      },
      "source": [
        "LightGBM на числовых и категориальных признаках"
      ]
    },
    {
      "cell_type": "code",
      "metadata": {
        "id": "eNbGm-4IPlGS",
        "outputId": "29e9b527-6156-4e20-e372-63d9db5df36d",
        "colab": {
          "base_uri": "https://localhost:8080/",
          "height": 500
        }
      },
      "source": [
        "plot_roc(train_lgb_num_cat, test_lgb_num_cat)"
      ],
      "execution_count": null,
      "outputs": [
        {
          "output_type": "display_data",
          "data": {
            "image/png": "[encoded data removed]",
            "text/plain": [
              "<Figure size 720x576 with 1 Axes>"
            ]
          },
          "metadata": {
            "tags": [],
            "needs_background": "light"
          }
        }
      ]
    },
    {
      "cell_type": "markdown",
      "metadata": {
        "id": "ZwayAumL21nn"
      },
      "source": [
        "LightGBM на числовых и категориальных признаках (категориальные признаки обработаны встроенным методом LightGBM)"
      ]
    },
    {
      "cell_type": "code",
      "metadata": {
        "id": "LsfARbv3nZrW",
        "outputId": "539d508d-ba92-4b9a-9f59-e543124f0900",
        "colab": {
          "base_uri": "https://localhost:8080/",
          "height": 500
        }
      },
      "source": [
        "plot_roc(train_lgb_num_cat_self, test_lgb_num_cat_self)"
      ],
      "execution_count": null,
      "outputs": [
        {
          "output_type": "display_data",
          "data": {
            "image/png": "[encoded data removed]",
            "text/plain": [
              "<Figure size 720x576 with 1 Axes>"
            ]
          },
          "metadata": {
            "tags": [],
            "needs_background": "light"
          }
        }
      ]
    },
    {
      "cell_type": "markdown",
      "metadata": {
        "id": "XR-0Sz5P23Dk"
      },
      "source": [
        "CatBoost на числовых признаках"
      ]
    },
    {
      "cell_type": "code",
      "metadata": {
        "id": "T1UcC9JnzCbA",
        "outputId": "ce27f9d7-1227-49cd-8fc2-8c289149da07",
        "colab": {
          "base_uri": "https://localhost:8080/",
          "height": 500
        }
      },
      "source": [
        "plot_roc(train_cgb_num, test_cgb_num)"
      ],
      "execution_count": null,
      "outputs": [
        {
          "output_type": "display_data",
          "data": {
            "image/png": "[encoded data removed]",
            "text/plain": [
              "<Figure size 720x576 with 1 Axes>"
            ]
          },
          "metadata": {
            "tags": [],
            "needs_background": "light"
          }
        }
      ]
    },
    {
      "cell_type": "markdown",
      "metadata": {
        "id": "DBXzl-qk2-yx"
      },
      "source": [
        "CatBoost на числовых и категориальных признаках"
      ]
    },
    {
      "cell_type": "code",
      "metadata": {
        "id": "k3XBlA88Plky",
        "outputId": "a5d971ba-3aa4-412d-b1c7-014b53ee229c",
        "colab": {
          "base_uri": "https://localhost:8080/",
          "height": 500
        }
      },
      "source": [
        "plot_roc(train_cgb_num_cat, test_cgb_num_cat)"
      ],
      "execution_count": null,
      "outputs": [
        {
          "output_type": "display_data",
          "data": {
            "image/png": "[encoded data removed]",
            "text/plain": [
              "<Figure size 720x576 with 1 Axes>"
            ]
          },
          "metadata": {
            "tags": [],
            "needs_background": "light"
          }
        }
      ]
    },
    {
      "cell_type": "markdown",
      "metadata": {
        "id": "0vaq91PH3Aay"
      },
      "source": [
        "CatBoost на числовых и категориальных признаках (категориальные признаки обработаны встроенным методом CatBoost)"
      ]
    },
    {
      "cell_type": "code",
      "metadata": {
        "id": "5F_Mnf4kPlVr",
        "outputId": "f0255eea-e788-49c4-be78-2abe6d391a71",
        "colab": {
          "base_uri": "https://localhost:8080/",
          "height": 500
        }
      },
      "source": [
        "plot_roc(train_cgb_num_cat_self, test_cgb_num_cat_self)"
      ],
      "execution_count": null,
      "outputs": [
        {
          "output_type": "display_data",
          "data": {
            "image/png": "[encoded data removed]",
            "text/plain": [
              "<Figure size 720x576 with 1 Axes>"
            ]
          },
          "metadata": {
            "tags": [],
            "needs_background": "light"
          }
        }
      ]
    },
    {
      "cell_type": "markdown",
      "metadata": {
        "id": "UpSMUAoDQaLu"
      },
      "source": [
        "Качество на тестовой выборки постепенно растет, приближаясь к качеству тренировочной выборки. Если я не ошибаюсь, переобучение это когда графики начинают расходиться. Тут такое не наблюдается. "
      ]
    },
    {
      "cell_type": "code",
      "metadata": {
        "id": "n5zfTdk0yuEc"
      },
      "source": [
        "# train_xgb_num, test_xgb_num\n",
        "# train_xgb_num_cat, test_xgb_num_cat\n",
        "# train_lgb_num, test_lgb_num\n",
        "# train_lgb_num_cat, test_lgb_num_cat\n",
        "# train_lgb_num_cat_self, test_lgb_num_cat_self\n",
        "# train_cgb_num, test_cgb_num\n",
        "# train_cgb_num_cat, test_cgb_num_cat\n",
        "# train_cgb_num_cat_self, test_cgb_num_cat_self"
      ],
      "execution_count": null,
      "outputs": []
    },
    {
      "cell_type": "code",
      "metadata": {
        "id": "nDBAXRiPduK-"
      },
      "source": [
        ""
      ],
      "execution_count": null,
      "outputs": []
    },
    {
      "cell_type": "code",
      "metadata": {
        "id": "VPBW0TBsdtlM"
      },
      "source": [
        ""
      ],
      "execution_count": null,
      "outputs": []
    },
    {
      "cell_type": "markdown",
      "metadata": {
        "id": "Bn026iKjSjf-"
      },
      "source": [
        "К сожалению, не успеваю выполнить дополнительные задания"
      ]
    },
    {
      "cell_type": "markdown",
      "metadata": {
        "id": "SDZHPoS-dujp"
      },
      "source": [
        "Задание на повторение:\n",
        "Задание не обязательно к выполнению, но очень рекомендуется для понимания набора данных, этот набор данных будет использован и для следующего домашнего задания.\n",
        "\n",
        "Задание 1: Построить график распределения времени совершения транзакции для обучающей / тестовой выборки, сделать выводы о том, как разбиты данные и какие виды валидации могут подойти для данной задачи.\n",
        "Задание 2: построить scatter-plot зависимости суммы транзакции от времени совершения транзакции. Построить графики для обучающей выборки и для тестовой выборки, для обучающей выборки - построить как для целевой переменной = 0, так и для переменной = 1. Сделать выводы.\n",
        "Задание 3: построить распределение признака TransactionAmt в логарифмическом масштабе, сделать выводы о близости распредления к нормальному распределению. Построить распределение признака в логарифмическому масштабе для обучающей выборк и для тестовой выборки, сделать выводы.\n",
        "Задание 4: построить распределение признака целевой переменной в зависимости от значений категориальных признаков ProductCD, card4, card6. Сделать выводы."
      ]
    }
  ]
}