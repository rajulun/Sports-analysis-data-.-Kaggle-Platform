{
  "nbformat": 4,
  "nbformat_minor": 0,
  "metadata": {
    "colab": {
      "name": "Тюнинг гиперпараметров, построение ансамблей алгоритмов.ipynb",
      "provenance": [],
      "collapsed_sections": [],
      "toc_visible": true
    },
    "kernelspec": {
      "name": "python3",
      "display_name": "Python 3"
    }
  },
  "cells": [
    {
      "cell_type": "markdown",
      "metadata": {
        "id": "u_zjkutrmMZC"
      },
      "source": [
        "## Урок 7. Тюнинг гиперпараметров, построение ансамблей алгоритмов."
      ]
    },
    {
      "cell_type": "code",
      "metadata": {
        "id": "usgzZK2bqz7o"
      },
      "source": [
        "# !pip install catboost"
      ],
      "execution_count": 1,
      "outputs": []
    },
    {
      "cell_type": "code",
      "metadata": {
        "id": "vbkmL9lJGtR2"
      },
      "source": [
        "# !pip install --upgrade --force-reinstall --no-deps kaggle"
      ],
      "execution_count": 2,
      "outputs": []
    },
    {
      "cell_type": "code",
      "metadata": {
        "id": "033mSgl_0WJP"
      },
      "source": [
        "import time\r\n",
        "import numpy as np\r\n",
        "import pandas as pd\r\n",
        "import seaborn as sns\r\n",
        "import catboost as cb\r\n",
        "import xgboost as xgb\r\n",
        "import lightgbm as lgb\r\n",
        "import matplotlib.pyplot as plt\r\n",
        "\r\n",
        "from tqdm import tqdm\r\n",
        "from scipy.stats import gmean, rankdata\r\n",
        "from sklearn.metrics import roc_auc_score\r\n",
        "from sklearn.model_selection import train_test_split, KFold\r\n",
        "from sklearn.linear_model import LogisticRegression"
      ],
      "execution_count": 85,
      "outputs": []
    },
    {
      "cell_type": "code",
      "metadata": {
        "id": "iEHuzBm6wzeV"
      },
      "source": [
        "# !mkdir -p ~/.kaggle\n",
        "# !cp /content/kaggle.json ~/.kaggle/\n",
        "# !chmod 600 /root/.kaggle/kaggle.json\n",
        "# !kaggle competitions download -c geekbrains-competitive-data-analysis"
      ],
      "execution_count": 4,
      "outputs": []
    },
    {
      "cell_type": "code",
      "metadata": {
        "id": "O5XZ2xmxGmRG"
      },
      "source": [
        "# !kaggle -v"
      ],
      "execution_count": 5,
      "outputs": []
    },
    {
      "cell_type": "code",
      "metadata": {
        "id": "ti-ntv2FyOFQ"
      },
      "source": [
        "# !unzip -q /content/geekbrains-competitive-data-analysis.zip -d /content/data"
      ],
      "execution_count": 6,
      "outputs": []
    },
    {
      "cell_type": "markdown",
      "metadata": {
        "id": "V9ZoWPIG1hFI"
      },
      "source": [
        "## Useful Functions"
      ]
    },
    {
      "cell_type": "code",
      "metadata": {
        "id": "CzDwmBo_zWta"
      },
      "source": [
        "def get_input(data_path: str) -> pd.DataFrame:\r\n",
        "    \"\"\"\r\n",
        "    Считывание данных и вывод основной информации о наборе данных.\r\n",
        "\r\n",
        "    Parameters\r\n",
        "    ----------\r\n",
        "    data_path: str\r\n",
        "        Название файла.\r\n",
        "\r\n",
        "    Returns\r\n",
        "    -------\r\n",
        "    data: pandas.core.frame.DataFrame\r\n",
        "        Загруженный набор данных в pandas.DataFrame\r\n",
        "\r\n",
        "    \"\"\"\r\n",
        "    base_path = \"data\"\r\n",
        "    data = pd.read_csv(f\"{base_path}/{data_path}\")\r\n",
        "    data.columns = [col.lower() for col in data.columns]\r\n",
        "    print(f\"{data_path}: shape = {data.shape[0]} rows, {data.shape[1]} cols\")\r\n",
        "\r\n",
        "    return data\r\n",
        "\r\n",
        "def lightgbm_cross_validation(params, X, y, cv, categorical = None):\r\n",
        "    \"\"\"\r\n",
        "    Кросс-валидация для модели catbooost.\r\n",
        "\r\n",
        "    Parameters\r\n",
        "    ----------\r\n",
        "    params: dict\r\n",
        "        Словарь гиперпараметров модели.\r\n",
        "\r\n",
        "    X: pandas.core.frame.DataFrame\r\n",
        "        Матрица признако для обучения модели.\r\n",
        "\r\n",
        "    y: pandas.core.frame.Series\r\n",
        "        Вектор целевой переменной для обучения модели.\r\n",
        "\r\n",
        "    cv: KFold or StratifiedKFold generator.\r\n",
        "        Объект KFold / StratifiedKFold для определения\r\n",
        "        стратегии кросс-валидации модели.\r\n",
        "\r\n",
        "    categorical: str, optional, default = None\r\n",
        "        Список категориальных признаков.\r\n",
        "        Опциональный параметр, по умолчанию, не используется.\r\n",
        "\r\n",
        "    Returns\r\n",
        "    -------\r\n",
        "    estimators: list\r\n",
        "        Список с объектами обученной модели.\r\n",
        "\r\n",
        "    oof_preds: np.array\r\n",
        "        Вектор OOF-прогнозов.\r\n",
        "\r\n",
        "    \"\"\"\r\n",
        "    if not categorical:\r\n",
        "        categorical = \"auto\"\r\n",
        "\r\n",
        "    estimators, folds_scores = [], []\r\n",
        "    oof_preds = np.zeros(X.shape[0])\r\n",
        "    print(f\"{time.ctime()}, Cross-Validation, {X.shape[0]} rows, {X.shape[1]} cols\")\r\n",
        "\r\n",
        "    for fold, (train_idx, valid_idx) in enumerate(cv.split(X, y)):\r\n",
        "        x_train, x_valid = X.loc[train_idx], X.loc[valid_idx]\r\n",
        "        y_train, y_valid = y[train_idx], y[valid_idx]\r\n",
        "\r\n",
        "        model = lgb.LGBMClassifier(**params)\r\n",
        "        model.fit(\r\n",
        "            x_train, y_train,\r\n",
        "            eval_set=[(x_valid, y_valid)],\r\n",
        "            eval_metric=\"auc\", verbose=50, early_stopping_rounds=5000,\r\n",
        "            categorical_feature=categorical\r\n",
        "        )\r\n",
        "        oof_preds[valid_idx] = model.predict_proba(x_valid)[:, 1]\r\n",
        "        score = roc_auc_score(y_valid, oof_preds[valid_idx])\r\n",
        "        print(f\"Fold {fold+1}, Valid score = {round(score, 5)}\")\r\n",
        "        folds_scores.append(round(score, 5))\r\n",
        "        estimators.append(model)\r\n",
        "\r\n",
        "    print(f\"Score by each fold: {folds_scores}\")\r\n",
        "    print(\"=\"*65)\r\n",
        "    return estimators, oof_preds\r\n",
        "\r\n",
        "\r\n",
        "def xgboost_cross_validation(params, X, y, cv, categorical = None):\r\n",
        "    \"\"\"\r\n",
        "    Кросс-валидация для модели catbooost.\r\n",
        "\r\n",
        "    Parameters\r\n",
        "    ----------\r\n",
        "    params: dict\r\n",
        "        Словарь гиперпараметров модели.\r\n",
        "\r\n",
        "    X: pandas.core.frame.DataFrame\r\n",
        "        Матрица признако для обучения модели.\r\n",
        "\r\n",
        "    y: pandas.core.frame.Series\r\n",
        "        Вектор целевой переменной для обучения модели.\r\n",
        "\r\n",
        "    cv: KFold or StratifiedKFold generator.\r\n",
        "        Объект KFold / StratifiedKFold для определения\r\n",
        "        стратегии кросс-валидации модели.\r\n",
        "\r\n",
        "    categorical: str, optional, default = None\r\n",
        "        Список категориальных признаков.\r\n",
        "        Опциональный параметр, по умолчанию, не используется.\r\n",
        "\r\n",
        "    Returns\r\n",
        "    -------\r\n",
        "    estimators: list\r\n",
        "        Список с объектами обученной модели.\r\n",
        "\r\n",
        "    encoders: dict\r\n",
        "        Список с объектами LabelEncoders.\r\n",
        "\r\n",
        "    oof_preds: np.array\r\n",
        "        Вектор OOF-прогнозов.\r\n",
        "\r\n",
        "    \"\"\"\r\n",
        "    estimators, encoders = [], {}\r\n",
        "    oof_preds = np.zeros(X.shape[0])\r\n",
        "\r\n",
        "    if categorical:\r\n",
        "        for feature in categorical:\r\n",
        "            encoder = LabelEncoder()\r\n",
        "            X[feature] = encoder.fit_transform(X[feature].astype(\"str\").fillna(\"NA\"))\r\n",
        "            encoders[feature] = encoder\r\n",
        "\r\n",
        "    print(f\"{time.ctime()}, Cross-Validation, {X.shape[0]} rows, {X.shape[1]} cols\")\r\n",
        "\r\n",
        "    for fold, (train_idx, valid_idx) in enumerate(cv.split(X, y)):\r\n",
        "\r\n",
        "        x_train, x_valid = X.loc[train_idx], X.loc[valid_idx]\r\n",
        "        y_train, y_valid = y[train_idx], y[valid_idx]\r\n",
        "        dtrain = xgb.DMatrix(x_train, y_train)\r\n",
        "        dvalid = xgb.DMatrix(x_valid, y_valid)\r\n",
        "\r\n",
        "        model = xgb.train(\r\n",
        "            params=params,\r\n",
        "            dtrain=dtrain,\r\n",
        "            maximize=True,\r\n",
        "            num_boost_round=10000,\r\n",
        "            early_stopping_rounds=50,\r\n",
        "            evals=[(dtrain, \"train\"), (dvalid, \"valid\")],\r\n",
        "            verbose_eval=100,\r\n",
        "        )\r\n",
        "        oof_preds[valid_idx] = model.predict(dvalid)\r\n",
        "        score = roc_auc_score(y_valid, oof_preds[valid_idx])\r\n",
        "        print(f\"Fold {fold+1}, Valid score = {round(score, 5)}\")\r\n",
        "        estimators.append(model)\r\n",
        "\r\n",
        "    return estimators, encoders, oof_preds\r\n",
        "\r\n",
        "def catboost_cross_validation(params, X, y, cv, categorical = None):\r\n",
        "    \"\"\"\r\n",
        "    Кросс-валидация для модели catbooost.\r\n",
        "\r\n",
        "    Parameters\r\n",
        "    ----------\r\n",
        "    params: dict\r\n",
        "        Словарь гиперпараметров модели.\r\n",
        "\r\n",
        "    X: pandas.core.frame.DataFrame\r\n",
        "        Матрица признако для обучения модели.\r\n",
        "\r\n",
        "    y: pandas.core.frame.Series\r\n",
        "        Вектор целевой переменной для обучения модели.\r\n",
        "\r\n",
        "    cv: KFold or StratifiedKFold generator.\r\n",
        "        Объект KFold / StratifiedKFold для определения\r\n",
        "        стратегии кросс-валидации модели.\r\n",
        "\r\n",
        "    categorical: str, optional, default = None\r\n",
        "        Список категориальных признаков.\r\n",
        "        Опциональный параметр, по умолчанию, не используется.\r\n",
        "\r\n",
        "    Returns\r\n",
        "    -------\r\n",
        "    estimators: list\r\n",
        "        Список с объектами обученной модели.\r\n",
        "\r\n",
        "    oof_preds: np.array\r\n",
        "        Вектор OOF-прогнозов.\r\n",
        "\r\n",
        "    \"\"\"\r\n",
        "    estimators, folds_scores = [], []\r\n",
        "    oof_preds = np.zeros(X.shape[0])\r\n",
        "\r\n",
        "    print(f\"{time.ctime()}, Cross-Validation, {X.shape[0]} rows, {X.shape[1]} cols\")\r\n",
        "    X[categorical] = X[categorical].astype(str)\r\n",
        "\r\n",
        "    for fold, (train_idx, valid_idx) in enumerate(cv.split(X, y)):\r\n",
        "\r\n",
        "        x_train, x_valid = X.loc[train_idx], X.loc[valid_idx]\r\n",
        "        y_train, y_valid = y[train_idx], y[valid_idx]\r\n",
        "\r\n",
        "        model = cb.CatBoostClassifier(**params)\r\n",
        "        model.fit(\r\n",
        "            x_train, y_train, categorical,\r\n",
        "            eval_set=[(x_train, y_train), (x_valid, y_valid)]\r\n",
        "        )\r\n",
        "        oof_preds[valid_idx] = model.predict_proba(x_valid)[:, 1]\r\n",
        "        score = roc_auc_score(y_valid, oof_preds[valid_idx])\r\n",
        "        print(f\"Fold {fold+1}, Valid score = {round(score, 5)}\")\r\n",
        "        folds_scores.append(round(score, 5))\r\n",
        "        estimators.append(model)\r\n",
        "\r\n",
        "    print(f\"Score by each fold: {folds_scores}\")\r\n",
        "    print(\"=\"*65)\r\n",
        "    return estimators, oof_preds\r\n"
      ],
      "execution_count": 7,
      "outputs": []
    },
    {
      "cell_type": "markdown",
      "metadata": {
        "id": "5JSnnrfj1wld"
      },
      "source": [
        "## Prepare data"
      ]
    },
    {
      "cell_type": "code",
      "metadata": {
        "colab": {
          "base_uri": "https://localhost:8080/"
        },
        "id": "lxQC0qK90RVY",
        "outputId": "a1d32862-cf84-482e-b617-544f9807624b"
      },
      "source": [
        "def create_client_profile_features(X: pd.DataFrame, copy: bool = True) -> pd.DataFrame:\r\n",
        "    \"\"\"\r\n",
        "    Создание признаков на основе профиля клиентов.\r\n",
        "\r\n",
        "    Parameters\r\n",
        "    ----------\r\n",
        "    X: pandas.core.frame.DataFrame\r\n",
        "        Матрица признаков с исходным профилем клиента.\r\n",
        "\r\n",
        "    copy: bool, optional, default = True\r\n",
        "        Флаг использования копии датафрейма X.\r\n",
        "        Опциональный параметр, по умолчанию, равен True.\r\n",
        "\r\n",
        "    Returns\r\n",
        "    -------\r\n",
        "    X_transformed: pandas.core.frame.DataFrame\r\n",
        "        Расширенная матрица признаков с профилем клиентов.\r\n",
        "\r\n",
        "    \"\"\"\r\n",
        "    if copy:\r\n",
        "        X = X.copy()\r\n",
        "\r\n",
        "    X[\"days_on_last_job\"] = X[\"days_on_last_job\"].replace(365243, np.nan)\r\n",
        "    bki_flags = [flag for flag in X.columns if \"amt_req_credit_bureau\" in flag]\r\n",
        "    X[\"bki_requests_count\"] = X[bki_flags].sum(axis=1)\r\n",
        "    X[\"bki_kurtosis\"] = X[bki_flags].kurtosis(axis=1)\r\n",
        "\r\n",
        "    X[\"external_scoring_prod\"] = X[\"external_scoring_rating_1\"] * X[\"external_scoring_rating_2\"] * X[\"external_scoring_rating_3\"]\r\n",
        "    X[\"external_scoring_weighted\"] = X.external_scoring_rating_1 * 2 + X.external_scoring_rating_2 * 1 + X.external_scoring_rating_3 * 3\r\n",
        "    # X[\"log_external_scoring_rating_1\"] = np.log(X[\"external_scoring_rating_1\"])\r\n",
        "    # X[\"log_external_scoring_rating_2\"] = np.log(X[\"external_scoring_rating_2\"])\r\n",
        "    # X[\"log_external_scoring_rating_3\"] = np.log(X[\"external_scoring_rating_3\"])\r\n",
        "\r\n",
        "    for function_name in [\"min\", \"max\", \"mean\", \"nanmedian\", \"var\"]:\r\n",
        "        feature_name = \"external_scoring_rating_{}\".format(function_name)\r\n",
        "        X[feature_name] = eval(\"np.{}\".format(function_name))(\r\n",
        "            X[[\"external_scoring_rating_1\", \"external_scoring_rating_2\", \"external_scoring_rating_3\"]], axis=1\r\n",
        "        )\r\n",
        "\r\n",
        "    # Отношение между основными фин. показателями\r\n",
        "    X['ratio_credit_to_annuity'] = X['amount_credit'] / X['amount_annuity']\r\n",
        "    X[\"ratio_annuity_to_salary\"] = X['amount_annuity'] / X['total_salary']\r\n",
        "    X['ratio_credit_to_salary'] = X['amount_credit'] / X['total_salary']\r\n",
        "    X[\"total_salary_net\"] = X[\"total_salary\"] - X[\"amount_annuity\"]\r\n",
        "\r\n",
        "    # Отношение фин. показателей к возрасту и временным фичам\r\n",
        "    X[\"ratio_annuity_to_age\"] = X[\"amount_annuity\"] / X[\"age\"]\r\n",
        "    X[\"ratio_credit_to_age\"] = X[\"amount_credit\"] / X[\"age\"]\r\n",
        "    X[\"ratio_salary_to_age\"] = X[\"total_salary\"] / X[\"age\"]\r\n",
        "\r\n",
        "    X[\"ratio_salary_to_experience\"] = X[\"total_salary\"] / X[\"days_on_last_job\"]\r\n",
        "    X[\"ratio_credit_to_experience\"] = X[\"amount_credit\"] / X[\"days_on_last_job\"]\r\n",
        "    X[\"ratio_annuity_to_experience\"] = X[\"amount_annuity\"] / X[\"days_on_last_job\"]\r\n",
        "\r\n",
        "    # Отношение врменных признаков\r\n",
        "    X[\"ratio_age_to_experience\"] = X[\"age\"] / X[\"days_on_last_job\"]\r\n",
        "    X[\"ratio_salary_to_region_population\"] = X[\"total_salary\"] * X[\"region_population\"]\r\n",
        "    X[\"ratio_car_to_experience\"] = X[\"own_car_age\"] / X[\"days_on_last_job\"]\r\n",
        "    X[\"ratio_car_to_age\"] = X[\"own_car_age\"] / X[\"age\"]\r\n",
        "\r\n",
        "    # Произведение фин. показателей кредита на вероятность дефолта\r\n",
        "    # Такая штука называется математическим ожиданием дефолта или ожидаемыми потерями\r\n",
        "    # X[\"expected_total_loss_1\"] = X[\"external_scoring_rating_1\"] * X[\"amount_credit\"]\r\n",
        "    # X[\"expected_total_loss_2\"] = X[\"external_scoring_rating_2\"] * X[\"amount_credit\"]\r\n",
        "    # X[\"expected_total_loss_3\"] = X[\"external_scoring_rating_3\"] * X[\"amount_credit\"]\r\n",
        "    # X[\"expected_monthly_loss_1\"] = X[\"external_scoring_rating_1\"] * X[\"amount_annuity\"]\r\n",
        "    # X[\"expected_monthly_loss_2\"] = X[\"external_scoring_rating_2\"] * X[\"amount_annuity\"]\r\n",
        "    # X[\"expected_monthly_loss_3\"] = X[\"external_scoring_rating_3\"] * X[\"amount_annuity\"]\r\n",
        "    \r\n",
        "\r\n",
        "    return X\r\n",
        "\r\n",
        "def append_to_data(data: pd.DataFrame, X: pd.DataFrame, groupby: str=\"application_number\"):\r\n",
        "    X = X.replace(365243, np.nan)\r\n",
        "    X = X.groupby(groupby).mean()\r\n",
        "\r\n",
        "    data = data.merge(X, how=\"left\", on=groupby)\r\n",
        "\r\n",
        "    return data\r\n",
        "\r\n",
        "\r\n",
        "train = get_input(\"train.csv\")\r\n",
        "test = get_input(\"test.csv\")\r\n",
        "\r\n",
        "data = pd.concat([train, test], axis=0)\r\n",
        "data = data.reset_index(drop=True)\r\n",
        "data.head(n=2)\r\n",
        "\r\n",
        "client_profile = get_input(\"client_profile.csv\")\r\n",
        "client_profile = create_client_profile_features(client_profile)\r\n",
        "client_profile.head(n=2)\r\n",
        "\r\n",
        "data = data.merge(\r\n",
        "    client_profile, how=\"left\", on=\"application_number\"\r\n",
        ")\r\n",
        "data.shape\r\n",
        "\r\n"
      ],
      "execution_count": 8,
      "outputs": [
        {
          "output_type": "stream",
          "text": [
            "train.csv: shape = 110093 rows, 3 cols\n",
            "test.csv: shape = 165141 rows, 2 cols\n",
            "client_profile.csv: shape = 250000 rows, 24 cols\n"
          ],
          "name": "stdout"
        },
        {
          "output_type": "stream",
          "text": [
            "/usr/local/lib/python3.6/dist-packages/numpy/lib/nanfunctions.py:1114: RuntimeWarning: All-NaN slice encountered\n",
            "  overwrite_input=overwrite_input)\n"
          ],
          "name": "stderr"
        },
        {
          "output_type": "execute_result",
          "data": {
            "text/plain": [
              "(275234, 49)"
            ]
          },
          "metadata": {
            "tags": []
          },
          "execution_count": 8
        }
      ]
    },
    {
      "cell_type": "code",
      "metadata": {
        "colab": {
          "base_uri": "https://localhost:8080/",
          "height": 181
        },
        "id": "sLfS3nvUOk3D",
        "outputId": "2e80b8ed-4c16-4b36-b17f-10ff3c86d883"
      },
      "source": [
        "categorical = data.dtypes[data.dtypes == \"object\"].index\r\n",
        "numerical = list(set(data.columns) - set(categorical))\r\n",
        "data[numerical] = data[numerical].astype(float)\r\n",
        "data[categorical] = data[categorical].astype('category')\r\n",
        "\r\n",
        "data = pd.get_dummies(data)\r\n",
        "\r\n",
        "mask = data[\"target\"].isnull()\r\n",
        "train, test = data.loc[~mask], data.loc[mask]\r\n",
        "\r\n",
        "target, test_id = train[\"target\"], test[\"application_number\"]\r\n",
        "train = train.drop([\"application_number\", \"target\"], axis=1)\r\n",
        "test = test.drop([\"application_number\", \"target\"], axis=1)\r\n",
        "t_categorical = train.dtypes[train.dtypes == \"object\"].index\r\n",
        "t_numerical = list(set(train.columns) - set(t_categorical))\r\n",
        "data.head(3)"
      ],
      "execution_count": 9,
      "outputs": [
        {
          "output_type": "execute_result",
          "data": {
            "text/html": [
              "<div>\n",
              "<style scoped>\n",
              "    .dataframe tbody tr th:only-of-type {\n",
              "        vertical-align: middle;\n",
              "    }\n",
              "\n",
              "    .dataframe tbody tr th {\n",
              "        vertical-align: top;\n",
              "    }\n",
              "\n",
              "    .dataframe thead th {\n",
              "        text-align: right;\n",
              "    }\n",
              "</style>\n",
              "<table border=\"1\" class=\"dataframe\">\n",
              "  <thead>\n",
              "    <tr style=\"text-align: right;\">\n",
              "      <th></th>\n",
              "      <th>application_number</th>\n",
              "      <th>target</th>\n",
              "      <th>childrens</th>\n",
              "      <th>total_salary</th>\n",
              "      <th>amount_credit</th>\n",
              "      <th>amount_annuity</th>\n",
              "      <th>region_population</th>\n",
              "      <th>age</th>\n",
              "      <th>days_on_last_job</th>\n",
              "      <th>own_car_age</th>\n",
              "      <th>flag_phone</th>\n",
              "      <th>flag_email</th>\n",
              "      <th>family_size</th>\n",
              "      <th>external_scoring_rating_1</th>\n",
              "      <th>external_scoring_rating_2</th>\n",
              "      <th>external_scoring_rating_3</th>\n",
              "      <th>amt_req_credit_bureau_hour</th>\n",
              "      <th>amt_req_credit_bureau_day</th>\n",
              "      <th>amt_req_credit_bureau_week</th>\n",
              "      <th>amt_req_credit_bureau_mon</th>\n",
              "      <th>amt_req_credit_bureau_qrt</th>\n",
              "      <th>amt_req_credit_bureau_year</th>\n",
              "      <th>bki_requests_count</th>\n",
              "      <th>bki_kurtosis</th>\n",
              "      <th>external_scoring_prod</th>\n",
              "      <th>external_scoring_weighted</th>\n",
              "      <th>external_scoring_rating_min</th>\n",
              "      <th>external_scoring_rating_max</th>\n",
              "      <th>external_scoring_rating_mean</th>\n",
              "      <th>external_scoring_rating_nanmedian</th>\n",
              "      <th>external_scoring_rating_var</th>\n",
              "      <th>ratio_credit_to_annuity</th>\n",
              "      <th>ratio_annuity_to_salary</th>\n",
              "      <th>ratio_credit_to_salary</th>\n",
              "      <th>total_salary_net</th>\n",
              "      <th>ratio_annuity_to_age</th>\n",
              "      <th>ratio_credit_to_age</th>\n",
              "      <th>ratio_salary_to_age</th>\n",
              "      <th>ratio_salary_to_experience</th>\n",
              "      <th>ratio_credit_to_experience</th>\n",
              "      <th>ratio_annuity_to_experience</th>\n",
              "      <th>ratio_age_to_experience</th>\n",
              "      <th>ratio_salary_to_region_population</th>\n",
              "      <th>ratio_car_to_experience</th>\n",
              "      <th>ratio_car_to_age</th>\n",
              "      <th>name_contract_type_Cash</th>\n",
              "      <th>name_contract_type_Credit Card</th>\n",
              "      <th>gender_F</th>\n",
              "      <th>gender_M</th>\n",
              "      <th>gender_XNA</th>\n",
              "      <th>education_level_Academic degree</th>\n",
              "      <th>education_level_Higher education</th>\n",
              "      <th>education_level_Incomplete higher</th>\n",
              "      <th>education_level_Lower secondary</th>\n",
              "      <th>education_level_Secondary / secondary special</th>\n",
              "      <th>family_status_Civil marriage</th>\n",
              "      <th>family_status_Married</th>\n",
              "      <th>family_status_Separated</th>\n",
              "      <th>family_status_Single / not married</th>\n",
              "      <th>family_status_Unknown</th>\n",
              "      <th>family_status_Widow</th>\n",
              "    </tr>\n",
              "  </thead>\n",
              "  <tbody>\n",
              "    <tr>\n",
              "      <th>0</th>\n",
              "      <td>123687442.0</td>\n",
              "      <td>0.0</td>\n",
              "      <td>1.0</td>\n",
              "      <td>157500.0</td>\n",
              "      <td>855000.0</td>\n",
              "      <td>25128.0</td>\n",
              "      <td>0.019101</td>\n",
              "      <td>15728.0</td>\n",
              "      <td>1719.0</td>\n",
              "      <td>11.0</td>\n",
              "      <td>0.0</td>\n",
              "      <td>0.0</td>\n",
              "      <td>3.0</td>\n",
              "      <td>0.700784</td>\n",
              "      <td>0.645914</td>\n",
              "      <td>0.716570</td>\n",
              "      <td>0.0</td>\n",
              "      <td>0.0</td>\n",
              "      <td>1.0</td>\n",
              "      <td>0.0</td>\n",
              "      <td>0.0</td>\n",
              "      <td>2.0</td>\n",
              "      <td>3.0</td>\n",
              "      <td>1.428571</td>\n",
              "      <td>0.324353</td>\n",
              "      <td>4.197193</td>\n",
              "      <td>0.645914</td>\n",
              "      <td>0.716570</td>\n",
              "      <td>0.687756</td>\n",
              "      <td>0.700784</td>\n",
              "      <td>0.000917</td>\n",
              "      <td>34.025788</td>\n",
              "      <td>0.159543</td>\n",
              "      <td>5.428571</td>\n",
              "      <td>132372.0</td>\n",
              "      <td>1.59766</td>\n",
              "      <td>54.361648</td>\n",
              "      <td>10.013988</td>\n",
              "      <td>91.623037</td>\n",
              "      <td>497.382199</td>\n",
              "      <td>14.617801</td>\n",
              "      <td>9.149506</td>\n",
              "      <td>3008.4075</td>\n",
              "      <td>0.006399</td>\n",
              "      <td>0.000699</td>\n",
              "      <td>1</td>\n",
              "      <td>0</td>\n",
              "      <td>0</td>\n",
              "      <td>1</td>\n",
              "      <td>0</td>\n",
              "      <td>0</td>\n",
              "      <td>0</td>\n",
              "      <td>0</td>\n",
              "      <td>0</td>\n",
              "      <td>1</td>\n",
              "      <td>0</td>\n",
              "      <td>1</td>\n",
              "      <td>0</td>\n",
              "      <td>0</td>\n",
              "      <td>0</td>\n",
              "      <td>0</td>\n",
              "    </tr>\n",
              "    <tr>\n",
              "      <th>1</th>\n",
              "      <td>123597908.0</td>\n",
              "      <td>1.0</td>\n",
              "      <td>NaN</td>\n",
              "      <td>NaN</td>\n",
              "      <td>NaN</td>\n",
              "      <td>NaN</td>\n",
              "      <td>NaN</td>\n",
              "      <td>NaN</td>\n",
              "      <td>NaN</td>\n",
              "      <td>NaN</td>\n",
              "      <td>NaN</td>\n",
              "      <td>NaN</td>\n",
              "      <td>NaN</td>\n",
              "      <td>NaN</td>\n",
              "      <td>NaN</td>\n",
              "      <td>NaN</td>\n",
              "      <td>NaN</td>\n",
              "      <td>NaN</td>\n",
              "      <td>NaN</td>\n",
              "      <td>NaN</td>\n",
              "      <td>NaN</td>\n",
              "      <td>NaN</td>\n",
              "      <td>NaN</td>\n",
              "      <td>NaN</td>\n",
              "      <td>NaN</td>\n",
              "      <td>NaN</td>\n",
              "      <td>NaN</td>\n",
              "      <td>NaN</td>\n",
              "      <td>NaN</td>\n",
              "      <td>NaN</td>\n",
              "      <td>NaN</td>\n",
              "      <td>NaN</td>\n",
              "      <td>NaN</td>\n",
              "      <td>NaN</td>\n",
              "      <td>NaN</td>\n",
              "      <td>NaN</td>\n",
              "      <td>NaN</td>\n",
              "      <td>NaN</td>\n",
              "      <td>NaN</td>\n",
              "      <td>NaN</td>\n",
              "      <td>NaN</td>\n",
              "      <td>NaN</td>\n",
              "      <td>NaN</td>\n",
              "      <td>NaN</td>\n",
              "      <td>NaN</td>\n",
              "      <td>1</td>\n",
              "      <td>0</td>\n",
              "      <td>0</td>\n",
              "      <td>0</td>\n",
              "      <td>0</td>\n",
              "      <td>0</td>\n",
              "      <td>0</td>\n",
              "      <td>0</td>\n",
              "      <td>0</td>\n",
              "      <td>0</td>\n",
              "      <td>0</td>\n",
              "      <td>0</td>\n",
              "      <td>0</td>\n",
              "      <td>0</td>\n",
              "      <td>0</td>\n",
              "      <td>0</td>\n",
              "    </tr>\n",
              "    <tr>\n",
              "      <th>2</th>\n",
              "      <td>123526683.0</td>\n",
              "      <td>0.0</td>\n",
              "      <td>0.0</td>\n",
              "      <td>135000.0</td>\n",
              "      <td>1006920.0</td>\n",
              "      <td>42660.0</td>\n",
              "      <td>0.026392</td>\n",
              "      <td>21557.0</td>\n",
              "      <td>3618.0</td>\n",
              "      <td>NaN</td>\n",
              "      <td>1.0</td>\n",
              "      <td>0.0</td>\n",
              "      <td>2.0</td>\n",
              "      <td>NaN</td>\n",
              "      <td>0.682149</td>\n",
              "      <td>0.267869</td>\n",
              "      <td>0.0</td>\n",
              "      <td>0.0</td>\n",
              "      <td>0.0</td>\n",
              "      <td>7.0</td>\n",
              "      <td>0.0</td>\n",
              "      <td>4.0</td>\n",
              "      <td>11.0</td>\n",
              "      <td>0.539379</td>\n",
              "      <td>NaN</td>\n",
              "      <td>NaN</td>\n",
              "      <td>0.267869</td>\n",
              "      <td>0.682149</td>\n",
              "      <td>0.475009</td>\n",
              "      <td>0.475009</td>\n",
              "      <td>0.042907</td>\n",
              "      <td>23.603376</td>\n",
              "      <td>0.316000</td>\n",
              "      <td>7.458667</td>\n",
              "      <td>92340.0</td>\n",
              "      <td>1.97894</td>\n",
              "      <td>46.709653</td>\n",
              "      <td>6.262467</td>\n",
              "      <td>37.313433</td>\n",
              "      <td>278.308458</td>\n",
              "      <td>11.791045</td>\n",
              "      <td>5.958264</td>\n",
              "      <td>3562.9200</td>\n",
              "      <td>NaN</td>\n",
              "      <td>NaN</td>\n",
              "      <td>1</td>\n",
              "      <td>0</td>\n",
              "      <td>1</td>\n",
              "      <td>0</td>\n",
              "      <td>0</td>\n",
              "      <td>0</td>\n",
              "      <td>1</td>\n",
              "      <td>0</td>\n",
              "      <td>0</td>\n",
              "      <td>0</td>\n",
              "      <td>0</td>\n",
              "      <td>1</td>\n",
              "      <td>0</td>\n",
              "      <td>0</td>\n",
              "      <td>0</td>\n",
              "      <td>0</td>\n",
              "    </tr>\n",
              "  </tbody>\n",
              "</table>\n",
              "</div>"
            ],
            "text/plain": [
              "   application_number  target  ...  family_status_Unknown  family_status_Widow\n",
              "0         123687442.0     0.0  ...                      0                    0\n",
              "1         123597908.0     1.0  ...                      0                    0\n",
              "2         123526683.0     0.0  ...                      0                    0\n",
              "\n",
              "[3 rows x 61 columns]"
            ]
          },
          "metadata": {
            "tags": []
          },
          "execution_count": 9
        }
      ]
    },
    {
      "cell_type": "code",
      "metadata": {
        "id": "xfqjd5jGctpo"
      },
      "source": [
        ""
      ],
      "execution_count": 9,
      "outputs": []
    },
    {
      "cell_type": "code",
      "metadata": {
        "colab": {
          "base_uri": "https://localhost:8080/"
        },
        "id": "jQAR1r1JOsPY",
        "outputId": "36995388-e76e-40f2-d9ee-322cd81e82d0"
      },
      "source": [
        "payments = get_input(\"payments.csv\")\r\n",
        "\r\n",
        "bki = get_input(\"bki.csv\")\r\n",
        "\r\n",
        "appl_history = get_input(\"applications_history.csv\")\r\n",
        "\r\n",
        "data = append_to_data(data, payments)\r\n",
        "data = append_to_data(data, bki)\r\n",
        "data = append_to_data(data, appl_history)"
      ],
      "execution_count": 10,
      "outputs": [
        {
          "output_type": "stream",
          "text": [
            "payments.csv: shape = 1023932 rows, 8 cols\n",
            "bki.csv: shape = 945234 rows, 17 cols\n",
            "applications_history.csv: shape = 1670214 rows, 26 cols\n"
          ],
          "name": "stdout"
        }
      ]
    },
    {
      "cell_type": "markdown",
      "metadata": {
        "id": "ZsOfZ96LmXM-"
      },
      "source": [
        "Чтобы было больше времени на выполнение курсовой работы, задание выполнить на наборе данных для соревнования:\r\n",
        "\r\n",
        "Тестовая выборка - это выборка для применения модели и загрузки на ЛБ.\r\n",
        "\r\n",
        "1. Обучить алгоритмы LightGBM и XGBoost, получить OOF прогнозы, оценить корреляцию прогнозов на обучающей выборке. Применить модели на тестовую выборку и оценить корреляцию.\r\n"
      ]
    },
    {
      "cell_type": "code",
      "metadata": {
        "id": "th6ejjhG3wGc"
      },
      "source": [
        "# n_estimators = 50\r\n",
        "# early_stop = 50\r\n",
        "# random_state = 42\r\n",
        "# eta = 0.3"
      ],
      "execution_count": 11,
      "outputs": []
    },
    {
      "cell_type": "code",
      "metadata": {
        "colab": {
          "base_uri": "https://localhost:8080/"
        },
        "id": "BG5E6vYnogVp",
        "outputId": "62298772-3306-4e4d-f901-55e4f05b184a"
      },
      "source": [
        "lgbm_params = {\r\n",
        "    'boosting_type': 'gbdt',\r\n",
        "    'n_estimators': 2000,\r\n",
        "    'learning_rate': 0.005134,\r\n",
        "    'num_leaves': 54,\r\n",
        "    'max_depth': 10,\r\n",
        "    'subsample_for_bin': 240000,\r\n",
        "    'reg_alpha': 0.436193,\r\n",
        "    'reg_lambda': 0.479169,\r\n",
        "    'colsample_bytree': 0.508716,\r\n",
        "    'min_split_gain': 0.024766,\r\n",
        "    'subsample': 0.7,\r\n",
        "    'is_unbalance': False,\r\n",
        "    'random_state': 42,\r\n",
        "    \"early_stopping_rounds\": 150,\r\n",
        "    'silent': -1,\r\n",
        "    'verbose': -1\r\n",
        "}\r\n",
        "\r\n",
        "lgbm_cv = KFold(n_splits=3, random_state=42, shuffle=True)\r\n",
        "\r\n",
        "estimators, lgbm_oof = lightgbm_cross_validation(\r\n",
        "    params=lgbm_params, X=train, y=target, cv=lgbm_cv\r\n",
        ")"
      ],
      "execution_count": 12,
      "outputs": [
        {
          "output_type": "stream",
          "text": [
            "Sun Dec 20 10:50:40 2020, Cross-Validation, 110093 rows, 59 cols\n"
          ],
          "name": "stdout"
        },
        {
          "output_type": "stream",
          "text": [
            "/usr/local/lib/python3.6/dist-packages/lightgbm/engine.py:123: UserWarning: Found `early_stopping_rounds` in params. Will use it instead of argument\n",
            "  warnings.warn(\"Found `{}` in params. Will use it instead of argument\".format(alias))\n"
          ],
          "name": "stderr"
        },
        {
          "output_type": "stream",
          "text": [
            "Training until validation scores don't improve for 150 rounds.\n",
            "[50]\tvalid_0's auc: 0.720527\tvalid_0's binary_logloss: 0.269963\n",
            "[100]\tvalid_0's auc: 0.72209\tvalid_0's binary_logloss: 0.264339\n",
            "[150]\tvalid_0's auc: 0.723315\tvalid_0's binary_logloss: 0.260798\n",
            "[200]\tvalid_0's auc: 0.724373\tvalid_0's binary_logloss: 0.258414\n",
            "[250]\tvalid_0's auc: 0.725646\tvalid_0's binary_logloss: 0.256704\n",
            "[300]\tvalid_0's auc: 0.726919\tvalid_0's binary_logloss: 0.255527\n",
            "[350]\tvalid_0's auc: 0.727711\tvalid_0's binary_logloss: 0.25459\n",
            "[400]\tvalid_0's auc: 0.72926\tvalid_0's binary_logloss: 0.253857\n",
            "[450]\tvalid_0's auc: 0.730243\tvalid_0's binary_logloss: 0.253312\n",
            "[500]\tvalid_0's auc: 0.73124\tvalid_0's binary_logloss: 0.252783\n",
            "[550]\tvalid_0's auc: 0.733009\tvalid_0's binary_logloss: 0.252309\n",
            "[600]\tvalid_0's auc: 0.734734\tvalid_0's binary_logloss: 0.251879\n",
            "[650]\tvalid_0's auc: 0.736193\tvalid_0's binary_logloss: 0.251538\n",
            "[700]\tvalid_0's auc: 0.736854\tvalid_0's binary_logloss: 0.25129\n",
            "[750]\tvalid_0's auc: 0.73717\tvalid_0's binary_logloss: 0.251076\n",
            "[800]\tvalid_0's auc: 0.737503\tvalid_0's binary_logloss: 0.250934\n",
            "[850]\tvalid_0's auc: 0.737711\tvalid_0's binary_logloss: 0.250816\n",
            "[900]\tvalid_0's auc: 0.737737\tvalid_0's binary_logloss: 0.250751\n",
            "[950]\tvalid_0's auc: 0.737749\tvalid_0's binary_logloss: 0.250699\n",
            "[1000]\tvalid_0's auc: 0.737901\tvalid_0's binary_logloss: 0.250598\n",
            "[1050]\tvalid_0's auc: 0.737835\tvalid_0's binary_logloss: 0.250553\n",
            "[1100]\tvalid_0's auc: 0.737708\tvalid_0's binary_logloss: 0.250498\n",
            "[1150]\tvalid_0's auc: 0.738086\tvalid_0's binary_logloss: 0.250451\n",
            "[1200]\tvalid_0's auc: 0.737897\tvalid_0's binary_logloss: 0.250421\n",
            "[1250]\tvalid_0's auc: 0.738108\tvalid_0's binary_logloss: 0.250388\n",
            "[1300]\tvalid_0's auc: 0.738263\tvalid_0's binary_logloss: 0.250373\n",
            "[1350]\tvalid_0's auc: 0.738304\tvalid_0's binary_logloss: 0.25036\n",
            "[1400]\tvalid_0's auc: 0.738341\tvalid_0's binary_logloss: 0.250365\n",
            "[1450]\tvalid_0's auc: 0.738286\tvalid_0's binary_logloss: 0.250344\n",
            "[1500]\tvalid_0's auc: 0.738376\tvalid_0's binary_logloss: 0.250349\n",
            "Early stopping, best iteration is:\n",
            "[1363]\tvalid_0's auc: 0.738474\tvalid_0's binary_logloss: 0.250358\n",
            "Fold 1, Valid score = 0.73847\n"
          ],
          "name": "stdout"
        },
        {
          "output_type": "stream",
          "text": [
            "/usr/local/lib/python3.6/dist-packages/lightgbm/engine.py:123: UserWarning: Found `early_stopping_rounds` in params. Will use it instead of argument\n",
            "  warnings.warn(\"Found `{}` in params. Will use it instead of argument\".format(alias))\n"
          ],
          "name": "stderr"
        },
        {
          "output_type": "stream",
          "text": [
            "Training until validation scores don't improve for 150 rounds.\n",
            "[50]\tvalid_0's auc: 0.712489\tvalid_0's binary_logloss: 0.269517\n",
            "[100]\tvalid_0's auc: 0.7136\tvalid_0's binary_logloss: 0.264117\n",
            "[150]\tvalid_0's auc: 0.714654\tvalid_0's binary_logloss: 0.260733\n",
            "[200]\tvalid_0's auc: 0.716658\tvalid_0's binary_logloss: 0.258408\n",
            "[250]\tvalid_0's auc: 0.718176\tvalid_0's binary_logloss: 0.256775\n",
            "[300]\tvalid_0's auc: 0.719776\tvalid_0's binary_logloss: 0.255633\n",
            "[350]\tvalid_0's auc: 0.721009\tvalid_0's binary_logloss: 0.254755\n",
            "[400]\tvalid_0's auc: 0.722584\tvalid_0's binary_logloss: 0.254078\n",
            "[450]\tvalid_0's auc: 0.72342\tvalid_0's binary_logloss: 0.253565\n",
            "[500]\tvalid_0's auc: 0.724224\tvalid_0's binary_logloss: 0.253097\n",
            "[550]\tvalid_0's auc: 0.725227\tvalid_0's binary_logloss: 0.252717\n",
            "[600]\tvalid_0's auc: 0.726014\tvalid_0's binary_logloss: 0.252321\n",
            "[650]\tvalid_0's auc: 0.727357\tvalid_0's binary_logloss: 0.252005\n",
            "[700]\tvalid_0's auc: 0.727877\tvalid_0's binary_logloss: 0.251824\n",
            "[750]\tvalid_0's auc: 0.728158\tvalid_0's binary_logloss: 0.2517\n",
            "[800]\tvalid_0's auc: 0.728199\tvalid_0's binary_logloss: 0.251626\n",
            "[850]\tvalid_0's auc: 0.728241\tvalid_0's binary_logloss: 0.251544\n",
            "[900]\tvalid_0's auc: 0.728254\tvalid_0's binary_logloss: 0.25147\n",
            "[950]\tvalid_0's auc: 0.728386\tvalid_0's binary_logloss: 0.251419\n",
            "[1000]\tvalid_0's auc: 0.72845\tvalid_0's binary_logloss: 0.251368\n",
            "[1050]\tvalid_0's auc: 0.72838\tvalid_0's binary_logloss: 0.251344\n",
            "[1100]\tvalid_0's auc: 0.728415\tvalid_0's binary_logloss: 0.251319\n",
            "Early stopping, best iteration is:\n",
            "[970]\tvalid_0's auc: 0.728636\tvalid_0's binary_logloss: 0.251389\n",
            "Fold 2, Valid score = 0.72864\n"
          ],
          "name": "stdout"
        },
        {
          "output_type": "stream",
          "text": [
            "/usr/local/lib/python3.6/dist-packages/lightgbm/engine.py:123: UserWarning: Found `early_stopping_rounds` in params. Will use it instead of argument\n",
            "  warnings.warn(\"Found `{}` in params. Will use it instead of argument\".format(alias))\n"
          ],
          "name": "stderr"
        },
        {
          "output_type": "stream",
          "text": [
            "Training until validation scores don't improve for 150 rounds.\n",
            "[50]\tvalid_0's auc: 0.700915\tvalid_0's binary_logloss: 0.274587\n",
            "[100]\tvalid_0's auc: 0.704376\tvalid_0's binary_logloss: 0.269412\n",
            "[150]\tvalid_0's auc: 0.705954\tvalid_0's binary_logloss: 0.26622\n",
            "[200]\tvalid_0's auc: 0.707237\tvalid_0's binary_logloss: 0.264176\n",
            "[250]\tvalid_0's auc: 0.708576\tvalid_0's binary_logloss: 0.26276\n",
            "[300]\tvalid_0's auc: 0.709975\tvalid_0's binary_logloss: 0.261796\n",
            "[350]\tvalid_0's auc: 0.710632\tvalid_0's binary_logloss: 0.261062\n",
            "[400]\tvalid_0's auc: 0.711411\tvalid_0's binary_logloss: 0.260518\n",
            "[450]\tvalid_0's auc: 0.712454\tvalid_0's binary_logloss: 0.260037\n",
            "[500]\tvalid_0's auc: 0.713611\tvalid_0's binary_logloss: 0.259576\n",
            "[550]\tvalid_0's auc: 0.714148\tvalid_0's binary_logloss: 0.259278\n",
            "[600]\tvalid_0's auc: 0.715515\tvalid_0's binary_logloss: 0.258999\n",
            "[650]\tvalid_0's auc: 0.716846\tvalid_0's binary_logloss: 0.258709\n",
            "[700]\tvalid_0's auc: 0.717666\tvalid_0's binary_logloss: 0.258533\n",
            "[750]\tvalid_0's auc: 0.717991\tvalid_0's binary_logloss: 0.258384\n",
            "[800]\tvalid_0's auc: 0.718473\tvalid_0's binary_logloss: 0.258299\n",
            "[850]\tvalid_0's auc: 0.719122\tvalid_0's binary_logloss: 0.258196\n",
            "[900]\tvalid_0's auc: 0.719267\tvalid_0's binary_logloss: 0.258149\n",
            "[950]\tvalid_0's auc: 0.719097\tvalid_0's binary_logloss: 0.258108\n",
            "[1000]\tvalid_0's auc: 0.71935\tvalid_0's binary_logloss: 0.258073\n",
            "[1050]\tvalid_0's auc: 0.719313\tvalid_0's binary_logloss: 0.258059\n",
            "[1100]\tvalid_0's auc: 0.71919\tvalid_0's binary_logloss: 0.258055\n",
            "[1150]\tvalid_0's auc: 0.719215\tvalid_0's binary_logloss: 0.258051\n",
            "[1200]\tvalid_0's auc: 0.719244\tvalid_0's binary_logloss: 0.258053\n",
            "[1250]\tvalid_0's auc: 0.719051\tvalid_0's binary_logloss: 0.258058\n",
            "Early stopping, best iteration is:\n",
            "[1129]\tvalid_0's auc: 0.719481\tvalid_0's binary_logloss: 0.258043\n",
            "Fold 3, Valid score = 0.71948\n",
            "Score by each fold: [0.73847, 0.72864, 0.71948]\n",
            "=================================================================\n"
          ],
          "name": "stdout"
        }
      ]
    },
    {
      "cell_type": "code",
      "metadata": {
        "colab": {
          "base_uri": "https://localhost:8080/"
        },
        "id": "vmpI29zTqDwm",
        "outputId": "4b4916c5-1df0-4933-fc51-d0057f29a321"
      },
      "source": [
        "lgbm_oof_score = roc_auc_score(\r\n",
        "    target, lgbm_oof\r\n",
        ")\r\n",
        "print(f\"OOF-score = {round(lgbm_oof_score, 5)}\")"
      ],
      "execution_count": 13,
      "outputs": [
        {
          "output_type": "stream",
          "text": [
            "OOF-score = 0.72813\n"
          ],
          "name": "stdout"
        }
      ]
    },
    {
      "cell_type": "code",
      "metadata": {
        "id": "xTieo7Al4TCE"
      },
      "source": [
        "y_pred_lgbm = np.zeros(test.shape[0])\r\n",
        "test[t_numerical] = test[t_numerical].astype(float)\r\n",
        "test[t_categorical] = test[t_categorical].astype(str)\r\n",
        "\r\n",
        "for estimator in estimators:\r\n",
        "    y_pred_lgbm += estimator.predict_proba(test)[:, 1]"
      ],
      "execution_count": 14,
      "outputs": []
    },
    {
      "cell_type": "code",
      "metadata": {
        "id": "MKlo3vCa4wyG"
      },
      "source": [
        "y_pred_lgbm = pd.DataFrame({\r\n",
        "    \"APPLICATION_NUMBER\": test_id,\r\n",
        "    \"TARGET\": y_pred_lgbm / lgbm_cv.n_splits\r\n",
        "})\r\n",
        "y_pred_lgbm['APPLICATION_NUMBER'] = y_pred_lgbm['APPLICATION_NUMBER'].astype(int)\r\n",
        "y_pred_lgbm.to_csv(\"baseline_submit_lgbm_II.csv\", index=False)"
      ],
      "execution_count": 15,
      "outputs": []
    },
    {
      "cell_type": "code",
      "metadata": {
        "id": "CSRdtf0BmFca",
        "colab": {
          "base_uri": "https://localhost:8080/"
        },
        "outputId": "0d5add1e-8e7d-4005-d38e-742a0c2ba10d"
      },
      "source": [
        "xgb_params = {\r\n",
        "    \"objective\": \"binary:logistic\",\r\n",
        "    \"booster\": \"gbtree\",\r\n",
        "    \"eval_metric\": \"auc\",\r\n",
        "    \"eta\": \"0.03\",\r\n",
        "    \"max_depth\": 6,\r\n",
        "    \"gamma\": 10,\r\n",
        "    \"subsample\": 0.85,\r\n",
        "    \"colsample_bytree\": 0.7,\r\n",
        "    \"colsample_bylevel\": 0.632,\r\n",
        "    \"min_child_weight\": 30,\r\n",
        "    \"early_stopping_rounds\": 50,\r\n",
        "    \"alpha\": 0,\r\n",
        "    \"lambda\": 0,\r\n",
        "    \"nthread\": 6,\r\n",
        "    \"random_seed\": 42\r\n",
        "}\r\n",
        "\r\n",
        "xgb_cv = KFold(n_splits=3, random_state=42, shuffle=True)\r\n",
        "\r\n",
        "\r\n",
        "xgb_estimators, _, xgb_oof = xgboost_cross_validation(\r\n",
        "    params=xgb_params, X=train, y=target, cv=xgb_cv\r\n",
        ")\r\n"
      ],
      "execution_count": 16,
      "outputs": [
        {
          "output_type": "stream",
          "text": [
            "Sun Dec 20 10:53:30 2020, Cross-Validation, 110093 rows, 59 cols\n",
            "[0]\ttrain-auc:0.687384\tvalid-auc:0.692374\n",
            "Multiple eval metrics have been passed: 'valid-auc' will be used for early stopping.\n",
            "\n",
            "Will train until valid-auc hasn't improved in 50 rounds.\n",
            "[100]\ttrain-auc:0.724975\tvalid-auc:0.722993\n",
            "[200]\ttrain-auc:0.742592\tvalid-auc:0.733694\n",
            "[300]\ttrain-auc:0.750005\tvalid-auc:0.736228\n",
            "[400]\ttrain-auc:0.755457\tvalid-auc:0.737161\n",
            "[500]\ttrain-auc:0.759203\tvalid-auc:0.737892\n",
            "[600]\ttrain-auc:0.762258\tvalid-auc:0.738687\n",
            "[700]\ttrain-auc:0.765303\tvalid-auc:0.738623\n",
            "Stopping. Best iteration:\n",
            "[682]\ttrain-auc:0.765139\tvalid-auc:0.738911\n",
            "\n",
            "Fold 1, Valid score = 0.7386\n",
            "[0]\ttrain-auc:0.692112\tvalid-auc:0.687802\n",
            "Multiple eval metrics have been passed: 'valid-auc' will be used for early stopping.\n",
            "\n",
            "Will train until valid-auc hasn't improved in 50 rounds.\n",
            "[100]\ttrain-auc:0.728063\tvalid-auc:0.714892\n",
            "[200]\ttrain-auc:0.746502\tvalid-auc:0.724976\n",
            "[300]\ttrain-auc:0.754284\tvalid-auc:0.727289\n",
            "[400]\ttrain-auc:0.759657\tvalid-auc:0.72822\n",
            "[500]\ttrain-auc:0.7637\tvalid-auc:0.729304\n",
            "[600]\ttrain-auc:0.766496\tvalid-auc:0.729723\n",
            "Stopping. Best iteration:\n",
            "[609]\ttrain-auc:0.767079\tvalid-auc:0.729849\n",
            "\n",
            "Fold 2, Valid score = 0.72953\n",
            "[0]\ttrain-auc:0.697563\tvalid-auc:0.680886\n",
            "Multiple eval metrics have been passed: 'valid-auc' will be used for early stopping.\n",
            "\n",
            "Will train until valid-auc hasn't improved in 50 rounds.\n",
            "[100]\ttrain-auc:0.734096\tvalid-auc:0.706418\n",
            "[200]\ttrain-auc:0.752193\tvalid-auc:0.715547\n",
            "[300]\ttrain-auc:0.75931\tvalid-auc:0.717038\n",
            "[400]\ttrain-auc:0.763594\tvalid-auc:0.7183\n",
            "Stopping. Best iteration:\n",
            "[437]\ttrain-auc:0.765118\tvalid-auc:0.718767\n",
            "\n",
            "Fold 3, Valid score = 0.7186\n"
          ],
          "name": "stdout"
        }
      ]
    },
    {
      "cell_type": "code",
      "metadata": {
        "id": "iD3LfLfzmi7u",
        "colab": {
          "base_uri": "https://localhost:8080/"
        },
        "outputId": "40728f17-5b02-4566-a769-3158c0b0162d"
      },
      "source": [
        "xgb_oof_score = roc_auc_score(\r\n",
        "    target, xgb_oof\r\n",
        ")\r\n",
        "print(f\"OOF-score = {round(xgb_oof_score, 5)}\")"
      ],
      "execution_count": 17,
      "outputs": [
        {
          "output_type": "stream",
          "text": [
            "OOF-score = 0.72854\n"
          ],
          "name": "stdout"
        }
      ]
    },
    {
      "cell_type": "code",
      "metadata": {
        "id": "4wUaHa0sqKR4"
      },
      "source": [
        "y_pred_xgb = np.zeros(test.shape[0])\r\n",
        "test[t_numerical] = test[t_numerical].astype(float)\r\n",
        "test[t_categorical] = test[t_categorical].astype(str)\r\n",
        "\r\n",
        "dtest = xgb.DMatrix(data=test)\r\n",
        "\r\n",
        "for estimator in xgb_estimators:\r\n",
        "    y_pred_xgb += estimator.predict(dtest)\r\n",
        "\r\n",
        "\r\n",
        "y_pred_xgb = pd.DataFrame({\r\n",
        "    \"APPLICATION_NUMBER\": test_id,\r\n",
        "    \"TARGET\": y_pred_xgb / xgb_cv.n_splits\r\n",
        "})\r\n",
        "y_pred_xgb[\"APPLICATION_NUMBER\"] = y_pred_xgb[\"APPLICATION_NUMBER\"].astype(int)\r\n",
        "y_pred_xgb.to_csv(\"baseline_submit_xgb_II.csv\", index=False)"
      ],
      "execution_count": 20,
      "outputs": []
    },
    {
      "cell_type": "code",
      "metadata": {
        "id": "Mhh6lhmrpjUZ"
      },
      "source": [
        ""
      ],
      "execution_count": 20,
      "outputs": []
    },
    {
      "cell_type": "code",
      "metadata": {
        "id": "lpWWXBOTHsOO"
      },
      "source": [
        "scores = pd.DataFrame({\r\n",
        "    \"lgbm\": lgbm_oof,\r\n",
        "    \"xgb\": xgb_oof,\r\n",
        "    \r\n",
        "})\r\n",
        "\r\n",
        "corr = scores.corr()\r\n",
        "mask = np.zeros_like(corr, dtype=np.bool)\r\n",
        "mask[np.triu_indices_from(mask)] = True"
      ],
      "execution_count": 21,
      "outputs": []
    },
    {
      "cell_type": "code",
      "metadata": {
        "colab": {
          "base_uri": "https://localhost:8080/",
          "height": 321
        },
        "id": "0Y8B2V_fV3hB",
        "outputId": "299df4f0-b820-478b-f3a0-1d856685679d"
      },
      "source": [
        "fig, axes = plt.subplots(1, 1, figsize=(5, 5))\r\n",
        "sns.heatmap(corr, mask=mask, annot=True, fmt=\".4g\", square=True, cmap=\"viridis\", ax=axes)"
      ],
      "execution_count": 22,
      "outputs": [
        {
          "output_type": "execute_result",
          "data": {
            "text/plain": [
              "<matplotlib.axes._subplots.AxesSubplot at 0x7f8ce44fbcc0>"
            ]
          },
          "metadata": {
            "tags": []
          },
          "execution_count": 22
        },
        {
          "output_type": "display_data",
          "data": {
            "image/png": "[encoded data removed]",
            "text/plain": [
              "<Figure size 360x360 with 2 Axes>"
            ]
          },
          "metadata": {
            "tags": [],
            "needs_background": "light"
          }
        }
      ]
    },
    {
      "cell_type": "code",
      "metadata": {
        "id": "qgBAyOfuEuFY"
      },
      "source": [
        "scores_test = pd.DataFrame({\r\n",
        "    \"lgbm\": y_pred_lgbm[\"TARGET\"],\r\n",
        "    \"xgb\": y_pred_xgb[\"TARGET\"],\r\n",
        "    \r\n",
        "})\r\n",
        "\r\n",
        "corr_test = scores_test.corr()\r\n",
        "mask = np.zeros_like(corr, dtype=np.bool)\r\n",
        "mask[np.triu_indices_from(mask)] = True"
      ],
      "execution_count": 43,
      "outputs": []
    },
    {
      "cell_type": "code",
      "metadata": {
        "colab": {
          "base_uri": "https://localhost:8080/",
          "height": 321
        },
        "id": "Tro3c7gDC9Yc",
        "outputId": "0f7ca0ba-05ee-4734-f88b-a5c00b2f9089"
      },
      "source": [
        "fig, axes = plt.subplots(1, 1, figsize=(5, 5))\r\n",
        "sns.heatmap(corr_test, mask=mask, annot=True, fmt=\".4g\", square=True, cmap=\"viridis\", ax=axes)"
      ],
      "execution_count": 44,
      "outputs": [
        {
          "output_type": "execute_result",
          "data": {
            "text/plain": [
              "<matplotlib.axes._subplots.AxesSubplot at 0x7f8cd53ab358>"
            ]
          },
          "metadata": {
            "tags": []
          },
          "execution_count": 44
        },
        {
          "output_type": "display_data",
          "data": {
            "image/png": "[encoded data removed]",
            "text/plain": [
              "<Figure size 360x360 with 2 Axes>"
            ]
          },
          "metadata": {
            "tags": [],
            "needs_background": "light"
          }
        }
      ]
    },
    {
      "cell_type": "markdown",
      "metadata": {
        "id": "s5XGR5IIPmJK"
      },
      "source": [
        "Корреляция на train хорошая, на test нет"
      ]
    },
    {
      "cell_type": "code",
      "metadata": {
        "id": "WDUhrllaEt45"
      },
      "source": [
        ""
      ],
      "execution_count": 26,
      "outputs": []
    },
    {
      "cell_type": "markdown",
      "metadata": {
        "id": "Yxehe4BwmjyD"
      },
      "source": [
        "2. Усреднить прогнозы с помощью арифмитического среднего, геометрического среднего и усреднить ранги, сделать выводы о качестве отдельных моделей и о качестве комбинации."
      ]
    },
    {
      "cell_type": "code",
      "metadata": {
        "id": "nSmI8EZAnL-q",
        "colab": {
          "base_uri": "https://localhost:8080/"
        },
        "outputId": "4a5ffad9-0f10-460f-cdc9-e8a3bf1c4645"
      },
      "source": [
        "scores_mean = scores.mean(axis=1)\r\n",
        "score = roc_auc_score(target, scores_mean)\r\n",
        "print(f\"Score = {round(score, 4)}\")"
      ],
      "execution_count": 27,
      "outputs": [
        {
          "output_type": "stream",
          "text": [
            "Score = 0.7288\n"
          ],
          "name": "stdout"
        }
      ]
    },
    {
      "cell_type": "code",
      "metadata": {
        "id": "gyIJethCnLzt",
        "colab": {
          "base_uri": "https://localhost:8080/"
        },
        "outputId": "a80c1c4f-bda8-43d4-dddf-6f1ffb159d31"
      },
      "source": [
        "scores_mean = gmean(scores, axis=1)\r\n",
        "score = roc_auc_score(target, scores_mean)\r\n",
        "print(f\"Score = {round(score, 4)}\")"
      ],
      "execution_count": 28,
      "outputs": [
        {
          "output_type": "stream",
          "text": [
            "Score = 0.7289\n"
          ],
          "name": "stdout"
        }
      ]
    },
    {
      "cell_type": "code",
      "metadata": {
        "id": "28U0FG7RnLvV",
        "colab": {
          "base_uri": "https://localhost:8080/"
        },
        "outputId": "3af63893-249a-4f0f-fbdc-f1854bd123a1"
      },
      "source": [
        "scores_mean = scores.rank().mean(axis=1)\r\n",
        "score = roc_auc_score(target, scores_mean)\r\n",
        "print(f\"Score = {round(score, 4)}\")"
      ],
      "execution_count": 29,
      "outputs": [
        {
          "output_type": "stream",
          "text": [
            "Score = 0.7288\n"
          ],
          "name": "stdout"
        }
      ]
    },
    {
      "cell_type": "code",
      "metadata": {
        "id": "2OhQ4ShTnLkL",
        "colab": {
          "base_uri": "https://localhost:8080/"
        },
        "outputId": "1e678273-6531-4ec8-ee14-50fa6e407468"
      },
      "source": [
        "scores_mean = gmean(scores.rank(), axis=1)\r\n",
        "score = roc_auc_score(target, scores_mean)\r\n",
        "print(f\"Score = {round(score, 4)}\")"
      ],
      "execution_count": 30,
      "outputs": [
        {
          "output_type": "stream",
          "text": [
            "Score = 0.7289\n"
          ],
          "name": "stdout"
        }
      ]
    },
    {
      "cell_type": "markdown",
      "metadata": {
        "id": "-8M_1j-cGKyT"
      },
      "source": [
        "Все комбинации немного прибавили качество.      \r\n",
        "И, как говорил сенсей, геометрическая средняя всегда не хуже арифметической :)"
      ]
    },
    {
      "cell_type": "code",
      "metadata": {
        "id": "dn6GX7a3FcJF"
      },
      "source": [
        ""
      ],
      "execution_count": 30,
      "outputs": []
    },
    {
      "cell_type": "markdown",
      "metadata": {
        "id": "12QTtwocmjsa"
      },
      "source": [
        "3. Обучить CatBoost, получить OOF прогнозы и выполнить задание 1 для трех моделей.\r\n"
      ]
    },
    {
      "cell_type": "code",
      "metadata": {
        "id": "hR-WQbjYnMxQ",
        "colab": {
          "base_uri": "https://localhost:8080/"
        },
        "outputId": "93f05a59-7ed5-448a-a6de-7fdf49fdab59"
      },
      "source": [
        "cb_params = {\r\n",
        "    \"n_estimators\": 3000,\r\n",
        "    \"learning_rate\": 0.01,\r\n",
        "    \"loss_function\": \"Logloss\",\r\n",
        "    \"eval_metric\": \"AUC\",\r\n",
        "    \"task_type\": \"CPU\",\r\n",
        "    \"max_bin\": 50,\r\n",
        "    \"verbose\": 100,\r\n",
        "    \"max_depth\": 6,\r\n",
        "    \"l2_leaf_reg\": 20,\r\n",
        "    \"early_stopping_rounds\": 50,\r\n",
        "    \"thread_count\": 6,\r\n",
        "    \"random_seed\": 42,\r\n",
        "    # \"silent\": True\r\n",
        "}\r\n",
        "\r\n",
        "cb_cv = KFold(n_splits=3, random_state=42, shuffle=True)\r\n",
        "\r\n",
        "estimators, cb_oof = catboost_cross_validation(\r\n",
        "    params=cb_params, X=train, y=target, cv=cb_cv, categorical=t_categorical\r\n",
        ")"
      ],
      "execution_count": 31,
      "outputs": [
        {
          "output_type": "stream",
          "text": [
            "Sun Dec 20 11:03:00 2020, Cross-Validation, 110093 rows, 59 cols\n",
            "0:\ttest: 0.6562826\ttest1: 0.6512537\tbest: 0.6512537 (0)\ttotal: 126ms\tremaining: 6m 18s\n",
            "100:\ttest: 0.7086075\ttest1: 0.7174084\tbest: 0.7175099 (98)\ttotal: 6.62s\tremaining: 3m 9s\n",
            "200:\ttest: 0.7131397\ttest1: 0.7203592\tbest: 0.7205599 (190)\ttotal: 13.1s\tremaining: 3m 2s\n",
            "300:\ttest: 0.7190821\ttest1: 0.7236225\tbest: 0.7236300 (299)\ttotal: 19.8s\tremaining: 2m 57s\n",
            "400:\ttest: 0.7246805\ttest1: 0.7265222\tbest: 0.7265891 (399)\ttotal: 26.6s\tremaining: 2m 52s\n",
            "500:\ttest: 0.7291528\ttest1: 0.7293795\tbest: 0.7294582 (499)\ttotal: 33.4s\tremaining: 2m 46s\n",
            "600:\ttest: 0.7328196\ttest1: 0.7309307\tbest: 0.7309560 (599)\ttotal: 40.2s\tremaining: 2m 40s\n",
            "700:\ttest: 0.7358540\ttest1: 0.7319456\tbest: 0.7319654 (697)\ttotal: 46.8s\tremaining: 2m 33s\n",
            "800:\ttest: 0.7389321\ttest1: 0.7323354\tbest: 0.7324911 (769)\ttotal: 53.2s\tremaining: 2m 26s\n",
            "900:\ttest: 0.7419433\ttest1: 0.7337636\tbest: 0.7337636 (900)\ttotal: 59.8s\tremaining: 2m 19s\n",
            "Stopped by overfitting detector  (50 iterations wait)\n",
            "\n",
            "bestTest = 0.7337636078\n",
            "bestIteration = 900\n",
            "\n",
            "Shrink model to first 901 iterations.\n",
            "Fold 1, Valid score = 0.73376\n",
            "0:\ttest: 0.6654145\ttest1: 0.6639137\tbest: 0.6639137 (0)\ttotal: 63.4ms\tremaining: 3m 10s\n",
            "100:\ttest: 0.7116221\ttest1: 0.7066302\tbest: 0.7066302 (100)\ttotal: 6.65s\tremaining: 3m 10s\n",
            "200:\ttest: 0.7166524\ttest1: 0.7109031\tbest: 0.7109031 (200)\ttotal: 13.3s\tremaining: 3m 4s\n",
            "300:\ttest: 0.7227352\ttest1: 0.7150585\tbest: 0.7151711 (299)\ttotal: 20s\tremaining: 2m 59s\n",
            "400:\ttest: 0.7281394\ttest1: 0.7180405\tbest: 0.7180667 (396)\ttotal: 26.6s\tremaining: 2m 52s\n",
            "500:\ttest: 0.7323597\ttest1: 0.7202340\tbest: 0.7203863 (499)\ttotal: 33.3s\tremaining: 2m 46s\n",
            "600:\ttest: 0.7355180\ttest1: 0.7216053\tbest: 0.7216313 (599)\ttotal: 39.9s\tremaining: 2m 39s\n",
            "700:\ttest: 0.7382955\ttest1: 0.7226602\tbest: 0.7227089 (699)\ttotal: 46.5s\tremaining: 2m 32s\n",
            "800:\ttest: 0.7409747\ttest1: 0.7234041\tbest: 0.7234041 (800)\ttotal: 52.9s\tremaining: 2m 25s\n",
            "900:\ttest: 0.7435177\ttest1: 0.7241828\tbest: 0.7241900 (899)\ttotal: 59.4s\tremaining: 2m 18s\n",
            "1000:\ttest: 0.7457672\ttest1: 0.7248742\tbest: 0.7248742 (1000)\ttotal: 1m 6s\tremaining: 2m 11s\n",
            "1100:\ttest: 0.7481009\ttest1: 0.7250804\tbest: 0.7250895 (1097)\ttotal: 1m 12s\tremaining: 2m 5s\n",
            "Stopped by overfitting detector  (50 iterations wait)\n",
            "\n",
            "bestTest = 0.7252564943\n",
            "bestIteration = 1139\n",
            "\n",
            "Shrink model to first 1140 iterations.\n",
            "Fold 2, Valid score = 0.72526\n",
            "0:\ttest: 0.6462040\ttest1: 0.6412167\tbest: 0.6412167 (0)\ttotal: 64.3ms\tremaining: 3m 12s\n",
            "100:\ttest: 0.7163258\ttest1: 0.7013604\tbest: 0.7015378 (79)\ttotal: 6.51s\tremaining: 3m 6s\n",
            "200:\ttest: 0.7209497\ttest1: 0.7044164\tbest: 0.7044164 (200)\ttotal: 13.1s\tremaining: 3m 2s\n",
            "300:\ttest: 0.7272153\ttest1: 0.7087075\tbest: 0.7087075 (300)\ttotal: 19.8s\tremaining: 2m 57s\n",
            "400:\ttest: 0.7322718\ttest1: 0.7112415\tbest: 0.7112415 (400)\ttotal: 26.4s\tremaining: 2m 50s\n",
            "500:\ttest: 0.7366792\ttest1: 0.7130552\tbest: 0.7130772 (498)\ttotal: 32.8s\tremaining: 2m 43s\n",
            "600:\ttest: 0.7401151\ttest1: 0.7143561\tbest: 0.7144216 (595)\ttotal: 39.3s\tremaining: 2m 37s\n",
            "700:\ttest: 0.7431593\ttest1: 0.7148690\tbest: 0.7148836 (698)\ttotal: 45.9s\tremaining: 2m 30s\n",
            "800:\ttest: 0.7459110\ttest1: 0.7153134\tbest: 0.7155428 (777)\ttotal: 52.4s\tremaining: 2m 23s\n",
            "Stopped by overfitting detector  (50 iterations wait)\n",
            "\n",
            "bestTest = 0.715542844\n",
            "bestIteration = 777\n",
            "\n",
            "Shrink model to first 778 iterations.\n",
            "Fold 3, Valid score = 0.71554\n",
            "Score by each fold: [0.73376, 0.72526, 0.71554]\n",
            "=================================================================\n"
          ],
          "name": "stdout"
        }
      ]
    },
    {
      "cell_type": "code",
      "metadata": {
        "id": "sBMcBzAEnP3R",
        "colab": {
          "base_uri": "https://localhost:8080/"
        },
        "outputId": "a35d76d4-e18a-43a5-dae5-555b225201f3"
      },
      "source": [
        "oof_score = roc_auc_score(\r\n",
        "    target, cb_oof\r\n",
        ")\r\n",
        "print(f\"OOF-score = {round(oof_score, 5)}\")"
      ],
      "execution_count": 32,
      "outputs": [
        {
          "output_type": "stream",
          "text": [
            "OOF-score = 0.7243\n"
          ],
          "name": "stdout"
        }
      ]
    },
    {
      "cell_type": "code",
      "metadata": {
        "id": "3mqgevKGxIUi"
      },
      "source": [
        "y_pred_cb = np.zeros(test.shape[0])\r\n",
        "test[t_numerical] = test[t_numerical].astype(float)\r\n",
        "test[t_categorical] = test[t_categorical].astype(str)\r\n",
        "\r\n",
        "for estimator in estimators:\r\n",
        "    y_pred_cb += estimator.predict_proba(test)[:, 1]"
      ],
      "execution_count": 33,
      "outputs": []
    },
    {
      "cell_type": "code",
      "metadata": {
        "id": "ZqqhJ_aCxIUr"
      },
      "source": [
        "y_pred_cb = pd.DataFrame({\r\n",
        "    \"APPLICATION_NUMBER\": test_id,\r\n",
        "    \"TARGET\": y_pred_cb / lgbm_cv.n_splits\r\n",
        "})\r\n",
        "y_pred_cb['APPLICATION_NUMBER'] = y_pred_cb['APPLICATION_NUMBER'].astype(int)\r\n",
        "y_pred_cb.to_csv(\"baseline_submit_cb_II.csv\", index=False)"
      ],
      "execution_count": 34,
      "outputs": []
    },
    {
      "cell_type": "code",
      "metadata": {
        "id": "CpjpliYLnMp9"
      },
      "source": [
        ""
      ],
      "execution_count": 34,
      "outputs": []
    },
    {
      "cell_type": "code",
      "metadata": {
        "id": "-pmAqJ3nQR9R"
      },
      "source": [
        "scores = pd.DataFrame({\r\n",
        "    \"lgbm\": lgbm_oof,\r\n",
        "    \"xgb\": xgb_oof,\r\n",
        "    \"cb\": cb_oof\r\n",
        "    \r\n",
        "})\r\n",
        "\r\n",
        "corr = scores.corr()\r\n",
        "mask = np.zeros_like(corr, dtype=np.bool)\r\n",
        "mask[np.triu_indices_from(mask)] = True"
      ],
      "execution_count": 35,
      "outputs": []
    },
    {
      "cell_type": "code",
      "metadata": {
        "colab": {
          "base_uri": "https://localhost:8080/",
          "height": 321
        },
        "id": "OTCQs6MmQR9i",
        "outputId": "7a756e1f-634f-472e-a935-6a1b9072b879"
      },
      "source": [
        "fig, axes = plt.subplots(1, 1, figsize=(5, 5))\r\n",
        "sns.heatmap(corr, mask=mask, annot=True, fmt=\".4g\", square=True, cmap=\"viridis\", ax=axes)"
      ],
      "execution_count": 36,
      "outputs": [
        {
          "output_type": "execute_result",
          "data": {
            "text/plain": [
              "<matplotlib.axes._subplots.AxesSubplot at 0x7f8ce44a0b70>"
            ]
          },
          "metadata": {
            "tags": []
          },
          "execution_count": 36
        },
        {
          "output_type": "display_data",
          "data": {
            "image/png": "[encoded data removed]",
            "text/plain": [
              "<Figure size 360x360 with 2 Axes>"
            ]
          },
          "metadata": {
            "tags": [],
            "needs_background": "light"
          }
        }
      ]
    },
    {
      "cell_type": "code",
      "metadata": {
        "id": "ZzG28Za8DYmh"
      },
      "source": [
        ""
      ],
      "execution_count": 60,
      "outputs": []
    },
    {
      "cell_type": "code",
      "metadata": {
        "id": "lBzOoCyRDX19"
      },
      "source": [
        "scores_test_1 = pd.DataFrame({\r\n",
        "    \"lgbm\": y_pred_lgbm[\"TARGET\"],\r\n",
        "    \"xgb\": y_pred_xgb[\"TARGET\"],\r\n",
        "    \"cb\": y_pred_cb[\"TARGET\"]\r\n",
        "    \r\n",
        "})\r\n",
        "\r\n",
        "corr_test_1 = scores_test_1.corr()\r\n",
        "mask = np.zeros_like(corr_test_1, dtype=np.bool)\r\n",
        "mask[np.triu_indices_from(mask)] = True"
      ],
      "execution_count": 59,
      "outputs": []
    },
    {
      "cell_type": "code",
      "metadata": {
        "colab": {
          "base_uri": "https://localhost:8080/",
          "height": 321
        },
        "id": "sKsGSe_IDX2B",
        "outputId": "7376d2e7-3c53-4e3f-cbdc-a51f5e47df29"
      },
      "source": [
        "fig, axes = plt.subplots(1, 1, figsize=(5, 5))\r\n",
        "sns.heatmap(corr_test_1, mask=mask, annot=True, fmt=\".4g\", square=True, cmap=\"viridis\", ax=axes)"
      ],
      "execution_count": 60,
      "outputs": [
        {
          "output_type": "execute_result",
          "data": {
            "text/plain": [
              "<matplotlib.axes._subplots.AxesSubplot at 0x7f8cd5039da0>"
            ]
          },
          "metadata": {
            "tags": []
          },
          "execution_count": 60
        },
        {
          "output_type": "display_data",
          "data": {
            "image/png": "[encoded data removed]",
            "text/plain": [
              "<Figure size 360x360 with 2 Axes>"
            ]
          },
          "metadata": {
            "tags": [],
            "needs_background": "light"
          }
        }
      ]
    },
    {
      "cell_type": "code",
      "metadata": {
        "id": "G7IYI4U2DUhI"
      },
      "source": [
        ""
      ],
      "execution_count": null,
      "outputs": []
    },
    {
      "cell_type": "code",
      "metadata": {
        "id": "P1Lb0N4LnMlg"
      },
      "source": [
        ""
      ],
      "execution_count": 36,
      "outputs": []
    },
    {
      "cell_type": "markdown",
      "metadata": {
        "id": "QPC1ewjnmjdj"
      },
      "source": [
        "4. Выполнить задание 2 для трех моделей.\r\n"
      ]
    },
    {
      "cell_type": "code",
      "metadata": {
        "colab": {
          "base_uri": "https://localhost:8080/"
        },
        "id": "oxUDRcBYQtl1",
        "outputId": "f9ba4c2f-c93e-4f2d-af5c-2ab2600e9307"
      },
      "source": [
        "scores_mean = scores.mean(axis=1)\r\n",
        "score = roc_auc_score(target, scores_mean)\r\n",
        "print(f\"Score = {round(score, 4)}\")"
      ],
      "execution_count": 37,
      "outputs": [
        {
          "output_type": "stream",
          "text": [
            "Score = 0.7285\n"
          ],
          "name": "stdout"
        }
      ]
    },
    {
      "cell_type": "code",
      "metadata": {
        "colab": {
          "base_uri": "https://localhost:8080/"
        },
        "id": "y2KV5rFyQtl4",
        "outputId": "404e253f-3fd1-4570-9b65-5595dfd0cd69"
      },
      "source": [
        "scores_mean = gmean(scores, axis=1)\r\n",
        "score = roc_auc_score(target, scores_mean)\r\n",
        "print(f\"Score = {round(score, 4)}\")"
      ],
      "execution_count": 38,
      "outputs": [
        {
          "output_type": "stream",
          "text": [
            "Score = 0.7286\n"
          ],
          "name": "stdout"
        }
      ]
    },
    {
      "cell_type": "code",
      "metadata": {
        "colab": {
          "base_uri": "https://localhost:8080/"
        },
        "id": "BwrBfHW7Qtl7",
        "outputId": "ce18b867-c18f-4c19-c805-ae1c65785db6"
      },
      "source": [
        "scores_mean = scores.rank().mean(axis=1)\r\n",
        "score = roc_auc_score(target, scores_mean)\r\n",
        "print(f\"Score = {round(score, 4)}\")"
      ],
      "execution_count": 39,
      "outputs": [
        {
          "output_type": "stream",
          "text": [
            "Score = 0.7284\n"
          ],
          "name": "stdout"
        }
      ]
    },
    {
      "cell_type": "code",
      "metadata": {
        "colab": {
          "base_uri": "https://localhost:8080/"
        },
        "id": "pRtYcjnDQtl-",
        "outputId": "a11a13cc-5c73-4829-e21f-5030189d6205"
      },
      "source": [
        "scores_mean = gmean(scores.rank(), axis=1)\r\n",
        "score = roc_auc_score(target, scores_mean)\r\n",
        "print(f\"Score = {round(score, 4)}\")"
      ],
      "execution_count": 40,
      "outputs": [
        {
          "output_type": "stream",
          "text": [
            "Score = 0.7285\n"
          ],
          "name": "stdout"
        }
      ]
    },
    {
      "cell_type": "markdown",
      "metadata": {
        "id": "Xv4SOCq4M1ms"
      },
      "source": [
        "Качество комбинаций немного упало по отношению к предыдущим. Все комбинации примерно на уровне XGBoost. Геометрическая средняя опять лучше"
      ]
    },
    {
      "cell_type": "code",
      "metadata": {
        "id": "2POekCU8nNb6"
      },
      "source": [
        ""
      ],
      "execution_count": 40,
      "outputs": []
    },
    {
      "cell_type": "markdown",
      "metadata": {
        "id": "TNZzkFI5m14v"
      },
      "source": [
        "5. (опция) Объединить OOF-прогнозы для трех моделей и обучить алгоритм Логистической регрессии (и любой другой, на ваше усмотрение). Сделать выводы о достигаемом качестве, сравнить достигаемое качество с качеством отдельных моделей и моделей, полученных в п.2 и п.4."
      ]
    },
    {
      "cell_type": "code",
      "metadata": {
        "id": "chXROarvnOwO"
      },
      "source": [
        "all_oof = pd.DataFrame()\r\n",
        "all_oof[\"lgbm\"] = lgbm_oof\r\n",
        "all_oof[\"xgb_oof\"] = xgb_oof\r\n",
        "all_oof[\"cb_oof\"] = cb_oof\r\n"
      ],
      "execution_count": 82,
      "outputs": []
    },
    {
      "cell_type": "code",
      "metadata": {
        "colab": {
          "base_uri": "https://localhost:8080/"
        },
        "id": "hPIXEdkXJSZy",
        "outputId": "a0c9941e-7688-4ecf-87cf-b30b406158e0"
      },
      "source": [
        "model_lr = LogisticRegression().fit(all_oof, target)\r\n",
        "y_pred_lr = model_lr.predict_proba(all_oof)[:, 1]\r\n",
        "roc_auc_score(target, y_pred_lr)"
      ],
      "execution_count": 86,
      "outputs": [
        {
          "output_type": "execute_result",
          "data": {
            "text/plain": [
              "0.7286677914140807"
            ]
          },
          "metadata": {
            "tags": []
          },
          "execution_count": 86
        }
      ]
    },
    {
      "cell_type": "markdown",
      "metadata": {
        "id": "lHDvma0wK9JD"
      },
      "source": [
        "Качество лучше было только во втором пункте"
      ]
    },
    {
      "cell_type": "code",
      "metadata": {
        "id": "5JVq8BcFnOai"
      },
      "source": [
        ""
      ],
      "execution_count": 40,
      "outputs": []
    },
    {
      "cell_type": "markdown",
      "metadata": {
        "id": "3FBsu2jVm52j"
      },
      "source": [
        "6. (опция) Обучить алгоритмRandomForest (желательно подтюнить параметры) и добавить к построенным ранее моделям. Выполнить задание 5.\r\n",
        "\r\n"
      ]
    },
    {
      "cell_type": "code",
      "metadata": {
        "id": "glrJkxP3nQzJ"
      },
      "source": [
        ""
      ],
      "execution_count": 40,
      "outputs": []
    },
    {
      "cell_type": "code",
      "metadata": {
        "id": "o7UeRKDknQul"
      },
      "source": [
        ""
      ],
      "execution_count": 40,
      "outputs": []
    }
  ]
}