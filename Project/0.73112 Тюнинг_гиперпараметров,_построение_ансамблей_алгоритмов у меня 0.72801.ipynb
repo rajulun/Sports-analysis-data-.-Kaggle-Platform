{
  "nbformat": 4,
  "nbformat_minor": 0,
  "metadata": {
    "colab": {
      "name": "Тюнинг гиперпараметров, построение ансамблей алгоритмов.ipynb",
      "provenance": [],
      "collapsed_sections": [],
      "toc_visible": true
    },
    "kernelspec": {
      "name": "python3",
      "display_name": "Python 3"
    }
  },
  "cells": [
    {
      "cell_type": "markdown",
      "metadata": {
        "id": "u_zjkutrmMZC"
      },
      "source": [
        "## Урок 7. Тюнинг гиперпараметров, построение ансамблей алгоритмов."
      ]
    },
    {
      "cell_type": "code",
      "metadata": {
        "id": "usgzZK2bqz7o"
      },
      "source": [
        "# !pip install catboost"
      ],
      "execution_count": 1,
      "outputs": []
    },
    {
      "cell_type": "code",
      "metadata": {
        "id": "vbkmL9lJGtR2"
      },
      "source": [
        "# !pip install --upgrade --force-reinstall --no-deps kaggle"
      ],
      "execution_count": 2,
      "outputs": []
    },
    {
      "cell_type": "code",
      "metadata": {
        "id": "033mSgl_0WJP"
      },
      "source": [
        "import time\r\n",
        "import numpy as np\r\n",
        "import pandas as pd\r\n",
        "import seaborn as sns\r\n",
        "import xgboost as xgb\r\n",
        "import lightgbm as lgb\r\n",
        "import matplotlib.pyplot as plt\r\n",
        "\r\n",
        "from tqdm import tqdm\r\n",
        "from scipy.stats import gmean, rankdata\r\n",
        "from sklearn.metrics import roc_auc_score\r\n",
        "from sklearn.model_selection import train_test_split, KFold"
      ],
      "execution_count": 3,
      "outputs": []
    },
    {
      "cell_type": "code",
      "metadata": {
        "id": "iEHuzBm6wzeV"
      },
      "source": [
        "# !mkdir -p ~/.kaggle\n",
        "# !cp /content/kaggle.json ~/.kaggle/\n",
        "# !chmod 600 /root/.kaggle/kaggle.json\n",
        "# !kaggle competitions download -c geekbrains-competitive-data-analysis"
      ],
      "execution_count": 4,
      "outputs": []
    },
    {
      "cell_type": "code",
      "metadata": {
        "id": "O5XZ2xmxGmRG"
      },
      "source": [
        "# !kaggle -v"
      ],
      "execution_count": 5,
      "outputs": []
    },
    {
      "cell_type": "code",
      "metadata": {
        "id": "ti-ntv2FyOFQ"
      },
      "source": [
        "# !unzip -q /content/geekbrains-competitive-data-analysis.zip -d /content/data"
      ],
      "execution_count": 6,
      "outputs": []
    },
    {
      "cell_type": "markdown",
      "metadata": {
        "id": "V9ZoWPIG1hFI"
      },
      "source": [
        "## Useful Functions"
      ]
    },
    {
      "cell_type": "code",
      "metadata": {
        "id": "CzDwmBo_zWta"
      },
      "source": [
        "def get_input(data_path: str) -> pd.DataFrame:\r\n",
        "    \"\"\"\r\n",
        "    Считывание данных и вывод основной информации о наборе данных.\r\n",
        "\r\n",
        "    Parameters\r\n",
        "    ----------\r\n",
        "    data_path: str\r\n",
        "        Название файла.\r\n",
        "\r\n",
        "    Returns\r\n",
        "    -------\r\n",
        "    data: pandas.core.frame.DataFrame\r\n",
        "        Загруженный набор данных в pandas.DataFrame\r\n",
        "\r\n",
        "    \"\"\"\r\n",
        "    base_path = \"data\"\r\n",
        "    data = pd.read_csv(f\"{base_path}/{data_path}\")\r\n",
        "    data.columns = [col.lower() for col in data.columns]\r\n",
        "    print(f\"{data_path}: shape = {data.shape[0]} rows, {data.shape[1]} cols\")\r\n",
        "\r\n",
        "    return data\r\n",
        "\r\n",
        "def lightgbm_cross_validation(params, X, y, cv, categorical = None):\r\n",
        "    \"\"\"\r\n",
        "    Кросс-валидация для модели catbooost.\r\n",
        "\r\n",
        "    Parameters\r\n",
        "    ----------\r\n",
        "    params: dict\r\n",
        "        Словарь гиперпараметров модели.\r\n",
        "\r\n",
        "    X: pandas.core.frame.DataFrame\r\n",
        "        Матрица признако для обучения модели.\r\n",
        "\r\n",
        "    y: pandas.core.frame.Series\r\n",
        "        Вектор целевой переменной для обучения модели.\r\n",
        "\r\n",
        "    cv: KFold or StratifiedKFold generator.\r\n",
        "        Объект KFold / StratifiedKFold для определения\r\n",
        "        стратегии кросс-валидации модели.\r\n",
        "\r\n",
        "    categorical: str, optional, default = None\r\n",
        "        Список категориальных признаков.\r\n",
        "        Опциональный параметр, по умолчанию, не используется.\r\n",
        "\r\n",
        "    Returns\r\n",
        "    -------\r\n",
        "    estimators: list\r\n",
        "        Список с объектами обученной модели.\r\n",
        "\r\n",
        "    oof_preds: np.array\r\n",
        "        Вектор OOF-прогнозов.\r\n",
        "\r\n",
        "    \"\"\"\r\n",
        "    if not categorical:\r\n",
        "        categorical = \"auto\"\r\n",
        "\r\n",
        "    estimators, folds_scores = [], []\r\n",
        "    oof_preds = np.zeros(X.shape[0])\r\n",
        "    print(f\"{time.ctime()}, Cross-Validation, {X.shape[0]} rows, {X.shape[1]} cols\")\r\n",
        "\r\n",
        "    for fold, (train_idx, valid_idx) in enumerate(cv.split(X, y)):\r\n",
        "        x_train, x_valid = X.loc[train_idx], X.loc[valid_idx]\r\n",
        "        y_train, y_valid = y[train_idx], y[valid_idx]\r\n",
        "\r\n",
        "        model = lgb.LGBMClassifier(**params)\r\n",
        "        model.fit(\r\n",
        "            x_train, y_train,\r\n",
        "            eval_set=[(x_valid, y_valid)],\r\n",
        "            eval_metric=\"auc\", verbose=50, early_stopping_rounds=5000,\r\n",
        "            categorical_feature=categorical\r\n",
        "        )\r\n",
        "        oof_preds[valid_idx] = model.predict_proba(x_valid)[:, 1]\r\n",
        "        score = roc_auc_score(y_valid, oof_preds[valid_idx])\r\n",
        "        print(f\"Fold {fold+1}, Valid score = {round(score, 5)}\")\r\n",
        "        folds_scores.append(round(score, 5))\r\n",
        "        estimators.append(model)\r\n",
        "\r\n",
        "    print(f\"Score by each fold: {folds_scores}\")\r\n",
        "    print(\"=\"*65)\r\n",
        "    return estimators, oof_preds\r\n",
        "\r\n",
        "\r\n",
        "def xgboost_cross_validation(params, X, y, cv, categorical = None):\r\n",
        "    \"\"\"\r\n",
        "    Кросс-валидация для модели catbooost.\r\n",
        "\r\n",
        "    Parameters\r\n",
        "    ----------\r\n",
        "    params: dict\r\n",
        "        Словарь гиперпараметров модели.\r\n",
        "\r\n",
        "    X: pandas.core.frame.DataFrame\r\n",
        "        Матрица признако для обучения модели.\r\n",
        "\r\n",
        "    y: pandas.core.frame.Series\r\n",
        "        Вектор целевой переменной для обучения модели.\r\n",
        "\r\n",
        "    cv: KFold or StratifiedKFold generator.\r\n",
        "        Объект KFold / StratifiedKFold для определения\r\n",
        "        стратегии кросс-валидации модели.\r\n",
        "\r\n",
        "    categorical: str, optional, default = None\r\n",
        "        Список категориальных признаков.\r\n",
        "        Опциональный параметр, по умолчанию, не используется.\r\n",
        "\r\n",
        "    Returns\r\n",
        "    -------\r\n",
        "    estimators: list\r\n",
        "        Список с объектами обученной модели.\r\n",
        "\r\n",
        "    encoders: dict\r\n",
        "        Список с объектами LabelEncoders.\r\n",
        "\r\n",
        "    oof_preds: np.array\r\n",
        "        Вектор OOF-прогнозов.\r\n",
        "\r\n",
        "    \"\"\"\r\n",
        "    estimators, encoders = [], {}\r\n",
        "    oof_preds = np.zeros(X.shape[0])\r\n",
        "\r\n",
        "    if categorical:\r\n",
        "        for feature in categorical:\r\n",
        "            encoder = LabelEncoder()\r\n",
        "            X[feature] = encoder.fit_transform(X[feature].astype(\"str\").fillna(\"NA\"))\r\n",
        "            encoders[feature] = encoder\r\n",
        "\r\n",
        "    print(f\"{time.ctime()}, Cross-Validation, {X.shape[0]} rows, {X.shape[1]} cols\")\r\n",
        "\r\n",
        "    for fold, (train_idx, valid_idx) in enumerate(cv.split(X, y)):\r\n",
        "\r\n",
        "        x_train, x_valid = X.loc[train_idx], X.loc[valid_idx]\r\n",
        "        y_train, y_valid = y[train_idx], y[valid_idx]\r\n",
        "        dtrain = xgb.DMatrix(x_train, y_train)\r\n",
        "        dvalid = xgb.DMatrix(x_valid, y_valid)\r\n",
        "\r\n",
        "        model = xgb.train(\r\n",
        "            params=params,\r\n",
        "            dtrain=dtrain,\r\n",
        "            maximize=True,\r\n",
        "            num_boost_round=10000,\r\n",
        "            early_stopping_rounds=50,\r\n",
        "            evals=[(dtrain, \"train\"), (dvalid, \"valid\")],\r\n",
        "            verbose_eval=10,\r\n",
        "        )\r\n",
        "        oof_preds[valid_idx] = model.predict(dvalid)\r\n",
        "        score = roc_auc_score(y_valid, oof_preds[valid_idx])\r\n",
        "        print(f\"Fold {fold+1}, Valid score = {round(score, 5)}\")\r\n",
        "        estimators.append(model)\r\n",
        "\r\n",
        "    return estimators, encoders, oof_preds\r\n",
        "\r\n",
        "def catboost_cross_validation(params, X, y, cv, categorical = None):\r\n",
        "    \"\"\"\r\n",
        "    Кросс-валидация для модели catbooost.\r\n",
        "\r\n",
        "    Parameters\r\n",
        "    ----------\r\n",
        "    params: dict\r\n",
        "        Словарь гиперпараметров модели.\r\n",
        "\r\n",
        "    X: pandas.core.frame.DataFrame\r\n",
        "        Матрица признако для обучения модели.\r\n",
        "\r\n",
        "    y: pandas.core.frame.Series\r\n",
        "        Вектор целевой переменной для обучения модели.\r\n",
        "\r\n",
        "    cv: KFold or StratifiedKFold generator.\r\n",
        "        Объект KFold / StratifiedKFold для определения\r\n",
        "        стратегии кросс-валидации модели.\r\n",
        "\r\n",
        "    categorical: str, optional, default = None\r\n",
        "        Список категориальных признаков.\r\n",
        "        Опциональный параметр, по умолчанию, не используется.\r\n",
        "\r\n",
        "    Returns\r\n",
        "    -------\r\n",
        "    estimators: list\r\n",
        "        Список с объектами обученной модели.\r\n",
        "\r\n",
        "    oof_preds: np.array\r\n",
        "        Вектор OOF-прогнозов.\r\n",
        "\r\n",
        "    \"\"\"\r\n",
        "    estimators, folds_scores = [], []\r\n",
        "    oof_preds = np.zeros(X.shape[0])\r\n",
        "\r\n",
        "    print(f\"{time.ctime()}, Cross-Validation, {X.shape[0]} rows, {X.shape[1]} cols\")\r\n",
        "    X[categorical] = X[categorical].astype(str)\r\n",
        "\r\n",
        "    for fold, (train_idx, valid_idx) in enumerate(cv.split(X, y)):\r\n",
        "\r\n",
        "        x_train, x_valid = X.loc[train_idx], X.loc[valid_idx]\r\n",
        "        y_train, y_valid = y[train_idx], y[valid_idx]\r\n",
        "\r\n",
        "        model = cb.CatBoostClassifier(**params)\r\n",
        "        model.fit(\r\n",
        "            x_train, y_train, categorical,\r\n",
        "            eval_set=[(x_train, y_train), (x_valid, y_valid)]\r\n",
        "        )\r\n",
        "        oof_preds[valid_idx] = model.predict_proba(x_valid)[:, 1]\r\n",
        "        score = roc_auc_score(y_valid, oof_preds[valid_idx])\r\n",
        "        print(f\"Fold {fold+1}, Valid score = {round(score, 5)}\")\r\n",
        "        folds_scores.append(round(score, 5))\r\n",
        "        estimators.append(model)\r\n",
        "\r\n",
        "    print(f\"Score by each fold: {folds_scores}\")\r\n",
        "    print(\"=\"*65)\r\n",
        "    return estimators, oof_preds\r\n"
      ],
      "execution_count": 7,
      "outputs": []
    },
    {
      "cell_type": "markdown",
      "metadata": {
        "id": "5JSnnrfj1wld"
      },
      "source": [
        "## Prepare data"
      ]
    },
    {
      "cell_type": "code",
      "metadata": {
        "colab": {
          "base_uri": "https://localhost:8080/"
        },
        "id": "lxQC0qK90RVY",
        "outputId": "e56dc1d4-cbc3-47b2-89fa-300543d957ff"
      },
      "source": [
        "def create_client_profile_features(X: pd.DataFrame, copy: bool = True) -> pd.DataFrame:\r\n",
        "    \"\"\"\r\n",
        "    Создание признаков на основе профиля клиентов.\r\n",
        "\r\n",
        "    Parameters\r\n",
        "    ----------\r\n",
        "    X: pandas.core.frame.DataFrame\r\n",
        "        Матрица признаков с исходным профилем клиента.\r\n",
        "\r\n",
        "    copy: bool, optional, default = True\r\n",
        "        Флаг использования копии датафрейма X.\r\n",
        "        Опциональный параметр, по умолчанию, равен True.\r\n",
        "\r\n",
        "    Returns\r\n",
        "    -------\r\n",
        "    X_transformed: pandas.core.frame.DataFrame\r\n",
        "        Расширенная матрица признаков с профилем клиентов.\r\n",
        "\r\n",
        "    \"\"\"\r\n",
        "    if copy:\r\n",
        "        X = X.copy()\r\n",
        "\r\n",
        "    X[\"days_on_last_job\"] = X[\"days_on_last_job\"].replace(365243, np.nan)\r\n",
        "    bki_flags = [flag for flag in X.columns if \"amt_req_credit_bureau\" in flag]\r\n",
        "    X[\"bki_requests_count\"] = X[bki_flags].sum(axis=1)\r\n",
        "    X[\"bki_kurtosis\"] = X[bki_flags].kurtosis(axis=1)\r\n",
        "\r\n",
        "    X[\"external_scoring_prod\"] = X[\"external_scoring_rating_1\"] * X[\"external_scoring_rating_2\"] * X[\"external_scoring_rating_3\"]\r\n",
        "    X[\"external_scoring_weighted\"] = X.external_scoring_rating_1 * 2 + X.external_scoring_rating_2 * 1 + X.external_scoring_rating_3 * 3\r\n",
        "    # X[\"log_external_scoring_rating_1\"] = np.log(X[\"external_scoring_rating_1\"])\r\n",
        "    # X[\"log_external_scoring_rating_2\"] = np.log(X[\"external_scoring_rating_2\"])\r\n",
        "    # X[\"log_external_scoring_rating_3\"] = np.log(X[\"external_scoring_rating_3\"])\r\n",
        "\r\n",
        "    for function_name in [\"min\", \"max\", \"mean\", \"nanmedian\", \"var\"]:\r\n",
        "        feature_name = \"external_scoring_rating_{}\".format(function_name)\r\n",
        "        X[feature_name] = eval(\"np.{}\".format(function_name))(\r\n",
        "            X[[\"external_scoring_rating_1\", \"external_scoring_rating_2\", \"external_scoring_rating_3\"]], axis=1\r\n",
        "        )\r\n",
        "\r\n",
        "    # Отношение между основными фин. показателями\r\n",
        "    X['ratio_credit_to_annuity'] = X['amount_credit'] / X['amount_annuity']\r\n",
        "    X[\"ratio_annuity_to_salary\"] = X['amount_annuity'] / X['total_salary']\r\n",
        "    X['ratio_credit_to_salary'] = X['amount_credit'] / X['total_salary']\r\n",
        "    X[\"total_salary_net\"] = X[\"total_salary\"] - X[\"amount_annuity\"]\r\n",
        "\r\n",
        "    # Отношение фин. показателей к возрасту и временным фичам\r\n",
        "    X[\"ratio_annuity_to_age\"] = X[\"amount_annuity\"] / X[\"age\"]\r\n",
        "    X[\"ratio_credit_to_age\"] = X[\"amount_credit\"] / X[\"age\"]\r\n",
        "    X[\"ratio_salary_to_age\"] = X[\"total_salary\"] / X[\"age\"]\r\n",
        "\r\n",
        "    X[\"ratio_salary_to_experience\"] = X[\"total_salary\"] / X[\"days_on_last_job\"]\r\n",
        "    X[\"ratio_credit_to_experience\"] = X[\"amount_credit\"] / X[\"days_on_last_job\"]\r\n",
        "    X[\"ratio_annuity_to_experience\"] = X[\"amount_annuity\"] / X[\"days_on_last_job\"]\r\n",
        "\r\n",
        "    # Отношение врменных признаков\r\n",
        "    X[\"ratio_age_to_experience\"] = X[\"age\"] / X[\"days_on_last_job\"]\r\n",
        "    X[\"ratio_salary_to_region_population\"] = X[\"total_salary\"] * X[\"region_population\"]\r\n",
        "    X[\"ratio_car_to_experience\"] = X[\"own_car_age\"] / X[\"days_on_last_job\"]\r\n",
        "    X[\"ratio_car_to_age\"] = X[\"own_car_age\"] / X[\"age\"]\r\n",
        "\r\n",
        "    # Произведение фин. показателей кредита на вероятность дефолта\r\n",
        "    # Такая штука называется математическим ожиданием дефолта или ожидаемыми потерями\r\n",
        "    # X[\"expected_total_loss_1\"] = X[\"external_scoring_rating_1\"] * X[\"amount_credit\"]\r\n",
        "    # X[\"expected_total_loss_2\"] = X[\"external_scoring_rating_2\"] * X[\"amount_credit\"]\r\n",
        "    # X[\"expected_total_loss_3\"] = X[\"external_scoring_rating_3\"] * X[\"amount_credit\"]\r\n",
        "    # X[\"expected_monthly_loss_1\"] = X[\"external_scoring_rating_1\"] * X[\"amount_annuity\"]\r\n",
        "    # X[\"expected_monthly_loss_2\"] = X[\"external_scoring_rating_2\"] * X[\"amount_annuity\"]\r\n",
        "    # X[\"expected_monthly_loss_3\"] = X[\"external_scoring_rating_3\"] * X[\"amount_annuity\"]\r\n",
        "\r\n",
        "    X[\"log_total_salary\"] = np.log(X[\"total_salary\"])\r\n",
        "    X[\"log_amount_credit\"] = np.log(X[\"amount_credit\"])\r\n",
        "    X[\"log_amount_credity\"] = np.log(X[\"amount_annuity\"])\r\n",
        "\r\n",
        "    \r\n",
        "\r\n",
        "    return X\r\n",
        "\r\n",
        "def append_to_data(data: pd.DataFrame, X: pd.DataFrame, groupby: str=\"application_number\"):\r\n",
        "    X = X.replace(365243, np.nan)\r\n",
        "    X = X.groupby(groupby).mean()\r\n",
        "\r\n",
        "    data = data.merge(X, how=\"left\", on=groupby)\r\n",
        "\r\n",
        "    return data\r\n",
        "\r\n",
        "\r\n",
        "train = get_input(\"train.csv\")\r\n",
        "test = get_input(\"test.csv\")\r\n",
        "\r\n",
        "data = pd.concat([train, test], axis=0)\r\n",
        "data = data.reset_index(drop=True)\r\n",
        "data.head(n=2)\r\n",
        "\r\n",
        "client_profile = get_input(\"client_profile.csv\")\r\n",
        "client_profile = create_client_profile_features(client_profile)\r\n",
        "client_profile.head(n=2)\r\n",
        "\r\n",
        "data = data.merge(\r\n",
        "    client_profile, how=\"left\", on=\"application_number\"\r\n",
        ")\r\n",
        "data.shape\r\n",
        "\r\n"
      ],
      "execution_count": 28,
      "outputs": [
        {
          "output_type": "stream",
          "text": [
            "train.csv: shape = 110093 rows, 3 cols\n",
            "test.csv: shape = 165141 rows, 2 cols\n",
            "client_profile.csv: shape = 250000 rows, 24 cols\n"
          ],
          "name": "stdout"
        },
        {
          "output_type": "stream",
          "text": [
            "/usr/local/lib/python3.6/dist-packages/numpy/lib/nanfunctions.py:1116: RuntimeWarning: All-NaN slice encountered\n",
            "  overwrite_input=overwrite_input)\n"
          ],
          "name": "stderr"
        },
        {
          "output_type": "execute_result",
          "data": {
            "text/plain": [
              "(275234, 52)"
            ]
          },
          "metadata": {
            "tags": []
          },
          "execution_count": 28
        }
      ]
    },
    {
      "cell_type": "code",
      "metadata": {
        "colab": {
          "base_uri": "https://localhost:8080/",
          "height": 181
        },
        "id": "sLfS3nvUOk3D",
        "outputId": "1a7e3d42-c1bb-446e-b9c5-e6df2c68e7f6"
      },
      "source": [
        "categorial = data.dtypes[data.dtypes == \"object\"].index\r\n",
        "numerical = list(set(data.columns) - set(categorial))\r\n",
        "data[numerical] = data[numerical].astype(float)\r\n",
        "data[categorial] = data[categorial].astype('category')\r\n",
        "\r\n",
        "data = pd.get_dummies(data)\r\n",
        "\r\n",
        "mask = data[\"target\"].isnull()\r\n",
        "train, test = data.loc[~mask], data.loc[mask]\r\n",
        "\r\n",
        "target = train[\"target\"]\r\n",
        "test_id = test[\"application_number\"]\r\n",
        "train = train.drop([\"application_number\", \"target\"], axis=1)\r\n",
        "test = test.drop([\"application_number\", \"target\"], axis=1)\r\n",
        "\r\n",
        "data.head(3)"
      ],
      "execution_count": 29,
      "outputs": [
        {
          "output_type": "execute_result",
          "data": {
            "text/html": [
              "<div>\n",
              "<style scoped>\n",
              "    .dataframe tbody tr th:only-of-type {\n",
              "        vertical-align: middle;\n",
              "    }\n",
              "\n",
              "    .dataframe tbody tr th {\n",
              "        vertical-align: top;\n",
              "    }\n",
              "\n",
              "    .dataframe thead th {\n",
              "        text-align: right;\n",
              "    }\n",
              "</style>\n",
              "<table border=\"1\" class=\"dataframe\">\n",
              "  <thead>\n",
              "    <tr style=\"text-align: right;\">\n",
              "      <th></th>\n",
              "      <th>application_number</th>\n",
              "      <th>target</th>\n",
              "      <th>childrens</th>\n",
              "      <th>total_salary</th>\n",
              "      <th>amount_credit</th>\n",
              "      <th>amount_annuity</th>\n",
              "      <th>region_population</th>\n",
              "      <th>age</th>\n",
              "      <th>days_on_last_job</th>\n",
              "      <th>own_car_age</th>\n",
              "      <th>flag_phone</th>\n",
              "      <th>flag_email</th>\n",
              "      <th>family_size</th>\n",
              "      <th>external_scoring_rating_1</th>\n",
              "      <th>external_scoring_rating_2</th>\n",
              "      <th>external_scoring_rating_3</th>\n",
              "      <th>amt_req_credit_bureau_hour</th>\n",
              "      <th>amt_req_credit_bureau_day</th>\n",
              "      <th>amt_req_credit_bureau_week</th>\n",
              "      <th>amt_req_credit_bureau_mon</th>\n",
              "      <th>amt_req_credit_bureau_qrt</th>\n",
              "      <th>amt_req_credit_bureau_year</th>\n",
              "      <th>bki_requests_count</th>\n",
              "      <th>bki_kurtosis</th>\n",
              "      <th>external_scoring_prod</th>\n",
              "      <th>external_scoring_weighted</th>\n",
              "      <th>external_scoring_rating_min</th>\n",
              "      <th>external_scoring_rating_max</th>\n",
              "      <th>external_scoring_rating_mean</th>\n",
              "      <th>external_scoring_rating_nanmedian</th>\n",
              "      <th>external_scoring_rating_var</th>\n",
              "      <th>ratio_credit_to_annuity</th>\n",
              "      <th>ratio_annuity_to_salary</th>\n",
              "      <th>ratio_credit_to_salary</th>\n",
              "      <th>total_salary_net</th>\n",
              "      <th>ratio_annuity_to_age</th>\n",
              "      <th>ratio_credit_to_age</th>\n",
              "      <th>ratio_salary_to_age</th>\n",
              "      <th>ratio_salary_to_experience</th>\n",
              "      <th>ratio_credit_to_experience</th>\n",
              "      <th>ratio_annuity_to_experience</th>\n",
              "      <th>ratio_age_to_experience</th>\n",
              "      <th>ratio_salary_to_region_population</th>\n",
              "      <th>ratio_car_to_experience</th>\n",
              "      <th>ratio_car_to_age</th>\n",
              "      <th>log_total_salary</th>\n",
              "      <th>log_amount_credit</th>\n",
              "      <th>log_amount_credity</th>\n",
              "      <th>name_contract_type_Cash</th>\n",
              "      <th>name_contract_type_Credit Card</th>\n",
              "      <th>gender_F</th>\n",
              "      <th>gender_M</th>\n",
              "      <th>gender_XNA</th>\n",
              "      <th>education_level_Academic degree</th>\n",
              "      <th>education_level_Higher education</th>\n",
              "      <th>education_level_Incomplete higher</th>\n",
              "      <th>education_level_Lower secondary</th>\n",
              "      <th>education_level_Secondary / secondary special</th>\n",
              "      <th>family_status_Civil marriage</th>\n",
              "      <th>family_status_Married</th>\n",
              "      <th>family_status_Separated</th>\n",
              "      <th>family_status_Single / not married</th>\n",
              "      <th>family_status_Unknown</th>\n",
              "      <th>family_status_Widow</th>\n",
              "    </tr>\n",
              "  </thead>\n",
              "  <tbody>\n",
              "    <tr>\n",
              "      <th>0</th>\n",
              "      <td>123687442.0</td>\n",
              "      <td>0.0</td>\n",
              "      <td>1.0</td>\n",
              "      <td>157500.0</td>\n",
              "      <td>855000.0</td>\n",
              "      <td>25128.0</td>\n",
              "      <td>0.019101</td>\n",
              "      <td>15728.0</td>\n",
              "      <td>1719.0</td>\n",
              "      <td>11.0</td>\n",
              "      <td>0.0</td>\n",
              "      <td>0.0</td>\n",
              "      <td>3.0</td>\n",
              "      <td>0.700784</td>\n",
              "      <td>0.645914</td>\n",
              "      <td>0.716570</td>\n",
              "      <td>0.0</td>\n",
              "      <td>0.0</td>\n",
              "      <td>1.0</td>\n",
              "      <td>0.0</td>\n",
              "      <td>0.0</td>\n",
              "      <td>2.0</td>\n",
              "      <td>3.0</td>\n",
              "      <td>1.428571</td>\n",
              "      <td>0.324353</td>\n",
              "      <td>4.197193</td>\n",
              "      <td>0.645914</td>\n",
              "      <td>0.716570</td>\n",
              "      <td>0.687756</td>\n",
              "      <td>0.700784</td>\n",
              "      <td>0.000917</td>\n",
              "      <td>34.025788</td>\n",
              "      <td>0.159543</td>\n",
              "      <td>5.428571</td>\n",
              "      <td>132372.0</td>\n",
              "      <td>1.59766</td>\n",
              "      <td>54.361648</td>\n",
              "      <td>10.013988</td>\n",
              "      <td>91.623037</td>\n",
              "      <td>497.382199</td>\n",
              "      <td>14.617801</td>\n",
              "      <td>9.149506</td>\n",
              "      <td>3008.4075</td>\n",
              "      <td>0.006399</td>\n",
              "      <td>0.000699</td>\n",
              "      <td>11.967181</td>\n",
              "      <td>13.658857</td>\n",
              "      <td>10.131738</td>\n",
              "      <td>1</td>\n",
              "      <td>0</td>\n",
              "      <td>0</td>\n",
              "      <td>1</td>\n",
              "      <td>0</td>\n",
              "      <td>0</td>\n",
              "      <td>0</td>\n",
              "      <td>0</td>\n",
              "      <td>0</td>\n",
              "      <td>1</td>\n",
              "      <td>0</td>\n",
              "      <td>1</td>\n",
              "      <td>0</td>\n",
              "      <td>0</td>\n",
              "      <td>0</td>\n",
              "      <td>0</td>\n",
              "    </tr>\n",
              "    <tr>\n",
              "      <th>1</th>\n",
              "      <td>123597908.0</td>\n",
              "      <td>1.0</td>\n",
              "      <td>NaN</td>\n",
              "      <td>NaN</td>\n",
              "      <td>NaN</td>\n",
              "      <td>NaN</td>\n",
              "      <td>NaN</td>\n",
              "      <td>NaN</td>\n",
              "      <td>NaN</td>\n",
              "      <td>NaN</td>\n",
              "      <td>NaN</td>\n",
              "      <td>NaN</td>\n",
              "      <td>NaN</td>\n",
              "      <td>NaN</td>\n",
              "      <td>NaN</td>\n",
              "      <td>NaN</td>\n",
              "      <td>NaN</td>\n",
              "      <td>NaN</td>\n",
              "      <td>NaN</td>\n",
              "      <td>NaN</td>\n",
              "      <td>NaN</td>\n",
              "      <td>NaN</td>\n",
              "      <td>NaN</td>\n",
              "      <td>NaN</td>\n",
              "      <td>NaN</td>\n",
              "      <td>NaN</td>\n",
              "      <td>NaN</td>\n",
              "      <td>NaN</td>\n",
              "      <td>NaN</td>\n",
              "      <td>NaN</td>\n",
              "      <td>NaN</td>\n",
              "      <td>NaN</td>\n",
              "      <td>NaN</td>\n",
              "      <td>NaN</td>\n",
              "      <td>NaN</td>\n",
              "      <td>NaN</td>\n",
              "      <td>NaN</td>\n",
              "      <td>NaN</td>\n",
              "      <td>NaN</td>\n",
              "      <td>NaN</td>\n",
              "      <td>NaN</td>\n",
              "      <td>NaN</td>\n",
              "      <td>NaN</td>\n",
              "      <td>NaN</td>\n",
              "      <td>NaN</td>\n",
              "      <td>NaN</td>\n",
              "      <td>NaN</td>\n",
              "      <td>NaN</td>\n",
              "      <td>1</td>\n",
              "      <td>0</td>\n",
              "      <td>0</td>\n",
              "      <td>0</td>\n",
              "      <td>0</td>\n",
              "      <td>0</td>\n",
              "      <td>0</td>\n",
              "      <td>0</td>\n",
              "      <td>0</td>\n",
              "      <td>0</td>\n",
              "      <td>0</td>\n",
              "      <td>0</td>\n",
              "      <td>0</td>\n",
              "      <td>0</td>\n",
              "      <td>0</td>\n",
              "      <td>0</td>\n",
              "    </tr>\n",
              "    <tr>\n",
              "      <th>2</th>\n",
              "      <td>123526683.0</td>\n",
              "      <td>0.0</td>\n",
              "      <td>0.0</td>\n",
              "      <td>135000.0</td>\n",
              "      <td>1006920.0</td>\n",
              "      <td>42660.0</td>\n",
              "      <td>0.026392</td>\n",
              "      <td>21557.0</td>\n",
              "      <td>3618.0</td>\n",
              "      <td>NaN</td>\n",
              "      <td>1.0</td>\n",
              "      <td>0.0</td>\n",
              "      <td>2.0</td>\n",
              "      <td>NaN</td>\n",
              "      <td>0.682149</td>\n",
              "      <td>0.267869</td>\n",
              "      <td>0.0</td>\n",
              "      <td>0.0</td>\n",
              "      <td>0.0</td>\n",
              "      <td>7.0</td>\n",
              "      <td>0.0</td>\n",
              "      <td>4.0</td>\n",
              "      <td>11.0</td>\n",
              "      <td>0.539379</td>\n",
              "      <td>NaN</td>\n",
              "      <td>NaN</td>\n",
              "      <td>0.267869</td>\n",
              "      <td>0.682149</td>\n",
              "      <td>0.475009</td>\n",
              "      <td>0.475009</td>\n",
              "      <td>0.042907</td>\n",
              "      <td>23.603376</td>\n",
              "      <td>0.316000</td>\n",
              "      <td>7.458667</td>\n",
              "      <td>92340.0</td>\n",
              "      <td>1.97894</td>\n",
              "      <td>46.709653</td>\n",
              "      <td>6.262467</td>\n",
              "      <td>37.313433</td>\n",
              "      <td>278.308458</td>\n",
              "      <td>11.791045</td>\n",
              "      <td>5.958264</td>\n",
              "      <td>3562.9200</td>\n",
              "      <td>NaN</td>\n",
              "      <td>NaN</td>\n",
              "      <td>11.813030</td>\n",
              "      <td>13.822407</td>\n",
              "      <td>10.661017</td>\n",
              "      <td>1</td>\n",
              "      <td>0</td>\n",
              "      <td>1</td>\n",
              "      <td>0</td>\n",
              "      <td>0</td>\n",
              "      <td>0</td>\n",
              "      <td>1</td>\n",
              "      <td>0</td>\n",
              "      <td>0</td>\n",
              "      <td>0</td>\n",
              "      <td>0</td>\n",
              "      <td>1</td>\n",
              "      <td>0</td>\n",
              "      <td>0</td>\n",
              "      <td>0</td>\n",
              "      <td>0</td>\n",
              "    </tr>\n",
              "  </tbody>\n",
              "</table>\n",
              "</div>"
            ],
            "text/plain": [
              "   application_number  target  ...  family_status_Unknown  family_status_Widow\n",
              "0         123687442.0     0.0  ...                      0                    0\n",
              "1         123597908.0     1.0  ...                      0                    0\n",
              "2         123526683.0     0.0  ...                      0                    0\n",
              "\n",
              "[3 rows x 64 columns]"
            ]
          },
          "metadata": {
            "tags": []
          },
          "execution_count": 29
        }
      ]
    },
    {
      "cell_type": "code",
      "metadata": {
        "id": "xfqjd5jGctpo"
      },
      "source": [
        ""
      ],
      "execution_count": 29,
      "outputs": []
    },
    {
      "cell_type": "code",
      "metadata": {
        "id": "zST0-h5P3CLA"
      },
      "source": [
        "# categorial = data.dtypes[data.dtypes == \"object\"].index\r\n",
        "# numerical = list(set(data.columns) - set(categorial))\r\n",
        "\r\n",
        "# # data = data.reset_index(drop=True)\r\n",
        "# data = pd.get_dummies(data, columns=categorial)\r\n",
        "# mask = data[\"target\"].isnull()\r\n",
        "# features_to_drop = [\"application_number\", \"target\"]\r\n",
        "\r\n",
        "# train, test = data.loc[~mask], data.loc[mask]\r\n",
        "\r\n",
        "# target, test_id = train[\"target\"], test[\"application_number\"]\r\n",
        "# train = train.drop(features_to_drop, axis=1)\r\n",
        "# test = test.drop(features_to_drop, axis=1)\r\n",
        "\r\n",
        "# train = train.replace(np.inf, np.nan)\r\n",
        "# train = train.replace(-np.inf, np.nan)\r\n",
        "\r\n",
        "\r\n",
        "# # categorical = [col for col in data.columns if col.endswith(\"_cat\")]\r\n",
        "\r\n",
        "# # train = pd.concat([data, test], axis=0).reset_index(drop=True)\r\n",
        "# # train = pd.get_dummies(train, columns=categorical)\r\n",
        "\r\n",
        "# # data_ohe = train.loc[:data.shape[0]-1]\r\n",
        "# # test_ohe = train.loc[data.shape[0]:]"
      ],
      "execution_count": 10,
      "outputs": []
    },
    {
      "cell_type": "code",
      "metadata": {
        "colab": {
          "base_uri": "https://localhost:8080/"
        },
        "id": "jQAR1r1JOsPY",
        "outputId": "cb4ddd51-5e72-453b-fdbd-ac507b009349"
      },
      "source": [
        "payments = get_input(\"payments.csv\")\r\n",
        "# payments['day_instalment_payment_ratio'] = payments[\"days_instalment\"]/payments['days_entry_payment']\r\n",
        "# payments['installment_payment_ratio'] = payments[\"amt_instalment\"]/payments['amt_payment']\r\n",
        "\r\n",
        "# payments[\"pay_log_days_entry_payment\"] = np.log(payments[\"days_entry_payment\"])\r\n",
        "# payments[\"pay_log_amt_instalment\"] = np.log(payments[\"amt_instalment\"])\r\n",
        "# payments[\"pay_log_amt_payment\"] = np.log(payments[\"amt_payment\"])\r\n",
        "\r\n",
        "bki = get_input(\"bki.csv\")\r\n",
        "# bki['day_fact_enddate'] = bki['days_enddate_fact'] / bki['days_credit_enddate']\r\n",
        "# bki['dlr'] = (bki['amt_credit_sum_debt']+0)/(bki['amt_credit_sum']+1) \r\n",
        "# bki['ratio_overdue'] = (bki['amt_credit_max_overdue']+0)/(bki['amt_credit_sum']+1)\r\n",
        "\r\n",
        "appl_history = get_input(\"applications_history.csv\")\r\n",
        "# appl_history['count_history'] = appl_history.groupby(['application_number'])['prev_application_number'].count()\r\n",
        "\r\n",
        "data = append_to_data(data, payments)\r\n",
        "data = append_to_data(data, bki)\r\n",
        "data = append_to_data(data, appl_history)"
      ],
      "execution_count": 11,
      "outputs": [
        {
          "output_type": "stream",
          "text": [
            "payments.csv: shape = 1023932 rows, 8 cols\n",
            "bki.csv: shape = 945234 rows, 17 cols\n",
            "applications_history.csv: shape = 1670214 rows, 26 cols\n"
          ],
          "name": "stdout"
        }
      ]
    },
    {
      "cell_type": "markdown",
      "metadata": {
        "id": "ZsOfZ96LmXM-"
      },
      "source": [
        "Чтобы было больше времени на выполнение курсовой работы, задание выполнить на наборе данных для соревнования:\r\n",
        "\r\n",
        "Тестовая выборка - это выборка для применения модели и загрузки на ЛБ.\r\n",
        "\r\n",
        "1. Обучить алгоритмы LightGBM и XGBoost, получить OOF прогнозы, оценить корреляцию прогнозов на обучающей выборке. Применить модели на тестовую выборку и оценить корреляцию.\r\n"
      ]
    },
    {
      "cell_type": "code",
      "metadata": {
        "id": "th6ejjhG3wGc"
      },
      "source": [
        "n_estimators = 50\r\n",
        "early_stop = 50\r\n",
        "random_state = 42\r\n",
        "eta = 0.3"
      ],
      "execution_count": 12,
      "outputs": []
    },
    {
      "cell_type": "code",
      "metadata": {
        "id": "CSRdtf0BmFca",
        "colab": {
          "base_uri": "https://localhost:8080/"
        },
        "outputId": "2f70709b-93fb-4cf8-b80d-fd9c7c3e6e2b"
      },
      "source": [
        "xgb_params = {\r\n",
        "    \"objective\": \"binary:logistic\",\r\n",
        "    \"booster\": \"gbtree\",\r\n",
        "    \"eval_metric\": \"auc\",\r\n",
        "    \"eta\": \"0.03\",\r\n",
        "    \"max_depth\": 6,\r\n",
        "    \"gamma\": 10,\r\n",
        "    \"subsample\": 0.85,\r\n",
        "    \"colsample_bytree\": 0.7,\r\n",
        "    \"colsample_bylevel\": 0.632,\r\n",
        "    \"min_child_weight\": 30,\r\n",
        "    \"early_stopping_rounds\": 50,\r\n",
        "    \"alpha\": 0,\r\n",
        "    \"lambda\": 0,\r\n",
        "    \"nthread\": 6,\r\n",
        "    \"random_seed\": 42\r\n",
        "}\r\n",
        "\r\n",
        "xgb_cv = KFold(n_splits=3, random_state=42, shuffle=True)\r\n",
        "\r\n",
        "\r\n",
        "xgb_estimators, _, xgb_oof = xgboost_cross_validation(\r\n",
        "    params=xgb_params, X=train, y=target, cv=xgb_cv\r\n",
        ")\r\n"
      ],
      "execution_count": 14,
      "outputs": [
        {
          "output_type": "stream",
          "text": [
            "Sun Dec 13 13:35:49 2020, Cross-Validation, 110093 rows, 62 cols\n",
            "[0]\ttrain-auc:0.684393\tvalid-auc:0.692691\n",
            "Multiple eval metrics have been passed: 'valid-auc' will be used for early stopping.\n",
            "\n",
            "Will train until valid-auc hasn't improved in 50 rounds.\n",
            "[10]\ttrain-auc:0.699872\tvalid-auc:0.705969\n",
            "[20]\ttrain-auc:0.704736\tvalid-auc:0.709873\n",
            "[30]\ttrain-auc:0.707218\tvalid-auc:0.710996\n",
            "[40]\ttrain-auc:0.709543\tvalid-auc:0.712231\n",
            "[50]\ttrain-auc:0.712078\tvalid-auc:0.714118\n",
            "[60]\ttrain-auc:0.71541\tvalid-auc:0.716593\n",
            "[70]\ttrain-auc:0.717786\tvalid-auc:0.718024\n",
            "[80]\ttrain-auc:0.720623\tvalid-auc:0.720064\n",
            "[90]\ttrain-auc:0.723435\tvalid-auc:0.721546\n",
            "[100]\ttrain-auc:0.725827\tvalid-auc:0.72327\n",
            "[110]\ttrain-auc:0.727891\tvalid-auc:0.724637\n",
            "[120]\ttrain-auc:0.730002\tvalid-auc:0.726421\n",
            "[130]\ttrain-auc:0.731796\tvalid-auc:0.727431\n",
            "[140]\ttrain-auc:0.734056\tvalid-auc:0.728895\n",
            "[150]\ttrain-auc:0.735822\tvalid-auc:0.730124\n",
            "[160]\ttrain-auc:0.737059\tvalid-auc:0.730896\n",
            "[170]\ttrain-auc:0.738987\tvalid-auc:0.731697\n",
            "[180]\ttrain-auc:0.740444\tvalid-auc:0.732572\n",
            "[190]\ttrain-auc:0.74161\tvalid-auc:0.7329\n",
            "[200]\ttrain-auc:0.742664\tvalid-auc:0.733496\n",
            "[210]\ttrain-auc:0.743929\tvalid-auc:0.734023\n",
            "[220]\ttrain-auc:0.744857\tvalid-auc:0.734513\n",
            "[230]\ttrain-auc:0.745762\tvalid-auc:0.734941\n",
            "[240]\ttrain-auc:0.746448\tvalid-auc:0.735029\n",
            "[250]\ttrain-auc:0.747067\tvalid-auc:0.735486\n",
            "[260]\ttrain-auc:0.748058\tvalid-auc:0.735611\n",
            "[270]\ttrain-auc:0.748683\tvalid-auc:0.736037\n",
            "[280]\ttrain-auc:0.749198\tvalid-auc:0.736342\n",
            "[290]\ttrain-auc:0.749825\tvalid-auc:0.736489\n",
            "[300]\ttrain-auc:0.750474\tvalid-auc:0.736975\n",
            "[310]\ttrain-auc:0.751201\tvalid-auc:0.736619\n",
            "[320]\ttrain-auc:0.751934\tvalid-auc:0.736844\n",
            "[330]\ttrain-auc:0.752435\tvalid-auc:0.737026\n",
            "[340]\ttrain-auc:0.753453\tvalid-auc:0.737288\n",
            "[350]\ttrain-auc:0.75416\tvalid-auc:0.737398\n",
            "[360]\ttrain-auc:0.754543\tvalid-auc:0.737344\n",
            "[370]\ttrain-auc:0.755236\tvalid-auc:0.737823\n",
            "[380]\ttrain-auc:0.755631\tvalid-auc:0.737764\n",
            "[390]\ttrain-auc:0.756021\tvalid-auc:0.737848\n",
            "[400]\ttrain-auc:0.756353\tvalid-auc:0.737868\n",
            "[410]\ttrain-auc:0.757079\tvalid-auc:0.737546\n",
            "[420]\ttrain-auc:0.757601\tvalid-auc:0.737483\n",
            "[430]\ttrain-auc:0.757979\tvalid-auc:0.737316\n",
            "[440]\ttrain-auc:0.758442\tvalid-auc:0.737384\n",
            "Stopping. Best iteration:\n",
            "[398]\ttrain-auc:0.756309\tvalid-auc:0.737927\n",
            "\n",
            "Fold 1, Valid score = 0.7376\n",
            "[0]\ttrain-auc:0.692797\tvalid-auc:0.684178\n",
            "Multiple eval metrics have been passed: 'valid-auc' will be used for early stopping.\n",
            "\n",
            "Will train until valid-auc hasn't improved in 50 rounds.\n",
            "[10]\ttrain-auc:0.707307\tvalid-auc:0.699567\n",
            "[20]\ttrain-auc:0.710249\tvalid-auc:0.701568\n",
            "[30]\ttrain-auc:0.712623\tvalid-auc:0.703794\n",
            "[40]\ttrain-auc:0.714658\tvalid-auc:0.705509\n",
            "[50]\ttrain-auc:0.716815\tvalid-auc:0.706843\n",
            "[60]\ttrain-auc:0.719371\tvalid-auc:0.707755\n",
            "[70]\ttrain-auc:0.721007\tvalid-auc:0.709661\n",
            "[80]\ttrain-auc:0.72333\tvalid-auc:0.710968\n",
            "[90]\ttrain-auc:0.725737\tvalid-auc:0.713215\n",
            "[100]\ttrain-auc:0.727441\tvalid-auc:0.71384\n",
            "[110]\ttrain-auc:0.730155\tvalid-auc:0.716049\n",
            "[120]\ttrain-auc:0.73341\tvalid-auc:0.717312\n",
            "[130]\ttrain-auc:0.734982\tvalid-auc:0.718612\n",
            "[140]\ttrain-auc:0.736989\tvalid-auc:0.719889\n",
            "[150]\ttrain-auc:0.739054\tvalid-auc:0.721299\n",
            "[160]\ttrain-auc:0.740431\tvalid-auc:0.721699\n",
            "[170]\ttrain-auc:0.742419\tvalid-auc:0.722764\n",
            "[180]\ttrain-auc:0.743357\tvalid-auc:0.723375\n",
            "[190]\ttrain-auc:0.744611\tvalid-auc:0.723928\n",
            "[200]\ttrain-auc:0.746083\tvalid-auc:0.724319\n",
            "[210]\ttrain-auc:0.746974\tvalid-auc:0.724578\n",
            "[220]\ttrain-auc:0.748034\tvalid-auc:0.725195\n",
            "[230]\ttrain-auc:0.749059\tvalid-auc:0.725543\n",
            "[240]\ttrain-auc:0.749783\tvalid-auc:0.725881\n",
            "[250]\ttrain-auc:0.750648\tvalid-auc:0.726226\n",
            "[260]\ttrain-auc:0.751386\tvalid-auc:0.726455\n",
            "[270]\ttrain-auc:0.751932\tvalid-auc:0.726701\n",
            "[280]\ttrain-auc:0.752298\tvalid-auc:0.726674\n",
            "[290]\ttrain-auc:0.752749\tvalid-auc:0.726738\n",
            "[300]\ttrain-auc:0.75352\tvalid-auc:0.726786\n",
            "[310]\ttrain-auc:0.754097\tvalid-auc:0.726881\n",
            "[320]\ttrain-auc:0.754563\tvalid-auc:0.727135\n",
            "[330]\ttrain-auc:0.754988\tvalid-auc:0.727129\n",
            "[340]\ttrain-auc:0.755487\tvalid-auc:0.72732\n",
            "[350]\ttrain-auc:0.756341\tvalid-auc:0.727467\n",
            "[360]\ttrain-auc:0.756417\tvalid-auc:0.727508\n",
            "[370]\ttrain-auc:0.756945\tvalid-auc:0.727642\n",
            "[380]\ttrain-auc:0.757169\tvalid-auc:0.727562\n",
            "[390]\ttrain-auc:0.757605\tvalid-auc:0.72765\n",
            "[400]\ttrain-auc:0.758274\tvalid-auc:0.727946\n",
            "[410]\ttrain-auc:0.758728\tvalid-auc:0.727971\n",
            "[420]\ttrain-auc:0.759202\tvalid-auc:0.727989\n",
            "[430]\ttrain-auc:0.75962\tvalid-auc:0.728348\n",
            "[440]\ttrain-auc:0.760201\tvalid-auc:0.728559\n",
            "[450]\ttrain-auc:0.760337\tvalid-auc:0.728347\n",
            "[460]\ttrain-auc:0.760754\tvalid-auc:0.728424\n",
            "[470]\ttrain-auc:0.761194\tvalid-auc:0.728379\n",
            "[480]\ttrain-auc:0.761512\tvalid-auc:0.728416\n",
            "[490]\ttrain-auc:0.761978\tvalid-auc:0.728361\n",
            "[500]\ttrain-auc:0.761961\tvalid-auc:0.728472\n",
            "Stopping. Best iteration:\n",
            "[459]\ttrain-auc:0.760732\tvalid-auc:0.728566\n",
            "\n",
            "Fold 2, Valid score = 0.72848\n",
            "[0]\ttrain-auc:0.690867\tvalid-auc:0.674326\n",
            "Multiple eval metrics have been passed: 'valid-auc' will be used for early stopping.\n",
            "\n",
            "Will train until valid-auc hasn't improved in 50 rounds.\n",
            "[10]\ttrain-auc:0.711419\tvalid-auc:0.691664\n",
            "[20]\ttrain-auc:0.714504\tvalid-auc:0.695106\n",
            "[30]\ttrain-auc:0.716023\tvalid-auc:0.695468\n",
            "[40]\ttrain-auc:0.718645\tvalid-auc:0.697272\n",
            "[50]\ttrain-auc:0.722072\tvalid-auc:0.698833\n",
            "[60]\ttrain-auc:0.724698\tvalid-auc:0.700234\n",
            "[70]\ttrain-auc:0.726898\tvalid-auc:0.701674\n",
            "[80]\ttrain-auc:0.729561\tvalid-auc:0.703171\n",
            "[90]\ttrain-auc:0.731432\tvalid-auc:0.704272\n",
            "[100]\ttrain-auc:0.734115\tvalid-auc:0.705577\n",
            "[110]\ttrain-auc:0.736509\tvalid-auc:0.707044\n",
            "[120]\ttrain-auc:0.738028\tvalid-auc:0.707738\n",
            "[130]\ttrain-auc:0.740078\tvalid-auc:0.708783\n",
            "[140]\ttrain-auc:0.742472\tvalid-auc:0.709613\n",
            "[150]\ttrain-auc:0.744991\tvalid-auc:0.710856\n",
            "[160]\ttrain-auc:0.747025\tvalid-auc:0.711952\n",
            "[170]\ttrain-auc:0.748639\tvalid-auc:0.712342\n",
            "[180]\ttrain-auc:0.749961\tvalid-auc:0.713326\n",
            "[190]\ttrain-auc:0.75114\tvalid-auc:0.714179\n",
            "[200]\ttrain-auc:0.752253\tvalid-auc:0.71459\n",
            "[210]\ttrain-auc:0.753447\tvalid-auc:0.714796\n",
            "[220]\ttrain-auc:0.754346\tvalid-auc:0.715359\n",
            "[230]\ttrain-auc:0.755121\tvalid-auc:0.715741\n",
            "[240]\ttrain-auc:0.755905\tvalid-auc:0.715932\n",
            "[250]\ttrain-auc:0.756265\tvalid-auc:0.716031\n",
            "[260]\ttrain-auc:0.756859\tvalid-auc:0.716256\n",
            "[270]\ttrain-auc:0.757854\tvalid-auc:0.716448\n",
            "[280]\ttrain-auc:0.758307\tvalid-auc:0.71628\n",
            "[290]\ttrain-auc:0.759018\tvalid-auc:0.716826\n",
            "[300]\ttrain-auc:0.759384\tvalid-auc:0.716503\n",
            "[310]\ttrain-auc:0.760357\tvalid-auc:0.716833\n",
            "[320]\ttrain-auc:0.76115\tvalid-auc:0.717229\n",
            "[330]\ttrain-auc:0.761922\tvalid-auc:0.717258\n",
            "[340]\ttrain-auc:0.762396\tvalid-auc:0.717506\n",
            "[350]\ttrain-auc:0.763045\tvalid-auc:0.717537\n",
            "[360]\ttrain-auc:0.763667\tvalid-auc:0.717607\n",
            "[370]\ttrain-auc:0.763985\tvalid-auc:0.717542\n",
            "[380]\ttrain-auc:0.764303\tvalid-auc:0.71766\n",
            "[390]\ttrain-auc:0.764773\tvalid-auc:0.717812\n",
            "[400]\ttrain-auc:0.765207\tvalid-auc:0.71788\n",
            "[410]\ttrain-auc:0.765354\tvalid-auc:0.717929\n",
            "[420]\ttrain-auc:0.765697\tvalid-auc:0.717838\n",
            "[430]\ttrain-auc:0.766114\tvalid-auc:0.71814\n",
            "[440]\ttrain-auc:0.766694\tvalid-auc:0.718443\n",
            "[450]\ttrain-auc:0.767011\tvalid-auc:0.718337\n",
            "[460]\ttrain-auc:0.767372\tvalid-auc:0.718398\n",
            "[470]\ttrain-auc:0.767448\tvalid-auc:0.718455\n",
            "[480]\ttrain-auc:0.767808\tvalid-auc:0.718357\n",
            "[490]\ttrain-auc:0.767759\tvalid-auc:0.718269\n",
            "[500]\ttrain-auc:0.76802\tvalid-auc:0.718548\n",
            "[510]\ttrain-auc:0.76861\tvalid-auc:0.718368\n",
            "[520]\ttrain-auc:0.768916\tvalid-auc:0.718644\n",
            "[530]\ttrain-auc:0.769294\tvalid-auc:0.718634\n",
            "[540]\ttrain-auc:0.769735\tvalid-auc:0.718764\n",
            "[550]\ttrain-auc:0.769853\tvalid-auc:0.718759\n",
            "[560]\ttrain-auc:0.770414\tvalid-auc:0.718834\n",
            "[570]\ttrain-auc:0.770812\tvalid-auc:0.719031\n",
            "[580]\ttrain-auc:0.771\tvalid-auc:0.719072\n",
            "[590]\ttrain-auc:0.771874\tvalid-auc:0.719361\n",
            "[600]\ttrain-auc:0.772157\tvalid-auc:0.719118\n",
            "[610]\ttrain-auc:0.77239\tvalid-auc:0.719324\n",
            "[620]\ttrain-auc:0.772671\tvalid-auc:0.719172\n",
            "[630]\ttrain-auc:0.772818\tvalid-auc:0.719176\n",
            "Stopping. Best iteration:\n",
            "[589]\ttrain-auc:0.771874\tvalid-auc:0.719361\n",
            "\n",
            "Fold 3, Valid score = 0.71925\n"
          ],
          "name": "stdout"
        }
      ]
    },
    {
      "cell_type": "code",
      "metadata": {
        "id": "iD3LfLfzmi7u",
        "colab": {
          "base_uri": "https://localhost:8080/"
        },
        "outputId": "e271e303-4478-4c96-8fdf-fbf1f304ad3c"
      },
      "source": [
        "oof_score = roc_auc_score(\r\n",
        "    target, xgb_oof\r\n",
        ")\r\n",
        "print(f\"OOF-score = {round(oof_score, 5)}\")"
      ],
      "execution_count": 20,
      "outputs": [
        {
          "output_type": "stream",
          "text": [
            "OOF-score = 0.72801\n"
          ],
          "name": "stdout"
        }
      ]
    },
    {
      "cell_type": "code",
      "metadata": {
        "id": "0Y8B2V_fV3hB"
      },
      "source": [
        "categorial = train.dtypes[train.dtypes == \"object\"].index\r\n",
        "numerical = list(set(train.columns) - set(categorial))"
      ],
      "execution_count": 17,
      "outputs": []
    },
    {
      "cell_type": "code",
      "metadata": {
        "id": "37E4PUMUmiw5"
      },
      "source": [
        "y_pred = np.zeros(test.shape[0])\r\n",
        "test[numerical] = test[numerical].astype(float)\r\n",
        "test[categorial] = test[categorial].astype(str)\r\n",
        "\r\n",
        "dtest = xgb.DMatrix(data=test)\r\n",
        "\r\n",
        "for estimator in xgb_estimators:\r\n",
        "    y_pred += estimator.predict(dtest)"
      ],
      "execution_count": 25,
      "outputs": []
    },
    {
      "cell_type": "code",
      "metadata": {
        "id": "-Wm_ubExmisV"
      },
      "source": [
        "y_pred = pd.DataFrame({\r\n",
        "    \"APPLICATION_NUMBER\": test_id,\r\n",
        "    \"TARGET\": y_pred / xgb_cv.n_splits\r\n",
        "})\r\n",
        "y_pred.to_csv(\"baseline_submit_II.csv\", index=False)"
      ],
      "execution_count": 30,
      "outputs": []
    },
    {
      "cell_type": "markdown",
      "metadata": {
        "id": "Yxehe4BwmjyD"
      },
      "source": [
        "2. Усреднить прогнозы с помощью арифмитического среднего, геометрического среднего и усреднить ранги, сделать выводы о качестве отдельных моделей и о качестве комбинации."
      ]
    },
    {
      "cell_type": "code",
      "metadata": {
        "id": "nSmI8EZAnL-q"
      },
      "source": [
        "ddd = pd.read_csv(\"baseline_submit_II.csv\")"
      ],
      "execution_count": 31,
      "outputs": []
    },
    {
      "cell_type": "code",
      "metadata": {
        "id": "gyIJethCnLzt"
      },
      "source": [
        "ddd[\"APPLICATION_NUMBER\"] = ddd[\"APPLICATION_NUMBER\"].astype(int)"
      ],
      "execution_count": 36,
      "outputs": []
    },
    {
      "cell_type": "code",
      "metadata": {
        "id": "28U0FG7RnLvV"
      },
      "source": [
        "ddd.to_csv(\"baseline_submit_II.csv\", index=False)"
      ],
      "execution_count": 39,
      "outputs": []
    },
    {
      "cell_type": "code",
      "metadata": {
        "id": "2OhQ4ShTnLkL"
      },
      "source": [
        ""
      ],
      "execution_count": null,
      "outputs": []
    },
    {
      "cell_type": "markdown",
      "metadata": {
        "id": "12QTtwocmjsa"
      },
      "source": [
        "3. Обучить CatBoost, получить OOF прогнозы и выполнить задание 1 для трех моделей.\r\n"
      ]
    },
    {
      "cell_type": "code",
      "metadata": {
        "id": "hR-WQbjYnMxQ"
      },
      "source": [
        ""
      ],
      "execution_count": null,
      "outputs": []
    },
    {
      "cell_type": "code",
      "metadata": {
        "id": "sBMcBzAEnP3R"
      },
      "source": [
        ""
      ],
      "execution_count": null,
      "outputs": []
    },
    {
      "cell_type": "code",
      "metadata": {
        "id": "CpjpliYLnMp9"
      },
      "source": [
        ""
      ],
      "execution_count": null,
      "outputs": []
    },
    {
      "cell_type": "code",
      "metadata": {
        "id": "P1Lb0N4LnMlg"
      },
      "source": [
        ""
      ],
      "execution_count": null,
      "outputs": []
    },
    {
      "cell_type": "markdown",
      "metadata": {
        "id": "QPC1ewjnmjdj"
      },
      "source": [
        "4. Выполнить задание 2 для трех моделей.\r\n"
      ]
    },
    {
      "cell_type": "code",
      "metadata": {
        "id": "dRqKodBCnNtQ"
      },
      "source": [
        ""
      ],
      "execution_count": null,
      "outputs": []
    },
    {
      "cell_type": "code",
      "metadata": {
        "id": "3b4e4iNUnNl2"
      },
      "source": [
        ""
      ],
      "execution_count": null,
      "outputs": []
    },
    {
      "cell_type": "code",
      "metadata": {
        "id": "OgdCu_X4nNgZ"
      },
      "source": [
        ""
      ],
      "execution_count": null,
      "outputs": []
    },
    {
      "cell_type": "code",
      "metadata": {
        "id": "2POekCU8nNb6"
      },
      "source": [
        ""
      ],
      "execution_count": null,
      "outputs": []
    },
    {
      "cell_type": "markdown",
      "metadata": {
        "id": "TNZzkFI5m14v"
      },
      "source": [
        "5. (опция) Объединить OOF-прогнозы для трех моделей и обучить алгоритм Логистической регрессии (и любой другой, на ваше усмотрение). Сделать выводы о достигаемом качестве, сравнить достигаемое качество с качеством отдельных моделей и моделей, полученных в п.2 и п.4."
      ]
    },
    {
      "cell_type": "code",
      "metadata": {
        "id": "chXROarvnOwO"
      },
      "source": [
        ""
      ],
      "execution_count": null,
      "outputs": []
    },
    {
      "cell_type": "code",
      "metadata": {
        "id": "HoEczovmnOq3"
      },
      "source": [
        ""
      ],
      "execution_count": null,
      "outputs": []
    },
    {
      "cell_type": "code",
      "metadata": {
        "id": "_wBFkBwinOks"
      },
      "source": [
        ""
      ],
      "execution_count": null,
      "outputs": []
    },
    {
      "cell_type": "code",
      "metadata": {
        "id": "xYb5YiXKnOfJ"
      },
      "source": [
        ""
      ],
      "execution_count": null,
      "outputs": []
    },
    {
      "cell_type": "code",
      "metadata": {
        "id": "5JVq8BcFnOai"
      },
      "source": [
        ""
      ],
      "execution_count": null,
      "outputs": []
    },
    {
      "cell_type": "markdown",
      "metadata": {
        "id": "3FBsu2jVm52j"
      },
      "source": [
        "6. (опция) Обучить алгоритмRandomForest (желательно подтюнить параметры) и добавить к построенным ранее моделям. Выполнить задание 5.\r\n",
        "\r\n"
      ]
    },
    {
      "cell_type": "code",
      "metadata": {
        "id": "glrJkxP3nQzJ"
      },
      "source": [
        ""
      ],
      "execution_count": null,
      "outputs": []
    },
    {
      "cell_type": "code",
      "metadata": {
        "id": "o7UeRKDknQul"
      },
      "source": [
        ""
      ],
      "execution_count": null,
      "outputs": []
    }
  ]
}