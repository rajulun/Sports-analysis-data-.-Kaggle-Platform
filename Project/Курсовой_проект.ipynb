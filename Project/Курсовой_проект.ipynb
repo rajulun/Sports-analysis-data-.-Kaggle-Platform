{
  "nbformat": 4,
  "nbformat_minor": 0,
  "metadata": {
    "colab": {
      "name": "Курсовой проет",
      "provenance": [],
      "toc_visible": true
    },
    "kernelspec": {
      "name": "python3",
      "display_name": "Python 3"
    }
  },
  "cells": [
    {
      "cell_type": "code",
      "metadata": {
        "id": "usgzZK2bqz7o"
      },
      "source": [
        "# !pip install catboost"
      ],
      "execution_count": 1,
      "outputs": []
    },
    {
      "cell_type": "code",
      "metadata": {
        "id": "AfaP8kFkp-Y9"
      },
      "source": [
        "import time\r\n",
        "import numpy as np\r\n",
        "import pandas as pd\r\n",
        "import catboost as cb\r\n",
        "import xgboost as xgb\r\n",
        "import lightgbm as lgb\r\n",
        "import matplotlib.pyplot as plt\r\n",
        "import seaborn as sns\r\n",
        "\r\n",
        "from sklearn.metrics import roc_auc_score\r\n",
        "from sklearn.model_selection import KFold\r\n",
        "from sklearn.model_selection import train_test_split\r\n",
        "from scipy.stats import gmean, rankdata\r\n",
        "\r\n",
        "pd.set_option(\"display.max_columns\", 30)"
      ],
      "execution_count": 2,
      "outputs": []
    },
    {
      "cell_type": "code",
      "metadata": {
        "id": "vbkmL9lJGtR2"
      },
      "source": [
        "# !pip install --upgrade --force-reinstall --no-deps kaggle"
      ],
      "execution_count": 3,
      "outputs": []
    },
    {
      "cell_type": "code",
      "metadata": {
        "id": "iEHuzBm6wzeV"
      },
      "source": [
        "# !mkdir -p ~/.kaggle\n",
        "# !cp /content/kaggle.json ~/.kaggle/\n",
        "# !chmod 600 /root/.kaggle/kaggle.json\n",
        "# # !kaggle datasets download -d  geekbrains-competitive-data-analysis\n",
        "# !kaggle competitions download -c geekbrains-competitive-data-analysis"
      ],
      "execution_count": 4,
      "outputs": []
    },
    {
      "cell_type": "code",
      "metadata": {
        "id": "O5XZ2xmxGmRG"
      },
      "source": [
        "# !kaggle -v"
      ],
      "execution_count": 5,
      "outputs": []
    },
    {
      "cell_type": "code",
      "metadata": {
        "id": "ti-ntv2FyOFQ"
      },
      "source": [
        "# !unzip -q /content/geekbrains-competitive-data-analysis.zip -d /content/data"
      ],
      "execution_count": 6,
      "outputs": []
    },
    {
      "cell_type": "markdown",
      "metadata": {
        "id": "ZB8ZzE6kqknj"
      },
      "source": [
        "## Useful Functions"
      ]
    },
    {
      "cell_type": "code",
      "metadata": {
        "id": "a-2WG3UOqpN4"
      },
      "source": [
        "def get_input(data_path: str) -> pd.DataFrame:\r\n",
        "    \"\"\"\r\n",
        "    Считывание данных и вывод основной информации о наборе данных.\r\n",
        "\r\n",
        "    Parameters\r\n",
        "    ----------\r\n",
        "    data_path: str\r\n",
        "        Название файла.\r\n",
        "\r\n",
        "    Returns\r\n",
        "    -------\r\n",
        "    data: pandas.core.frame.DataFrame\r\n",
        "        Загруженный набор данных в pandas.DataFrame\r\n",
        "\r\n",
        "    \"\"\"\r\n",
        "    base_path = \"data\"\r\n",
        "    data = pd.read_csv(f\"{base_path}/{data_path}\")\r\n",
        "    data.columns = [col.lower() for col in data.columns]\r\n",
        "    print(f\"{data_path}: shape = {data.shape[0]} rows, {data.shape[1]} cols\")\r\n",
        "\r\n",
        "    return data\r\n",
        "\r\n",
        "def lightgbm_cross_validation(params, X, y, cv, categorical = None):\r\n",
        "    \"\"\"\r\n",
        "    Кросс-валидация для модели catbooost.\r\n",
        "\r\n",
        "    Parameters\r\n",
        "    ----------\r\n",
        "    params: dict\r\n",
        "        Словарь гиперпараметров модели.\r\n",
        "\r\n",
        "    X: pandas.core.frame.DataFrame\r\n",
        "        Матрица признако для обучения модели.\r\n",
        "\r\n",
        "    y: pandas.core.frame.Series\r\n",
        "        Вектор целевой переменной для обучения модели.\r\n",
        "\r\n",
        "    cv: KFold or StratifiedKFold generator.\r\n",
        "        Объект KFold / StratifiedKFold для определения\r\n",
        "        стратегии кросс-валидации модели.\r\n",
        "\r\n",
        "    categorical: str, optional, default = None\r\n",
        "        Список категориальных признаков.\r\n",
        "        Опциональный параметр, по умолчанию, не используется.\r\n",
        "\r\n",
        "    Returns\r\n",
        "    -------\r\n",
        "    estimators: list\r\n",
        "        Список с объектами обученной модели.\r\n",
        "\r\n",
        "    oof_preds: np.array\r\n",
        "        Вектор OOF-прогнозов.\r\n",
        "\r\n",
        "    \"\"\"\r\n",
        "    if not categorical:\r\n",
        "        categorical = \"auto\"\r\n",
        "\r\n",
        "    estimators, folds_scores = [], []\r\n",
        "    oof_preds = np.zeros(X.shape[0])\r\n",
        "    print(f\"{time.ctime()}, Cross-Validation, {X.shape[0]} rows, {X.shape[1]} cols\")\r\n",
        "\r\n",
        "    for fold, (train_idx, valid_idx) in enumerate(cv.split(X, y)):\r\n",
        "        x_train, x_valid = X.loc[train_idx], X.loc[valid_idx]\r\n",
        "        y_train, y_valid = y[train_idx], y[valid_idx]\r\n",
        "\r\n",
        "        model = lgb.LGBMClassifier(**params)\r\n",
        "        model.fit(\r\n",
        "            x_train, y_train,\r\n",
        "            eval_set=[(x_valid, y_valid)],\r\n",
        "            eval_metric=\"auc\", verbose=50, early_stopping_rounds=5000,\r\n",
        "            categorical_feature=categorical\r\n",
        "        )\r\n",
        "        oof_preds[valid_idx] = model.predict_proba(x_valid)[:, 1]\r\n",
        "        score = roc_auc_score(y_valid, oof_preds[valid_idx])\r\n",
        "        print(f\"Fold {fold+1}, Valid score = {round(score, 5)}\")\r\n",
        "        folds_scores.append(round(score, 5))\r\n",
        "        estimators.append(model)\r\n",
        "\r\n",
        "    print(f\"Score by each fold: {folds_scores}\")\r\n",
        "    print(\"=\"*65)\r\n",
        "    return estimators, oof_preds\r\n",
        "\r\n",
        "\r\n",
        "def xgboost_cross_validation(params, X, y, cv, categorical = None):\r\n",
        "    \"\"\"\r\n",
        "    Кросс-валидация для модели catbooost.\r\n",
        "\r\n",
        "    Parameters\r\n",
        "    ----------\r\n",
        "    params: dict\r\n",
        "        Словарь гиперпараметров модели.\r\n",
        "\r\n",
        "    X: pandas.core.frame.DataFrame\r\n",
        "        Матрица признако для обучения модели.\r\n",
        "\r\n",
        "    y: pandas.core.frame.Series\r\n",
        "        Вектор целевой переменной для обучения модели.\r\n",
        "\r\n",
        "    cv: KFold or StratifiedKFold generator.\r\n",
        "        Объект KFold / StratifiedKFold для определения\r\n",
        "        стратегии кросс-валидации модели.\r\n",
        "\r\n",
        "    categorical: str, optional, default = None\r\n",
        "        Список категориальных признаков.\r\n",
        "        Опциональный параметр, по умолчанию, не используется.\r\n",
        "\r\n",
        "    Returns\r\n",
        "    -------\r\n",
        "    estimators: list\r\n",
        "        Список с объектами обученной модели.\r\n",
        "\r\n",
        "    encoders: dict\r\n",
        "        Список с объектами LabelEncoders.\r\n",
        "\r\n",
        "    oof_preds: np.array\r\n",
        "        Вектор OOF-прогнозов.\r\n",
        "\r\n",
        "    \"\"\"\r\n",
        "    estimators, encoders = [], {}\r\n",
        "    oof_preds = np.zeros(X.shape[0])\r\n",
        "\r\n",
        "    if categorical:\r\n",
        "        for feature in categorical:\r\n",
        "            encoder = LabelEncoder()\r\n",
        "            X[feature] = encoder.fit_transform(X[feature].astype(\"str\").fillna(\"NA\"))\r\n",
        "            encoders[feature] = encoder\r\n",
        "\r\n",
        "    print(f\"{time.ctime()}, Cross-Validation, {X.shape[0]} rows, {X.shape[1]} cols\")\r\n",
        "\r\n",
        "    for fold, (train_idx, valid_idx) in enumerate(cv.split(X, y)):\r\n",
        "\r\n",
        "        x_train, x_valid = X.loc[train_idx], X.loc[valid_idx]\r\n",
        "        y_train, y_valid = y[train_idx], y[valid_idx]\r\n",
        "        dtrain = xgb.DMatrix(x_train, y_train)\r\n",
        "        dvalid = xgb.DMatrix(x_valid, y_valid)\r\n",
        "\r\n",
        "        model = xgb.train(\r\n",
        "            params=params,\r\n",
        "            dtrain=dtrain,\r\n",
        "            maximize=True,\r\n",
        "            num_boost_round=10000,\r\n",
        "            early_stopping_rounds=50,\r\n",
        "            evals=[(dtrain, \"train\"), (dvalid, \"valid\")],\r\n",
        "            verbose_eval=100,\r\n",
        "        )\r\n",
        "        oof_preds[valid_idx] = model.predict(dvalid)\r\n",
        "        score = roc_auc_score(y_valid, oof_preds[valid_idx])\r\n",
        "        print(f\"Fold {fold+1}, Valid score = {round(score, 5)}\")\r\n",
        "        estimators.append(model)\r\n",
        "\r\n",
        "    return estimators, encoders, oof_preds\r\n",
        "\r\n",
        "def catboost_cross_validation(params, X, y, cv, categorical = None):\r\n",
        "    \"\"\"\r\n",
        "    Кросс-валидация для модели catbooost.\r\n",
        "\r\n",
        "    Parameters\r\n",
        "    ----------\r\n",
        "    params: dict\r\n",
        "        Словарь гиперпараметров модели.\r\n",
        "\r\n",
        "    X: pandas.core.frame.DataFrame\r\n",
        "        Матрица признако для обучения модели.\r\n",
        "\r\n",
        "    y: pandas.core.frame.Series\r\n",
        "        Вектор целевой переменной для обучения модели.\r\n",
        "\r\n",
        "    cv: KFold or StratifiedKFold generator.\r\n",
        "        Объект KFold / StratifiedKFold для определения\r\n",
        "        стратегии кросс-валидации модели.\r\n",
        "\r\n",
        "    categorical: str, optional, default = None\r\n",
        "        Список категориальных признаков.\r\n",
        "        Опциональный параметр, по умолчанию, не используется.\r\n",
        "\r\n",
        "    Returns\r\n",
        "    -------\r\n",
        "    estimators: list\r\n",
        "        Список с объектами обученной модели.\r\n",
        "\r\n",
        "    oof_preds: np.array\r\n",
        "        Вектор OOF-прогнозов.\r\n",
        "\r\n",
        "    \"\"\"\r\n",
        "    estimators, folds_scores = [], []\r\n",
        "    oof_preds = np.zeros(X.shape[0])\r\n",
        "\r\n",
        "    print(f\"{time.ctime()}, Cross-Validation, {X.shape[0]} rows, {X.shape[1]} cols\")\r\n",
        "    X[categorical] = X[categorical].astype(str)\r\n",
        "\r\n",
        "    for fold, (train_idx, valid_idx) in enumerate(cv.split(X, y)):\r\n",
        "\r\n",
        "        x_train, x_valid = X.loc[train_idx], X.loc[valid_idx]\r\n",
        "        y_train, y_valid = y[train_idx], y[valid_idx]\r\n",
        "\r\n",
        "        model = cb.CatBoostClassifier(**params)\r\n",
        "        model.fit(\r\n",
        "            x_train, y_train, categorical,\r\n",
        "            eval_set=[(x_train, y_train), (x_valid, y_valid)]\r\n",
        "        )\r\n",
        "        oof_preds[valid_idx] = model.predict_proba(x_valid)[:, 1]\r\n",
        "        score = roc_auc_score(y_valid, oof_preds[valid_idx])\r\n",
        "        print(f\"Fold {fold+1}, Valid score = {round(score, 5)}\")\r\n",
        "        folds_scores.append(round(score, 5))\r\n",
        "        estimators.append(model)\r\n",
        "\r\n",
        "    print(f\"Score by each fold: {folds_scores}\")\r\n",
        "    print(\"=\"*65)\r\n",
        "    return estimators, oof_preds\r\n",
        "\r\n",
        "\r\n",
        "# def catboost_hold_out_validation(params, X, y, split_params = [0.7, 0.2, 0.1], categorical = None):\r\n",
        "#     \"\"\"\r\n",
        "#     Hold-Out валидация для модели catbooost.\r\n",
        "\r\n",
        "#     Parameters\r\n",
        "#     ----------\r\n",
        "#     params: dict\r\n",
        "#         Словарь гиперпараметров модели.\r\n",
        "\r\n",
        "#     X: pandas.core.frame.DataFrame\r\n",
        "#         Матрица признаков для обучения модели.\r\n",
        "\r\n",
        "#     y: pandas.core.frame.Series\r\n",
        "#         Вектор целевой переменной для обучения модели.\r\n",
        "\r\n",
        "#     split_params: List[float], optional, default = [0.7, 0.2, 0.1]\r\n",
        "#         Параметры (доли) разбиения выборки.\r\n",
        "#         Опциональный параметр, по умолчанию, равен [0.7, 0.2, 0.1].\r\n",
        "    \r\n",
        "#     categorical: str, optional, default = None\r\n",
        "#         Список категориальных признаков.\r\n",
        "#         Опциональный параметр, по умолчанию, не используется.\r\n",
        "\r\n",
        "#     Returns\r\n",
        "#     -------\r\n",
        "#     estimator: catboost.core.CatBoostClassifier\r\n",
        "#         Обученный классификатор catboost.\r\n",
        "\r\n",
        "#     test_prediction: np.array, optional\r\n",
        "#         Вектор прогнозов для тестовой выборки.\r\n",
        "#         Опциональный объект, возвращается только, если split_params\r\n",
        "#         содержит 3 значения.\r\n",
        "\r\n",
        "#     \"\"\"\r\n",
        "#     numeric = list(set(x_train.columns) - set(categorical))\r\n",
        "#     x_train, x_valid = train_test_split(\r\n",
        "#         X, train_size=split_params[0], random_state=27\r\n",
        "#     )\r\n",
        "#     y_train, y_valid = train_test_split(\r\n",
        "#         y, train_size=split_params[0], random_state=27\r\n",
        "#     )\r\n",
        "\r\n",
        "#     if len(split_params) == 3:\r\n",
        "#         test_size = int(split_params[2] * X.shape[0])\r\n",
        "\r\n",
        "#         x_valid, x_test = train_test_split(\r\n",
        "#             x_valid, test_size=test_size, random_state=72\r\n",
        "#         )\r\n",
        "#         y_valid, y_test = train_test_split(\r\n",
        "#             y_valid, test_size=test_size, random_state=72\r\n",
        "#         )\r\n",
        "\r\n",
        "#     model = cb.CatBoostClassifier(**params)\r\n",
        "#     model.fit(\r\n",
        "#         x_train, y_train, categorical,\r\n",
        "#         eval_set=[(x_train, y_train), (x_valid, y_valid)]\r\n",
        "#     )\r\n",
        "\r\n",
        "#     print(\"=\"*80)\r\n",
        "#     valid_score = roc_auc_score(y_valid, model.predict_proba(x_valid)[:, 1])\r\n",
        "#     print(f\"Valid Score = {round(valid_score, 4)}\")\r\n",
        "\r\n",
        "#     if len(split_params) == 3:\r\n",
        "\r\n",
        "#         test_prediction = model.predict_proba(x_test)[:, 1]\r\n",
        "#         test_score = roc_auc_score(y_test, test_prediction)\r\n",
        "#         print(f\"Test Score = {round(test_score, 4)}\")\r\n",
        "\r\n",
        "#         return estimator, test_prediction\r\n",
        "\r\n",
        "#     else:\r\n",
        "#         return estimator"
      ],
      "execution_count": 7,
      "outputs": []
    },
    {
      "cell_type": "code",
      "metadata": {
        "id": "SsvL88p85vP5"
      },
      "source": [
        ""
      ],
      "execution_count": 7,
      "outputs": []
    },
    {
      "cell_type": "code",
      "metadata": {
        "id": "91aY-70-qpH9"
      },
      "source": [
        "def split_features(df):\r\n",
        "    categorical_features = df.select_dtypes(include=[np.object]).columns\r\n",
        "    numerical_features = list(set(df.columns) - set(categorical_features))\r\n",
        "    return numerical_features, categorical_features\r\n",
        "\r\n",
        "def create_client_profile_features(X: pd.DataFrame, copy: bool = True) -> pd.DataFrame:\r\n",
        "    \"\"\"\r\n",
        "    Создание признаков на основе профиля клиентов.\r\n",
        "\r\n",
        "    Parameters\r\n",
        "    ----------\r\n",
        "    X: pandas.core.frame.DataFrame\r\n",
        "        Матрица признаков с исходным профилем клиента.\r\n",
        "\r\n",
        "    copy: bool, optional, default = True\r\n",
        "        Флаг использования копии датафрейма X.\r\n",
        "        Опциональный параметр, по умолчанию, равен True.\r\n",
        "\r\n",
        "    Returns\r\n",
        "    -------\r\n",
        "    X_transformed: pandas.core.frame.DataFrame\r\n",
        "        Расширенная матрица признаков с профилем клиентов.\r\n",
        "\r\n",
        "    \"\"\"\r\n",
        "    if copy:\r\n",
        "        X = X.copy()\r\n",
        "\r\n",
        "    X[\"days_on_last_job\"] = X[\"days_on_last_job\"].replace(365243, np.nan)\r\n",
        "    bki_flags = [flag for flag in X.columns if \"amt_req_credit_bureau\" in flag]\r\n",
        "    X[\"bki_requests_count\"] = X[bki_flags].sum(axis=1)\r\n",
        "    X[\"bki_kurtosis\"] = X[bki_flags].kurtosis(axis=1)\r\n",
        "\r\n",
        "    X[\"external_scoring_prod\"] = X[\"external_scoring_rating_1\"] * X[\"external_scoring_rating_2\"] * X[\"external_scoring_rating_3\"]\r\n",
        "    X[\"external_scoring_weighted\"] = X.external_scoring_rating_1 * 2 + X.external_scoring_rating_2 * 1 + X.external_scoring_rating_3 * 3\r\n",
        "    X[\"log_external_scoring_rating_1\"] = np.log(X[\"external_scoring_rating_1\"])\r\n",
        "    X[\"log_external_scoring_rating_2\"] = np.log(X[\"external_scoring_rating_2\"])\r\n",
        "    X[\"log_external_scoring_rating_3\"] = np.log(X[\"external_scoring_rating_3\"])\r\n",
        "\r\n",
        "    for function_name in [\"min\", \"max\", \"mean\", \"nanmedian\", \"var\"]:\r\n",
        "        feature_name = \"external_scoring_rating_{}\".format(function_name)\r\n",
        "        X[feature_name] = eval(\"np.{}\".format(function_name))(\r\n",
        "            X[[\"external_scoring_rating_1\", \"external_scoring_rating_2\", \"external_scoring_rating_3\"]], axis=1\r\n",
        "        )\r\n",
        "\r\n",
        "    # Отношение между основными фин. показателями\r\n",
        "    X['ratio_credit_to_annuity'] = X['amount_credit'] / X['amount_annuity']\r\n",
        "    X[\"ratio_annuity_to_salary\"] = X['amount_annuity'] / X['total_salary']\r\n",
        "    X['ratio_credit_to_salary'] = X['amount_credit'] / X['total_salary']\r\n",
        "    X[\"total_salary_net\"] = X[\"total_salary\"] - X[\"amount_annuity\"]\r\n",
        "\r\n",
        "    # Отношение фин. показателей к возрасту и временным фичам\r\n",
        "    X[\"ratio_annuity_to_age\"] = X[\"amount_annuity\"] / X[\"age\"]\r\n",
        "    X[\"ratio_credit_to_age\"] = X[\"amount_credit\"] / X[\"age\"]\r\n",
        "    X[\"ratio_salary_to_age\"] = X[\"total_salary\"] / X[\"age\"]\r\n",
        "\r\n",
        "    X[\"ratio_salary_to_experience\"] = X[\"total_salary\"] / X[\"days_on_last_job\"]\r\n",
        "    X[\"ratio_credit_to_experience\"] = X[\"amount_credit\"] / X[\"days_on_last_job\"]\r\n",
        "    X[\"ratio_annuity_to_experience\"] = X[\"amount_annuity\"] / X[\"days_on_last_job\"]\r\n",
        "\r\n",
        "    # Отношение врменных признаков\r\n",
        "    X[\"ratio_age_to_experience\"] = X[\"age\"] / X[\"days_on_last_job\"]\r\n",
        "    X[\"ratio_salary_to_region_population\"] = X[\"total_salary\"] * X[\"region_population\"]\r\n",
        "    X[\"ratio_car_to_experience\"] = X[\"own_car_age\"] / X[\"days_on_last_job\"]\r\n",
        "    X[\"ratio_car_to_age\"] = X[\"own_car_age\"] / X[\"age\"]\r\n",
        "\r\n",
        "    # Произведение фин. показателей кредита на вероятность дефолта\r\n",
        "    # Такая штука называется математическим ожиданием дефолта или ожидаемыми потерями\r\n",
        "    X[\"expected_total_loss_1\"] = X[\"external_scoring_rating_1\"] * X[\"amount_credit\"]\r\n",
        "    X[\"expected_total_loss_2\"] = X[\"external_scoring_rating_2\"] * X[\"amount_credit\"]\r\n",
        "    X[\"expected_total_loss_3\"] = X[\"external_scoring_rating_3\"] * X[\"amount_credit\"]\r\n",
        "    X[\"expected_monthly_loss_1\"] = X[\"external_scoring_rating_1\"] * X[\"amount_annuity\"]\r\n",
        "    X[\"expected_monthly_loss_2\"] = X[\"external_scoring_rating_2\"] * X[\"amount_annuity\"]\r\n",
        "    X[\"expected_monthly_loss_3\"] = X[\"external_scoring_rating_3\"] * X[\"amount_annuity\"]\r\n",
        "\r\n",
        "    X[\"log_total_salary\"] = np.log(X[\"total_salary\"])\r\n",
        "    X[\"log_amount_credit\"] = np.log(X[\"amount_credit\"])\r\n",
        "    X[\"log_amount_credity\"] = np.log(X[\"amount_annuity\"])\r\n",
        "\r\n",
        "    \r\n",
        "\r\n",
        "    return X"
      ],
      "execution_count": 8,
      "outputs": []
    },
    {
      "cell_type": "markdown",
      "metadata": {
        "id": "nHu8mYMnrNg4"
      },
      "source": [
        "## Base Tables"
      ]
    },
    {
      "cell_type": "code",
      "metadata": {
        "colab": {
          "base_uri": "https://localhost:8080/",
          "height": 148
        },
        "id": "8bSPAy24qpAY",
        "outputId": "09674c5f-1ecb-4348-b26b-c266c1a2a646"
      },
      "source": [
        "train = get_input(\"train.csv\")\r\n",
        "test = get_input(\"test.csv\")\r\n",
        "\r\n",
        "data = pd.concat([train, test], axis=0)\r\n",
        "data = data.reset_index(drop=True)\r\n",
        "data.head(n=2)"
      ],
      "execution_count": 9,
      "outputs": [
        {
          "output_type": "stream",
          "text": [
            "train.csv: shape = 110093 rows, 3 cols\n",
            "test.csv: shape = 165141 rows, 2 cols\n"
          ],
          "name": "stdout"
        },
        {
          "output_type": "execute_result",
          "data": {
            "text/html": [
              "<div>\n",
              "<style scoped>\n",
              "    .dataframe tbody tr th:only-of-type {\n",
              "        vertical-align: middle;\n",
              "    }\n",
              "\n",
              "    .dataframe tbody tr th {\n",
              "        vertical-align: top;\n",
              "    }\n",
              "\n",
              "    .dataframe thead th {\n",
              "        text-align: right;\n",
              "    }\n",
              "</style>\n",
              "<table border=\"1\" class=\"dataframe\">\n",
              "  <thead>\n",
              "    <tr style=\"text-align: right;\">\n",
              "      <th></th>\n",
              "      <th>application_number</th>\n",
              "      <th>target</th>\n",
              "      <th>name_contract_type</th>\n",
              "    </tr>\n",
              "  </thead>\n",
              "  <tbody>\n",
              "    <tr>\n",
              "      <th>0</th>\n",
              "      <td>123687442</td>\n",
              "      <td>0.0</td>\n",
              "      <td>Cash</td>\n",
              "    </tr>\n",
              "    <tr>\n",
              "      <th>1</th>\n",
              "      <td>123597908</td>\n",
              "      <td>1.0</td>\n",
              "      <td>Cash</td>\n",
              "    </tr>\n",
              "  </tbody>\n",
              "</table>\n",
              "</div>"
            ],
            "text/plain": [
              "   application_number  target name_contract_type\n",
              "0           123687442     0.0               Cash\n",
              "1           123597908     1.0               Cash"
            ]
          },
          "metadata": {
            "tags": []
          },
          "execution_count": 9
        }
      ]
    },
    {
      "cell_type": "markdown",
      "metadata": {
        "id": "Afz-wtA6rTH6"
      },
      "source": [
        "## Client_profile"
      ]
    },
    {
      "cell_type": "code",
      "metadata": {
        "colab": {
          "base_uri": "https://localhost:8080/",
          "height": 233
        },
        "id": "EEdn2dhyqo5I",
        "outputId": "f18d281e-6205-4a74-e520-6008cdeb56e3"
      },
      "source": [
        "client_profile = get_input(\"client_profile.csv\")\r\n",
        "client_profile = create_client_profile_features(client_profile)\r\n",
        "client_profile.head(n=2)"
      ],
      "execution_count": 10,
      "outputs": [
        {
          "output_type": "stream",
          "text": [
            "client_profile.csv: shape = 250000 rows, 24 cols\n"
          ],
          "name": "stdout"
        },
        {
          "output_type": "stream",
          "text": [
            "/usr/local/lib/python3.6/dist-packages/numpy/lib/nanfunctions.py:1114: RuntimeWarning: All-NaN slice encountered\n",
            "  overwrite_input=overwrite_input)\n"
          ],
          "name": "stderr"
        },
        {
          "output_type": "execute_result",
          "data": {
            "text/html": [
              "<div>\n",
              "<style scoped>\n",
              "    .dataframe tbody tr th:only-of-type {\n",
              "        vertical-align: middle;\n",
              "    }\n",
              "\n",
              "    .dataframe tbody tr th {\n",
              "        vertical-align: top;\n",
              "    }\n",
              "\n",
              "    .dataframe thead th {\n",
              "        text-align: right;\n",
              "    }\n",
              "</style>\n",
              "<table border=\"1\" class=\"dataframe\">\n",
              "  <thead>\n",
              "    <tr style=\"text-align: right;\">\n",
              "      <th></th>\n",
              "      <th>application_number</th>\n",
              "      <th>gender</th>\n",
              "      <th>childrens</th>\n",
              "      <th>total_salary</th>\n",
              "      <th>amount_credit</th>\n",
              "      <th>amount_annuity</th>\n",
              "      <th>education_level</th>\n",
              "      <th>family_status</th>\n",
              "      <th>region_population</th>\n",
              "      <th>age</th>\n",
              "      <th>days_on_last_job</th>\n",
              "      <th>own_car_age</th>\n",
              "      <th>flag_phone</th>\n",
              "      <th>flag_email</th>\n",
              "      <th>family_size</th>\n",
              "      <th>...</th>\n",
              "      <th>ratio_credit_to_experience</th>\n",
              "      <th>ratio_annuity_to_experience</th>\n",
              "      <th>ratio_age_to_experience</th>\n",
              "      <th>ratio_salary_to_region_population</th>\n",
              "      <th>ratio_car_to_experience</th>\n",
              "      <th>ratio_car_to_age</th>\n",
              "      <th>expected_total_loss_1</th>\n",
              "      <th>expected_total_loss_2</th>\n",
              "      <th>expected_total_loss_3</th>\n",
              "      <th>expected_monthly_loss_1</th>\n",
              "      <th>expected_monthly_loss_2</th>\n",
              "      <th>expected_monthly_loss_3</th>\n",
              "      <th>log_total_salary</th>\n",
              "      <th>log_amount_credit</th>\n",
              "      <th>log_amount_credity</th>\n",
              "    </tr>\n",
              "  </thead>\n",
              "  <tbody>\n",
              "    <tr>\n",
              "      <th>0</th>\n",
              "      <td>123666076</td>\n",
              "      <td>F</td>\n",
              "      <td>0</td>\n",
              "      <td>157500.0</td>\n",
              "      <td>270000.0</td>\n",
              "      <td>13500.0</td>\n",
              "      <td>Incomplete higher</td>\n",
              "      <td>Civil marriage</td>\n",
              "      <td>0.008068</td>\n",
              "      <td>8560</td>\n",
              "      <td>1549.0</td>\n",
              "      <td>NaN</td>\n",
              "      <td>1</td>\n",
              "      <td>0</td>\n",
              "      <td>2.0</td>\n",
              "      <td>...</td>\n",
              "      <td>174.306004</td>\n",
              "      <td>8.7153</td>\n",
              "      <td>5.526146</td>\n",
              "      <td>1270.71</td>\n",
              "      <td>NaN</td>\n",
              "      <td>NaN</td>\n",
              "      <td>88957.124333</td>\n",
              "      <td>63804.966560</td>\n",
              "      <td>183213.275945</td>\n",
              "      <td>4447.856217</td>\n",
              "      <td>3190.248328</td>\n",
              "      <td>9160.663797</td>\n",
              "      <td>11.967181</td>\n",
              "      <td>12.506177</td>\n",
              "      <td>9.510445</td>\n",
              "    </tr>\n",
              "    <tr>\n",
              "      <th>1</th>\n",
              "      <td>123423688</td>\n",
              "      <td>F</td>\n",
              "      <td>0</td>\n",
              "      <td>270000.0</td>\n",
              "      <td>536917.5</td>\n",
              "      <td>28467.0</td>\n",
              "      <td>Secondary / secondary special</td>\n",
              "      <td>Married</td>\n",
              "      <td>0.020246</td>\n",
              "      <td>23187</td>\n",
              "      <td>NaN</td>\n",
              "      <td>NaN</td>\n",
              "      <td>0</td>\n",
              "      <td>0</td>\n",
              "      <td>2.0</td>\n",
              "      <td>...</td>\n",
              "      <td>NaN</td>\n",
              "      <td>NaN</td>\n",
              "      <td>NaN</td>\n",
              "      <td>5466.42</td>\n",
              "      <td>NaN</td>\n",
              "      <td>NaN</td>\n",
              "      <td>NaN</td>\n",
              "      <td>237475.743779</td>\n",
              "      <td>431008.094056</td>\n",
              "      <td>NaN</td>\n",
              "      <td>12590.802122</td>\n",
              "      <td>22851.755462</td>\n",
              "      <td>12.506177</td>\n",
              "      <td>13.193600</td>\n",
              "      <td>10.256501</td>\n",
              "    </tr>\n",
              "  </tbody>\n",
              "</table>\n",
              "<p>2 rows × 59 columns</p>\n",
              "</div>"
            ],
            "text/plain": [
              "   application_number gender  childrens  total_salary  amount_credit  \\\n",
              "0           123666076      F          0      157500.0       270000.0   \n",
              "1           123423688      F          0      270000.0       536917.5   \n",
              "\n",
              "   amount_annuity                education_level   family_status  \\\n",
              "0         13500.0              Incomplete higher  Civil marriage   \n",
              "1         28467.0  Secondary / secondary special         Married   \n",
              "\n",
              "   region_population    age  days_on_last_job  own_car_age  flag_phone  \\\n",
              "0           0.008068   8560            1549.0          NaN           1   \n",
              "1           0.020246  23187               NaN          NaN           0   \n",
              "\n",
              "   flag_email  family_size  ...  ratio_credit_to_experience  \\\n",
              "0           0          2.0  ...                  174.306004   \n",
              "1           0          2.0  ...                         NaN   \n",
              "\n",
              "   ratio_annuity_to_experience  ratio_age_to_experience  \\\n",
              "0                       8.7153                 5.526146   \n",
              "1                          NaN                      NaN   \n",
              "\n",
              "   ratio_salary_to_region_population  ratio_car_to_experience  \\\n",
              "0                            1270.71                      NaN   \n",
              "1                            5466.42                      NaN   \n",
              "\n",
              "   ratio_car_to_age  expected_total_loss_1  expected_total_loss_2  \\\n",
              "0               NaN           88957.124333           63804.966560   \n",
              "1               NaN                    NaN          237475.743779   \n",
              "\n",
              "   expected_total_loss_3  expected_monthly_loss_1  expected_monthly_loss_2  \\\n",
              "0          183213.275945              4447.856217              3190.248328   \n",
              "1          431008.094056                      NaN             12590.802122   \n",
              "\n",
              "   expected_monthly_loss_3  log_total_salary  log_amount_credit  \\\n",
              "0              9160.663797         11.967181          12.506177   \n",
              "1             22851.755462         12.506177          13.193600   \n",
              "\n",
              "   log_amount_credity  \n",
              "0            9.510445  \n",
              "1           10.256501  \n",
              "\n",
              "[2 rows x 59 columns]"
            ]
          },
          "metadata": {
            "tags": []
          },
          "execution_count": 10
        }
      ]
    },
    {
      "cell_type": "code",
      "metadata": {
        "colab": {
          "base_uri": "https://localhost:8080/"
        },
        "id": "O5s9bLOSqoyp",
        "outputId": "178f8ebb-87c3-4e62-c6b4-3a22c160806e"
      },
      "source": [
        "data = data.merge(\r\n",
        "    client_profile, how=\"left\", on=\"application_number\"\r\n",
        ")\r\n",
        "data.shape"
      ],
      "execution_count": 11,
      "outputs": [
        {
          "output_type": "execute_result",
          "data": {
            "text/plain": [
              "(275234, 61)"
            ]
          },
          "metadata": {
            "tags": []
          },
          "execution_count": 11
        }
      ]
    },
    {
      "cell_type": "code",
      "metadata": {
        "colab": {
          "base_uri": "https://localhost:8080/"
        },
        "id": "THAuX-Nl_r4F",
        "outputId": "3837ec94-2a73-4afc-951a-9ada59658f03"
      },
      "source": [
        "def append_to_data(data: pd.DataFrame, X: pd.DataFrame, groupby: str=\"application_number\"):\r\n",
        "    X = X.replace(365243, np.nan)\r\n",
        "    X = X.groupby(groupby).mean()\r\n",
        "\r\n",
        "    data = data.merge(X, how=\"left\", on=groupby)\r\n",
        "\r\n",
        "    return data\r\n",
        "\r\n",
        "payments = get_input(\"payments.csv\")\r\n",
        "payments['day_instalment_payment_ratio'] = payments[\"days_instalment\"]/payments['days_entry_payment']\r\n",
        "payments['installment_payment_ratio'] = payments[\"amt_instalment\"]/payments['amt_payment']\r\n",
        "\r\n",
        "payments[\"pay_log_days_entry_payment\"] = np.log(payments[\"days_entry_payment\"])\r\n",
        "payments[\"pay_log_amt_instalment\"] = np.log(payments[\"amt_instalment\"])\r\n",
        "payments[\"pay_log_amt_payment\"] = np.log(payments[\"amt_payment\"])\r\n",
        "\r\n",
        "bki = get_input(\"bki.csv\")\r\n",
        "bki['day_fact_enddate'] = bki['days_enddate_fact'] / bki['days_credit_enddate']\r\n",
        "bki['dlr'] = (bki['amt_credit_sum_debt']+0)/(bki['amt_credit_sum']+1) \r\n",
        "bki['ratio_overdue'] = (bki['amt_credit_max_overdue']+0)/(bki['amt_credit_sum']+1)\r\n",
        "\r\n",
        "appl_history = get_input(\"applications_history.csv\")\r\n",
        "appl_history['count_history'] = appl_history.groupby(['application_number'])['prev_application_number'].count()\r\n",
        "\r\n",
        "# data = append_to_data(data, payments)\r\n",
        "# data = append_to_data(data, bki)\r\n",
        "# data = append_to_data(data, appl_history)\r\n",
        "\r\n",
        "data = data.reset_index(drop=True)"
      ],
      "execution_count": 12,
      "outputs": [
        {
          "output_type": "stream",
          "text": [
            "payments.csv: shape = 1023932 rows, 8 cols\n"
          ],
          "name": "stdout"
        },
        {
          "output_type": "stream",
          "text": [
            "/usr/local/lib/python3.6/dist-packages/pandas/core/series.py:726: RuntimeWarning: divide by zero encountered in log\n",
            "  result = getattr(ufunc, method)(*inputs, **kwargs)\n"
          ],
          "name": "stderr"
        },
        {
          "output_type": "stream",
          "text": [
            "bki.csv: shape = 945234 rows, 17 cols\n",
            "applications_history.csv: shape = 1670214 rows, 26 cols\n"
          ],
          "name": "stdout"
        }
      ]
    },
    {
      "cell_type": "code",
      "metadata": {
        "colab": {
          "base_uri": "https://localhost:8080/"
        },
        "id": "HChpeCfCRjuo",
        "outputId": "4ce2f840-744b-40b3-fba0-14845d938e5d"
      },
      "source": [
        "data.shape"
      ],
      "execution_count": 13,
      "outputs": [
        {
          "output_type": "execute_result",
          "data": {
            "text/plain": [
              "(275234, 61)"
            ]
          },
          "metadata": {
            "tags": []
          },
          "execution_count": 13
        }
      ]
    },
    {
      "cell_type": "code",
      "metadata": {
        "colab": {
          "base_uri": "https://localhost:8080/",
          "height": 226
        },
        "id": "5GaNlbIWEgrn",
        "outputId": "21dd304b-b3fd-4189-fc75-39f6d6d53d1e"
      },
      "source": [
        "payments.head()"
      ],
      "execution_count": 14,
      "outputs": [
        {
          "output_type": "execute_result",
          "data": {
            "text/html": [
              "<div>\n",
              "<style scoped>\n",
              "    .dataframe tbody tr th:only-of-type {\n",
              "        vertical-align: middle;\n",
              "    }\n",
              "\n",
              "    .dataframe tbody tr th {\n",
              "        vertical-align: top;\n",
              "    }\n",
              "\n",
              "    .dataframe thead th {\n",
              "        text-align: right;\n",
              "    }\n",
              "</style>\n",
              "<table border=\"1\" class=\"dataframe\">\n",
              "  <thead>\n",
              "    <tr style=\"text-align: right;\">\n",
              "      <th></th>\n",
              "      <th>prev_application_number</th>\n",
              "      <th>application_number</th>\n",
              "      <th>num_instalment_version</th>\n",
              "      <th>num_instalment_number</th>\n",
              "      <th>days_instalment</th>\n",
              "      <th>days_entry_payment</th>\n",
              "      <th>amt_instalment</th>\n",
              "      <th>amt_payment</th>\n",
              "      <th>day_instalment_payment_ratio</th>\n",
              "      <th>installment_payment_ratio</th>\n",
              "      <th>pay_log_days_entry_payment</th>\n",
              "      <th>pay_log_amt_instalment</th>\n",
              "      <th>pay_log_amt_payment</th>\n",
              "    </tr>\n",
              "  </thead>\n",
              "  <tbody>\n",
              "    <tr>\n",
              "      <th>0</th>\n",
              "      <td>49011181</td>\n",
              "      <td>123664960</td>\n",
              "      <td>1.0</td>\n",
              "      <td>5</td>\n",
              "      <td>1002.0</td>\n",
              "      <td>1015.0</td>\n",
              "      <td>12156.615</td>\n",
              "      <td>12156.615</td>\n",
              "      <td>0.987192</td>\n",
              "      <td>1.000000</td>\n",
              "      <td>6.922644</td>\n",
              "      <td>9.405629</td>\n",
              "      <td>9.405629</td>\n",
              "    </tr>\n",
              "    <tr>\n",
              "      <th>1</th>\n",
              "      <td>48683432</td>\n",
              "      <td>123497205</td>\n",
              "      <td>1.0</td>\n",
              "      <td>13</td>\n",
              "      <td>442.0</td>\n",
              "      <td>432.0</td>\n",
              "      <td>18392.535</td>\n",
              "      <td>10047.645</td>\n",
              "      <td>1.023148</td>\n",
              "      <td>1.830532</td>\n",
              "      <td>6.068426</td>\n",
              "      <td>9.819700</td>\n",
              "      <td>9.215094</td>\n",
              "    </tr>\n",
              "    <tr>\n",
              "      <th>2</th>\n",
              "      <td>48652024</td>\n",
              "      <td>123749925</td>\n",
              "      <td>1.0</td>\n",
              "      <td>10</td>\n",
              "      <td>8.0</td>\n",
              "      <td>23.0</td>\n",
              "      <td>5499.945</td>\n",
              "      <td>5499.945</td>\n",
              "      <td>0.347826</td>\n",
              "      <td>1.000000</td>\n",
              "      <td>3.135494</td>\n",
              "      <td>8.612493</td>\n",
              "      <td>8.612493</td>\n",
              "    </tr>\n",
              "    <tr>\n",
              "      <th>3</th>\n",
              "      <td>48398897</td>\n",
              "      <td>123550846</td>\n",
              "      <td>0.0</td>\n",
              "      <td>82</td>\n",
              "      <td>398.0</td>\n",
              "      <td>398.0</td>\n",
              "      <td>7082.145</td>\n",
              "      <td>7082.145</td>\n",
              "      <td>1.000000</td>\n",
              "      <td>1.000000</td>\n",
              "      <td>5.986452</td>\n",
              "      <td>8.865332</td>\n",
              "      <td>8.865332</td>\n",
              "    </tr>\n",
              "    <tr>\n",
              "      <th>4</th>\n",
              "      <td>49867197</td>\n",
              "      <td>123562174</td>\n",
              "      <td>0.0</td>\n",
              "      <td>63</td>\n",
              "      <td>1359.0</td>\n",
              "      <td>1359.0</td>\n",
              "      <td>156.735</td>\n",
              "      <td>156.735</td>\n",
              "      <td>1.000000</td>\n",
              "      <td>1.000000</td>\n",
              "      <td>7.214504</td>\n",
              "      <td>5.054556</td>\n",
              "      <td>5.054556</td>\n",
              "    </tr>\n",
              "  </tbody>\n",
              "</table>\n",
              "</div>"
            ],
            "text/plain": [
              "   prev_application_number  application_number  num_instalment_version  \\\n",
              "0                 49011181           123664960                     1.0   \n",
              "1                 48683432           123497205                     1.0   \n",
              "2                 48652024           123749925                     1.0   \n",
              "3                 48398897           123550846                     0.0   \n",
              "4                 49867197           123562174                     0.0   \n",
              "\n",
              "   num_instalment_number  days_instalment  days_entry_payment  amt_instalment  \\\n",
              "0                      5           1002.0              1015.0       12156.615   \n",
              "1                     13            442.0               432.0       18392.535   \n",
              "2                     10              8.0                23.0        5499.945   \n",
              "3                     82            398.0               398.0        7082.145   \n",
              "4                     63           1359.0              1359.0         156.735   \n",
              "\n",
              "   amt_payment  day_instalment_payment_ratio  installment_payment_ratio  \\\n",
              "0    12156.615                      0.987192                   1.000000   \n",
              "1    10047.645                      1.023148                   1.830532   \n",
              "2     5499.945                      0.347826                   1.000000   \n",
              "3     7082.145                      1.000000                   1.000000   \n",
              "4      156.735                      1.000000                   1.000000   \n",
              "\n",
              "   pay_log_days_entry_payment  pay_log_amt_instalment  pay_log_amt_payment  \n",
              "0                    6.922644                9.405629             9.405629  \n",
              "1                    6.068426                9.819700             9.215094  \n",
              "2                    3.135494                8.612493             8.612493  \n",
              "3                    5.986452                8.865332             8.865332  \n",
              "4                    7.214504                5.054556             5.054556  "
            ]
          },
          "metadata": {
            "tags": []
          },
          "execution_count": 14
        }
      ]
    },
    {
      "cell_type": "code",
      "metadata": {
        "colab": {
          "base_uri": "https://localhost:8080/",
          "height": 296
        },
        "id": "ywqDvowvEkfm",
        "outputId": "1134883f-5fd1-4e68-84c2-b4856c246846"
      },
      "source": [
        "bki.head()"
      ],
      "execution_count": 15,
      "outputs": [
        {
          "output_type": "execute_result",
          "data": {
            "text/html": [
              "<div>\n",
              "<style scoped>\n",
              "    .dataframe tbody tr th:only-of-type {\n",
              "        vertical-align: middle;\n",
              "    }\n",
              "\n",
              "    .dataframe tbody tr th {\n",
              "        vertical-align: top;\n",
              "    }\n",
              "\n",
              "    .dataframe thead th {\n",
              "        text-align: right;\n",
              "    }\n",
              "</style>\n",
              "<table border=\"1\" class=\"dataframe\">\n",
              "  <thead>\n",
              "    <tr style=\"text-align: right;\">\n",
              "      <th></th>\n",
              "      <th>application_number</th>\n",
              "      <th>bureau_id</th>\n",
              "      <th>credit_active</th>\n",
              "      <th>credit_currency</th>\n",
              "      <th>days_credit</th>\n",
              "      <th>credit_day_overdue</th>\n",
              "      <th>days_credit_enddate</th>\n",
              "      <th>days_enddate_fact</th>\n",
              "      <th>amt_credit_max_overdue</th>\n",
              "      <th>cnt_credit_prolong</th>\n",
              "      <th>amt_credit_sum</th>\n",
              "      <th>amt_credit_sum_debt</th>\n",
              "      <th>amt_credit_sum_limit</th>\n",
              "      <th>amt_credit_sum_overdue</th>\n",
              "      <th>credit_type</th>\n",
              "      <th>days_credit_update</th>\n",
              "      <th>amt_annuity</th>\n",
              "      <th>day_fact_enddate</th>\n",
              "      <th>dlr</th>\n",
              "      <th>ratio_overdue</th>\n",
              "    </tr>\n",
              "  </thead>\n",
              "  <tbody>\n",
              "    <tr>\n",
              "      <th>0</th>\n",
              "      <td>123538884</td>\n",
              "      <td>5223613</td>\n",
              "      <td>Active</td>\n",
              "      <td>currency 1</td>\n",
              "      <td>718.0</td>\n",
              "      <td>0</td>\n",
              "      <td>377.0</td>\n",
              "      <td>NaN</td>\n",
              "      <td>19386.81</td>\n",
              "      <td>0</td>\n",
              "      <td>675000.00</td>\n",
              "      <td>320265.495</td>\n",
              "      <td>0.0</td>\n",
              "      <td>0.0</td>\n",
              "      <td>Consumer credit</td>\n",
              "      <td>39.0</td>\n",
              "      <td>NaN</td>\n",
              "      <td>NaN</td>\n",
              "      <td>0.474467</td>\n",
              "      <td>0.028721</td>\n",
              "    </tr>\n",
              "    <tr>\n",
              "      <th>1</th>\n",
              "      <td>123436670</td>\n",
              "      <td>6207544</td>\n",
              "      <td>Closed</td>\n",
              "      <td>currency 1</td>\n",
              "      <td>696.0</td>\n",
              "      <td>0</td>\n",
              "      <td>511.0</td>\n",
              "      <td>511.0</td>\n",
              "      <td>0.00</td>\n",
              "      <td>0</td>\n",
              "      <td>93111.66</td>\n",
              "      <td>0.000</td>\n",
              "      <td>0.0</td>\n",
              "      <td>0.0</td>\n",
              "      <td>Consumer credit</td>\n",
              "      <td>505.0</td>\n",
              "      <td>NaN</td>\n",
              "      <td>1.000000</td>\n",
              "      <td>0.000000</td>\n",
              "      <td>0.000000</td>\n",
              "    </tr>\n",
              "    <tr>\n",
              "      <th>2</th>\n",
              "      <td>123589020</td>\n",
              "      <td>6326395</td>\n",
              "      <td>Closed</td>\n",
              "      <td>currency 1</td>\n",
              "      <td>165.0</td>\n",
              "      <td>0</td>\n",
              "      <td>149.0</td>\n",
              "      <td>160.0</td>\n",
              "      <td>NaN</td>\n",
              "      <td>0</td>\n",
              "      <td>36000.00</td>\n",
              "      <td>0.000</td>\n",
              "      <td>0.0</td>\n",
              "      <td>0.0</td>\n",
              "      <td>Consumer credit</td>\n",
              "      <td>150.0</td>\n",
              "      <td>0.0</td>\n",
              "      <td>1.073826</td>\n",
              "      <td>0.000000</td>\n",
              "      <td>NaN</td>\n",
              "    </tr>\n",
              "    <tr>\n",
              "      <th>3</th>\n",
              "      <td>123494590</td>\n",
              "      <td>6606618</td>\n",
              "      <td>Active</td>\n",
              "      <td>currency 1</td>\n",
              "      <td>55.0</td>\n",
              "      <td>0</td>\n",
              "      <td>310.0</td>\n",
              "      <td>NaN</td>\n",
              "      <td>NaN</td>\n",
              "      <td>0</td>\n",
              "      <td>38664.00</td>\n",
              "      <td>37858.500</td>\n",
              "      <td>NaN</td>\n",
              "      <td>0.0</td>\n",
              "      <td>Consumer credit</td>\n",
              "      <td>15.0</td>\n",
              "      <td>NaN</td>\n",
              "      <td>NaN</td>\n",
              "      <td>0.979141</td>\n",
              "      <td>NaN</td>\n",
              "    </tr>\n",
              "    <tr>\n",
              "      <th>4</th>\n",
              "      <td>123446603</td>\n",
              "      <td>5046832</td>\n",
              "      <td>Active</td>\n",
              "      <td>currency 1</td>\n",
              "      <td>358.0</td>\n",
              "      <td>0</td>\n",
              "      <td>35.0</td>\n",
              "      <td>NaN</td>\n",
              "      <td>NaN</td>\n",
              "      <td>0</td>\n",
              "      <td>67500.00</td>\n",
              "      <td>0.000</td>\n",
              "      <td>0.0</td>\n",
              "      <td>0.0</td>\n",
              "      <td>Credit card</td>\n",
              "      <td>116.0</td>\n",
              "      <td>NaN</td>\n",
              "      <td>NaN</td>\n",
              "      <td>0.000000</td>\n",
              "      <td>NaN</td>\n",
              "    </tr>\n",
              "  </tbody>\n",
              "</table>\n",
              "</div>"
            ],
            "text/plain": [
              "   application_number  bureau_id credit_active credit_currency  days_credit  \\\n",
              "0           123538884    5223613        Active      currency 1        718.0   \n",
              "1           123436670    6207544        Closed      currency 1        696.0   \n",
              "2           123589020    6326395        Closed      currency 1        165.0   \n",
              "3           123494590    6606618        Active      currency 1         55.0   \n",
              "4           123446603    5046832        Active      currency 1        358.0   \n",
              "\n",
              "   credit_day_overdue  days_credit_enddate  days_enddate_fact  \\\n",
              "0                   0                377.0                NaN   \n",
              "1                   0                511.0              511.0   \n",
              "2                   0                149.0              160.0   \n",
              "3                   0                310.0                NaN   \n",
              "4                   0                 35.0                NaN   \n",
              "\n",
              "   amt_credit_max_overdue  cnt_credit_prolong  amt_credit_sum  \\\n",
              "0                19386.81                   0       675000.00   \n",
              "1                    0.00                   0        93111.66   \n",
              "2                     NaN                   0        36000.00   \n",
              "3                     NaN                   0        38664.00   \n",
              "4                     NaN                   0        67500.00   \n",
              "\n",
              "   amt_credit_sum_debt  amt_credit_sum_limit  amt_credit_sum_overdue  \\\n",
              "0           320265.495                   0.0                     0.0   \n",
              "1                0.000                   0.0                     0.0   \n",
              "2                0.000                   0.0                     0.0   \n",
              "3            37858.500                   NaN                     0.0   \n",
              "4                0.000                   0.0                     0.0   \n",
              "\n",
              "       credit_type  days_credit_update  amt_annuity  day_fact_enddate  \\\n",
              "0  Consumer credit                39.0          NaN               NaN   \n",
              "1  Consumer credit               505.0          NaN          1.000000   \n",
              "2  Consumer credit               150.0          0.0          1.073826   \n",
              "3  Consumer credit                15.0          NaN               NaN   \n",
              "4      Credit card               116.0          NaN               NaN   \n",
              "\n",
              "        dlr  ratio_overdue  \n",
              "0  0.474467       0.028721  \n",
              "1  0.000000       0.000000  \n",
              "2  0.000000            NaN  \n",
              "3  0.979141            NaN  \n",
              "4  0.000000            NaN  "
            ]
          },
          "metadata": {
            "tags": []
          },
          "execution_count": 15
        }
      ]
    },
    {
      "cell_type": "code",
      "metadata": {
        "colab": {
          "base_uri": "https://localhost:8080/",
          "height": 226
        },
        "id": "APN7iaVZEkQv",
        "outputId": "7140aeb9-e5ff-413d-b89b-cf6e31ac7be7"
      },
      "source": [
        "appl_history.head()"
      ],
      "execution_count": 16,
      "outputs": [
        {
          "output_type": "execute_result",
          "data": {
            "text/html": [
              "<div>\n",
              "<style scoped>\n",
              "    .dataframe tbody tr th:only-of-type {\n",
              "        vertical-align: middle;\n",
              "    }\n",
              "\n",
              "    .dataframe tbody tr th {\n",
              "        vertical-align: top;\n",
              "    }\n",
              "\n",
              "    .dataframe thead th {\n",
              "        text-align: right;\n",
              "    }\n",
              "</style>\n",
              "<table border=\"1\" class=\"dataframe\">\n",
              "  <thead>\n",
              "    <tr style=\"text-align: right;\">\n",
              "      <th></th>\n",
              "      <th>prev_application_number</th>\n",
              "      <th>application_number</th>\n",
              "      <th>name_contract_type</th>\n",
              "      <th>amount_annuity</th>\n",
              "      <th>amt_application</th>\n",
              "      <th>amount_credit</th>\n",
              "      <th>amount_payment</th>\n",
              "      <th>amount_goods_payment</th>\n",
              "      <th>name_contract_status</th>\n",
              "      <th>days_decision</th>\n",
              "      <th>name_payment_type</th>\n",
              "      <th>code_reject_reason</th>\n",
              "      <th>name_type_suite</th>\n",
              "      <th>name_client_type</th>\n",
              "      <th>name_goods_category</th>\n",
              "      <th>name_portfolio</th>\n",
              "      <th>name_product_type</th>\n",
              "      <th>sellerplace_area</th>\n",
              "      <th>cnt_payment</th>\n",
              "      <th>name_yield_group</th>\n",
              "      <th>days_first_drawing</th>\n",
              "      <th>days_first_due</th>\n",
              "      <th>days_last_due_1st_version</th>\n",
              "      <th>days_last_due</th>\n",
              "      <th>days_termination</th>\n",
              "      <th>nflag_insured_on_approval</th>\n",
              "      <th>count_history</th>\n",
              "    </tr>\n",
              "  </thead>\n",
              "  <tbody>\n",
              "    <tr>\n",
              "      <th>0</th>\n",
              "      <td>49298709</td>\n",
              "      <td>123595216</td>\n",
              "      <td>NaN</td>\n",
              "      <td>1730.430</td>\n",
              "      <td>17145.0</td>\n",
              "      <td>17145.0</td>\n",
              "      <td>0.0</td>\n",
              "      <td>17145.0</td>\n",
              "      <td>Approved</td>\n",
              "      <td>73</td>\n",
              "      <td>Cash through the bank</td>\n",
              "      <td>XAP</td>\n",
              "      <td>NaN</td>\n",
              "      <td>Repeater</td>\n",
              "      <td>Mobile</td>\n",
              "      <td>POS</td>\n",
              "      <td>XNA</td>\n",
              "      <td>35</td>\n",
              "      <td>12.0</td>\n",
              "      <td>middle</td>\n",
              "      <td>365243.0</td>\n",
              "      <td>42.0</td>\n",
              "      <td>300.0</td>\n",
              "      <td>42.0</td>\n",
              "      <td>37.0</td>\n",
              "      <td>0.0</td>\n",
              "      <td>NaN</td>\n",
              "    </tr>\n",
              "    <tr>\n",
              "      <th>1</th>\n",
              "      <td>50070639</td>\n",
              "      <td>123431468</td>\n",
              "      <td>Cash</td>\n",
              "      <td>25188.615</td>\n",
              "      <td>607500.0</td>\n",
              "      <td>679671.0</td>\n",
              "      <td>NaN</td>\n",
              "      <td>607500.0</td>\n",
              "      <td>Approved</td>\n",
              "      <td>164</td>\n",
              "      <td>XNA</td>\n",
              "      <td>XAP</td>\n",
              "      <td>Unaccompanied</td>\n",
              "      <td>Repeater</td>\n",
              "      <td>XNA</td>\n",
              "      <td>Cash</td>\n",
              "      <td>x-sell</td>\n",
              "      <td>-1</td>\n",
              "      <td>36.0</td>\n",
              "      <td>low_action</td>\n",
              "      <td>365243.0</td>\n",
              "      <td>134.0</td>\n",
              "      <td>916.0</td>\n",
              "      <td>365243.0</td>\n",
              "      <td>365243.0</td>\n",
              "      <td>1.0</td>\n",
              "      <td>NaN</td>\n",
              "    </tr>\n",
              "    <tr>\n",
              "      <th>2</th>\n",
              "      <td>49791680</td>\n",
              "      <td>123445379</td>\n",
              "      <td>Cash</td>\n",
              "      <td>15060.735</td>\n",
              "      <td>112500.0</td>\n",
              "      <td>136444.5</td>\n",
              "      <td>NaN</td>\n",
              "      <td>112500.0</td>\n",
              "      <td>Approved</td>\n",
              "      <td>301</td>\n",
              "      <td>Cash through the bank</td>\n",
              "      <td>XAP</td>\n",
              "      <td>Spouse, partner</td>\n",
              "      <td>Repeater</td>\n",
              "      <td>XNA</td>\n",
              "      <td>Cash</td>\n",
              "      <td>x-sell</td>\n",
              "      <td>-1</td>\n",
              "      <td>12.0</td>\n",
              "      <td>high</td>\n",
              "      <td>365243.0</td>\n",
              "      <td>271.0</td>\n",
              "      <td>59.0</td>\n",
              "      <td>365243.0</td>\n",
              "      <td>365243.0</td>\n",
              "      <td>1.0</td>\n",
              "      <td>NaN</td>\n",
              "    </tr>\n",
              "    <tr>\n",
              "      <th>3</th>\n",
              "      <td>50087457</td>\n",
              "      <td>123499497</td>\n",
              "      <td>Cash</td>\n",
              "      <td>47041.335</td>\n",
              "      <td>450000.0</td>\n",
              "      <td>470790.0</td>\n",
              "      <td>NaN</td>\n",
              "      <td>450000.0</td>\n",
              "      <td>Approved</td>\n",
              "      <td>512</td>\n",
              "      <td>Cash through the bank</td>\n",
              "      <td>XAP</td>\n",
              "      <td>NaN</td>\n",
              "      <td>Repeater</td>\n",
              "      <td>XNA</td>\n",
              "      <td>Cash</td>\n",
              "      <td>x-sell</td>\n",
              "      <td>-1</td>\n",
              "      <td>12.0</td>\n",
              "      <td>middle</td>\n",
              "      <td>365243.0</td>\n",
              "      <td>482.0</td>\n",
              "      <td>152.0</td>\n",
              "      <td>182.0</td>\n",
              "      <td>177.0</td>\n",
              "      <td>1.0</td>\n",
              "      <td>NaN</td>\n",
              "    </tr>\n",
              "    <tr>\n",
              "      <th>4</th>\n",
              "      <td>49052479</td>\n",
              "      <td>123525393</td>\n",
              "      <td>Cash</td>\n",
              "      <td>31924.395</td>\n",
              "      <td>337500.0</td>\n",
              "      <td>404055.0</td>\n",
              "      <td>NaN</td>\n",
              "      <td>337500.0</td>\n",
              "      <td>Refused</td>\n",
              "      <td>781</td>\n",
              "      <td>Cash through the bank</td>\n",
              "      <td>HC</td>\n",
              "      <td>NaN</td>\n",
              "      <td>Repeater</td>\n",
              "      <td>XNA</td>\n",
              "      <td>Cash</td>\n",
              "      <td>walk-in</td>\n",
              "      <td>-1</td>\n",
              "      <td>24.0</td>\n",
              "      <td>high</td>\n",
              "      <td>NaN</td>\n",
              "      <td>NaN</td>\n",
              "      <td>NaN</td>\n",
              "      <td>NaN</td>\n",
              "      <td>NaN</td>\n",
              "      <td>NaN</td>\n",
              "      <td>NaN</td>\n",
              "    </tr>\n",
              "  </tbody>\n",
              "</table>\n",
              "</div>"
            ],
            "text/plain": [
              "   prev_application_number  application_number name_contract_type  \\\n",
              "0                 49298709           123595216                NaN   \n",
              "1                 50070639           123431468               Cash   \n",
              "2                 49791680           123445379               Cash   \n",
              "3                 50087457           123499497               Cash   \n",
              "4                 49052479           123525393               Cash   \n",
              "\n",
              "   amount_annuity  amt_application  amount_credit  amount_payment  \\\n",
              "0        1730.430          17145.0        17145.0             0.0   \n",
              "1       25188.615         607500.0       679671.0             NaN   \n",
              "2       15060.735         112500.0       136444.5             NaN   \n",
              "3       47041.335         450000.0       470790.0             NaN   \n",
              "4       31924.395         337500.0       404055.0             NaN   \n",
              "\n",
              "   amount_goods_payment name_contract_status  days_decision  \\\n",
              "0               17145.0             Approved             73   \n",
              "1              607500.0             Approved            164   \n",
              "2              112500.0             Approved            301   \n",
              "3              450000.0             Approved            512   \n",
              "4              337500.0              Refused            781   \n",
              "\n",
              "       name_payment_type code_reject_reason  name_type_suite name_client_type  \\\n",
              "0  Cash through the bank                XAP              NaN         Repeater   \n",
              "1                    XNA                XAP    Unaccompanied         Repeater   \n",
              "2  Cash through the bank                XAP  Spouse, partner         Repeater   \n",
              "3  Cash through the bank                XAP              NaN         Repeater   \n",
              "4  Cash through the bank                 HC              NaN         Repeater   \n",
              "\n",
              "  name_goods_category name_portfolio name_product_type  sellerplace_area  \\\n",
              "0              Mobile            POS               XNA                35   \n",
              "1                 XNA           Cash            x-sell                -1   \n",
              "2                 XNA           Cash            x-sell                -1   \n",
              "3                 XNA           Cash            x-sell                -1   \n",
              "4                 XNA           Cash           walk-in                -1   \n",
              "\n",
              "   cnt_payment name_yield_group  days_first_drawing  days_first_due  \\\n",
              "0         12.0           middle            365243.0            42.0   \n",
              "1         36.0       low_action            365243.0           134.0   \n",
              "2         12.0             high            365243.0           271.0   \n",
              "3         12.0           middle            365243.0           482.0   \n",
              "4         24.0             high                 NaN             NaN   \n",
              "\n",
              "   days_last_due_1st_version  days_last_due  days_termination  \\\n",
              "0                      300.0           42.0              37.0   \n",
              "1                      916.0       365243.0          365243.0   \n",
              "2                       59.0       365243.0          365243.0   \n",
              "3                      152.0          182.0             177.0   \n",
              "4                        NaN            NaN               NaN   \n",
              "\n",
              "   nflag_insured_on_approval  count_history  \n",
              "0                        0.0            NaN  \n",
              "1                        1.0            NaN  \n",
              "2                        1.0            NaN  \n",
              "3                        1.0            NaN  \n",
              "4                        NaN            NaN  "
            ]
          },
          "metadata": {
            "tags": []
          },
          "execution_count": 16
        }
      ]
    },
    {
      "cell_type": "code",
      "metadata": {
        "id": "GT7aTQs-wjVy"
      },
      "source": [
        "# !pip install shap"
      ],
      "execution_count": 17,
      "outputs": []
    },
    {
      "cell_type": "code",
      "metadata": {
        "id": "5VI18NN3wWS0"
      },
      "source": [
        "# import matplotlib.pyplot as plt\r\n",
        "# import shap"
      ],
      "execution_count": 18,
      "outputs": []
    },
    {
      "cell_type": "code",
      "metadata": {
        "id": "APUp7RiGwdXP"
      },
      "source": [
        "# shap_values = shap.TreeExplainer(estimators[2]).shap_values(data)\r\n",
        "# shap.summary_plot(shap_values, data, plot_type=\"bar\")"
      ],
      "execution_count": 19,
      "outputs": []
    },
    {
      "cell_type": "markdown",
      "metadata": {
        "id": "0vS_S_ddrex-"
      },
      "source": [
        "## Baseline"
      ]
    },
    {
      "cell_type": "code",
      "metadata": {
        "colab": {
          "base_uri": "https://localhost:8080/",
          "height": 210
        },
        "id": "cJV9FMsdirGI",
        "outputId": "29318bf4-048c-4a8a-c2b8-cb021019a9d0"
      },
      "source": [
        "categorial = data.dtypes[data.dtypes == \"object\"].index\r\n",
        "numerical = list(set(data.columns) - set(categorial))\r\n",
        "data[numerical] = data[numerical].astype(float)\r\n",
        "data[categorial] = data[categorial].astype('category')\r\n",
        "\r\n",
        "data = pd.get_dummies(data)\r\n",
        "\r\n",
        "mask = data[\"target\"].isnull()\r\n",
        "train, test = data.loc[~mask], data.loc[mask]\r\n",
        "\r\n",
        "target, test_id = train[\"target\"], test[\"application_number\"]\r\n",
        "train = train.drop([\"application_number\", \"target\"], axis=1)\r\n",
        "test = test.drop([\"application_number\", \"target\"], axis=1)\r\n",
        "t_categorial = train.dtypes[train.dtypes == \"object\"].index\r\n",
        "t_numerical = list(set(train.columns) - set(t_categorial))\r\n",
        "\r\n",
        "data.head(3)"
      ],
      "execution_count": 20,
      "outputs": [
        {
          "output_type": "execute_result",
          "data": {
            "text/html": [
              "<div>\n",
              "<style scoped>\n",
              "    .dataframe tbody tr th:only-of-type {\n",
              "        vertical-align: middle;\n",
              "    }\n",
              "\n",
              "    .dataframe tbody tr th {\n",
              "        vertical-align: top;\n",
              "    }\n",
              "\n",
              "    .dataframe thead th {\n",
              "        text-align: right;\n",
              "    }\n",
              "</style>\n",
              "<table border=\"1\" class=\"dataframe\">\n",
              "  <thead>\n",
              "    <tr style=\"text-align: right;\">\n",
              "      <th></th>\n",
              "      <th>application_number</th>\n",
              "      <th>target</th>\n",
              "      <th>childrens</th>\n",
              "      <th>total_salary</th>\n",
              "      <th>amount_credit</th>\n",
              "      <th>amount_annuity</th>\n",
              "      <th>region_population</th>\n",
              "      <th>age</th>\n",
              "      <th>days_on_last_job</th>\n",
              "      <th>own_car_age</th>\n",
              "      <th>flag_phone</th>\n",
              "      <th>flag_email</th>\n",
              "      <th>family_size</th>\n",
              "      <th>external_scoring_rating_1</th>\n",
              "      <th>external_scoring_rating_2</th>\n",
              "      <th>...</th>\n",
              "      <th>name_contract_type_Credit Card</th>\n",
              "      <th>gender_F</th>\n",
              "      <th>gender_M</th>\n",
              "      <th>gender_XNA</th>\n",
              "      <th>education_level_Academic degree</th>\n",
              "      <th>education_level_Higher education</th>\n",
              "      <th>education_level_Incomplete higher</th>\n",
              "      <th>education_level_Lower secondary</th>\n",
              "      <th>education_level_Secondary / secondary special</th>\n",
              "      <th>family_status_Civil marriage</th>\n",
              "      <th>family_status_Married</th>\n",
              "      <th>family_status_Separated</th>\n",
              "      <th>family_status_Single / not married</th>\n",
              "      <th>family_status_Unknown</th>\n",
              "      <th>family_status_Widow</th>\n",
              "    </tr>\n",
              "  </thead>\n",
              "  <tbody>\n",
              "    <tr>\n",
              "      <th>0</th>\n",
              "      <td>123687442.0</td>\n",
              "      <td>0.0</td>\n",
              "      <td>1.0</td>\n",
              "      <td>157500.0</td>\n",
              "      <td>855000.0</td>\n",
              "      <td>25128.0</td>\n",
              "      <td>0.019101</td>\n",
              "      <td>15728.0</td>\n",
              "      <td>1719.0</td>\n",
              "      <td>11.0</td>\n",
              "      <td>0.0</td>\n",
              "      <td>0.0</td>\n",
              "      <td>3.0</td>\n",
              "      <td>0.700784</td>\n",
              "      <td>0.645914</td>\n",
              "      <td>...</td>\n",
              "      <td>0</td>\n",
              "      <td>0</td>\n",
              "      <td>1</td>\n",
              "      <td>0</td>\n",
              "      <td>0</td>\n",
              "      <td>0</td>\n",
              "      <td>0</td>\n",
              "      <td>0</td>\n",
              "      <td>1</td>\n",
              "      <td>0</td>\n",
              "      <td>1</td>\n",
              "      <td>0</td>\n",
              "      <td>0</td>\n",
              "      <td>0</td>\n",
              "      <td>0</td>\n",
              "    </tr>\n",
              "    <tr>\n",
              "      <th>1</th>\n",
              "      <td>123597908.0</td>\n",
              "      <td>1.0</td>\n",
              "      <td>NaN</td>\n",
              "      <td>NaN</td>\n",
              "      <td>NaN</td>\n",
              "      <td>NaN</td>\n",
              "      <td>NaN</td>\n",
              "      <td>NaN</td>\n",
              "      <td>NaN</td>\n",
              "      <td>NaN</td>\n",
              "      <td>NaN</td>\n",
              "      <td>NaN</td>\n",
              "      <td>NaN</td>\n",
              "      <td>NaN</td>\n",
              "      <td>NaN</td>\n",
              "      <td>...</td>\n",
              "      <td>0</td>\n",
              "      <td>0</td>\n",
              "      <td>0</td>\n",
              "      <td>0</td>\n",
              "      <td>0</td>\n",
              "      <td>0</td>\n",
              "      <td>0</td>\n",
              "      <td>0</td>\n",
              "      <td>0</td>\n",
              "      <td>0</td>\n",
              "      <td>0</td>\n",
              "      <td>0</td>\n",
              "      <td>0</td>\n",
              "      <td>0</td>\n",
              "      <td>0</td>\n",
              "    </tr>\n",
              "    <tr>\n",
              "      <th>2</th>\n",
              "      <td>123526683.0</td>\n",
              "      <td>0.0</td>\n",
              "      <td>0.0</td>\n",
              "      <td>135000.0</td>\n",
              "      <td>1006920.0</td>\n",
              "      <td>42660.0</td>\n",
              "      <td>0.026392</td>\n",
              "      <td>21557.0</td>\n",
              "      <td>3618.0</td>\n",
              "      <td>NaN</td>\n",
              "      <td>1.0</td>\n",
              "      <td>0.0</td>\n",
              "      <td>2.0</td>\n",
              "      <td>NaN</td>\n",
              "      <td>0.682149</td>\n",
              "      <td>...</td>\n",
              "      <td>0</td>\n",
              "      <td>1</td>\n",
              "      <td>0</td>\n",
              "      <td>0</td>\n",
              "      <td>0</td>\n",
              "      <td>1</td>\n",
              "      <td>0</td>\n",
              "      <td>0</td>\n",
              "      <td>0</td>\n",
              "      <td>0</td>\n",
              "      <td>1</td>\n",
              "      <td>0</td>\n",
              "      <td>0</td>\n",
              "      <td>0</td>\n",
              "      <td>0</td>\n",
              "    </tr>\n",
              "  </tbody>\n",
              "</table>\n",
              "<p>3 rows × 73 columns</p>\n",
              "</div>"
            ],
            "text/plain": [
              "   application_number  target  childrens  total_salary  amount_credit  \\\n",
              "0         123687442.0     0.0        1.0      157500.0       855000.0   \n",
              "1         123597908.0     1.0        NaN           NaN            NaN   \n",
              "2         123526683.0     0.0        0.0      135000.0      1006920.0   \n",
              "\n",
              "   amount_annuity  region_population      age  days_on_last_job  own_car_age  \\\n",
              "0         25128.0           0.019101  15728.0            1719.0         11.0   \n",
              "1             NaN                NaN      NaN               NaN          NaN   \n",
              "2         42660.0           0.026392  21557.0            3618.0          NaN   \n",
              "\n",
              "   flag_phone  flag_email  family_size  external_scoring_rating_1  \\\n",
              "0         0.0         0.0          3.0                   0.700784   \n",
              "1         NaN         NaN          NaN                        NaN   \n",
              "2         1.0         0.0          2.0                        NaN   \n",
              "\n",
              "   external_scoring_rating_2  ...  name_contract_type_Credit Card  gender_F  \\\n",
              "0                   0.645914  ...                               0         0   \n",
              "1                        NaN  ...                               0         0   \n",
              "2                   0.682149  ...                               0         1   \n",
              "\n",
              "   gender_M  gender_XNA  education_level_Academic degree  \\\n",
              "0         1           0                                0   \n",
              "1         0           0                                0   \n",
              "2         0           0                                0   \n",
              "\n",
              "   education_level_Higher education  education_level_Incomplete higher  \\\n",
              "0                                 0                                  0   \n",
              "1                                 0                                  0   \n",
              "2                                 1                                  0   \n",
              "\n",
              "   education_level_Lower secondary  \\\n",
              "0                                0   \n",
              "1                                0   \n",
              "2                                0   \n",
              "\n",
              "   education_level_Secondary / secondary special  \\\n",
              "0                                              1   \n",
              "1                                              0   \n",
              "2                                              0   \n",
              "\n",
              "   family_status_Civil marriage  family_status_Married  \\\n",
              "0                             0                      1   \n",
              "1                             0                      0   \n",
              "2                             0                      1   \n",
              "\n",
              "   family_status_Separated  family_status_Single / not married  \\\n",
              "0                        0                                   0   \n",
              "1                        0                                   0   \n",
              "2                        0                                   0   \n",
              "\n",
              "   family_status_Unknown  family_status_Widow  \n",
              "0                      0                    0  \n",
              "1                      0                    0  \n",
              "2                      0                    0  \n",
              "\n",
              "[3 rows x 73 columns]"
            ]
          },
          "metadata": {
            "tags": []
          },
          "execution_count": 20
        }
      ]
    },
    {
      "cell_type": "markdown",
      "metadata": {
        "id": "hkRTvhz5rlT0"
      },
      "source": [
        "## KFold"
      ]
    },
    {
      "cell_type": "code",
      "metadata": {
        "id": "Mb3cwimvqonc",
        "colab": {
          "base_uri": "https://localhost:8080/"
        },
        "outputId": "929b04be-61af-4a4d-88cf-b1b11ea14de5"
      },
      "source": [
        "cb_params = {\r\n",
        "    \"n_estimators\": 5000,\r\n",
        "    \"learning_rate\": 0.01,\r\n",
        "    \"loss_function\": \"Logloss\",\r\n",
        "    \"eval_metric\": \"AUC\",\r\n",
        "    \"task_type\": \"CPU\",\r\n",
        "    \"max_bin\": 50,\r\n",
        "    \"verbose\": 100,\r\n",
        "    \"max_depth\": 6,\r\n",
        "    \"l2_leaf_reg\": 20,\r\n",
        "    \"early_stopping_rounds\": 150,\r\n",
        "    \"thread_count\": 6,\r\n",
        "    \"random_seed\": 42,\r\n",
        "    # \"silent\": True\r\n",
        "}\r\n",
        "\r\n",
        "lgbm_cv = KFold(n_splits=4, random_state=128, shuffle=True)\r\n",
        "\r\n",
        "lgbm_estimators, lgbm_oof = catboost_cross_validation(\r\n",
        "    params=cb_params, X=train, y=target, cv=lgbm_cv, categorical=t_categorial\r\n",
        ")"
      ],
      "execution_count": 21,
      "outputs": [
        {
          "output_type": "stream",
          "text": [
            "Tue Dec 22 19:58:15 2020, Cross-Validation, 110093 rows, 71 cols\n",
            "0:\ttest: 0.6699621\ttest1: 0.6809742\tbest: 0.6809742 (0)\ttotal: 126ms\tremaining: 10m 31s\n",
            "100:\ttest: 0.7094858\ttest1: 0.7147752\tbest: 0.7147752 (100)\ttotal: 7.75s\tremaining: 6m 15s\n",
            "200:\ttest: 0.7154423\ttest1: 0.7188814\tbest: 0.7188814 (200)\ttotal: 15.5s\tremaining: 6m 9s\n",
            "300:\ttest: 0.7208949\ttest1: 0.7220343\tbest: 0.7220931 (296)\ttotal: 23.2s\tremaining: 6m 2s\n",
            "400:\ttest: 0.7263096\ttest1: 0.7240221\tbest: 0.7240337 (398)\ttotal: 31s\tremaining: 5m 55s\n",
            "500:\ttest: 0.7305062\ttest1: 0.7259735\tbest: 0.7261237 (495)\ttotal: 38.6s\tremaining: 5m 46s\n",
            "600:\ttest: 0.7340618\ttest1: 0.7275578\tbest: 0.7275691 (599)\ttotal: 46.1s\tremaining: 5m 37s\n",
            "700:\ttest: 0.7369826\ttest1: 0.7288603\tbest: 0.7288603 (700)\ttotal: 54s\tremaining: 5m 31s\n",
            "800:\ttest: 0.7396858\ttest1: 0.7299861\tbest: 0.7301118 (797)\ttotal: 1m 1s\tremaining: 5m 22s\n",
            "900:\ttest: 0.7422446\ttest1: 0.7302385\tbest: 0.7303355 (869)\ttotal: 1m 9s\tremaining: 5m 14s\n",
            "1000:\ttest: 0.7447425\ttest1: 0.7306619\tbest: 0.7307885 (991)\ttotal: 1m 16s\tremaining: 5m 7s\n",
            "1100:\ttest: 0.7471367\ttest1: 0.7312924\tbest: 0.7313895 (1096)\ttotal: 1m 24s\tremaining: 5m\n",
            "1200:\ttest: 0.7495888\ttest1: 0.7317954\tbest: 0.7318315 (1199)\ttotal: 1m 32s\tremaining: 4m 51s\n",
            "1300:\ttest: 0.7520346\ttest1: 0.7322273\tbest: 0.7322277 (1299)\ttotal: 1m 39s\tremaining: 4m 43s\n",
            "1400:\ttest: 0.7540957\ttest1: 0.7323012\tbest: 0.7323411 (1331)\ttotal: 1m 46s\tremaining: 4m 34s\n",
            "1500:\ttest: 0.7561520\ttest1: 0.7325115\tbest: 0.7326051 (1466)\ttotal: 1m 54s\tremaining: 4m 25s\n",
            "1600:\ttest: 0.7580418\ttest1: 0.7327129\tbest: 0.7327972 (1582)\ttotal: 2m 1s\tremaining: 4m 17s\n",
            "1700:\ttest: 0.7600734\ttest1: 0.7326833\tbest: 0.7327972 (1582)\ttotal: 2m 8s\tremaining: 4m 9s\n",
            "Stopped by overfitting detector  (150 iterations wait)\n",
            "\n",
            "bestTest = 0.7327971517\n",
            "bestIteration = 1582\n",
            "\n",
            "Shrink model to first 1583 iterations.\n",
            "Fold 1, Valid score = 0.7328\n",
            "0:\ttest: 0.6679825\ttest1: 0.6720563\tbest: 0.6720563 (0)\ttotal: 74.3ms\tremaining: 6m 11s\n",
            "100:\ttest: 0.7084242\ttest1: 0.7101330\tbest: 0.7103163 (98)\ttotal: 7.53s\tremaining: 6m 5s\n",
            "200:\ttest: 0.7153266\ttest1: 0.7147416\tbest: 0.7147632 (197)\ttotal: 15.4s\tremaining: 6m 8s\n",
            "300:\ttest: 0.7206500\ttest1: 0.7189794\tbest: 0.7189794 (300)\ttotal: 23.3s\tremaining: 6m 4s\n",
            "400:\ttest: 0.7261544\ttest1: 0.7228541\tbest: 0.7228720 (397)\ttotal: 31.3s\tremaining: 5m 59s\n",
            "500:\ttest: 0.7307411\ttest1: 0.7249915\tbest: 0.7249915 (500)\ttotal: 39s\tremaining: 5m 50s\n",
            "600:\ttest: 0.7339066\ttest1: 0.7269808\tbest: 0.7269899 (588)\ttotal: 46.7s\tremaining: 5m 41s\n",
            "700:\ttest: 0.7372263\ttest1: 0.7282290\tbest: 0.7282290 (700)\ttotal: 54.5s\tremaining: 5m 33s\n",
            "800:\ttest: 0.7404685\ttest1: 0.7289199\tbest: 0.7289199 (800)\ttotal: 1m 2s\tremaining: 5m 25s\n",
            "900:\ttest: 0.7429924\ttest1: 0.7294674\tbest: 0.7294763 (898)\ttotal: 1m 9s\tremaining: 5m 16s\n",
            "1000:\ttest: 0.7454828\ttest1: 0.7297944\tbest: 0.7298997 (984)\ttotal: 1m 17s\tremaining: 5m 7s\n",
            "1100:\ttest: 0.7480078\ttest1: 0.7302706\tbest: 0.7302706 (1100)\ttotal: 1m 24s\tremaining: 4m 59s\n",
            "1200:\ttest: 0.7502911\ttest1: 0.7301820\tbest: 0.7304475 (1158)\ttotal: 1m 31s\tremaining: 4m 50s\n",
            "1300:\ttest: 0.7525152\ttest1: 0.7308358\tbest: 0.7309515 (1295)\ttotal: 1m 39s\tremaining: 4m 41s\n",
            "1400:\ttest: 0.7547371\ttest1: 0.7309196\tbest: 0.7310366 (1363)\ttotal: 1m 46s\tremaining: 4m 33s\n",
            "1500:\ttest: 0.7566086\ttest1: 0.7309922\tbest: 0.7311298 (1414)\ttotal: 1m 54s\tremaining: 4m 26s\n",
            "Stopped by overfitting detector  (150 iterations wait)\n",
            "\n",
            "bestTest = 0.7311298\n",
            "bestIteration = 1414\n",
            "\n",
            "Shrink model to first 1415 iterations.\n",
            "Fold 2, Valid score = 0.73113\n",
            "0:\ttest: 0.6777534\ttest1: 0.6712655\tbest: 0.6712655 (0)\ttotal: 75.4ms\tremaining: 6m 17s\n",
            "100:\ttest: 0.7133913\ttest1: 0.7014675\tbest: 0.7014675 (100)\ttotal: 7.62s\tremaining: 6m 9s\n",
            "200:\ttest: 0.7189158\ttest1: 0.7059873\tbest: 0.7060967 (191)\ttotal: 15.3s\tremaining: 6m 5s\n",
            "300:\ttest: 0.7245987\ttest1: 0.7097694\tbest: 0.7098286 (299)\ttotal: 23.1s\tremaining: 6m\n",
            "400:\ttest: 0.7298045\ttest1: 0.7133963\tbest: 0.7133963 (400)\ttotal: 30.8s\tremaining: 5m 53s\n",
            "500:\ttest: 0.7337584\ttest1: 0.7151973\tbest: 0.7153664 (494)\ttotal: 38.4s\tremaining: 5m 44s\n",
            "600:\ttest: 0.7370823\ttest1: 0.7169667\tbest: 0.7170502 (598)\ttotal: 46.1s\tremaining: 5m 37s\n",
            "700:\ttest: 0.7398679\ttest1: 0.7177514\tbest: 0.7178081 (699)\ttotal: 53.6s\tremaining: 5m 28s\n",
            "800:\ttest: 0.7425167\ttest1: 0.7182406\tbest: 0.7182406 (800)\ttotal: 1m 1s\tremaining: 5m 21s\n",
            "900:\ttest: 0.7448168\ttest1: 0.7187565\tbest: 0.7187815 (895)\ttotal: 1m 8s\tremaining: 5m 13s\n",
            "1000:\ttest: 0.7469423\ttest1: 0.7193280\tbest: 0.7194702 (994)\ttotal: 1m 16s\tremaining: 5m 5s\n",
            "1100:\ttest: 0.7492042\ttest1: 0.7196843\tbest: 0.7196891 (1098)\ttotal: 1m 24s\tremaining: 4m 57s\n",
            "1200:\ttest: 0.7514732\ttest1: 0.7197823\tbest: 0.7198142 (1187)\ttotal: 1m 31s\tremaining: 4m 49s\n",
            "1300:\ttest: 0.7535949\ttest1: 0.7204168\tbest: 0.7204257 (1293)\ttotal: 1m 39s\tremaining: 4m 42s\n",
            "1400:\ttest: 0.7559760\ttest1: 0.7210173\tbest: 0.7210335 (1399)\ttotal: 1m 46s\tremaining: 4m 34s\n",
            "1500:\ttest: 0.7581197\ttest1: 0.7212134\tbest: 0.7212745 (1494)\ttotal: 1m 54s\tremaining: 4m 26s\n",
            "1600:\ttest: 0.7600387\ttest1: 0.7216116\tbest: 0.7216385 (1588)\ttotal: 2m 1s\tremaining: 4m 18s\n",
            "1700:\ttest: 0.7622101\ttest1: 0.7217903\tbest: 0.7219075 (1695)\ttotal: 2m 9s\tremaining: 4m 11s\n",
            "1800:\ttest: 0.7640585\ttest1: 0.7220956\tbest: 0.7221128 (1746)\ttotal: 2m 17s\tremaining: 4m 4s\n",
            "1900:\ttest: 0.7658379\ttest1: 0.7221520\tbest: 0.7221829 (1897)\ttotal: 2m 25s\tremaining: 3m 57s\n",
            "2000:\ttest: 0.7675744\ttest1: 0.7220806\tbest: 0.7221949 (1904)\ttotal: 2m 33s\tremaining: 3m 49s\n",
            "2100:\ttest: 0.7691767\ttest1: 0.7220722\tbest: 0.7222926 (2049)\ttotal: 2m 40s\tremaining: 3m 41s\n",
            "2200:\ttest: 0.7709329\ttest1: 0.7222081\tbest: 0.7223507 (2152)\ttotal: 2m 47s\tremaining: 3m 33s\n",
            "2300:\ttest: 0.7726450\ttest1: 0.7219897\tbest: 0.7223507 (2152)\ttotal: 2m 55s\tremaining: 3m 25s\n",
            "Stopped by overfitting detector  (150 iterations wait)\n",
            "\n",
            "bestTest = 0.7223506715\n",
            "bestIteration = 2152\n",
            "\n",
            "Shrink model to first 2153 iterations.\n",
            "Fold 3, Valid score = 0.72235\n",
            "0:\ttest: 0.6788341\ttest1: 0.6709828\tbest: 0.6709828 (0)\ttotal: 135ms\tremaining: 11m 15s\n",
            "100:\ttest: 0.7117778\ttest1: 0.7007342\tbest: 0.7009628 (97)\ttotal: 10.3s\tremaining: 8m 18s\n",
            "200:\ttest: 0.7181538\ttest1: 0.7072212\tbest: 0.7072212 (200)\ttotal: 18s\tremaining: 7m 8s\n",
            "300:\ttest: 0.7243259\ttest1: 0.7117933\tbest: 0.7118882 (299)\ttotal: 25.7s\tremaining: 6m 41s\n",
            "400:\ttest: 0.7289505\ttest1: 0.7153779\tbest: 0.7154079 (399)\ttotal: 33.6s\tremaining: 6m 25s\n",
            "500:\ttest: 0.7333666\ttest1: 0.7183920\tbest: 0.7183920 (500)\ttotal: 41.3s\tremaining: 6m 11s\n",
            "600:\ttest: 0.7373450\ttest1: 0.7201961\tbest: 0.7201961 (600)\ttotal: 49s\tremaining: 5m 58s\n",
            "700:\ttest: 0.7400192\ttest1: 0.7211497\tbest: 0.7211497 (700)\ttotal: 56.5s\tremaining: 5m 46s\n",
            "800:\ttest: 0.7427577\ttest1: 0.7220034\tbest: 0.7220365 (796)\ttotal: 1m 4s\tremaining: 5m 37s\n",
            "900:\ttest: 0.7449953\ttest1: 0.7222326\tbest: 0.7223425 (878)\ttotal: 1m 12s\tremaining: 5m 27s\n",
            "1000:\ttest: 0.7473321\ttest1: 0.7228921\tbest: 0.7229013 (987)\ttotal: 1m 19s\tremaining: 5m 17s\n",
            "1100:\ttest: 0.7499159\ttest1: 0.7232621\tbest: 0.7233510 (1080)\ttotal: 1m 27s\tremaining: 5m 8s\n",
            "1200:\ttest: 0.7522435\ttest1: 0.7233421\tbest: 0.7236190 (1186)\ttotal: 1m 34s\tremaining: 4m 59s\n",
            "1300:\ttest: 0.7546739\ttest1: 0.7236815\tbest: 0.7237111 (1280)\ttotal: 1m 42s\tremaining: 4m 51s\n",
            "1400:\ttest: 0.7569274\ttest1: 0.7238039\tbest: 0.7238907 (1385)\ttotal: 1m 49s\tremaining: 4m 42s\n",
            "1500:\ttest: 0.7589168\ttest1: 0.7240167\tbest: 0.7240503 (1439)\ttotal: 1m 57s\tremaining: 4m 33s\n",
            "1600:\ttest: 0.7606068\ttest1: 0.7244303\tbest: 0.7244303 (1600)\ttotal: 2m 5s\tremaining: 4m 25s\n",
            "1700:\ttest: 0.7621217\ttest1: 0.7242096\tbest: 0.7244303 (1600)\ttotal: 2m 12s\tremaining: 4m 16s\n",
            "Stopped by overfitting detector  (150 iterations wait)\n",
            "\n",
            "bestTest = 0.7244303397\n",
            "bestIteration = 1600\n",
            "\n",
            "Shrink model to first 1601 iterations.\n",
            "Fold 4, Valid score = 0.72443\n",
            "Score by each fold: [0.7328, 0.73113, 0.72235, 0.72443]\n",
            "=================================================================\n"
          ],
          "name": "stdout"
        }
      ]
    },
    {
      "cell_type": "code",
      "metadata": {
        "colab": {
          "base_uri": "https://localhost:8080/"
        },
        "id": "ZWBHyI4FCuYK",
        "outputId": "02d43cd8-2f89-4792-e0e3-d48d47095bad"
      },
      "source": [
        "lgbm_oof_score = roc_auc_score(\r\n",
        "    target, lgbm_oof\r\n",
        ")\r\n",
        "print(f\"OOF-score = {round(lgbm_oof_score, 5)}\")\r\n"
      ],
      "execution_count": 22,
      "outputs": [
        {
          "output_type": "stream",
          "text": [
            "OOF-score = 0.72702\n"
          ],
          "name": "stdout"
        }
      ]
    },
    {
      "cell_type": "code",
      "metadata": {
        "colab": {
          "base_uri": "https://localhost:8080/"
        },
        "id": "Wc5QLk3c1WXt",
        "outputId": "9e30ea59-6e1b-4c5b-bd40-5d844a6332c7"
      },
      "source": [
        "xgb_params = {\r\n",
        "    \"objective\": \"binary:logistic\",\r\n",
        "    \"booster\": \"gbtree\",\r\n",
        "    \"eval_metric\": \"auc\",\r\n",
        "    \"eta\": \"0.01\",\r\n",
        "    \"max_depth\": 6,\r\n",
        "    \"gamma\": 10,\r\n",
        "    \"subsample\": 0.85,\r\n",
        "    \"colsample_bytree\": 0.7,\r\n",
        "    \"colsample_bylevel\": 0.632,\r\n",
        "    \"min_child_weight\": 30,\r\n",
        "    \"early_stopping\": 50,\r\n",
        "    \"alpha\": 0,\r\n",
        "    \"lambda\": 0,\r\n",
        "    \"nthread\": 6,\r\n",
        "    \"random_seed\": 42\r\n",
        "}\r\n",
        "\r\n",
        "xgb_cv = KFold(n_splits=4, random_state=42, shuffle=True)\r\n",
        "\r\n",
        "\r\n",
        "xgb_estimators, _, xgb_oof = xgboost_cross_validation(\r\n",
        "    params=xgb_params, X=train, y=target, cv=xgb_cv\r\n",
        ")"
      ],
      "execution_count": 23,
      "outputs": [
        {
          "output_type": "stream",
          "text": [
            "Tue Dec 22 20:07:41 2020, Cross-Validation, 110093 rows, 71 cols\n",
            "[0]\ttrain-auc:0.693134\tvalid-auc:0.694554\n",
            "Multiple eval metrics have been passed: 'valid-auc' will be used for early stopping.\n",
            "\n",
            "Will train until valid-auc hasn't improved in 50 rounds.\n",
            "[100]\ttrain-auc:0.711878\tvalid-auc:0.714527\n",
            "[200]\ttrain-auc:0.718638\tvalid-auc:0.720261\n",
            "[300]\ttrain-auc:0.727547\tvalid-auc:0.725772\n",
            "[400]\ttrain-auc:0.73464\tvalid-auc:0.729926\n",
            "[500]\ttrain-auc:0.740618\tvalid-auc:0.733403\n",
            "[600]\ttrain-auc:0.744571\tvalid-auc:0.735313\n",
            "[700]\ttrain-auc:0.747552\tvalid-auc:0.73644\n",
            "[800]\ttrain-auc:0.749976\tvalid-auc:0.737557\n",
            "[900]\ttrain-auc:0.752104\tvalid-auc:0.738429\n",
            "[1000]\ttrain-auc:0.754059\tvalid-auc:0.73906\n",
            "[1100]\ttrain-auc:0.755916\tvalid-auc:0.739687\n",
            "Stopping. Best iteration:\n",
            "[1100]\ttrain-auc:0.755916\tvalid-auc:0.739687\n",
            "\n",
            "Fold 1, Valid score = 0.73965\n",
            "[0]\ttrain-auc:0.688142\tvalid-auc:0.683013\n",
            "Multiple eval metrics have been passed: 'valid-auc' will be used for early stopping.\n",
            "\n",
            "Will train until valid-auc hasn't improved in 50 rounds.\n",
            "[100]\ttrain-auc:0.713368\tvalid-auc:0.706011\n",
            "[200]\ttrain-auc:0.720408\tvalid-auc:0.711609\n",
            "[300]\ttrain-auc:0.72941\tvalid-auc:0.716837\n",
            "[400]\ttrain-auc:0.737395\tvalid-auc:0.720667\n",
            "[500]\ttrain-auc:0.7435\tvalid-auc:0.724407\n",
            "[600]\ttrain-auc:0.747636\tvalid-auc:0.726898\n",
            "[700]\ttrain-auc:0.751052\tvalid-auc:0.7279\n",
            "[800]\ttrain-auc:0.753573\tvalid-auc:0.728066\n",
            "[900]\ttrain-auc:0.756312\tvalid-auc:0.728647\n",
            "[1000]\ttrain-auc:0.758418\tvalid-auc:0.728789\n",
            "Stopping. Best iteration:\n",
            "[1005]\ttrain-auc:0.758594\tvalid-auc:0.729062\n",
            "\n",
            "Fold 2, Valid score = 0.72867\n",
            "[0]\ttrain-auc:0.689493\tvalid-auc:0.680308\n",
            "Multiple eval metrics have been passed: 'valid-auc' will be used for early stopping.\n",
            "\n",
            "Will train until valid-auc hasn't improved in 50 rounds.\n",
            "[100]\ttrain-auc:0.715336\tvalid-auc:0.701231\n",
            "[200]\ttrain-auc:0.722129\tvalid-auc:0.705761\n",
            "[300]\ttrain-auc:0.729555\tvalid-auc:0.711124\n",
            "[400]\ttrain-auc:0.736474\tvalid-auc:0.715515\n",
            "[500]\ttrain-auc:0.74242\tvalid-auc:0.719999\n",
            "[600]\ttrain-auc:0.746688\tvalid-auc:0.722682\n",
            "[700]\ttrain-auc:0.749816\tvalid-auc:0.723394\n",
            "[800]\ttrain-auc:0.752195\tvalid-auc:0.723711\n",
            "[900]\ttrain-auc:0.754648\tvalid-auc:0.724192\n",
            "[1000]\ttrain-auc:0.7563\tvalid-auc:0.724819\n",
            "[1100]\ttrain-auc:0.758498\tvalid-auc:0.72517\n",
            "[1200]\ttrain-auc:0.760183\tvalid-auc:0.725743\n",
            "[1300]\ttrain-auc:0.761581\tvalid-auc:0.726108\n",
            "[1400]\ttrain-auc:0.762963\tvalid-auc:0.726398\n",
            "Stopping. Best iteration:\n",
            "[1427]\ttrain-auc:0.763287\tvalid-auc:0.726548\n",
            "\n",
            "Fold 3, Valid score = 0.7265\n",
            "[0]\ttrain-auc:0.701123\tvalid-auc:0.67774\n",
            "Multiple eval metrics have been passed: 'valid-auc' will be used for early stopping.\n",
            "\n",
            "Will train until valid-auc hasn't improved in 50 rounds.\n",
            "[100]\ttrain-auc:0.716462\tvalid-auc:0.694237\n",
            "[200]\ttrain-auc:0.724119\tvalid-auc:0.699671\n",
            "[300]\ttrain-auc:0.732852\tvalid-auc:0.704906\n",
            "[400]\ttrain-auc:0.740312\tvalid-auc:0.709617\n",
            "[500]\ttrain-auc:0.746994\tvalid-auc:0.7131\n",
            "[600]\ttrain-auc:0.751022\tvalid-auc:0.715785\n",
            "[700]\ttrain-auc:0.754475\tvalid-auc:0.717238\n",
            "[800]\ttrain-auc:0.757128\tvalid-auc:0.717698\n",
            "[900]\ttrain-auc:0.75925\tvalid-auc:0.71824\n",
            "[1000]\ttrain-auc:0.760731\tvalid-auc:0.718416\n",
            "[1100]\ttrain-auc:0.76263\tvalid-auc:0.718749\n",
            "[1200]\ttrain-auc:0.764013\tvalid-auc:0.718928\n",
            "Stopping. Best iteration:\n",
            "[1201]\ttrain-auc:0.763977\tvalid-auc:0.718963\n",
            "\n",
            "Fold 4, Valid score = 0.71874\n"
          ],
          "name": "stdout"
        }
      ]
    },
    {
      "cell_type": "code",
      "metadata": {
        "colab": {
          "base_uri": "https://localhost:8080/"
        },
        "id": "VvwUALEkqogT",
        "outputId": "c4412f83-37d5-4b6a-f6f3-6fd342ae6136"
      },
      "source": [
        "xgb_oof_score = roc_auc_score(\r\n",
        "    target, xgb_oof\r\n",
        ")\r\n",
        "print(f\"OOF-score = {round(xgb_oof_score, 5)}\")\r\n"
      ],
      "execution_count": 24,
      "outputs": [
        {
          "output_type": "stream",
          "text": [
            "OOF-score = 0.72779\n"
          ],
          "name": "stdout"
        }
      ]
    },
    {
      "cell_type": "markdown",
      "metadata": {
        "id": "6KIL0QECrwSE"
      },
      "source": [
        "## Подготовка прогноза"
      ]
    },
    {
      "cell_type": "code",
      "metadata": {
        "id": "aMjfN2saf9fp"
      },
      "source": [
        "y_pred_xgb = np.zeros(test.shape[0])\r\n",
        "test[t_numerical] = test[t_numerical].astype(float)\r\n",
        "test[t_categorial] = test[t_categorial].astype(str)\r\n",
        "\r\n",
        "dtest = xgb.DMatrix(data=test)\r\n",
        "\r\n",
        "for estimator in xgb_estimators:\r\n",
        "    y_pred_xgb += estimator.predict(dtest)\r\n",
        "\r\n",
        "\r\n",
        "y_pred_xgb = pd.DataFrame({\r\n",
        "    \"APPLICATION_NUMBER\": test_id,\r\n",
        "    \"TARGET\": y_pred_xgb / xgb_cv.n_splits\r\n",
        "})\r\n",
        "y_pred_xgb[\"APPLICATION_NUMBER\"] = y_pred_xgb[\"APPLICATION_NUMBER\"].astype(int)\r\n",
        "y_pred_xgb.to_csv(\"baseline_submit_xgb_II.csv\", index=False)"
      ],
      "execution_count": 25,
      "outputs": []
    },
    {
      "cell_type": "code",
      "metadata": {
        "id": "CukuQjw3qoaR"
      },
      "source": [
        "y_pred_lgbm = np.zeros(test.shape[0])\r\n",
        "test[t_numerical] = test[t_numerical].astype(float)\r\n",
        "test[t_categorial] = test[t_categorial].astype(str)\r\n",
        "\r\n",
        "for estimator in lgbm_estimators:\r\n",
        "    y_pred_lgbm += estimator.predict_proba(test)[:, 1]\r\n",
        "\r\n",
        "\r\n",
        "y_pred_lgbm = pd.DataFrame({\r\n",
        "    \"APPLICATION_NUMBER\": test_id,\r\n",
        "    \"TARGET\": y_pred_lgbm / lgbm_cv.n_splits\r\n",
        "})\r\n",
        "y_pred_lgbm[\"APPLICATION_NUMBER\"] = y_pred_lgbm[\"APPLICATION_NUMBER\"].astype(int)\r\n",
        "y_pred_lgbm.to_csv(\"baseline_submit_y_pred_lgbm_II.csv\", index=False)"
      ],
      "execution_count": 26,
      "outputs": []
    },
    {
      "cell_type": "code",
      "metadata": {
        "id": "pzVi0xesqoWF"
      },
      "source": [
        "scores_train = pd.DataFrame({\r\n",
        "    \"lgbm\": lgbm_oof,\r\n",
        "    \"xgb\": xgb_oof,\r\n",
        "    \r\n",
        "})\r\n",
        "\r\n",
        "corr_train = scores_train.corr()\r\n",
        "mask = np.zeros_like(corr_train, dtype=np.bool)\r\n",
        "mask[np.triu_indices_from(mask)] = True"
      ],
      "execution_count": 27,
      "outputs": []
    },
    {
      "cell_type": "code",
      "metadata": {
        "colab": {
          "base_uri": "https://localhost:8080/",
          "height": 323
        },
        "id": "6kbObxGHYVUo",
        "outputId": "46933773-1ae2-43a4-fe73-79fc445177e1"
      },
      "source": [
        "fig, axes = plt.subplots(1, 1, figsize=(5, 5))\r\n",
        "sns.heatmap(corr_train, mask=mask, annot=True, fmt=\".4g\", square=True, cmap=\"viridis\", ax=axes)"
      ],
      "execution_count": 28,
      "outputs": [
        {
          "output_type": "execute_result",
          "data": {
            "text/plain": [
              "<matplotlib.axes._subplots.AxesSubplot at 0x7f7e918314e0>"
            ]
          },
          "metadata": {
            "tags": []
          },
          "execution_count": 28
        },
        {
          "output_type": "display_data",
          "data": {
            "image/png": "[encoded data removed]",
            "text/plain": [
              "<Figure size 360x360 with 2 Axes>"
            ]
          },
          "metadata": {
            "tags": [],
            "needs_background": "light"
          }
        }
      ]
    },
    {
      "cell_type": "code",
      "metadata": {
        "colab": {
          "base_uri": "https://localhost:8080/"
        },
        "id": "oxUDRcBYQtl1",
        "outputId": "5e50a622-7fc9-4333-f904-814642d6892b"
      },
      "source": [
        "scores_mean = scores_train.mean(axis=1)\r\n",
        "score = roc_auc_score(target, scores_mean)\r\n",
        "print(f\"Score = {round(score, 4)}\")"
      ],
      "execution_count": 40,
      "outputs": [
        {
          "output_type": "stream",
          "text": [
            "Score = 0.7284\n"
          ],
          "name": "stdout"
        }
      ]
    },
    {
      "cell_type": "code",
      "metadata": {
        "colab": {
          "base_uri": "https://localhost:8080/"
        },
        "id": "y2KV5rFyQtl4",
        "outputId": "d7ec2f33-d912-4543-e3d3-f23bb5ca12fb"
      },
      "source": [
        "scores_mean = gmean(scores_train, axis=1)\r\n",
        "score = roc_auc_score(target, scores_mean)\r\n",
        "print(f\"Score = {round(score, 4)}\")"
      ],
      "execution_count": 41,
      "outputs": [
        {
          "output_type": "stream",
          "text": [
            "Score = 0.7285\n"
          ],
          "name": "stdout"
        }
      ]
    },
    {
      "cell_type": "code",
      "metadata": {
        "colab": {
          "base_uri": "https://localhost:8080/"
        },
        "id": "BwrBfHW7Qtl7",
        "outputId": "b6b8b716-c18b-4387-f6e5-ef34bdc21606"
      },
      "source": [
        "scores_mean = scores_train.rank().mean(axis=1)\r\n",
        "score = roc_auc_score(target, scores_mean)\r\n",
        "print(f\"Score = {round(score, 4)}\")"
      ],
      "execution_count": 42,
      "outputs": [
        {
          "output_type": "stream",
          "text": [
            "Score = 0.7282\n"
          ],
          "name": "stdout"
        }
      ]
    },
    {
      "cell_type": "code",
      "metadata": {
        "colab": {
          "base_uri": "https://localhost:8080/"
        },
        "id": "pRtYcjnDQtl-",
        "outputId": "9f40eb61-d577-49e8-aab5-626352cad9e9"
      },
      "source": [
        "scores_mean = gmean(scores_train.rank(), axis=1)\r\n",
        "score = roc_auc_score(target, scores_mean)\r\n",
        "print(f\"Score = {round(score, 4)}\")"
      ],
      "execution_count": 43,
      "outputs": [
        {
          "output_type": "stream",
          "text": [
            "Score = 0.7282\n"
          ],
          "name": "stdout"
        }
      ]
    },
    {
      "cell_type": "code",
      "metadata": {
        "id": "He5d20_tqoJC",
        "colab": {
          "base_uri": "https://localhost:8080/"
        },
        "outputId": "4477fb8d-c480-41a8-e734-57c743096215"
      },
      "source": [
        "cb_params = {\r\n",
        "    \"n_estimators\": 5000,\r\n",
        "    \"learning_rate\": 0.01,\r\n",
        "    \"loss_function\": \"Logloss\",\r\n",
        "    \"eval_metric\": \"AUC\",\r\n",
        "    \"task_type\": \"CPU\",\r\n",
        "    \"max_bin\": 20,\r\n",
        "    \"verbose\": 100,\r\n",
        "    \"max_depth\": 6,\r\n",
        "    \"l2_leaf_reg\": 20,\r\n",
        "    \"early_stopping_rounds\": 150,\r\n",
        "    \"thread_count\": 6,\r\n",
        "    \"random_seed\": 42\r\n",
        "}\r\n",
        "\r\n",
        "cb_cv = KFold(n_splits=4, random_state=42, shuffle=True)\r\n",
        "\r\n",
        "cb_estimators, cb_oof = catboost_cross_validation(\r\n",
        "    params=cb_params, X=train, y=target, cv=cb_cv, categorical=t_categorial\r\n",
        ")"
      ],
      "execution_count": 64,
      "outputs": [
        {
          "output_type": "stream",
          "text": [
            "Tue Dec 22 21:04:02 2020, Cross-Validation, 110093 rows, 71 cols\n",
            "0:\ttest: 0.6503239\ttest1: 0.6488028\tbest: 0.6488028 (0)\ttotal: 74.5ms\tremaining: 6m 12s\n",
            "100:\ttest: 0.7088356\ttest1: 0.7169709\tbest: 0.7170141 (90)\ttotal: 7.48s\tremaining: 6m 2s\n",
            "200:\ttest: 0.7141780\ttest1: 0.7206272\tbest: 0.7206272 (200)\ttotal: 14.9s\tremaining: 5m 55s\n",
            "300:\ttest: 0.7191451\ttest1: 0.7230852\tbest: 0.7232729 (296)\ttotal: 22.5s\tremaining: 5m 51s\n",
            "400:\ttest: 0.7246863\ttest1: 0.7266123\tbest: 0.7266940 (394)\ttotal: 30.1s\tremaining: 5m 45s\n",
            "500:\ttest: 0.7289672\ttest1: 0.7287669\tbest: 0.7288071 (498)\ttotal: 37.7s\tremaining: 5m 38s\n",
            "600:\ttest: 0.7324552\ttest1: 0.7303142\tbest: 0.7303942 (597)\ttotal: 45.3s\tremaining: 5m 31s\n",
            "700:\ttest: 0.7358364\ttest1: 0.7314296\tbest: 0.7314303 (698)\ttotal: 52.7s\tremaining: 5m 23s\n",
            "800:\ttest: 0.7386949\ttest1: 0.7325928\tbest: 0.7327042 (784)\ttotal: 1m\tremaining: 5m 15s\n",
            "900:\ttest: 0.7412192\ttest1: 0.7330030\tbest: 0.7330743 (894)\ttotal: 1m 7s\tremaining: 5m 7s\n",
            "1000:\ttest: 0.7437841\ttest1: 0.7336178\tbest: 0.7336178 (1000)\ttotal: 1m 15s\tremaining: 5m\n",
            "1100:\ttest: 0.7467687\ttest1: 0.7341412\tbest: 0.7342081 (1094)\ttotal: 1m 22s\tremaining: 4m 52s\n",
            "1200:\ttest: 0.7493577\ttest1: 0.7341776\tbest: 0.7343808 (1133)\ttotal: 1m 30s\tremaining: 4m 44s\n",
            "1300:\ttest: 0.7519139\ttest1: 0.7345999\tbest: 0.7346788 (1297)\ttotal: 1m 37s\tremaining: 4m 37s\n",
            "1400:\ttest: 0.7541739\ttest1: 0.7346768\tbest: 0.7348907 (1395)\ttotal: 1m 44s\tremaining: 4m 28s\n",
            "1500:\ttest: 0.7562619\ttest1: 0.7348627\tbest: 0.7350342 (1411)\ttotal: 1m 51s\tremaining: 4m 20s\n",
            "1600:\ttest: 0.7581031\ttest1: 0.7348657\tbest: 0.7351145 (1531)\ttotal: 1m 58s\tremaining: 4m 12s\n",
            "Stopped by overfitting detector  (150 iterations wait)\n",
            "\n",
            "bestTest = 0.7351144994\n",
            "bestIteration = 1531\n",
            "\n",
            "Shrink model to first 1532 iterations.\n",
            "Fold 1, Valid score = 0.73511\n",
            "0:\ttest: 0.6290616\ttest1: 0.6449337\tbest: 0.6449337 (0)\ttotal: 70.5ms\tremaining: 5m 52s\n",
            "100:\ttest: 0.7117826\ttest1: 0.7090027\tbest: 0.7090027 (100)\ttotal: 7.56s\tremaining: 6m 6s\n",
            "200:\ttest: 0.7168778\ttest1: 0.7131252\tbest: 0.7131252 (200)\ttotal: 15.3s\tremaining: 6m 6s\n",
            "300:\ttest: 0.7229117\ttest1: 0.7169272\tbest: 0.7169272 (300)\ttotal: 25.4s\tremaining: 6m 36s\n",
            "400:\ttest: 0.7281132\ttest1: 0.7200570\tbest: 0.7200570 (400)\ttotal: 33s\tremaining: 6m 18s\n",
            "500:\ttest: 0.7324534\ttest1: 0.7226289\tbest: 0.7226601 (494)\ttotal: 40.7s\tremaining: 6m 5s\n",
            "600:\ttest: 0.7356999\ttest1: 0.7242368\tbest: 0.7242368 (600)\ttotal: 48.3s\tremaining: 5m 53s\n",
            "700:\ttest: 0.7388608\ttest1: 0.7247840\tbest: 0.7249098 (673)\ttotal: 56.4s\tremaining: 5m 45s\n",
            "800:\ttest: 0.7415553\ttest1: 0.7257201\tbest: 0.7258324 (799)\ttotal: 1m 4s\tremaining: 5m 36s\n",
            "900:\ttest: 0.7440159\ttest1: 0.7262773\tbest: 0.7264215 (896)\ttotal: 1m 11s\tremaining: 5m 26s\n",
            "1000:\ttest: 0.7466807\ttest1: 0.7265529\tbest: 0.7265625 (944)\ttotal: 1m 19s\tremaining: 5m 16s\n",
            "1100:\ttest: 0.7493699\ttest1: 0.7268394\tbest: 0.7268394 (1100)\ttotal: 1m 26s\tremaining: 5m 7s\n",
            "1200:\ttest: 0.7516327\ttest1: 0.7268215\tbest: 0.7271445 (1136)\ttotal: 1m 34s\tremaining: 4m 58s\n",
            "1300:\ttest: 0.7541080\ttest1: 0.7274252\tbest: 0.7275123 (1281)\ttotal: 1m 41s\tremaining: 4m 49s\n",
            "1400:\ttest: 0.7561613\ttest1: 0.7272874\tbest: 0.7275510 (1317)\ttotal: 1m 49s\tremaining: 4m 41s\n",
            "Stopped by overfitting detector  (150 iterations wait)\n",
            "\n",
            "bestTest = 0.7275509688\n",
            "bestIteration = 1317\n",
            "\n",
            "Shrink model to first 1318 iterations.\n",
            "Fold 2, Valid score = 0.72755\n",
            "0:\ttest: 0.6343946\ttest1: 0.6327827\tbest: 0.6327827 (0)\ttotal: 77.3ms\tremaining: 6m 26s\n",
            "100:\ttest: 0.7120018\ttest1: 0.7047957\tbest: 0.7049924 (97)\ttotal: 7.72s\tremaining: 6m 14s\n",
            "200:\ttest: 0.7177719\ttest1: 0.7090799\tbest: 0.7091590 (196)\ttotal: 15.2s\tremaining: 6m 2s\n",
            "300:\ttest: 0.7230544\ttest1: 0.7129388\tbest: 0.7130039 (299)\ttotal: 22.9s\tremaining: 5m 57s\n",
            "400:\ttest: 0.7280286\ttest1: 0.7157255\tbest: 0.7157815 (397)\ttotal: 30.5s\tremaining: 5m 49s\n",
            "500:\ttest: 0.7318707\ttest1: 0.7180238\tbest: 0.7180238 (500)\ttotal: 38.1s\tremaining: 5m 42s\n",
            "600:\ttest: 0.7353433\ttest1: 0.7196769\tbest: 0.7196769 (600)\ttotal: 45.7s\tremaining: 5m 34s\n",
            "700:\ttest: 0.7380974\ttest1: 0.7211184\tbest: 0.7211184 (700)\ttotal: 53.3s\tremaining: 5m 27s\n",
            "800:\ttest: 0.7410098\ttest1: 0.7215936\tbest: 0.7217323 (786)\ttotal: 1m\tremaining: 5m 17s\n",
            "900:\ttest: 0.7432983\ttest1: 0.7222558\tbest: 0.7222870 (899)\ttotal: 1m 8s\tremaining: 5m 10s\n",
            "1000:\ttest: 0.7456569\ttest1: 0.7227651\tbest: 0.7227926 (994)\ttotal: 1m 15s\tremaining: 5m 1s\n",
            "1100:\ttest: 0.7479153\ttest1: 0.7226572\tbest: 0.7228450 (1007)\ttotal: 1m 23s\tremaining: 4m 54s\n",
            "1200:\ttest: 0.7498845\ttest1: 0.7231521\tbest: 0.7232786 (1192)\ttotal: 1m 30s\tremaining: 4m 45s\n",
            "1300:\ttest: 0.7515328\ttest1: 0.7233312\tbest: 0.7233907 (1288)\ttotal: 1m 37s\tremaining: 4m 37s\n",
            "1400:\ttest: 0.7530253\ttest1: 0.7236213\tbest: 0.7236213 (1400)\ttotal: 1m 44s\tremaining: 4m 28s\n",
            "1500:\ttest: 0.7543678\ttest1: 0.7240359\tbest: 0.7241949 (1495)\ttotal: 1m 51s\tremaining: 4m 20s\n",
            "1600:\ttest: 0.7562047\ttest1: 0.7245266\tbest: 0.7245875 (1599)\ttotal: 1m 59s\tremaining: 4m 13s\n",
            "1700:\ttest: 0.7580245\ttest1: 0.7246750\tbest: 0.7246864 (1684)\ttotal: 2m 6s\tremaining: 4m 5s\n",
            "1800:\ttest: 0.7598442\ttest1: 0.7247581\tbest: 0.7248996 (1741)\ttotal: 2m 13s\tremaining: 3m 57s\n",
            "Stopped by overfitting detector  (150 iterations wait)\n",
            "\n",
            "bestTest = 0.7248995864\n",
            "bestIteration = 1741\n",
            "\n",
            "Shrink model to first 1742 iterations.\n",
            "Fold 3, Valid score = 0.7249\n",
            "0:\ttest: 0.6726700\ttest1: 0.6581823\tbest: 0.6581823 (0)\ttotal: 69.3ms\tremaining: 5m 46s\n",
            "100:\ttest: 0.7126301\ttest1: 0.6980250\tbest: 0.6984302 (95)\ttotal: 7.33s\tremaining: 5m 55s\n",
            "200:\ttest: 0.7184109\ttest1: 0.7027183\tbest: 0.7027319 (199)\ttotal: 14.9s\tremaining: 5m 56s\n",
            "300:\ttest: 0.7232026\ttest1: 0.7060816\tbest: 0.7061375 (298)\ttotal: 22.5s\tremaining: 5m 51s\n",
            "400:\ttest: 0.7291288\ttest1: 0.7098549\tbest: 0.7099063 (395)\ttotal: 30.3s\tremaining: 5m 47s\n",
            "500:\ttest: 0.7339540\ttest1: 0.7113097\tbest: 0.7113725 (499)\ttotal: 37.7s\tremaining: 5m 38s\n",
            "600:\ttest: 0.7371484\ttest1: 0.7125943\tbest: 0.7129264 (569)\ttotal: 45.1s\tremaining: 5m 29s\n",
            "700:\ttest: 0.7405292\ttest1: 0.7134206\tbest: 0.7136208 (685)\ttotal: 52.5s\tremaining: 5m 22s\n",
            "800:\ttest: 0.7433613\ttest1: 0.7140572\tbest: 0.7141058 (796)\ttotal: 59.9s\tremaining: 5m 14s\n",
            "900:\ttest: 0.7456938\ttest1: 0.7147460\tbest: 0.7147526 (899)\ttotal: 1m 7s\tremaining: 5m 6s\n",
            "1000:\ttest: 0.7481878\ttest1: 0.7147141\tbest: 0.7149589 (918)\ttotal: 1m 14s\tremaining: 4m 58s\n",
            "1100:\ttest: 0.7505843\ttest1: 0.7149448\tbest: 0.7150776 (1041)\ttotal: 1m 22s\tremaining: 4m 50s\n",
            "1200:\ttest: 0.7530465\ttest1: 0.7154309\tbest: 0.7155343 (1179)\ttotal: 1m 29s\tremaining: 4m 43s\n",
            "1300:\ttest: 0.7553412\ttest1: 0.7157363\tbest: 0.7157860 (1295)\ttotal: 1m 36s\tremaining: 4m 35s\n",
            "1400:\ttest: 0.7577773\ttest1: 0.7159767\tbest: 0.7162100 (1379)\ttotal: 1m 44s\tremaining: 4m 27s\n",
            "1500:\ttest: 0.7598730\ttest1: 0.7160892\tbest: 0.7162100 (1379)\ttotal: 1m 52s\tremaining: 4m 21s\n",
            "1600:\ttest: 0.7614827\ttest1: 0.7166230\tbest: 0.7166702 (1595)\ttotal: 1m 59s\tremaining: 4m 14s\n",
            "1700:\ttest: 0.7633856\ttest1: 0.7167790\tbest: 0.7169018 (1698)\ttotal: 2m 7s\tremaining: 4m 6s\n",
            "1800:\ttest: 0.7650597\ttest1: 0.7165764\tbest: 0.7169470 (1708)\ttotal: 2m 15s\tremaining: 3m 59s\n",
            "Stopped by overfitting detector  (150 iterations wait)\n",
            "\n",
            "bestTest = 0.7169469656\n",
            "bestIteration = 1708\n",
            "\n",
            "Shrink model to first 1709 iterations.\n",
            "Fold 4, Valid score = 0.71695\n",
            "Score by each fold: [0.73511, 0.72755, 0.7249, 0.71695]\n",
            "=================================================================\n"
          ],
          "name": "stdout"
        }
      ]
    },
    {
      "cell_type": "code",
      "metadata": {
        "colab": {
          "base_uri": "https://localhost:8080/"
        },
        "id": "bfecCGITKOmG",
        "outputId": "5e5686de-b9fc-47b5-9663-c8e4a97f862a"
      },
      "source": [
        "cb_oof_score = roc_auc_score(\r\n",
        "    target, cb_oof)\r\n",
        "print(f\"OOF-score = {round(cb_oof_score, 5)}\")\r\n"
      ],
      "execution_count": 65,
      "outputs": [
        {
          "output_type": "stream",
          "text": [
            "OOF-score = 0.72538\n"
          ],
          "name": "stdout"
        }
      ]
    },
    {
      "cell_type": "code",
      "metadata": {
        "id": "CRheNvSyKm2L"
      },
      "source": [
        "scores_train_3 = pd.DataFrame({\r\n",
        "    \"lgbm\": lgbm_oof,\r\n",
        "    \"xgb\": xgb_oof,\r\n",
        "    \"cb\": cb_oof,\r\n",
        "    \r\n",
        "})\r\n",
        "\r\n",
        "corr_train_3 = scores_train_3.corr()\r\n",
        "mask = np.zeros_like(corr_train_3, dtype=np.bool)\r\n",
        "mask[np.triu_indices_from(mask)] = True"
      ],
      "execution_count": 66,
      "outputs": []
    },
    {
      "cell_type": "code",
      "metadata": {
        "colab": {
          "base_uri": "https://localhost:8080/",
          "height": 321
        },
        "id": "87uuxXK2Km2P",
        "outputId": "b68cadbe-c466-46f1-b09e-7bbef8605255"
      },
      "source": [
        "fig, axes = plt.subplots(1, 1, figsize=(5, 5))\r\n",
        "sns.heatmap(corr_train_3, mask=mask, annot=True, fmt=\".4g\", square=True, cmap=\"viridis\", ax=axes)"
      ],
      "execution_count": 67,
      "outputs": [
        {
          "output_type": "execute_result",
          "data": {
            "text/plain": [
              "<matplotlib.axes._subplots.AxesSubplot at 0x7f7e89251e48>"
            ]
          },
          "metadata": {
            "tags": []
          },
          "execution_count": 67
        },
        {
          "output_type": "display_data",
          "data": {
            "image/png": "[encoded data removed]",
            "text/plain": [
              "<Figure size 360x360 with 2 Axes>"
            ]
          },
          "metadata": {
            "tags": [],
            "needs_background": "light"
          }
        }
      ]
    },
    {
      "cell_type": "code",
      "metadata": {
        "colab": {
          "base_uri": "https://localhost:8080/"
        },
        "id": "5qKGs4TVLs0f",
        "outputId": "bf0ea179-dab1-441a-b9d6-2bdb2cf35457"
      },
      "source": [
        "scores_mean = scores_train_3.mean(axis=1)\r\n",
        "score = roc_auc_score(target, scores_mean)\r\n",
        "print(f\"Score = {round(score, 4)}\")"
      ],
      "execution_count": 72,
      "outputs": [
        {
          "output_type": "stream",
          "text": [
            "Score = 0.7278\n"
          ],
          "name": "stdout"
        }
      ]
    },
    {
      "cell_type": "code",
      "metadata": {
        "colab": {
          "base_uri": "https://localhost:8080/"
        },
        "id": "ytVB5BG2Ls0l",
        "outputId": "b87f5feb-648b-4530-9010-e7aabb84f444"
      },
      "source": [
        "scores_mean = gmean(scores_train_3, axis=1)\r\n",
        "score = roc_auc_score(target, scores_mean)\r\n",
        "print(f\"Score = {round(score, 4)}\")"
      ],
      "execution_count": 73,
      "outputs": [
        {
          "output_type": "stream",
          "text": [
            "Score = 0.7279\n"
          ],
          "name": "stdout"
        }
      ]
    },
    {
      "cell_type": "code",
      "metadata": {
        "colab": {
          "base_uri": "https://localhost:8080/"
        },
        "id": "dp2kA-ehLs0o",
        "outputId": "8427061e-242b-49a7-d981-f77eb0196326"
      },
      "source": [
        "scores_mean = scores_train_3.rank().mean(axis=1)\r\n",
        "score = roc_auc_score(target, scores_mean)\r\n",
        "print(f\"Score = {round(score, 4)}\")"
      ],
      "execution_count": 74,
      "outputs": [
        {
          "output_type": "stream",
          "text": [
            "Score = 0.7276\n"
          ],
          "name": "stdout"
        }
      ]
    },
    {
      "cell_type": "code",
      "metadata": {
        "colab": {
          "base_uri": "https://localhost:8080/"
        },
        "id": "Nw1r-WHnLs0r",
        "outputId": "a8cf438e-af57-44bd-c096-1bc970d309e0"
      },
      "source": [
        "scores_mean = gmean(scores_train_3.rank(), axis=1)\r\n",
        "score = roc_auc_score(target, scores_mean)\r\n",
        "print(f\"Score = {round(score, 4)}\")"
      ],
      "execution_count": 75,
      "outputs": [
        {
          "output_type": "stream",
          "text": [
            "Score = 0.7277\n"
          ],
          "name": "stdout"
        }
      ]
    },
    {
      "cell_type": "code",
      "metadata": {
        "id": "vk-bj-9MNrln"
      },
      "source": [
        ""
      ],
      "execution_count": null,
      "outputs": []
    },
    {
      "cell_type": "code",
      "metadata": {
        "id": "-pmAqJ3nQR9R"
      },
      "source": [
        ""
      ],
      "execution_count": 55,
      "outputs": []
    },
    {
      "cell_type": "code",
      "metadata": {
        "id": "OTCQs6MmQR9i"
      },
      "source": [
        ""
      ],
      "execution_count": 55,
      "outputs": []
    },
    {
      "cell_type": "code",
      "metadata": {
        "id": "LLxttGPzKPe3"
      },
      "source": [
        ""
      ],
      "execution_count": null,
      "outputs": []
    },
    {
      "cell_type": "code",
      "metadata": {
        "id": "OADRBSeSKPPk"
      },
      "source": [
        ""
      ],
      "execution_count": null,
      "outputs": []
    }
  ]
}